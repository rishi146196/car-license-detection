{
  "cells": [
    {
      "cell_type": "code",
      "execution_count": 1,
      "id": "c1386f9f-80dd-49e2-8be6-25d5057d70a9",
      "metadata": {
        "id": "c1386f9f-80dd-49e2-8be6-25d5057d70a9"
      },
      "outputs": [],
      "source": [
        "# this code run on local machine\n",
        "import os\n",
        "import shutil\n",
        "from sklearn.model_selection import train_test_split\n",
        "from google.colab import drive"
      ]
    },
    {
      "cell_type": "code",
      "execution_count": 2,
      "id": "XogDD4mAbpHw",
      "metadata": {
        "colab": {
          "base_uri": "https://localhost:8080/"
        },
        "id": "XogDD4mAbpHw",
        "outputId": "95bfaf61-eeff-4140-c6fa-85a7090fb8f8"
      },
      "outputs": [
        {
          "output_type": "stream",
          "name": "stdout",
          "text": [
            "Drive already mounted at /content/drive; to attempt to forcibly remount, call drive.mount(\"/content/drive\", force_remount=True).\n",
            " 06-MAY-24-CDS-WDA-HYD\t\t\t\t  prajvalcutoyatakalpan_zakhya\n",
            " adhar.jpg\t\t\t\t\t 'python developer sample q&a.docx'\n",
            "'Busniess Cases for Client Projects.docx'\t  rice_1.png\n",
            "'Capstone Projects Details.xlsx'\t\t  rice-disease-classifier.ipynb\n",
            "'Colab Notebooks'\t\t\t\t  rice_leaf12.jpg\n",
            " Data\t\t\t\t\t\t  rice_leaf_gui.py\n",
            "'ExcelR-EDL-55215-Rushikesh Kacharu Nalkar.pdf'  'Rushikesh Kachru Nalkar.pdf'\n",
            " Fifa_cluster.ipynb\t\t\t\t 'smaple cover letter.docx'\n",
            " fifaculster.py\t\t\t\t\t 'Untitled Diagram (1).drawio.png'\n",
            " fifa_gui2.png\t\t\t\t\t 'Untitled Diagram.drawio.png'\n",
            " House_Price.ipynb\t\t\t\t  walk_Run.ipynb\n",
            " Internship-Project\t\t\t\t  walk_run_recording.mp4\n"
          ]
        }
      ],
      "source": [
        "# connect  Google Drive with google collab\n",
        "drive.mount('/content/drive')\n",
        "\n",
        "!ls '/content/drive/My Drive/'"
      ]
    },
    {
      "cell_type": "code",
      "source": [
        "import locale\n",
        "locale.setlocale(locale.LC_ALL, 'C.UTF-8')\n",
        "!pip install --upgrade pip\n",
        "!pip install ultralytics\n",
        "\n"
      ],
      "metadata": {
        "colab": {
          "base_uri": "https://localhost:8080/",
          "height": 373
        },
        "collapsed": true,
        "id": "7mvyBX0CGLZp",
        "outputId": "2284895a-ef4f-47e2-8028-50f762c236ae"
      },
      "id": "7mvyBX0CGLZp",
      "execution_count": 24,
      "outputs": [
        {
          "output_type": "error",
          "ename": "NotImplementedError",
          "evalue": "A UTF-8 locale is required. Got ANSI_X3.4-1968",
          "traceback": [
            "\u001b[0;31m---------------------------------------------------------------------------\u001b[0m",
            "\u001b[0;31mNotImplementedError\u001b[0m                       Traceback (most recent call last)",
            "\u001b[0;32m<ipython-input-24-09041df1a6e1>\u001b[0m in \u001b[0;36m<cell line: 3>\u001b[0;34m()\u001b[0m\n\u001b[1;32m      1\u001b[0m \u001b[0;32mimport\u001b[0m \u001b[0mlocale\u001b[0m\u001b[0;34m\u001b[0m\u001b[0;34m\u001b[0m\u001b[0m\n\u001b[1;32m      2\u001b[0m \u001b[0mlocale\u001b[0m\u001b[0;34m.\u001b[0m\u001b[0msetlocale\u001b[0m\u001b[0;34m(\u001b[0m\u001b[0mlocale\u001b[0m\u001b[0;34m.\u001b[0m\u001b[0mLC_ALL\u001b[0m\u001b[0;34m,\u001b[0m \u001b[0;34m'C.UTF-8'\u001b[0m\u001b[0;34m)\u001b[0m\u001b[0;34m\u001b[0m\u001b[0;34m\u001b[0m\u001b[0m\n\u001b[0;32m----> 3\u001b[0;31m \u001b[0mget_ipython\u001b[0m\u001b[0;34m(\u001b[0m\u001b[0;34m)\u001b[0m\u001b[0;34m.\u001b[0m\u001b[0msystem\u001b[0m\u001b[0;34m(\u001b[0m\u001b[0;34m'pip install --upgrade pip'\u001b[0m\u001b[0;34m)\u001b[0m\u001b[0;34m\u001b[0m\u001b[0;34m\u001b[0m\u001b[0m\n\u001b[0m\u001b[1;32m      4\u001b[0m \u001b[0mget_ipython\u001b[0m\u001b[0;34m(\u001b[0m\u001b[0;34m)\u001b[0m\u001b[0;34m.\u001b[0m\u001b[0msystem\u001b[0m\u001b[0;34m(\u001b[0m\u001b[0;34m'pip install ultralytics'\u001b[0m\u001b[0;34m)\u001b[0m\u001b[0;34m\u001b[0m\u001b[0;34m\u001b[0m\u001b[0m\n\u001b[1;32m      5\u001b[0m \u001b[0;34m\u001b[0m\u001b[0m\n",
            "\u001b[0;32m/usr/local/lib/python3.10/dist-packages/google/colab/_shell.py\u001b[0m in \u001b[0;36msystem\u001b[0;34m(self, *args, **kwargs)\u001b[0m\n\u001b[1;32m     97\u001b[0m       \u001b[0mkwargs\u001b[0m\u001b[0;34m.\u001b[0m\u001b[0mupdate\u001b[0m\u001b[0;34m(\u001b[0m\u001b[0;34m{\u001b[0m\u001b[0;34m'also_return_output'\u001b[0m\u001b[0;34m:\u001b[0m \u001b[0;32mTrue\u001b[0m\u001b[0;34m}\u001b[0m\u001b[0;34m)\u001b[0m\u001b[0;34m\u001b[0m\u001b[0;34m\u001b[0m\u001b[0m\n\u001b[1;32m     98\u001b[0m \u001b[0;34m\u001b[0m\u001b[0m\n\u001b[0;32m---> 99\u001b[0;31m     \u001b[0moutput\u001b[0m \u001b[0;34m=\u001b[0m \u001b[0m_system_commands\u001b[0m\u001b[0;34m.\u001b[0m\u001b[0m_system_compat\u001b[0m\u001b[0;34m(\u001b[0m\u001b[0mself\u001b[0m\u001b[0;34m,\u001b[0m \u001b[0;34m*\u001b[0m\u001b[0margs\u001b[0m\u001b[0;34m,\u001b[0m \u001b[0;34m**\u001b[0m\u001b[0mkwargs\u001b[0m\u001b[0;34m)\u001b[0m  \u001b[0;31m# pylint:disable=protected-access\u001b[0m\u001b[0;34m\u001b[0m\u001b[0;34m\u001b[0m\u001b[0m\n\u001b[0m\u001b[1;32m    100\u001b[0m \u001b[0;34m\u001b[0m\u001b[0m\n\u001b[1;32m    101\u001b[0m     \u001b[0;32mif\u001b[0m \u001b[0mpip_warn\u001b[0m\u001b[0;34m:\u001b[0m\u001b[0;34m\u001b[0m\u001b[0;34m\u001b[0m\u001b[0m\n",
            "\u001b[0;32m/usr/local/lib/python3.10/dist-packages/google/colab/_system_commands.py\u001b[0m in \u001b[0;36m_system_compat\u001b[0;34m(shell, cmd, also_return_output)\u001b[0m\n\u001b[1;32m    452\u001b[0m   \u001b[0;31m# is expected to call this function, thus adding one level of nesting to the\u001b[0m\u001b[0;34m\u001b[0m\u001b[0;34m\u001b[0m\u001b[0m\n\u001b[1;32m    453\u001b[0m   \u001b[0;31m# stack.\u001b[0m\u001b[0;34m\u001b[0m\u001b[0;34m\u001b[0m\u001b[0m\n\u001b[0;32m--> 454\u001b[0;31m   result = _run_command(\n\u001b[0m\u001b[1;32m    455\u001b[0m       \u001b[0mshell\u001b[0m\u001b[0;34m.\u001b[0m\u001b[0mvar_expand\u001b[0m\u001b[0;34m(\u001b[0m\u001b[0mcmd\u001b[0m\u001b[0;34m,\u001b[0m \u001b[0mdepth\u001b[0m\u001b[0;34m=\u001b[0m\u001b[0;36m2\u001b[0m\u001b[0;34m)\u001b[0m\u001b[0;34m,\u001b[0m \u001b[0mclear_streamed_output\u001b[0m\u001b[0;34m=\u001b[0m\u001b[0;32mFalse\u001b[0m\u001b[0;34m\u001b[0m\u001b[0;34m\u001b[0m\u001b[0m\n\u001b[1;32m    456\u001b[0m   )\n",
            "\u001b[0;32m/usr/local/lib/python3.10/dist-packages/google/colab/_system_commands.py\u001b[0m in \u001b[0;36m_run_command\u001b[0;34m(cmd, clear_streamed_output)\u001b[0m\n\u001b[1;32m    166\u001b[0m     \u001b[0mlocale_encoding\u001b[0m \u001b[0;34m=\u001b[0m \u001b[0mlocale\u001b[0m\u001b[0;34m.\u001b[0m\u001b[0mgetpreferredencoding\u001b[0m\u001b[0;34m(\u001b[0m\u001b[0;34m)\u001b[0m\u001b[0;34m\u001b[0m\u001b[0;34m\u001b[0m\u001b[0m\n\u001b[1;32m    167\u001b[0m     \u001b[0;32mif\u001b[0m \u001b[0mlocale_encoding\u001b[0m \u001b[0;34m!=\u001b[0m \u001b[0m_ENCODING\u001b[0m\u001b[0;34m:\u001b[0m\u001b[0;34m\u001b[0m\u001b[0;34m\u001b[0m\u001b[0m\n\u001b[0;32m--> 168\u001b[0;31m       raise NotImplementedError(\n\u001b[0m\u001b[1;32m    169\u001b[0m           \u001b[0;34m'A UTF-8 locale is required. Got {}'\u001b[0m\u001b[0;34m.\u001b[0m\u001b[0mformat\u001b[0m\u001b[0;34m(\u001b[0m\u001b[0mlocale_encoding\u001b[0m\u001b[0;34m)\u001b[0m\u001b[0;34m\u001b[0m\u001b[0;34m\u001b[0m\u001b[0m\n\u001b[1;32m    170\u001b[0m       )\n",
            "\u001b[0;31mNotImplementedError\u001b[0m: A UTF-8 locale is required. Got ANSI_X3.4-1968"
          ]
        }
      ]
    },
    {
      "cell_type": "code",
      "source": [
        "!pip install --upgrade pip\n",
        "!pip install ultralytics\n",
        "\n"
      ],
      "metadata": {
        "colab": {
          "base_uri": "https://localhost:8080/"
        },
        "id": "Lez_FNwdGiHr",
        "outputId": "e3eeaaf6-e17a-42dd-8a56-ce5859c787bc"
      },
      "id": "Lez_FNwdGiHr",
      "execution_count": 3,
      "outputs": [
        {
          "output_type": "stream",
          "name": "stdout",
          "text": [
            "Requirement already satisfied: pip in /usr/local/lib/python3.10/dist-packages (24.1.2)\n",
            "Collecting pip\n",
            "  Downloading pip-24.3.1-py3-none-any.whl.metadata (3.7 kB)\n",
            "Downloading pip-24.3.1-py3-none-any.whl (1.8 MB)\n",
            "\u001b[2K   \u001b[90m━━━━━━━━━━━━━━━━━━━━━━━━━━━━━━━━━━━━━━━━\u001b[0m \u001b[32m1.8/1.8 MB\u001b[0m \u001b[31m25.4 MB/s\u001b[0m eta \u001b[36m0:00:00\u001b[0m\n",
            "\u001b[?25hInstalling collected packages: pip\n",
            "  Attempting uninstall: pip\n",
            "    Found existing installation: pip 24.1.2\n",
            "    Uninstalling pip-24.1.2:\n",
            "      Successfully uninstalled pip-24.1.2\n",
            "Successfully installed pip-24.3.1\n",
            "Requirement already satisfied: ultralytics in /usr/local/lib/python3.10/dist-packages (8.3.51)\n",
            "Requirement already satisfied: numpy>=1.23.0 in /usr/local/lib/python3.10/dist-packages (from ultralytics) (1.26.4)\n",
            "Requirement already satisfied: matplotlib>=3.3.0 in /usr/local/lib/python3.10/dist-packages (from ultralytics) (3.8.0)\n",
            "Requirement already satisfied: opencv-python>=4.6.0 in /usr/local/lib/python3.10/dist-packages (from ultralytics) (4.10.0.84)\n",
            "Requirement already satisfied: pillow>=7.1.2 in /usr/local/lib/python3.10/dist-packages (from ultralytics) (11.0.0)\n",
            "Requirement already satisfied: pyyaml>=5.3.1 in /usr/local/lib/python3.10/dist-packages (from ultralytics) (6.0.2)\n",
            "Requirement already satisfied: requests>=2.23.0 in /usr/local/lib/python3.10/dist-packages (from ultralytics) (2.32.3)\n",
            "Requirement already satisfied: scipy>=1.4.1 in /usr/local/lib/python3.10/dist-packages (from ultralytics) (1.13.1)\n",
            "Requirement already satisfied: torch>=1.8.0 in /usr/local/lib/python3.10/dist-packages (from ultralytics) (2.5.1+cu121)\n",
            "Requirement already satisfied: torchvision>=0.9.0 in /usr/local/lib/python3.10/dist-packages (from ultralytics) (0.20.1+cu121)\n",
            "Requirement already satisfied: tqdm>=4.64.0 in /usr/local/lib/python3.10/dist-packages (from ultralytics) (4.66.6)\n",
            "Requirement already satisfied: psutil in /usr/local/lib/python3.10/dist-packages (from ultralytics) (5.9.5)\n",
            "Requirement already satisfied: py-cpuinfo in /usr/local/lib/python3.10/dist-packages (from ultralytics) (9.0.0)\n",
            "Requirement already satisfied: pandas>=1.1.4 in /usr/local/lib/python3.10/dist-packages (from ultralytics) (2.2.2)\n",
            "Requirement already satisfied: seaborn>=0.11.0 in /usr/local/lib/python3.10/dist-packages (from ultralytics) (0.13.2)\n",
            "Requirement already satisfied: ultralytics-thop>=2.0.0 in /usr/local/lib/python3.10/dist-packages (from ultralytics) (2.0.13)\n",
            "Requirement already satisfied: contourpy>=1.0.1 in /usr/local/lib/python3.10/dist-packages (from matplotlib>=3.3.0->ultralytics) (1.3.1)\n",
            "Requirement already satisfied: cycler>=0.10 in /usr/local/lib/python3.10/dist-packages (from matplotlib>=3.3.0->ultralytics) (0.12.1)\n",
            "Requirement already satisfied: fonttools>=4.22.0 in /usr/local/lib/python3.10/dist-packages (from matplotlib>=3.3.0->ultralytics) (4.55.3)\n",
            "Requirement already satisfied: kiwisolver>=1.0.1 in /usr/local/lib/python3.10/dist-packages (from matplotlib>=3.3.0->ultralytics) (1.4.7)\n",
            "Requirement already satisfied: packaging>=20.0 in /usr/local/lib/python3.10/dist-packages (from matplotlib>=3.3.0->ultralytics) (24.2)\n",
            "Requirement already satisfied: pyparsing>=2.3.1 in /usr/local/lib/python3.10/dist-packages (from matplotlib>=3.3.0->ultralytics) (3.2.0)\n",
            "Requirement already satisfied: python-dateutil>=2.7 in /usr/local/lib/python3.10/dist-packages (from matplotlib>=3.3.0->ultralytics) (2.8.2)\n",
            "Requirement already satisfied: pytz>=2020.1 in /usr/local/lib/python3.10/dist-packages (from pandas>=1.1.4->ultralytics) (2024.2)\n",
            "Requirement already satisfied: tzdata>=2022.7 in /usr/local/lib/python3.10/dist-packages (from pandas>=1.1.4->ultralytics) (2024.2)\n",
            "Requirement already satisfied: charset-normalizer<4,>=2 in /usr/local/lib/python3.10/dist-packages (from requests>=2.23.0->ultralytics) (3.4.0)\n",
            "Requirement already satisfied: idna<4,>=2.5 in /usr/local/lib/python3.10/dist-packages (from requests>=2.23.0->ultralytics) (3.10)\n",
            "Requirement already satisfied: urllib3<3,>=1.21.1 in /usr/local/lib/python3.10/dist-packages (from requests>=2.23.0->ultralytics) (2.2.3)\n",
            "Requirement already satisfied: certifi>=2017.4.17 in /usr/local/lib/python3.10/dist-packages (from requests>=2.23.0->ultralytics) (2024.8.30)\n",
            "Requirement already satisfied: filelock in /usr/local/lib/python3.10/dist-packages (from torch>=1.8.0->ultralytics) (3.16.1)\n",
            "Requirement already satisfied: typing-extensions>=4.8.0 in /usr/local/lib/python3.10/dist-packages (from torch>=1.8.0->ultralytics) (4.12.2)\n",
            "Requirement already satisfied: networkx in /usr/local/lib/python3.10/dist-packages (from torch>=1.8.0->ultralytics) (3.4.2)\n",
            "Requirement already satisfied: jinja2 in /usr/local/lib/python3.10/dist-packages (from torch>=1.8.0->ultralytics) (3.1.4)\n",
            "Requirement already satisfied: fsspec in /usr/local/lib/python3.10/dist-packages (from torch>=1.8.0->ultralytics) (2024.10.0)\n",
            "Requirement already satisfied: sympy==1.13.1 in /usr/local/lib/python3.10/dist-packages (from torch>=1.8.0->ultralytics) (1.13.1)\n",
            "Requirement already satisfied: mpmath<1.4,>=1.1.0 in /usr/local/lib/python3.10/dist-packages (from sympy==1.13.1->torch>=1.8.0->ultralytics) (1.3.0)\n",
            "Requirement already satisfied: six>=1.5 in /usr/local/lib/python3.10/dist-packages (from python-dateutil>=2.7->matplotlib>=3.3.0->ultralytics) (1.17.0)\n",
            "Requirement already satisfied: MarkupSafe>=2.0 in /usr/local/lib/python3.10/dist-packages (from jinja2->torch>=1.8.0->ultralytics) (3.0.2)\n"
          ]
        }
      ]
    },
    {
      "cell_type": "code",
      "execution_count": 16,
      "id": "99e0e68c-ebdc-4eb3-9f11-82b8ebe7653f",
      "metadata": {
        "colab": {
          "base_uri": "https://localhost:8080/",
          "height": 321
        },
        "id": "99e0e68c-ebdc-4eb3-9f11-82b8ebe7653f",
        "outputId": "f6ac9957-aeb3-434b-c07d-0403580c47b6",
        "collapsed": true
      },
      "outputs": [
        {
          "output_type": "error",
          "ename": "NotImplementedError",
          "evalue": "A UTF-8 locale is required. Got ANSI_X3.4-1968",
          "traceback": [
            "\u001b[0;31m---------------------------------------------------------------------------\u001b[0m",
            "\u001b[0;31mNotImplementedError\u001b[0m                       Traceback (most recent call last)",
            "\u001b[0;32m<ipython-input-16-94bc0bd24d17>\u001b[0m in \u001b[0;36m<cell line: 1>\u001b[0;34m()\u001b[0m\n\u001b[0;32m----> 1\u001b[0;31m \u001b[0mget_ipython\u001b[0m\u001b[0;34m(\u001b[0m\u001b[0;34m)\u001b[0m\u001b[0;34m.\u001b[0m\u001b[0msystem\u001b[0m\u001b[0;34m(\u001b[0m\u001b[0;34m'pip install ultralytics     # installing parent lib of YOLO'\u001b[0m\u001b[0;34m)\u001b[0m\u001b[0;34m\u001b[0m\u001b[0;34m\u001b[0m\u001b[0m\n\u001b[0m",
            "\u001b[0;32m/usr/local/lib/python3.10/dist-packages/google/colab/_shell.py\u001b[0m in \u001b[0;36msystem\u001b[0;34m(self, *args, **kwargs)\u001b[0m\n\u001b[1;32m     97\u001b[0m       \u001b[0mkwargs\u001b[0m\u001b[0;34m.\u001b[0m\u001b[0mupdate\u001b[0m\u001b[0;34m(\u001b[0m\u001b[0;34m{\u001b[0m\u001b[0;34m'also_return_output'\u001b[0m\u001b[0;34m:\u001b[0m \u001b[0;32mTrue\u001b[0m\u001b[0;34m}\u001b[0m\u001b[0;34m)\u001b[0m\u001b[0;34m\u001b[0m\u001b[0;34m\u001b[0m\u001b[0m\n\u001b[1;32m     98\u001b[0m \u001b[0;34m\u001b[0m\u001b[0m\n\u001b[0;32m---> 99\u001b[0;31m     \u001b[0moutput\u001b[0m \u001b[0;34m=\u001b[0m \u001b[0m_system_commands\u001b[0m\u001b[0;34m.\u001b[0m\u001b[0m_system_compat\u001b[0m\u001b[0;34m(\u001b[0m\u001b[0mself\u001b[0m\u001b[0;34m,\u001b[0m \u001b[0;34m*\u001b[0m\u001b[0margs\u001b[0m\u001b[0;34m,\u001b[0m \u001b[0;34m**\u001b[0m\u001b[0mkwargs\u001b[0m\u001b[0;34m)\u001b[0m  \u001b[0;31m# pylint:disable=protected-access\u001b[0m\u001b[0;34m\u001b[0m\u001b[0;34m\u001b[0m\u001b[0m\n\u001b[0m\u001b[1;32m    100\u001b[0m \u001b[0;34m\u001b[0m\u001b[0m\n\u001b[1;32m    101\u001b[0m     \u001b[0;32mif\u001b[0m \u001b[0mpip_warn\u001b[0m\u001b[0;34m:\u001b[0m\u001b[0;34m\u001b[0m\u001b[0;34m\u001b[0m\u001b[0m\n",
            "\u001b[0;32m/usr/local/lib/python3.10/dist-packages/google/colab/_system_commands.py\u001b[0m in \u001b[0;36m_system_compat\u001b[0;34m(shell, cmd, also_return_output)\u001b[0m\n\u001b[1;32m    452\u001b[0m   \u001b[0;31m# is expected to call this function, thus adding one level of nesting to the\u001b[0m\u001b[0;34m\u001b[0m\u001b[0;34m\u001b[0m\u001b[0m\n\u001b[1;32m    453\u001b[0m   \u001b[0;31m# stack.\u001b[0m\u001b[0;34m\u001b[0m\u001b[0;34m\u001b[0m\u001b[0m\n\u001b[0;32m--> 454\u001b[0;31m   result = _run_command(\n\u001b[0m\u001b[1;32m    455\u001b[0m       \u001b[0mshell\u001b[0m\u001b[0;34m.\u001b[0m\u001b[0mvar_expand\u001b[0m\u001b[0;34m(\u001b[0m\u001b[0mcmd\u001b[0m\u001b[0;34m,\u001b[0m \u001b[0mdepth\u001b[0m\u001b[0;34m=\u001b[0m\u001b[0;36m2\u001b[0m\u001b[0;34m)\u001b[0m\u001b[0;34m,\u001b[0m \u001b[0mclear_streamed_output\u001b[0m\u001b[0;34m=\u001b[0m\u001b[0;32mFalse\u001b[0m\u001b[0;34m\u001b[0m\u001b[0;34m\u001b[0m\u001b[0m\n\u001b[1;32m    456\u001b[0m   )\n",
            "\u001b[0;32m/usr/local/lib/python3.10/dist-packages/google/colab/_system_commands.py\u001b[0m in \u001b[0;36m_run_command\u001b[0;34m(cmd, clear_streamed_output)\u001b[0m\n\u001b[1;32m    166\u001b[0m     \u001b[0mlocale_encoding\u001b[0m \u001b[0;34m=\u001b[0m \u001b[0mlocale\u001b[0m\u001b[0;34m.\u001b[0m\u001b[0mgetpreferredencoding\u001b[0m\u001b[0;34m(\u001b[0m\u001b[0;34m)\u001b[0m\u001b[0;34m\u001b[0m\u001b[0;34m\u001b[0m\u001b[0m\n\u001b[1;32m    167\u001b[0m     \u001b[0;32mif\u001b[0m \u001b[0mlocale_encoding\u001b[0m \u001b[0;34m!=\u001b[0m \u001b[0m_ENCODING\u001b[0m\u001b[0;34m:\u001b[0m\u001b[0;34m\u001b[0m\u001b[0;34m\u001b[0m\u001b[0m\n\u001b[0;32m--> 168\u001b[0;31m       raise NotImplementedError(\n\u001b[0m\u001b[1;32m    169\u001b[0m           \u001b[0;34m'A UTF-8 locale is required. Got {}'\u001b[0m\u001b[0;34m.\u001b[0m\u001b[0mformat\u001b[0m\u001b[0;34m(\u001b[0m\u001b[0mlocale_encoding\u001b[0m\u001b[0;34m)\u001b[0m\u001b[0;34m\u001b[0m\u001b[0;34m\u001b[0m\u001b[0m\n\u001b[1;32m    170\u001b[0m       )\n",
            "\u001b[0;31mNotImplementedError\u001b[0m: A UTF-8 locale is required. Got ANSI_X3.4-1968"
          ]
        }
      ],
      "source": [
        "!pip install ultralytics     # installing parent lib of YOLO\n"
      ]
    },
    {
      "cell_type": "code",
      "execution_count": null,
      "id": "eM6UVtKl-JqJ",
      "metadata": {
        "id": "eM6UVtKl-JqJ"
      },
      "outputs": [],
      "source": [
        "dataset_path = r\"C:\\Users\\dell\\Downloads\\SOULPAGE\\detection\"  #parent file path of cars images\n",
        "images_path = os.path.join(dataset_path, \"images\")\n",
        "labels_path = os.path.join(dataset_path, \"labels_dt\")"
      ]
    },
    {
      "cell_type": "code",
      "execution_count": null,
      "id": "Le5DGMP1-Kv3",
      "metadata": {
        "id": "Le5DGMP1-Kv3"
      },
      "outputs": [],
      "source": [
        "output_base = \"split_dataset\"                              #creating new folder for train,test,val under split dataset dir\n",
        "train_folder = os.path.join(output_base, \"train\")\n",
        "val_folder = os.path.join(output_base, \"val\")\n",
        "test_folder = os.path.join(output_base, \"test\")"
      ]
    },
    {
      "cell_type": "code",
      "execution_count": null,
      "id": "4oxJ-1aH-LvE",
      "metadata": {
        "colab": {
          "base_uri": "https://localhost:8080/",
          "height": 193
        },
        "id": "4oxJ-1aH-LvE",
        "outputId": "a8c47c2b-94c9-4af0-9b07-13752d8f292a",
        "collapsed": true
      },
      "outputs": [
        {
          "ename": "FileNotFoundError",
          "evalue": "[Errno 2] No such file or directory: 'C:\\\\Users\\\\dell\\\\Downloads\\\\SOULPAGE\\\\detection/images'",
          "output_type": "error",
          "traceback": [
            "\u001b[0;31m---------------------------------------------------------------------------\u001b[0m",
            "\u001b[0;31mFileNotFoundError\u001b[0m                         Traceback (most recent call last)",
            "\u001b[0;32m<ipython-input-8-41eefc7c1cd4>\u001b[0m in \u001b[0;36m<cell line: 6>\u001b[0;34m()\u001b[0m\n\u001b[1;32m      4\u001b[0m \u001b[0;34m\u001b[0m\u001b[0m\n\u001b[1;32m      5\u001b[0m \u001b[0;34m\u001b[0m\u001b[0m\n\u001b[0;32m----> 6\u001b[0;31m \u001b[0mimages\u001b[0m \u001b[0;34m=\u001b[0m \u001b[0;34m[\u001b[0m\u001b[0mf\u001b[0m \u001b[0;32mfor\u001b[0m \u001b[0mf\u001b[0m \u001b[0;32min\u001b[0m \u001b[0mos\u001b[0m\u001b[0;34m.\u001b[0m\u001b[0mlistdir\u001b[0m\u001b[0;34m(\u001b[0m\u001b[0mimages_path\u001b[0m\u001b[0;34m)\u001b[0m \u001b[0;32mif\u001b[0m \u001b[0mf\u001b[0m\u001b[0;34m.\u001b[0m\u001b[0mendswith\u001b[0m\u001b[0;34m(\u001b[0m\u001b[0;34m\".jpg\"\u001b[0m\u001b[0;34m)\u001b[0m\u001b[0;34m]\u001b[0m\u001b[0;34m\u001b[0m\u001b[0;34m\u001b[0m\u001b[0m\n\u001b[0m\u001b[1;32m      7\u001b[0m \u001b[0mlabels\u001b[0m \u001b[0;34m=\u001b[0m \u001b[0;34m[\u001b[0m\u001b[0mf\u001b[0m\u001b[0;34m.\u001b[0m\u001b[0mreplace\u001b[0m\u001b[0;34m(\u001b[0m\u001b[0;34m\".jpg\"\u001b[0m\u001b[0;34m,\u001b[0m \u001b[0;34m\".txt\"\u001b[0m\u001b[0;34m)\u001b[0m \u001b[0;32mfor\u001b[0m \u001b[0mf\u001b[0m \u001b[0;32min\u001b[0m \u001b[0mimages\u001b[0m\u001b[0;34m]\u001b[0m                 \u001b[0;31m#converting files into Text\u001b[0m\u001b[0;34m\u001b[0m\u001b[0;34m\u001b[0m\u001b[0m\n",
            "\u001b[0;31mFileNotFoundError\u001b[0m: [Errno 2] No such file or directory: 'C:\\\\Users\\\\dell\\\\Downloads\\\\SOULPAGE\\\\detection/images'"
          ]
        }
      ],
      "source": [
        "for folder in [train_folder, val_folder, test_folder]:\n",
        "    os.makedirs(os.path.join(folder, \"images\"), exist_ok=True)\n",
        "    os.makedirs(os.path.join(folder, \"labels\"), exist_ok=True)\n",
        "\n",
        "\n",
        "images = [f for f in os.listdir(images_path) if f.endswith(\".jpg\")]\n",
        "labels = [f.replace(\".jpg\", \".txt\") for f in images]                 #converting files into Text"
      ]
    },
    {
      "cell_type": "code",
      "execution_count": null,
      "id": "XFi_Ndbt-OJM",
      "metadata": {
        "id": "XFi_Ndbt-OJM"
      },
      "outputs": [],
      "source": [
        "# Split dataset\n",
        "train_images, test_images, train_labels, test_labels = train_test_split(\n",
        "    images, labels, test_size=0.2, random_state=42\n",
        ")\n",
        "val_images, test_images, val_labels, test_labels = train_test_split(\n",
        "    test_images, test_labels, test_size=0.5, random_state=42\n",
        ")"
      ]
    },
    {
      "cell_type": "code",
      "execution_count": null,
      "id": "qpt7hbl6-u_t",
      "metadata": {
        "id": "qpt7hbl6-u_t"
      },
      "outputs": [],
      "source": [
        "# Function to copy files\n",
        "def copy_files(images, labels, output_folder):\n",
        "    for img, lbl in zip(images, labels):\n",
        "        shutil.copy(os.path.join(images_path, img), os.path.join(output_folder, \"images\", img))\n",
        "        shutil.copy(os.path.join(labels_path, lbl), os.path.join(output_folder, \"labels\", lbl))\n",
        "\n",
        "# Copy files to respective folders\n",
        "copy_files(train_images, train_labels, train_folder)\n",
        "copy_files(val_images, val_labels, val_folder)\n",
        "copy_files(test_images, test_labels, test_folder)\n",
        "\n",
        "print(\"Dataset split complete.\")"
      ]
    },
    {
      "cell_type": "code",
      "execution_count": 4,
      "id": "00d2ba10-afe5-4a0c-8134-c2dc9429d996",
      "metadata": {
        "colab": {
          "base_uri": "https://localhost:8080/"
        },
        "id": "00d2ba10-afe5-4a0c-8134-c2dc9429d996",
        "outputId": "0b12a6bc-d0bf-488f-f54e-942837be132f"
      },
      "outputs": [
        {
          "output_type": "stream",
          "name": "stdout",
          "text": [
            "Creating new Ultralytics Settings v0.0.6 file ✅ \n",
            "View Ultralytics Settings with 'yolo settings' or at '/root/.config/Ultralytics/settings.json'\n",
            "Update Settings with 'yolo settings key=value', i.e. 'yolo settings runs_dir=path/to/dir'. For help see https://docs.ultralytics.com/quickstart/#ultralytics-settings.\n",
            "Downloading https://github.com/ultralytics/assets/releases/download/v8.3.0/yolov8n.pt to 'yolov8n.pt'...\n"
          ]
        },
        {
          "output_type": "stream",
          "name": "stderr",
          "text": [
            "100%|██████████| 6.25M/6.25M [00:00<00:00, 91.8MB/s]\n"
          ]
        },
        {
          "output_type": "stream",
          "name": "stdout",
          "text": [
            "Ultralytics 8.3.51 🚀 Python-3.10.12 torch-2.5.1+cu121 CUDA:0 (Tesla T4, 15102MiB)\n",
            "\u001b[34m\u001b[1mengine/trainer: \u001b[0mtask=detect, mode=train, model=yolov8n.pt, data=/content/drive/My Drive/Data/lic_detection.yaml, epochs=150, time=None, patience=100, batch=16, imgsz=640, save=True, save_period=-1, cache=False, device=None, workers=8, project=None, name=train, exist_ok=False, pretrained=True, optimizer=auto, verbose=True, seed=0, deterministic=True, single_cls=False, rect=False, cos_lr=False, close_mosaic=10, resume=False, amp=True, fraction=1.0, profile=False, freeze=None, multi_scale=False, overlap_mask=True, mask_ratio=4, dropout=0.0, val=True, split=val, save_json=False, save_hybrid=False, conf=None, iou=0.7, max_det=300, half=False, dnn=False, plots=True, source=None, vid_stride=1, stream_buffer=False, visualize=False, augment=False, agnostic_nms=False, classes=None, retina_masks=False, embed=None, show=False, save_frames=False, save_txt=False, save_conf=False, save_crop=False, show_labels=True, show_conf=True, show_boxes=True, line_width=None, format=torchscript, keras=False, optimize=False, int8=False, dynamic=False, simplify=True, opset=None, workspace=None, nms=False, lr0=0.01, lrf=0.01, momentum=0.937, weight_decay=0.0005, warmup_epochs=3.0, warmup_momentum=0.8, warmup_bias_lr=0.1, box=7.5, cls=0.5, dfl=1.5, pose=12.0, kobj=1.0, nbs=64, hsv_h=0.015, hsv_s=0.7, hsv_v=0.4, degrees=0.0, translate=0.1, scale=0.5, shear=0.0, perspective=0.0, flipud=0.0, fliplr=0.5, bgr=0.0, mosaic=1.0, mixup=0.0, copy_paste=0.0, copy_paste_mode=flip, auto_augment=randaugment, erasing=0.4, crop_fraction=1.0, cfg=None, tracker=botsort.yaml, save_dir=runs/detect/train\n",
            "Downloading https://ultralytics.com/assets/Arial.ttf to '/root/.config/Ultralytics/Arial.ttf'...\n"
          ]
        },
        {
          "output_type": "stream",
          "name": "stderr",
          "text": [
            "100%|██████████| 755k/755k [00:00<00:00, 20.9MB/s]\n"
          ]
        },
        {
          "output_type": "stream",
          "name": "stdout",
          "text": [
            "Overriding model.yaml nc=80 with nc=1\n",
            "\n",
            "                   from  n    params  module                                       arguments                     \n",
            "  0                  -1  1       464  ultralytics.nn.modules.conv.Conv             [3, 16, 3, 2]                 \n",
            "  1                  -1  1      4672  ultralytics.nn.modules.conv.Conv             [16, 32, 3, 2]                \n",
            "  2                  -1  1      7360  ultralytics.nn.modules.block.C2f             [32, 32, 1, True]             \n",
            "  3                  -1  1     18560  ultralytics.nn.modules.conv.Conv             [32, 64, 3, 2]                \n",
            "  4                  -1  2     49664  ultralytics.nn.modules.block.C2f             [64, 64, 2, True]             \n",
            "  5                  -1  1     73984  ultralytics.nn.modules.conv.Conv             [64, 128, 3, 2]               \n",
            "  6                  -1  2    197632  ultralytics.nn.modules.block.C2f             [128, 128, 2, True]           \n",
            "  7                  -1  1    295424  ultralytics.nn.modules.conv.Conv             [128, 256, 3, 2]              \n",
            "  8                  -1  1    460288  ultralytics.nn.modules.block.C2f             [256, 256, 1, True]           \n",
            "  9                  -1  1    164608  ultralytics.nn.modules.block.SPPF            [256, 256, 5]                 \n",
            " 10                  -1  1         0  torch.nn.modules.upsampling.Upsample         [None, 2, 'nearest']          \n",
            " 11             [-1, 6]  1         0  ultralytics.nn.modules.conv.Concat           [1]                           \n",
            " 12                  -1  1    148224  ultralytics.nn.modules.block.C2f             [384, 128, 1]                 \n",
            " 13                  -1  1         0  torch.nn.modules.upsampling.Upsample         [None, 2, 'nearest']          \n",
            " 14             [-1, 4]  1         0  ultralytics.nn.modules.conv.Concat           [1]                           \n",
            " 15                  -1  1     37248  ultralytics.nn.modules.block.C2f             [192, 64, 1]                  \n",
            " 16                  -1  1     36992  ultralytics.nn.modules.conv.Conv             [64, 64, 3, 2]                \n",
            " 17            [-1, 12]  1         0  ultralytics.nn.modules.conv.Concat           [1]                           \n",
            " 18                  -1  1    123648  ultralytics.nn.modules.block.C2f             [192, 128, 1]                 \n",
            " 19                  -1  1    147712  ultralytics.nn.modules.conv.Conv             [128, 128, 3, 2]              \n",
            " 20             [-1, 9]  1         0  ultralytics.nn.modules.conv.Concat           [1]                           \n",
            " 21                  -1  1    493056  ultralytics.nn.modules.block.C2f             [384, 256, 1]                 \n",
            " 22        [15, 18, 21]  1    751507  ultralytics.nn.modules.head.Detect           [1, [64, 128, 256]]           \n",
            "Model summary: 225 layers, 3,011,043 parameters, 3,011,027 gradients, 8.2 GFLOPs\n",
            "\n",
            "Transferred 319/355 items from pretrained weights\n",
            "\u001b[34m\u001b[1mTensorBoard: \u001b[0mStart with 'tensorboard --logdir runs/detect/train', view at http://localhost:6006/\n",
            "Freezing layer 'model.22.dfl.conv.weight'\n",
            "\u001b[34m\u001b[1mAMP: \u001b[0mrunning Automatic Mixed Precision (AMP) checks...\n",
            "Downloading https://github.com/ultralytics/assets/releases/download/v8.3.0/yolo11n.pt to 'yolo11n.pt'...\n"
          ]
        },
        {
          "output_type": "stream",
          "name": "stderr",
          "text": [
            "100%|██████████| 5.35M/5.35M [00:00<00:00, 90.9MB/s]\n"
          ]
        },
        {
          "output_type": "stream",
          "name": "stdout",
          "text": [
            "\u001b[34m\u001b[1mAMP: \u001b[0mchecks passed ✅\n"
          ]
        },
        {
          "output_type": "stream",
          "name": "stderr",
          "text": [
            "\u001b[34m\u001b[1mtrain: \u001b[0mScanning /content/drive/My Drive/Data/split_dataset/train/labels.cache... 720 images, 0 backgrounds, 0 corrupt: 100%|██████████| 720/720 [00:00<?, ?it/s]\n"
          ]
        },
        {
          "output_type": "stream",
          "name": "stdout",
          "text": [
            "\u001b[34m\u001b[1malbumentations: \u001b[0mBlur(p=0.01, blur_limit=(3, 7)), MedianBlur(p=0.01, blur_limit=(3, 7)), ToGray(p=0.01, num_output_channels=3, method='weighted_average'), CLAHE(p=0.01, clip_limit=(1.0, 4.0), tile_grid_size=(8, 8))\n"
          ]
        },
        {
          "output_type": "stream",
          "name": "stderr",
          "text": [
            "/usr/local/lib/python3.10/dist-packages/albumentations/__init__.py:24: UserWarning: A new version of Albumentations is available: 1.4.23 (you have 1.4.20). Upgrade using: pip install -U albumentations. To disable automatic update checks, set the environment variable NO_ALBUMENTATIONS_UPDATE to 1.\n",
            "  check_for_updates()\n",
            "\u001b[34m\u001b[1mval: \u001b[0mScanning /content/drive/My Drive/Data/split_dataset/val/labels.cache... 90 images, 0 backgrounds, 0 corrupt: 100%|██████████| 90/90 [00:00<?, ?it/s]\n"
          ]
        },
        {
          "output_type": "stream",
          "name": "stdout",
          "text": [
            "Plotting labels to runs/detect/train/labels.jpg... \n",
            "\u001b[34m\u001b[1moptimizer:\u001b[0m 'optimizer=auto' found, ignoring 'lr0=0.01' and 'momentum=0.937' and determining best 'optimizer', 'lr0' and 'momentum' automatically... \n",
            "\u001b[34m\u001b[1moptimizer:\u001b[0m AdamW(lr=0.002, momentum=0.9) with parameter groups 57 weight(decay=0.0), 64 weight(decay=0.0005), 63 bias(decay=0.0)\n",
            "\u001b[34m\u001b[1mTensorBoard: \u001b[0mmodel graph visualization added ✅\n",
            "Image sizes 640 train, 640 val\n",
            "Using 2 dataloader workers\n",
            "Logging results to \u001b[1mruns/detect/train\u001b[0m\n",
            "Starting training for 150 epochs...\n",
            "\n",
            "      Epoch    GPU_mem   box_loss   cls_loss   dfl_loss  Instances       Size\n"
          ]
        },
        {
          "output_type": "stream",
          "name": "stderr",
          "text": [
            "      1/150      2.16G      1.266      2.453       1.12         34        640: 100%|██████████| 45/45 [00:31<00:00,  1.45it/s]\n",
            "                 Class     Images  Instances      Box(P          R      mAP50  mAP50-95): 100%|██████████| 3/3 [00:02<00:00,  1.20it/s]"
          ]
        },
        {
          "output_type": "stream",
          "name": "stdout",
          "text": [
            "                   all         90         90      0.737      0.559      0.696      0.447\n"
          ]
        },
        {
          "output_type": "stream",
          "name": "stderr",
          "text": [
            "\n"
          ]
        },
        {
          "output_type": "stream",
          "name": "stdout",
          "text": [
            "\n",
            "      Epoch    GPU_mem   box_loss   cls_loss   dfl_loss  Instances       Size\n"
          ]
        },
        {
          "output_type": "stream",
          "name": "stderr",
          "text": [
            "      2/150      2.14G      1.157      1.441      1.049         26        640: 100%|██████████| 45/45 [00:19<00:00,  2.35it/s]\n",
            "                 Class     Images  Instances      Box(P          R      mAP50  mAP50-95): 100%|██████████| 3/3 [00:01<00:00,  2.18it/s]"
          ]
        },
        {
          "output_type": "stream",
          "name": "stdout",
          "text": [
            "                   all         90         90      0.936      0.969      0.986      0.693\n"
          ]
        },
        {
          "output_type": "stream",
          "name": "stderr",
          "text": [
            "\n"
          ]
        },
        {
          "output_type": "stream",
          "name": "stdout",
          "text": [
            "\n",
            "      Epoch    GPU_mem   box_loss   cls_loss   dfl_loss  Instances       Size\n"
          ]
        },
        {
          "output_type": "stream",
          "name": "stderr",
          "text": [
            "      3/150      2.13G      1.215      1.302      1.081         30        640: 100%|██████████| 45/45 [00:16<00:00,  2.68it/s]\n",
            "                 Class     Images  Instances      Box(P          R      mAP50  mAP50-95): 100%|██████████| 3/3 [00:01<00:00,  2.11it/s]"
          ]
        },
        {
          "output_type": "stream",
          "name": "stdout",
          "text": [
            "                   all         90         90      0.972      0.933      0.976      0.657\n"
          ]
        },
        {
          "output_type": "stream",
          "name": "stderr",
          "text": [
            "\n"
          ]
        },
        {
          "output_type": "stream",
          "name": "stdout",
          "text": [
            "\n",
            "      Epoch    GPU_mem   box_loss   cls_loss   dfl_loss  Instances       Size\n"
          ]
        },
        {
          "output_type": "stream",
          "name": "stderr",
          "text": [
            "      4/150      2.13G      1.145      1.105      1.049         30        640: 100%|██████████| 45/45 [00:16<00:00,  2.72it/s]\n",
            "                 Class     Images  Instances      Box(P          R      mAP50  mAP50-95): 100%|██████████| 3/3 [00:02<00:00,  1.49it/s]"
          ]
        },
        {
          "output_type": "stream",
          "name": "stdout",
          "text": [
            "                   all         90         90      0.975      0.866      0.963      0.658\n"
          ]
        },
        {
          "output_type": "stream",
          "name": "stderr",
          "text": [
            "\n"
          ]
        },
        {
          "output_type": "stream",
          "name": "stdout",
          "text": [
            "\n",
            "      Epoch    GPU_mem   box_loss   cls_loss   dfl_loss  Instances       Size\n"
          ]
        },
        {
          "output_type": "stream",
          "name": "stderr",
          "text": [
            "      5/150      2.14G       1.13     0.9919      1.047         28        640: 100%|██████████| 45/45 [00:15<00:00,  2.81it/s]\n",
            "                 Class     Images  Instances      Box(P          R      mAP50  mAP50-95): 100%|██████████| 3/3 [00:01<00:00,  1.86it/s]"
          ]
        },
        {
          "output_type": "stream",
          "name": "stdout",
          "text": [
            "                   all         90         90      0.957      0.986      0.992      0.696\n"
          ]
        },
        {
          "output_type": "stream",
          "name": "stderr",
          "text": [
            "\n"
          ]
        },
        {
          "output_type": "stream",
          "name": "stdout",
          "text": [
            "\n",
            "      Epoch    GPU_mem   box_loss   cls_loss   dfl_loss  Instances       Size\n"
          ]
        },
        {
          "output_type": "stream",
          "name": "stderr",
          "text": [
            "      6/150      2.13G      1.122     0.8739      1.048         27        640: 100%|██████████| 45/45 [00:16<00:00,  2.66it/s]\n",
            "                 Class     Images  Instances      Box(P          R      mAP50  mAP50-95): 100%|██████████| 3/3 [00:02<00:00,  1.48it/s]"
          ]
        },
        {
          "output_type": "stream",
          "name": "stdout",
          "text": [
            "                   all         90         90       0.98      0.944      0.983      0.673\n"
          ]
        },
        {
          "output_type": "stream",
          "name": "stderr",
          "text": [
            "\n"
          ]
        },
        {
          "output_type": "stream",
          "name": "stdout",
          "text": [
            "\n",
            "      Epoch    GPU_mem   box_loss   cls_loss   dfl_loss  Instances       Size\n"
          ]
        },
        {
          "output_type": "stream",
          "name": "stderr",
          "text": [
            "      7/150      2.13G      1.064     0.7912      1.013         32        640: 100%|██████████| 45/45 [00:16<00:00,  2.78it/s]\n",
            "                 Class     Images  Instances      Box(P          R      mAP50  mAP50-95): 100%|██████████| 3/3 [00:02<00:00,  1.19it/s]"
          ]
        },
        {
          "output_type": "stream",
          "name": "stdout",
          "text": [
            "                   all         90         90          1      0.932      0.991      0.708\n"
          ]
        },
        {
          "output_type": "stream",
          "name": "stderr",
          "text": [
            "\n"
          ]
        },
        {
          "output_type": "stream",
          "name": "stdout",
          "text": [
            "\n",
            "      Epoch    GPU_mem   box_loss   cls_loss   dfl_loss  Instances       Size\n"
          ]
        },
        {
          "output_type": "stream",
          "name": "stderr",
          "text": [
            "      8/150      2.13G      1.086     0.7625      1.023         27        640: 100%|██████████| 45/45 [00:16<00:00,  2.70it/s]\n",
            "                 Class     Images  Instances      Box(P          R      mAP50  mAP50-95): 100%|██████████| 3/3 [00:01<00:00,  1.63it/s]"
          ]
        },
        {
          "output_type": "stream",
          "name": "stdout",
          "text": [
            "                   all         90         90      0.974      0.989      0.994      0.714\n"
          ]
        },
        {
          "output_type": "stream",
          "name": "stderr",
          "text": [
            "\n"
          ]
        },
        {
          "output_type": "stream",
          "name": "stdout",
          "text": [
            "\n",
            "      Epoch    GPU_mem   box_loss   cls_loss   dfl_loss  Instances       Size\n"
          ]
        },
        {
          "output_type": "stream",
          "name": "stderr",
          "text": [
            "      9/150      2.14G      1.093     0.7568      1.028         24        640: 100%|██████████| 45/45 [00:17<00:00,  2.61it/s]\n",
            "                 Class     Images  Instances      Box(P          R      mAP50  mAP50-95): 100%|██████████| 3/3 [00:00<00:00,  3.54it/s]"
          ]
        },
        {
          "output_type": "stream",
          "name": "stdout",
          "text": [
            "                   all         90         90      0.977      0.967      0.991      0.712\n"
          ]
        },
        {
          "output_type": "stream",
          "name": "stderr",
          "text": [
            "\n"
          ]
        },
        {
          "output_type": "stream",
          "name": "stdout",
          "text": [
            "\n",
            "      Epoch    GPU_mem   box_loss   cls_loss   dfl_loss  Instances       Size\n"
          ]
        },
        {
          "output_type": "stream",
          "name": "stderr",
          "text": [
            "     10/150      2.13G      1.048     0.7063      0.998         32        640: 100%|██████████| 45/45 [00:17<00:00,  2.56it/s]\n",
            "                 Class     Images  Instances      Box(P          R      mAP50  mAP50-95): 100%|██████████| 3/3 [00:01<00:00,  2.44it/s]"
          ]
        },
        {
          "output_type": "stream",
          "name": "stdout",
          "text": [
            "                   all         90         90      0.988      0.956      0.978      0.711\n"
          ]
        },
        {
          "output_type": "stream",
          "name": "stderr",
          "text": [
            "\n"
          ]
        },
        {
          "output_type": "stream",
          "name": "stdout",
          "text": [
            "\n",
            "      Epoch    GPU_mem   box_loss   cls_loss   dfl_loss  Instances       Size\n"
          ]
        },
        {
          "output_type": "stream",
          "name": "stderr",
          "text": [
            "     11/150      2.13G      1.052     0.6986       1.01         23        640: 100%|██████████| 45/45 [00:17<00:00,  2.59it/s]\n",
            "                 Class     Images  Instances      Box(P          R      mAP50  mAP50-95): 100%|██████████| 3/3 [00:01<00:00,  2.56it/s]"
          ]
        },
        {
          "output_type": "stream",
          "name": "stdout",
          "text": [
            "                   all         90         90      0.966      0.978      0.986      0.716\n"
          ]
        },
        {
          "output_type": "stream",
          "name": "stderr",
          "text": [
            "\n"
          ]
        },
        {
          "output_type": "stream",
          "name": "stdout",
          "text": [
            "\n",
            "      Epoch    GPU_mem   box_loss   cls_loss   dfl_loss  Instances       Size\n"
          ]
        },
        {
          "output_type": "stream",
          "name": "stderr",
          "text": [
            "     12/150      2.13G      1.017     0.6551      1.008         29        640: 100%|██████████| 45/45 [00:17<00:00,  2.55it/s]\n",
            "                 Class     Images  Instances      Box(P          R      mAP50  mAP50-95): 100%|██████████| 3/3 [00:01<00:00,  2.98it/s]"
          ]
        },
        {
          "output_type": "stream",
          "name": "stdout",
          "text": [
            "                   all         90         90      0.985          1      0.994      0.701\n"
          ]
        },
        {
          "output_type": "stream",
          "name": "stderr",
          "text": [
            "\n"
          ]
        },
        {
          "output_type": "stream",
          "name": "stdout",
          "text": [
            "\n",
            "      Epoch    GPU_mem   box_loss   cls_loss   dfl_loss  Instances       Size\n"
          ]
        },
        {
          "output_type": "stream",
          "name": "stderr",
          "text": [
            "     13/150      2.14G      1.048     0.6569      1.002         31        640: 100%|██████████| 45/45 [00:17<00:00,  2.53it/s]\n",
            "                 Class     Images  Instances      Box(P          R      mAP50  mAP50-95): 100%|██████████| 3/3 [00:00<00:00,  3.04it/s]"
          ]
        },
        {
          "output_type": "stream",
          "name": "stdout",
          "text": [
            "                   all         90         90      0.993      0.989      0.995      0.724\n"
          ]
        },
        {
          "output_type": "stream",
          "name": "stderr",
          "text": [
            "\n"
          ]
        },
        {
          "output_type": "stream",
          "name": "stdout",
          "text": [
            "\n",
            "      Epoch    GPU_mem   box_loss   cls_loss   dfl_loss  Instances       Size\n"
          ]
        },
        {
          "output_type": "stream",
          "name": "stderr",
          "text": [
            "     14/150      2.13G      1.027     0.6496     0.9882         27        640: 100%|██████████| 45/45 [00:17<00:00,  2.57it/s]\n",
            "                 Class     Images  Instances      Box(P          R      mAP50  mAP50-95): 100%|██████████| 3/3 [00:01<00:00,  2.99it/s]"
          ]
        },
        {
          "output_type": "stream",
          "name": "stdout",
          "text": [
            "                   all         90         90      0.974          1      0.994      0.711\n"
          ]
        },
        {
          "output_type": "stream",
          "name": "stderr",
          "text": [
            "\n"
          ]
        },
        {
          "output_type": "stream",
          "name": "stdout",
          "text": [
            "\n",
            "      Epoch    GPU_mem   box_loss   cls_loss   dfl_loss  Instances       Size\n"
          ]
        },
        {
          "output_type": "stream",
          "name": "stderr",
          "text": [
            "     15/150      2.13G     0.9961     0.6375     0.9953         26        640: 100%|██████████| 45/45 [00:17<00:00,  2.57it/s]\n",
            "                 Class     Images  Instances      Box(P          R      mAP50  mAP50-95): 100%|██████████| 3/3 [00:01<00:00,  2.56it/s]"
          ]
        },
        {
          "output_type": "stream",
          "name": "stdout",
          "text": [
            "                   all         90         90      0.976          1      0.994      0.734\n"
          ]
        },
        {
          "output_type": "stream",
          "name": "stderr",
          "text": [
            "\n"
          ]
        },
        {
          "output_type": "stream",
          "name": "stdout",
          "text": [
            "\n",
            "      Epoch    GPU_mem   box_loss   cls_loss   dfl_loss  Instances       Size\n"
          ]
        },
        {
          "output_type": "stream",
          "name": "stderr",
          "text": [
            "     16/150      2.13G     0.9837     0.6252     0.9769         27        640: 100%|██████████| 45/45 [00:17<00:00,  2.60it/s]\n",
            "                 Class     Images  Instances      Box(P          R      mAP50  mAP50-95): 100%|██████████| 3/3 [00:01<00:00,  2.30it/s]"
          ]
        },
        {
          "output_type": "stream",
          "name": "stdout",
          "text": [
            "                   all         90         90      0.977      0.989      0.993      0.743\n"
          ]
        },
        {
          "output_type": "stream",
          "name": "stderr",
          "text": [
            "\n"
          ]
        },
        {
          "output_type": "stream",
          "name": "stdout",
          "text": [
            "\n",
            "      Epoch    GPU_mem   box_loss   cls_loss   dfl_loss  Instances       Size\n"
          ]
        },
        {
          "output_type": "stream",
          "name": "stderr",
          "text": [
            "     17/150      2.14G     0.9658      0.604      0.982         28        640: 100%|██████████| 45/45 [00:17<00:00,  2.65it/s]\n",
            "                 Class     Images  Instances      Box(P          R      mAP50  mAP50-95): 100%|██████████| 3/3 [00:01<00:00,  3.00it/s]"
          ]
        },
        {
          "output_type": "stream",
          "name": "stdout",
          "text": [
            "                   all         90         90      0.988          1      0.995      0.748\n"
          ]
        },
        {
          "output_type": "stream",
          "name": "stderr",
          "text": [
            "\n"
          ]
        },
        {
          "output_type": "stream",
          "name": "stdout",
          "text": [
            "\n",
            "      Epoch    GPU_mem   box_loss   cls_loss   dfl_loss  Instances       Size\n"
          ]
        },
        {
          "output_type": "stream",
          "name": "stderr",
          "text": [
            "     18/150      2.13G     0.9785     0.6122     0.9879         22        640: 100%|██████████| 45/45 [00:17<00:00,  2.60it/s]\n",
            "                 Class     Images  Instances      Box(P          R      mAP50  mAP50-95): 100%|██████████| 3/3 [00:00<00:00,  3.15it/s]"
          ]
        },
        {
          "output_type": "stream",
          "name": "stdout",
          "text": [
            "                   all         90         90      0.979      0.978      0.993      0.745\n"
          ]
        },
        {
          "output_type": "stream",
          "name": "stderr",
          "text": [
            "\n"
          ]
        },
        {
          "output_type": "stream",
          "name": "stdout",
          "text": [
            "\n",
            "      Epoch    GPU_mem   box_loss   cls_loss   dfl_loss  Instances       Size\n"
          ]
        },
        {
          "output_type": "stream",
          "name": "stderr",
          "text": [
            "     19/150      2.13G      1.007     0.6021     0.9867         23        640: 100%|██████████| 45/45 [00:17<00:00,  2.59it/s]\n",
            "                 Class     Images  Instances      Box(P          R      mAP50  mAP50-95): 100%|██████████| 3/3 [00:01<00:00,  2.72it/s]"
          ]
        },
        {
          "output_type": "stream",
          "name": "stdout",
          "text": [
            "                   all         90         90      0.989      0.995      0.995      0.749\n"
          ]
        },
        {
          "output_type": "stream",
          "name": "stderr",
          "text": [
            "\n"
          ]
        },
        {
          "output_type": "stream",
          "name": "stdout",
          "text": [
            "\n",
            "      Epoch    GPU_mem   box_loss   cls_loss   dfl_loss  Instances       Size\n"
          ]
        },
        {
          "output_type": "stream",
          "name": "stderr",
          "text": [
            "     20/150      2.13G     0.9792     0.5867     0.9854         34        640: 100%|██████████| 45/45 [00:17<00:00,  2.58it/s]\n",
            "                 Class     Images  Instances      Box(P          R      mAP50  mAP50-95): 100%|██████████| 3/3 [00:01<00:00,  2.77it/s]"
          ]
        },
        {
          "output_type": "stream",
          "name": "stdout",
          "text": [
            "                   all         90         90      0.976          1      0.994      0.725\n"
          ]
        },
        {
          "output_type": "stream",
          "name": "stderr",
          "text": [
            "\n"
          ]
        },
        {
          "output_type": "stream",
          "name": "stdout",
          "text": [
            "\n",
            "      Epoch    GPU_mem   box_loss   cls_loss   dfl_loss  Instances       Size\n"
          ]
        },
        {
          "output_type": "stream",
          "name": "stderr",
          "text": [
            "     21/150      2.14G     0.9924      0.595     0.9901         29        640: 100%|██████████| 45/45 [00:23<00:00,  1.89it/s]\n",
            "                 Class     Images  Instances      Box(P          R      mAP50  mAP50-95): 100%|██████████| 3/3 [00:01<00:00,  1.53it/s]"
          ]
        },
        {
          "output_type": "stream",
          "name": "stdout",
          "text": [
            "                   all         90         90      0.964          1      0.991      0.726\n"
          ]
        },
        {
          "output_type": "stream",
          "name": "stderr",
          "text": [
            "\n"
          ]
        },
        {
          "output_type": "stream",
          "name": "stdout",
          "text": [
            "\n",
            "      Epoch    GPU_mem   box_loss   cls_loss   dfl_loss  Instances       Size\n"
          ]
        },
        {
          "output_type": "stream",
          "name": "stderr",
          "text": [
            "     22/150      2.13G     0.9533     0.5829     0.9705         36        640: 100%|██████████| 45/45 [00:17<00:00,  2.63it/s]\n",
            "                 Class     Images  Instances      Box(P          R      mAP50  mAP50-95): 100%|██████████| 3/3 [00:01<00:00,  1.70it/s]"
          ]
        },
        {
          "output_type": "stream",
          "name": "stdout",
          "text": [
            "                   all         90         90      0.999          1      0.995      0.762\n"
          ]
        },
        {
          "output_type": "stream",
          "name": "stderr",
          "text": [
            "\n"
          ]
        },
        {
          "output_type": "stream",
          "name": "stdout",
          "text": [
            "\n",
            "      Epoch    GPU_mem   box_loss   cls_loss   dfl_loss  Instances       Size\n"
          ]
        },
        {
          "output_type": "stream",
          "name": "stderr",
          "text": [
            "     23/150      2.13G     0.9576     0.5718     0.9688         35        640: 100%|██████████| 45/45 [00:17<00:00,  2.59it/s]\n",
            "                 Class     Images  Instances      Box(P          R      mAP50  mAP50-95): 100%|██████████| 3/3 [00:01<00:00,  2.30it/s]"
          ]
        },
        {
          "output_type": "stream",
          "name": "stdout",
          "text": [
            "                   all         90         90      0.987          1      0.995      0.733\n"
          ]
        },
        {
          "output_type": "stream",
          "name": "stderr",
          "text": [
            "\n"
          ]
        },
        {
          "output_type": "stream",
          "name": "stdout",
          "text": [
            "\n",
            "      Epoch    GPU_mem   box_loss   cls_loss   dfl_loss  Instances       Size\n"
          ]
        },
        {
          "output_type": "stream",
          "name": "stderr",
          "text": [
            "     24/150      2.13G     0.9936     0.5668     0.9771         26        640: 100%|██████████| 45/45 [00:17<00:00,  2.57it/s]\n",
            "                 Class     Images  Instances      Box(P          R      mAP50  mAP50-95): 100%|██████████| 3/3 [00:00<00:00,  3.06it/s]"
          ]
        },
        {
          "output_type": "stream",
          "name": "stdout",
          "text": [
            "                   all         90         90      0.985          1      0.994      0.747\n"
          ]
        },
        {
          "output_type": "stream",
          "name": "stderr",
          "text": [
            "\n"
          ]
        },
        {
          "output_type": "stream",
          "name": "stdout",
          "text": [
            "\n",
            "      Epoch    GPU_mem   box_loss   cls_loss   dfl_loss  Instances       Size\n"
          ]
        },
        {
          "output_type": "stream",
          "name": "stderr",
          "text": [
            "     25/150      2.14G     0.9341     0.5535     0.9631         23        640: 100%|██████████| 45/45 [00:17<00:00,  2.61it/s]\n",
            "                 Class     Images  Instances      Box(P          R      mAP50  mAP50-95): 100%|██████████| 3/3 [00:01<00:00,  2.14it/s]"
          ]
        },
        {
          "output_type": "stream",
          "name": "stdout",
          "text": [
            "                   all         90         90      0.995          1      0.995      0.722\n"
          ]
        },
        {
          "output_type": "stream",
          "name": "stderr",
          "text": [
            "\n"
          ]
        },
        {
          "output_type": "stream",
          "name": "stdout",
          "text": [
            "\n",
            "      Epoch    GPU_mem   box_loss   cls_loss   dfl_loss  Instances       Size\n"
          ]
        },
        {
          "output_type": "stream",
          "name": "stderr",
          "text": [
            "     26/150      2.13G      0.942     0.5579     0.9638         21        640: 100%|██████████| 45/45 [00:17<00:00,  2.64it/s]\n",
            "                 Class     Images  Instances      Box(P          R      mAP50  mAP50-95): 100%|██████████| 3/3 [00:00<00:00,  3.59it/s]"
          ]
        },
        {
          "output_type": "stream",
          "name": "stdout",
          "text": [
            "                   all         90         90      0.998          1      0.995      0.743\n"
          ]
        },
        {
          "output_type": "stream",
          "name": "stderr",
          "text": [
            "\n"
          ]
        },
        {
          "output_type": "stream",
          "name": "stdout",
          "text": [
            "\n",
            "      Epoch    GPU_mem   box_loss   cls_loss   dfl_loss  Instances       Size\n"
          ]
        },
        {
          "output_type": "stream",
          "name": "stderr",
          "text": [
            "     27/150      2.13G     0.9573     0.5664     0.9621         29        640: 100%|██████████| 45/45 [00:17<00:00,  2.53it/s]\n",
            "                 Class     Images  Instances      Box(P          R      mAP50  mAP50-95): 100%|██████████| 3/3 [00:01<00:00,  2.50it/s]"
          ]
        },
        {
          "output_type": "stream",
          "name": "stdout",
          "text": [
            "                   all         90         90      0.988          1      0.995      0.765\n"
          ]
        },
        {
          "output_type": "stream",
          "name": "stderr",
          "text": [
            "\n"
          ]
        },
        {
          "output_type": "stream",
          "name": "stdout",
          "text": [
            "\n",
            "      Epoch    GPU_mem   box_loss   cls_loss   dfl_loss  Instances       Size\n"
          ]
        },
        {
          "output_type": "stream",
          "name": "stderr",
          "text": [
            "     28/150      2.13G     0.9444     0.5626     0.9648         27        640: 100%|██████████| 45/45 [00:17<00:00,  2.58it/s]\n",
            "                 Class     Images  Instances      Box(P          R      mAP50  mAP50-95): 100%|██████████| 3/3 [00:00<00:00,  3.02it/s]"
          ]
        },
        {
          "output_type": "stream",
          "name": "stdout",
          "text": [
            "                   all         90         90      0.989      0.997      0.995       0.76\n"
          ]
        },
        {
          "output_type": "stream",
          "name": "stderr",
          "text": [
            "\n"
          ]
        },
        {
          "output_type": "stream",
          "name": "stdout",
          "text": [
            "\n",
            "      Epoch    GPU_mem   box_loss   cls_loss   dfl_loss  Instances       Size\n"
          ]
        },
        {
          "output_type": "stream",
          "name": "stderr",
          "text": [
            "     29/150      2.14G      0.903     0.5509     0.9574         34        640: 100%|██████████| 45/45 [00:17<00:00,  2.62it/s]\n",
            "                 Class     Images  Instances      Box(P          R      mAP50  mAP50-95): 100%|██████████| 3/3 [00:01<00:00,  2.53it/s]"
          ]
        },
        {
          "output_type": "stream",
          "name": "stdout",
          "text": [
            "                   all         90         90      0.983          1      0.995      0.757\n"
          ]
        },
        {
          "output_type": "stream",
          "name": "stderr",
          "text": [
            "\n"
          ]
        },
        {
          "output_type": "stream",
          "name": "stdout",
          "text": [
            "\n",
            "      Epoch    GPU_mem   box_loss   cls_loss   dfl_loss  Instances       Size\n"
          ]
        },
        {
          "output_type": "stream",
          "name": "stderr",
          "text": [
            "     30/150      2.13G     0.9225     0.5286     0.9474         34        640: 100%|██████████| 45/45 [00:17<00:00,  2.51it/s]\n",
            "                 Class     Images  Instances      Box(P          R      mAP50  mAP50-95): 100%|██████████| 3/3 [00:00<00:00,  3.14it/s]"
          ]
        },
        {
          "output_type": "stream",
          "name": "stdout",
          "text": [
            "                   all         90         90          1      0.999      0.995      0.755\n"
          ]
        },
        {
          "output_type": "stream",
          "name": "stderr",
          "text": [
            "\n"
          ]
        },
        {
          "output_type": "stream",
          "name": "stdout",
          "text": [
            "\n",
            "      Epoch    GPU_mem   box_loss   cls_loss   dfl_loss  Instances       Size\n"
          ]
        },
        {
          "output_type": "stream",
          "name": "stderr",
          "text": [
            "     31/150      2.13G     0.9199     0.5373     0.9543         34        640: 100%|██████████| 45/45 [00:17<00:00,  2.51it/s]\n",
            "                 Class     Images  Instances      Box(P          R      mAP50  mAP50-95): 100%|██████████| 3/3 [00:00<00:00,  3.62it/s]"
          ]
        },
        {
          "output_type": "stream",
          "name": "stdout",
          "text": [
            "                   all         90         90      0.981          1      0.994      0.742\n"
          ]
        },
        {
          "output_type": "stream",
          "name": "stderr",
          "text": [
            "\n"
          ]
        },
        {
          "output_type": "stream",
          "name": "stdout",
          "text": [
            "\n",
            "      Epoch    GPU_mem   box_loss   cls_loss   dfl_loss  Instances       Size\n"
          ]
        },
        {
          "output_type": "stream",
          "name": "stderr",
          "text": [
            "     32/150      2.13G     0.9075     0.5297     0.9591         31        640: 100%|██████████| 45/45 [00:17<00:00,  2.61it/s]\n",
            "                 Class     Images  Instances      Box(P          R      mAP50  mAP50-95): 100%|██████████| 3/3 [00:01<00:00,  2.81it/s]"
          ]
        },
        {
          "output_type": "stream",
          "name": "stdout",
          "text": [
            "                   all         90         90      0.981          1      0.994      0.766\n"
          ]
        },
        {
          "output_type": "stream",
          "name": "stderr",
          "text": [
            "\n"
          ]
        },
        {
          "output_type": "stream",
          "name": "stdout",
          "text": [
            "\n",
            "      Epoch    GPU_mem   box_loss   cls_loss   dfl_loss  Instances       Size\n"
          ]
        },
        {
          "output_type": "stream",
          "name": "stderr",
          "text": [
            "     33/150      2.14G     0.8985      0.545     0.9509         36        640: 100%|██████████| 45/45 [00:16<00:00,  2.71it/s]\n",
            "                 Class     Images  Instances      Box(P          R      mAP50  mAP50-95): 100%|██████████| 3/3 [00:01<00:00,  1.86it/s]"
          ]
        },
        {
          "output_type": "stream",
          "name": "stdout",
          "text": [
            "                   all         90         90      0.977          1      0.995      0.788\n"
          ]
        },
        {
          "output_type": "stream",
          "name": "stderr",
          "text": [
            "\n"
          ]
        },
        {
          "output_type": "stream",
          "name": "stdout",
          "text": [
            "\n",
            "      Epoch    GPU_mem   box_loss   cls_loss   dfl_loss  Instances       Size\n"
          ]
        },
        {
          "output_type": "stream",
          "name": "stderr",
          "text": [
            "     34/150      2.13G     0.9034     0.5278     0.9551         31        640: 100%|██████████| 45/45 [00:16<00:00,  2.67it/s]\n",
            "                 Class     Images  Instances      Box(P          R      mAP50  mAP50-95): 100%|██████████| 3/3 [00:01<00:00,  1.97it/s]"
          ]
        },
        {
          "output_type": "stream",
          "name": "stdout",
          "text": [
            "                   all         90         90      0.986          1      0.994      0.773\n"
          ]
        },
        {
          "output_type": "stream",
          "name": "stderr",
          "text": [
            "\n"
          ]
        },
        {
          "output_type": "stream",
          "name": "stdout",
          "text": [
            "\n",
            "      Epoch    GPU_mem   box_loss   cls_loss   dfl_loss  Instances       Size\n"
          ]
        },
        {
          "output_type": "stream",
          "name": "stderr",
          "text": [
            "     35/150      2.13G     0.8958     0.4982     0.9429         35        640: 100%|██████████| 45/45 [00:15<00:00,  2.81it/s]\n",
            "                 Class     Images  Instances      Box(P          R      mAP50  mAP50-95): 100%|██████████| 3/3 [00:01<00:00,  1.63it/s]"
          ]
        },
        {
          "output_type": "stream",
          "name": "stdout",
          "text": [
            "                   all         90         90      0.997          1      0.995      0.793\n"
          ]
        },
        {
          "output_type": "stream",
          "name": "stderr",
          "text": [
            "\n"
          ]
        },
        {
          "output_type": "stream",
          "name": "stdout",
          "text": [
            "\n",
            "      Epoch    GPU_mem   box_loss   cls_loss   dfl_loss  Instances       Size\n"
          ]
        },
        {
          "output_type": "stream",
          "name": "stderr",
          "text": [
            "     36/150      2.13G     0.8938     0.5092     0.9548         34        640: 100%|██████████| 45/45 [00:16<00:00,  2.77it/s]\n",
            "                 Class     Images  Instances      Box(P          R      mAP50  mAP50-95): 100%|██████████| 3/3 [00:02<00:00,  1.46it/s]"
          ]
        },
        {
          "output_type": "stream",
          "name": "stdout",
          "text": [
            "                   all         90         90      0.967          1      0.994      0.798\n"
          ]
        },
        {
          "output_type": "stream",
          "name": "stderr",
          "text": [
            "\n"
          ]
        },
        {
          "output_type": "stream",
          "name": "stdout",
          "text": [
            "\n",
            "      Epoch    GPU_mem   box_loss   cls_loss   dfl_loss  Instances       Size\n"
          ]
        },
        {
          "output_type": "stream",
          "name": "stderr",
          "text": [
            "     37/150      2.14G     0.8782     0.5056     0.9439         18        640: 100%|██████████| 45/45 [00:16<00:00,  2.71it/s]\n",
            "                 Class     Images  Instances      Box(P          R      mAP50  mAP50-95): 100%|██████████| 3/3 [00:02<00:00,  1.35it/s]"
          ]
        },
        {
          "output_type": "stream",
          "name": "stdout",
          "text": [
            "                   all         90         90      0.996      0.989      0.995      0.769\n"
          ]
        },
        {
          "output_type": "stream",
          "name": "stderr",
          "text": [
            "\n"
          ]
        },
        {
          "output_type": "stream",
          "name": "stdout",
          "text": [
            "\n",
            "      Epoch    GPU_mem   box_loss   cls_loss   dfl_loss  Instances       Size\n"
          ]
        },
        {
          "output_type": "stream",
          "name": "stderr",
          "text": [
            "     38/150      2.13G     0.8979     0.5021     0.9505         23        640: 100%|██████████| 45/45 [00:16<00:00,  2.77it/s]\n",
            "                 Class     Images  Instances      Box(P          R      mAP50  mAP50-95): 100%|██████████| 3/3 [00:02<00:00,  1.27it/s]"
          ]
        },
        {
          "output_type": "stream",
          "name": "stdout",
          "text": [
            "                   all         90         90      0.985          1      0.995      0.771\n"
          ]
        },
        {
          "output_type": "stream",
          "name": "stderr",
          "text": [
            "\n"
          ]
        },
        {
          "output_type": "stream",
          "name": "stdout",
          "text": [
            "\n",
            "      Epoch    GPU_mem   box_loss   cls_loss   dfl_loss  Instances       Size\n"
          ]
        },
        {
          "output_type": "stream",
          "name": "stderr",
          "text": [
            "     39/150      2.13G     0.8957     0.5089     0.9489         32        640: 100%|██████████| 45/45 [00:16<00:00,  2.66it/s]\n",
            "                 Class     Images  Instances      Box(P          R      mAP50  mAP50-95): 100%|██████████| 3/3 [00:02<00:00,  1.40it/s]"
          ]
        },
        {
          "output_type": "stream",
          "name": "stdout",
          "text": [
            "                   all         90         90      0.998          1      0.995      0.776\n"
          ]
        },
        {
          "output_type": "stream",
          "name": "stderr",
          "text": [
            "\n"
          ]
        },
        {
          "output_type": "stream",
          "name": "stdout",
          "text": [
            "\n",
            "      Epoch    GPU_mem   box_loss   cls_loss   dfl_loss  Instances       Size\n"
          ]
        },
        {
          "output_type": "stream",
          "name": "stderr",
          "text": [
            "     40/150      2.13G     0.8803     0.5049     0.9496         24        640: 100%|██████████| 45/45 [00:17<00:00,  2.57it/s]\n",
            "                 Class     Images  Instances      Box(P          R      mAP50  mAP50-95): 100%|██████████| 3/3 [00:01<00:00,  2.83it/s]"
          ]
        },
        {
          "output_type": "stream",
          "name": "stdout",
          "text": [
            "                   all         90         90      0.998          1      0.995      0.784\n"
          ]
        },
        {
          "output_type": "stream",
          "name": "stderr",
          "text": [
            "\n"
          ]
        },
        {
          "output_type": "stream",
          "name": "stdout",
          "text": [
            "\n",
            "      Epoch    GPU_mem   box_loss   cls_loss   dfl_loss  Instances       Size\n"
          ]
        },
        {
          "output_type": "stream",
          "name": "stderr",
          "text": [
            "     41/150      2.14G     0.8398     0.4937     0.9168         26        640: 100%|██████████| 45/45 [00:17<00:00,  2.61it/s]\n",
            "                 Class     Images  Instances      Box(P          R      mAP50  mAP50-95): 100%|██████████| 3/3 [00:01<00:00,  2.37it/s]"
          ]
        },
        {
          "output_type": "stream",
          "name": "stdout",
          "text": [
            "                   all         90         90      0.976          1      0.994      0.799\n"
          ]
        },
        {
          "output_type": "stream",
          "name": "stderr",
          "text": [
            "\n"
          ]
        },
        {
          "output_type": "stream",
          "name": "stdout",
          "text": [
            "\n",
            "      Epoch    GPU_mem   box_loss   cls_loss   dfl_loss  Instances       Size\n"
          ]
        },
        {
          "output_type": "stream",
          "name": "stderr",
          "text": [
            "     42/150      2.13G     0.8875     0.5069     0.9385         23        640: 100%|██████████| 45/45 [00:17<00:00,  2.58it/s]\n",
            "                 Class     Images  Instances      Box(P          R      mAP50  mAP50-95): 100%|██████████| 3/3 [00:00<00:00,  3.48it/s]"
          ]
        },
        {
          "output_type": "stream",
          "name": "stdout",
          "text": [
            "                   all         90         90      0.961      0.989      0.993      0.778\n"
          ]
        },
        {
          "output_type": "stream",
          "name": "stderr",
          "text": [
            "\n"
          ]
        },
        {
          "output_type": "stream",
          "name": "stdout",
          "text": [
            "\n",
            "      Epoch    GPU_mem   box_loss   cls_loss   dfl_loss  Instances       Size\n"
          ]
        },
        {
          "output_type": "stream",
          "name": "stderr",
          "text": [
            "     43/150      2.13G     0.8766        0.5     0.9342         37        640: 100%|██████████| 45/45 [00:17<00:00,  2.60it/s]\n",
            "                 Class     Images  Instances      Box(P          R      mAP50  mAP50-95): 100%|██████████| 3/3 [00:00<00:00,  3.16it/s]"
          ]
        },
        {
          "output_type": "stream",
          "name": "stdout",
          "text": [
            "                   all         90         90      0.977          1      0.995      0.772\n"
          ]
        },
        {
          "output_type": "stream",
          "name": "stderr",
          "text": [
            "\n"
          ]
        },
        {
          "output_type": "stream",
          "name": "stdout",
          "text": [
            "\n",
            "      Epoch    GPU_mem   box_loss   cls_loss   dfl_loss  Instances       Size\n"
          ]
        },
        {
          "output_type": "stream",
          "name": "stderr",
          "text": [
            "     44/150      2.13G     0.8916     0.4952     0.9435         31        640: 100%|██████████| 45/45 [00:17<00:00,  2.54it/s]\n",
            "                 Class     Images  Instances      Box(P          R      mAP50  mAP50-95): 100%|██████████| 3/3 [00:00<00:00,  3.29it/s]"
          ]
        },
        {
          "output_type": "stream",
          "name": "stdout",
          "text": [
            "                   all         90         90      0.976          1      0.994      0.776\n"
          ]
        },
        {
          "output_type": "stream",
          "name": "stderr",
          "text": [
            "\n"
          ]
        },
        {
          "output_type": "stream",
          "name": "stdout",
          "text": [
            "\n",
            "      Epoch    GPU_mem   box_loss   cls_loss   dfl_loss  Instances       Size\n"
          ]
        },
        {
          "output_type": "stream",
          "name": "stderr",
          "text": [
            "     45/150      2.14G     0.8755     0.4872     0.9338         27        640: 100%|██████████| 45/45 [00:17<00:00,  2.52it/s]\n",
            "                 Class     Images  Instances      Box(P          R      mAP50  mAP50-95): 100%|██████████| 3/3 [00:01<00:00,  2.85it/s]"
          ]
        },
        {
          "output_type": "stream",
          "name": "stdout",
          "text": [
            "                   all         90         90      0.976          1      0.994      0.793\n"
          ]
        },
        {
          "output_type": "stream",
          "name": "stderr",
          "text": [
            "\n"
          ]
        },
        {
          "output_type": "stream",
          "name": "stdout",
          "text": [
            "\n",
            "      Epoch    GPU_mem   box_loss   cls_loss   dfl_loss  Instances       Size\n"
          ]
        },
        {
          "output_type": "stream",
          "name": "stderr",
          "text": [
            "     46/150      2.13G     0.8802     0.4988     0.9404         22        640: 100%|██████████| 45/45 [00:17<00:00,  2.53it/s]\n",
            "                 Class     Images  Instances      Box(P          R      mAP50  mAP50-95): 100%|██████████| 3/3 [00:00<00:00,  3.01it/s]"
          ]
        },
        {
          "output_type": "stream",
          "name": "stdout",
          "text": [
            "                   all         90         90      0.994          1      0.995       0.77\n"
          ]
        },
        {
          "output_type": "stream",
          "name": "stderr",
          "text": [
            "\n"
          ]
        },
        {
          "output_type": "stream",
          "name": "stdout",
          "text": [
            "\n",
            "      Epoch    GPU_mem   box_loss   cls_loss   dfl_loss  Instances       Size\n"
          ]
        },
        {
          "output_type": "stream",
          "name": "stderr",
          "text": [
            "     47/150      2.13G      0.871     0.4902     0.9419         26        640: 100%|██████████| 45/45 [00:17<00:00,  2.50it/s]\n",
            "                 Class     Images  Instances      Box(P          R      mAP50  mAP50-95): 100%|██████████| 3/3 [00:01<00:00,  2.98it/s]"
          ]
        },
        {
          "output_type": "stream",
          "name": "stdout",
          "text": [
            "                   all         90         90      0.987          1      0.995      0.759\n"
          ]
        },
        {
          "output_type": "stream",
          "name": "stderr",
          "text": [
            "\n"
          ]
        },
        {
          "output_type": "stream",
          "name": "stdout",
          "text": [
            "\n",
            "      Epoch    GPU_mem   box_loss   cls_loss   dfl_loss  Instances       Size\n"
          ]
        },
        {
          "output_type": "stream",
          "name": "stderr",
          "text": [
            "     48/150      2.13G     0.8803     0.4898     0.9403         38        640: 100%|██████████| 45/45 [00:17<00:00,  2.53it/s]\n",
            "                 Class     Images  Instances      Box(P          R      mAP50  mAP50-95): 100%|██████████| 3/3 [00:01<00:00,  2.03it/s]"
          ]
        },
        {
          "output_type": "stream",
          "name": "stdout",
          "text": [
            "                   all         90         90      0.997          1      0.995      0.791\n"
          ]
        },
        {
          "output_type": "stream",
          "name": "stderr",
          "text": [
            "\n"
          ]
        },
        {
          "output_type": "stream",
          "name": "stdout",
          "text": [
            "\n",
            "      Epoch    GPU_mem   box_loss   cls_loss   dfl_loss  Instances       Size\n"
          ]
        },
        {
          "output_type": "stream",
          "name": "stderr",
          "text": [
            "     49/150      2.14G     0.8709      0.479     0.9451         30        640: 100%|██████████| 45/45 [00:18<00:00,  2.48it/s]\n",
            "                 Class     Images  Instances      Box(P          R      mAP50  mAP50-95): 100%|██████████| 3/3 [00:01<00:00,  2.60it/s]"
          ]
        },
        {
          "output_type": "stream",
          "name": "stdout",
          "text": [
            "                   all         90         90      0.988          1      0.995      0.744\n"
          ]
        },
        {
          "output_type": "stream",
          "name": "stderr",
          "text": [
            "\n"
          ]
        },
        {
          "output_type": "stream",
          "name": "stdout",
          "text": [
            "\n",
            "      Epoch    GPU_mem   box_loss   cls_loss   dfl_loss  Instances       Size\n"
          ]
        },
        {
          "output_type": "stream",
          "name": "stderr",
          "text": [
            "     50/150      2.13G      0.868     0.4764     0.9457         26        640: 100%|██████████| 45/45 [00:17<00:00,  2.61it/s]\n",
            "                 Class     Images  Instances      Box(P          R      mAP50  mAP50-95): 100%|██████████| 3/3 [00:01<00:00,  2.84it/s]"
          ]
        },
        {
          "output_type": "stream",
          "name": "stdout",
          "text": [
            "                   all         90         90      0.977          1      0.993      0.789\n"
          ]
        },
        {
          "output_type": "stream",
          "name": "stderr",
          "text": [
            "\n"
          ]
        },
        {
          "output_type": "stream",
          "name": "stdout",
          "text": [
            "\n",
            "      Epoch    GPU_mem   box_loss   cls_loss   dfl_loss  Instances       Size\n"
          ]
        },
        {
          "output_type": "stream",
          "name": "stderr",
          "text": [
            "     51/150      2.13G     0.8575     0.4769     0.9429         27        640: 100%|██████████| 45/45 [00:16<00:00,  2.68it/s]\n",
            "                 Class     Images  Instances      Box(P          R      mAP50  mAP50-95): 100%|██████████| 3/3 [00:01<00:00,  2.06it/s]"
          ]
        },
        {
          "output_type": "stream",
          "name": "stdout",
          "text": [
            "                   all         90         90      0.974          1      0.994       0.78\n"
          ]
        },
        {
          "output_type": "stream",
          "name": "stderr",
          "text": [
            "\n"
          ]
        },
        {
          "output_type": "stream",
          "name": "stdout",
          "text": [
            "\n",
            "      Epoch    GPU_mem   box_loss   cls_loss   dfl_loss  Instances       Size\n"
          ]
        },
        {
          "output_type": "stream",
          "name": "stderr",
          "text": [
            "     52/150      2.13G     0.8231     0.4669     0.9266         31        640: 100%|██████████| 45/45 [00:16<00:00,  2.70it/s]\n",
            "                 Class     Images  Instances      Box(P          R      mAP50  mAP50-95): 100%|██████████| 3/3 [00:01<00:00,  1.76it/s]"
          ]
        },
        {
          "output_type": "stream",
          "name": "stdout",
          "text": [
            "                   all         90         90      0.988          1      0.995      0.772\n"
          ]
        },
        {
          "output_type": "stream",
          "name": "stderr",
          "text": [
            "\n"
          ]
        },
        {
          "output_type": "stream",
          "name": "stdout",
          "text": [
            "\n",
            "      Epoch    GPU_mem   box_loss   cls_loss   dfl_loss  Instances       Size\n"
          ]
        },
        {
          "output_type": "stream",
          "name": "stderr",
          "text": [
            "     53/150      2.14G     0.8623     0.4718     0.9327         37        640: 100%|██████████| 45/45 [00:16<00:00,  2.73it/s]\n",
            "                 Class     Images  Instances      Box(P          R      mAP50  mAP50-95): 100%|██████████| 3/3 [00:01<00:00,  1.76it/s]"
          ]
        },
        {
          "output_type": "stream",
          "name": "stdout",
          "text": [
            "                   all         90         90      0.995          1      0.995      0.763\n"
          ]
        },
        {
          "output_type": "stream",
          "name": "stderr",
          "text": [
            "\n"
          ]
        },
        {
          "output_type": "stream",
          "name": "stdout",
          "text": [
            "\n",
            "      Epoch    GPU_mem   box_loss   cls_loss   dfl_loss  Instances       Size\n"
          ]
        },
        {
          "output_type": "stream",
          "name": "stderr",
          "text": [
            "     54/150      2.13G     0.8302     0.4859     0.9268         32        640: 100%|██████████| 45/45 [00:16<00:00,  2.68it/s]\n",
            "                 Class     Images  Instances      Box(P          R      mAP50  mAP50-95): 100%|██████████| 3/3 [00:02<00:00,  1.49it/s]"
          ]
        },
        {
          "output_type": "stream",
          "name": "stdout",
          "text": [
            "                   all         90         90      0.998          1      0.995      0.807\n"
          ]
        },
        {
          "output_type": "stream",
          "name": "stderr",
          "text": [
            "\n"
          ]
        },
        {
          "output_type": "stream",
          "name": "stdout",
          "text": [
            "\n",
            "      Epoch    GPU_mem   box_loss   cls_loss   dfl_loss  Instances       Size\n"
          ]
        },
        {
          "output_type": "stream",
          "name": "stderr",
          "text": [
            "     55/150      2.13G     0.8441     0.4749     0.9274         27        640: 100%|██████████| 45/45 [00:16<00:00,  2.75it/s]\n",
            "                 Class     Images  Instances      Box(P          R      mAP50  mAP50-95): 100%|██████████| 3/3 [00:02<00:00,  1.20it/s]"
          ]
        },
        {
          "output_type": "stream",
          "name": "stdout",
          "text": [
            "                   all         90         90      0.987          1      0.994      0.798\n"
          ]
        },
        {
          "output_type": "stream",
          "name": "stderr",
          "text": [
            "\n"
          ]
        },
        {
          "output_type": "stream",
          "name": "stdout",
          "text": [
            "\n",
            "      Epoch    GPU_mem   box_loss   cls_loss   dfl_loss  Instances       Size\n"
          ]
        },
        {
          "output_type": "stream",
          "name": "stderr",
          "text": [
            "     56/150      2.13G     0.8178     0.4667     0.9277         23        640: 100%|██████████| 45/45 [00:16<00:00,  2.65it/s]\n",
            "                 Class     Images  Instances      Box(P          R      mAP50  mAP50-95): 100%|██████████| 3/3 [00:01<00:00,  1.73it/s]"
          ]
        },
        {
          "output_type": "stream",
          "name": "stdout",
          "text": [
            "                   all         90         90      0.991          1      0.995      0.767\n"
          ]
        },
        {
          "output_type": "stream",
          "name": "stderr",
          "text": [
            "\n"
          ]
        },
        {
          "output_type": "stream",
          "name": "stdout",
          "text": [
            "\n",
            "      Epoch    GPU_mem   box_loss   cls_loss   dfl_loss  Instances       Size\n"
          ]
        },
        {
          "output_type": "stream",
          "name": "stderr",
          "text": [
            "     57/150      2.14G     0.8559     0.4735      0.935         32        640: 100%|██████████| 45/45 [00:17<00:00,  2.54it/s]\n",
            "                 Class     Images  Instances      Box(P          R      mAP50  mAP50-95): 100%|██████████| 3/3 [00:01<00:00,  2.85it/s]"
          ]
        },
        {
          "output_type": "stream",
          "name": "stdout",
          "text": [
            "                   all         90         90      0.998          1      0.995      0.779\n"
          ]
        },
        {
          "output_type": "stream",
          "name": "stderr",
          "text": [
            "\n"
          ]
        },
        {
          "output_type": "stream",
          "name": "stdout",
          "text": [
            "\n",
            "      Epoch    GPU_mem   box_loss   cls_loss   dfl_loss  Instances       Size\n"
          ]
        },
        {
          "output_type": "stream",
          "name": "stderr",
          "text": [
            "     58/150      2.13G     0.8311     0.4543     0.9264         30        640: 100%|██████████| 45/45 [00:17<00:00,  2.58it/s]\n",
            "                 Class     Images  Instances      Box(P          R      mAP50  mAP50-95): 100%|██████████| 3/3 [00:01<00:00,  2.93it/s]"
          ]
        },
        {
          "output_type": "stream",
          "name": "stdout",
          "text": [
            "                   all         90         90      0.999          1      0.995       0.78\n"
          ]
        },
        {
          "output_type": "stream",
          "name": "stderr",
          "text": [
            "\n"
          ]
        },
        {
          "output_type": "stream",
          "name": "stdout",
          "text": [
            "\n",
            "      Epoch    GPU_mem   box_loss   cls_loss   dfl_loss  Instances       Size\n"
          ]
        },
        {
          "output_type": "stream",
          "name": "stderr",
          "text": [
            "     59/150      2.13G     0.8451     0.4633      0.923         37        640: 100%|██████████| 45/45 [00:17<00:00,  2.56it/s]\n",
            "                 Class     Images  Instances      Box(P          R      mAP50  mAP50-95): 100%|██████████| 3/3 [00:01<00:00,  2.78it/s]"
          ]
        },
        {
          "output_type": "stream",
          "name": "stdout",
          "text": [
            "                   all         90         90      0.998      0.989      0.995      0.712\n"
          ]
        },
        {
          "output_type": "stream",
          "name": "stderr",
          "text": [
            "\n"
          ]
        },
        {
          "output_type": "stream",
          "name": "stdout",
          "text": [
            "\n",
            "      Epoch    GPU_mem   box_loss   cls_loss   dfl_loss  Instances       Size\n"
          ]
        },
        {
          "output_type": "stream",
          "name": "stderr",
          "text": [
            "     60/150      2.13G     0.8584     0.4703     0.9314         31        640: 100%|██████████| 45/45 [00:17<00:00,  2.52it/s]\n",
            "                 Class     Images  Instances      Box(P          R      mAP50  mAP50-95): 100%|██████████| 3/3 [00:01<00:00,  2.52it/s]"
          ]
        },
        {
          "output_type": "stream",
          "name": "stdout",
          "text": [
            "                   all         90         90      0.991          1      0.995      0.795\n"
          ]
        },
        {
          "output_type": "stream",
          "name": "stderr",
          "text": [
            "\n"
          ]
        },
        {
          "output_type": "stream",
          "name": "stdout",
          "text": [
            "\n",
            "      Epoch    GPU_mem   box_loss   cls_loss   dfl_loss  Instances       Size\n"
          ]
        },
        {
          "output_type": "stream",
          "name": "stderr",
          "text": [
            "     61/150      2.14G     0.8147     0.4498     0.9217         24        640: 100%|██████████| 45/45 [00:17<00:00,  2.57it/s]\n",
            "                 Class     Images  Instances      Box(P          R      mAP50  mAP50-95): 100%|██████████| 3/3 [00:01<00:00,  2.61it/s]"
          ]
        },
        {
          "output_type": "stream",
          "name": "stdout",
          "text": [
            "                   all         90         90      0.999          1      0.995      0.794\n"
          ]
        },
        {
          "output_type": "stream",
          "name": "stderr",
          "text": [
            "\n"
          ]
        },
        {
          "output_type": "stream",
          "name": "stdout",
          "text": [
            "\n",
            "      Epoch    GPU_mem   box_loss   cls_loss   dfl_loss  Instances       Size\n"
          ]
        },
        {
          "output_type": "stream",
          "name": "stderr",
          "text": [
            "     62/150      2.13G     0.8199     0.4565     0.9296         29        640: 100%|██████████| 45/45 [00:17<00:00,  2.58it/s]\n",
            "                 Class     Images  Instances      Box(P          R      mAP50  mAP50-95): 100%|██████████| 3/3 [00:00<00:00,  3.34it/s]"
          ]
        },
        {
          "output_type": "stream",
          "name": "stdout",
          "text": [
            "                   all         90         90      0.998          1      0.995      0.783\n"
          ]
        },
        {
          "output_type": "stream",
          "name": "stderr",
          "text": [
            "\n"
          ]
        },
        {
          "output_type": "stream",
          "name": "stdout",
          "text": [
            "\n",
            "      Epoch    GPU_mem   box_loss   cls_loss   dfl_loss  Instances       Size\n"
          ]
        },
        {
          "output_type": "stream",
          "name": "stderr",
          "text": [
            "     63/150      2.13G     0.8053     0.4522     0.9148         31        640: 100%|██████████| 45/45 [00:17<00:00,  2.54it/s]\n",
            "                 Class     Images  Instances      Box(P          R      mAP50  mAP50-95): 100%|██████████| 3/3 [00:00<00:00,  3.15it/s]"
          ]
        },
        {
          "output_type": "stream",
          "name": "stdout",
          "text": [
            "                   all         90         90      0.994          1      0.995      0.776\n"
          ]
        },
        {
          "output_type": "stream",
          "name": "stderr",
          "text": [
            "\n"
          ]
        },
        {
          "output_type": "stream",
          "name": "stdout",
          "text": [
            "\n",
            "      Epoch    GPU_mem   box_loss   cls_loss   dfl_loss  Instances       Size\n"
          ]
        },
        {
          "output_type": "stream",
          "name": "stderr",
          "text": [
            "     64/150      2.13G     0.8206     0.4496     0.9249         28        640: 100%|██████████| 45/45 [00:19<00:00,  2.29it/s]\n",
            "                 Class     Images  Instances      Box(P          R      mAP50  mAP50-95): 100%|██████████| 3/3 [00:01<00:00,  2.40it/s]"
          ]
        },
        {
          "output_type": "stream",
          "name": "stdout",
          "text": [
            "                   all         90         90      0.995          1      0.995      0.792\n"
          ]
        },
        {
          "output_type": "stream",
          "name": "stderr",
          "text": [
            "\n"
          ]
        },
        {
          "output_type": "stream",
          "name": "stdout",
          "text": [
            "\n",
            "      Epoch    GPU_mem   box_loss   cls_loss   dfl_loss  Instances       Size\n"
          ]
        },
        {
          "output_type": "stream",
          "name": "stderr",
          "text": [
            "     65/150      2.14G     0.8031     0.4454     0.9182         27        640: 100%|██████████| 45/45 [00:17<00:00,  2.64it/s]\n",
            "                 Class     Images  Instances      Box(P          R      mAP50  mAP50-95): 100%|██████████| 3/3 [00:01<00:00,  2.63it/s]"
          ]
        },
        {
          "output_type": "stream",
          "name": "stdout",
          "text": [
            "                   all         90         90      0.995          1      0.995      0.774\n"
          ]
        },
        {
          "output_type": "stream",
          "name": "stderr",
          "text": [
            "\n"
          ]
        },
        {
          "output_type": "stream",
          "name": "stdout",
          "text": [
            "\n",
            "      Epoch    GPU_mem   box_loss   cls_loss   dfl_loss  Instances       Size\n"
          ]
        },
        {
          "output_type": "stream",
          "name": "stderr",
          "text": [
            "     66/150      2.13G     0.7855     0.4513       0.91         21        640: 100%|██████████| 45/45 [00:16<00:00,  2.70it/s]\n",
            "                 Class     Images  Instances      Box(P          R      mAP50  mAP50-95): 100%|██████████| 3/3 [00:01<00:00,  1.84it/s]"
          ]
        },
        {
          "output_type": "stream",
          "name": "stdout",
          "text": [
            "                   all         90         90      0.988          1      0.995      0.807\n"
          ]
        },
        {
          "output_type": "stream",
          "name": "stderr",
          "text": [
            "\n"
          ]
        },
        {
          "output_type": "stream",
          "name": "stdout",
          "text": [
            "\n",
            "      Epoch    GPU_mem   box_loss   cls_loss   dfl_loss  Instances       Size\n"
          ]
        },
        {
          "output_type": "stream",
          "name": "stderr",
          "text": [
            "     67/150      2.13G     0.8236     0.4558     0.9177         31        640: 100%|██████████| 45/45 [00:23<00:00,  1.92it/s]\n",
            "                 Class     Images  Instances      Box(P          R      mAP50  mAP50-95): 100%|██████████| 3/3 [00:01<00:00,  2.02it/s]"
          ]
        },
        {
          "output_type": "stream",
          "name": "stdout",
          "text": [
            "                   all         90         90       0.99      0.989      0.995       0.79\n"
          ]
        },
        {
          "output_type": "stream",
          "name": "stderr",
          "text": [
            "\n"
          ]
        },
        {
          "output_type": "stream",
          "name": "stdout",
          "text": [
            "\n",
            "      Epoch    GPU_mem   box_loss   cls_loss   dfl_loss  Instances       Size\n"
          ]
        },
        {
          "output_type": "stream",
          "name": "stderr",
          "text": [
            "     68/150      2.14G     0.8138     0.4542      0.916         36        640: 100%|██████████| 45/45 [00:17<00:00,  2.56it/s]\n",
            "                 Class     Images  Instances      Box(P          R      mAP50  mAP50-95): 100%|██████████| 3/3 [00:01<00:00,  2.71it/s]"
          ]
        },
        {
          "output_type": "stream",
          "name": "stdout",
          "text": [
            "                   all         90         90      0.988          1      0.994      0.817\n"
          ]
        },
        {
          "output_type": "stream",
          "name": "stderr",
          "text": [
            "\n"
          ]
        },
        {
          "output_type": "stream",
          "name": "stdout",
          "text": [
            "\n",
            "      Epoch    GPU_mem   box_loss   cls_loss   dfl_loss  Instances       Size\n"
          ]
        },
        {
          "output_type": "stream",
          "name": "stderr",
          "text": [
            "     69/150      2.14G      0.809     0.4484     0.9172         22        640: 100%|██████████| 45/45 [00:17<00:00,  2.53it/s]\n",
            "                 Class     Images  Instances      Box(P          R      mAP50  mAP50-95): 100%|██████████| 3/3 [00:01<00:00,  2.86it/s]"
          ]
        },
        {
          "output_type": "stream",
          "name": "stdout",
          "text": [
            "                   all         90         90      0.999          1      0.995      0.768\n"
          ]
        },
        {
          "output_type": "stream",
          "name": "stderr",
          "text": [
            "\n"
          ]
        },
        {
          "output_type": "stream",
          "name": "stdout",
          "text": [
            "\n",
            "      Epoch    GPU_mem   box_loss   cls_loss   dfl_loss  Instances       Size\n"
          ]
        },
        {
          "output_type": "stream",
          "name": "stderr",
          "text": [
            "     70/150      2.13G     0.7961     0.4464     0.9075         27        640: 100%|██████████| 45/45 [00:17<00:00,  2.55it/s]\n",
            "                 Class     Images  Instances      Box(P          R      mAP50  mAP50-95): 100%|██████████| 3/3 [00:00<00:00,  3.17it/s]"
          ]
        },
        {
          "output_type": "stream",
          "name": "stdout",
          "text": [
            "                   all         90         90      0.993          1      0.995      0.796\n"
          ]
        },
        {
          "output_type": "stream",
          "name": "stderr",
          "text": [
            "\n"
          ]
        },
        {
          "output_type": "stream",
          "name": "stdout",
          "text": [
            "\n",
            "      Epoch    GPU_mem   box_loss   cls_loss   dfl_loss  Instances       Size\n"
          ]
        },
        {
          "output_type": "stream",
          "name": "stderr",
          "text": [
            "     71/150      2.13G     0.7788     0.4368     0.9037         25        640: 100%|██████████| 45/45 [00:17<00:00,  2.64it/s]\n",
            "                 Class     Images  Instances      Box(P          R      mAP50  mAP50-95): 100%|██████████| 3/3 [00:01<00:00,  2.63it/s]"
          ]
        },
        {
          "output_type": "stream",
          "name": "stdout",
          "text": [
            "                   all         90         90      0.999          1      0.995      0.802\n"
          ]
        },
        {
          "output_type": "stream",
          "name": "stderr",
          "text": [
            "\n"
          ]
        },
        {
          "output_type": "stream",
          "name": "stdout",
          "text": [
            "\n",
            "      Epoch    GPU_mem   box_loss   cls_loss   dfl_loss  Instances       Size\n"
          ]
        },
        {
          "output_type": "stream",
          "name": "stderr",
          "text": [
            "     72/150      2.13G     0.7804     0.4324     0.9076         35        640: 100%|██████████| 45/45 [00:18<00:00,  2.47it/s]\n",
            "                 Class     Images  Instances      Box(P          R      mAP50  mAP50-95): 100%|██████████| 3/3 [00:01<00:00,  2.45it/s]"
          ]
        },
        {
          "output_type": "stream",
          "name": "stdout",
          "text": [
            "                   all         90         90      0.989          1      0.995      0.806\n"
          ]
        },
        {
          "output_type": "stream",
          "name": "stderr",
          "text": [
            "\n"
          ]
        },
        {
          "output_type": "stream",
          "name": "stdout",
          "text": [
            "\n",
            "      Epoch    GPU_mem   box_loss   cls_loss   dfl_loss  Instances       Size\n"
          ]
        },
        {
          "output_type": "stream",
          "name": "stderr",
          "text": [
            "     73/150      2.14G     0.8002     0.4409     0.9199         31        640: 100%|██████████| 45/45 [00:17<00:00,  2.60it/s]\n",
            "                 Class     Images  Instances      Box(P          R      mAP50  mAP50-95): 100%|██████████| 3/3 [00:01<00:00,  2.67it/s]"
          ]
        },
        {
          "output_type": "stream",
          "name": "stdout",
          "text": [
            "                   all         90         90      0.995          1      0.995      0.756\n"
          ]
        },
        {
          "output_type": "stream",
          "name": "stderr",
          "text": [
            "\n"
          ]
        },
        {
          "output_type": "stream",
          "name": "stdout",
          "text": [
            "\n",
            "      Epoch    GPU_mem   box_loss   cls_loss   dfl_loss  Instances       Size\n"
          ]
        },
        {
          "output_type": "stream",
          "name": "stderr",
          "text": [
            "     74/150      2.13G     0.8018     0.4361     0.9271         30        640: 100%|██████████| 45/45 [00:16<00:00,  2.65it/s]\n",
            "                 Class     Images  Instances      Box(P          R      mAP50  mAP50-95): 100%|██████████| 3/3 [00:01<00:00,  2.93it/s]"
          ]
        },
        {
          "output_type": "stream",
          "name": "stdout",
          "text": [
            "                   all         90         90      0.999          1      0.995      0.798\n"
          ]
        },
        {
          "output_type": "stream",
          "name": "stderr",
          "text": [
            "\n"
          ]
        },
        {
          "output_type": "stream",
          "name": "stdout",
          "text": [
            "\n",
            "      Epoch    GPU_mem   box_loss   cls_loss   dfl_loss  Instances       Size\n"
          ]
        },
        {
          "output_type": "stream",
          "name": "stderr",
          "text": [
            "     75/150      2.13G     0.7716     0.4189     0.9082         28        640: 100%|██████████| 45/45 [00:17<00:00,  2.55it/s]\n",
            "                 Class     Images  Instances      Box(P          R      mAP50  mAP50-95): 100%|██████████| 3/3 [00:01<00:00,  2.46it/s]"
          ]
        },
        {
          "output_type": "stream",
          "name": "stdout",
          "text": [
            "                   all         90         90      0.997          1      0.995      0.785\n"
          ]
        },
        {
          "output_type": "stream",
          "name": "stderr",
          "text": [
            "\n"
          ]
        },
        {
          "output_type": "stream",
          "name": "stdout",
          "text": [
            "\n",
            "      Epoch    GPU_mem   box_loss   cls_loss   dfl_loss  Instances       Size\n"
          ]
        },
        {
          "output_type": "stream",
          "name": "stderr",
          "text": [
            "     76/150      2.13G     0.7669     0.4234     0.9051         27        640: 100%|██████████| 45/45 [00:17<00:00,  2.63it/s]\n",
            "                 Class     Images  Instances      Box(P          R      mAP50  mAP50-95): 100%|██████████| 3/3 [00:01<00:00,  2.69it/s]"
          ]
        },
        {
          "output_type": "stream",
          "name": "stdout",
          "text": [
            "                   all         90         90      0.974          1      0.994      0.775\n"
          ]
        },
        {
          "output_type": "stream",
          "name": "stderr",
          "text": [
            "\n"
          ]
        },
        {
          "output_type": "stream",
          "name": "stdout",
          "text": [
            "\n",
            "      Epoch    GPU_mem   box_loss   cls_loss   dfl_loss  Instances       Size\n"
          ]
        },
        {
          "output_type": "stream",
          "name": "stderr",
          "text": [
            "     77/150      2.14G     0.7764     0.4212      0.911         26        640: 100%|██████████| 45/45 [00:16<00:00,  2.69it/s]\n",
            "                 Class     Images  Instances      Box(P          R      mAP50  mAP50-95): 100%|██████████| 3/3 [00:01<00:00,  1.97it/s]"
          ]
        },
        {
          "output_type": "stream",
          "name": "stdout",
          "text": [
            "                   all         90         90      0.997          1      0.995        0.8\n"
          ]
        },
        {
          "output_type": "stream",
          "name": "stderr",
          "text": [
            "\n"
          ]
        },
        {
          "output_type": "stream",
          "name": "stdout",
          "text": [
            "\n",
            "      Epoch    GPU_mem   box_loss   cls_loss   dfl_loss  Instances       Size\n"
          ]
        },
        {
          "output_type": "stream",
          "name": "stderr",
          "text": [
            "     78/150      2.13G     0.7555     0.4202     0.9016         34        640: 100%|██████████| 45/45 [00:16<00:00,  2.65it/s]\n",
            "                 Class     Images  Instances      Box(P          R      mAP50  mAP50-95): 100%|██████████| 3/3 [00:01<00:00,  1.78it/s]"
          ]
        },
        {
          "output_type": "stream",
          "name": "stdout",
          "text": [
            "                   all         90         90      0.998          1      0.995      0.796\n"
          ]
        },
        {
          "output_type": "stream",
          "name": "stderr",
          "text": [
            "\n"
          ]
        },
        {
          "output_type": "stream",
          "name": "stdout",
          "text": [
            "\n",
            "      Epoch    GPU_mem   box_loss   cls_loss   dfl_loss  Instances       Size\n"
          ]
        },
        {
          "output_type": "stream",
          "name": "stderr",
          "text": [
            "     79/150      2.13G     0.7585     0.4143     0.9051         27        640: 100%|██████████| 45/45 [00:16<00:00,  2.71it/s]\n",
            "                 Class     Images  Instances      Box(P          R      mAP50  mAP50-95): 100%|██████████| 3/3 [00:01<00:00,  1.75it/s]"
          ]
        },
        {
          "output_type": "stream",
          "name": "stdout",
          "text": [
            "                   all         90         90      0.999          1      0.995      0.773\n"
          ]
        },
        {
          "output_type": "stream",
          "name": "stderr",
          "text": [
            "\n"
          ]
        },
        {
          "output_type": "stream",
          "name": "stdout",
          "text": [
            "\n",
            "      Epoch    GPU_mem   box_loss   cls_loss   dfl_loss  Instances       Size\n"
          ]
        },
        {
          "output_type": "stream",
          "name": "stderr",
          "text": [
            "     80/150      2.13G     0.7819     0.4311     0.9095         37        640: 100%|██████████| 45/45 [00:16<00:00,  2.72it/s]\n",
            "                 Class     Images  Instances      Box(P          R      mAP50  mAP50-95): 100%|██████████| 3/3 [00:02<00:00,  1.41it/s]"
          ]
        },
        {
          "output_type": "stream",
          "name": "stdout",
          "text": [
            "                   all         90         90      0.998          1      0.995      0.812\n"
          ]
        },
        {
          "output_type": "stream",
          "name": "stderr",
          "text": [
            "\n"
          ]
        },
        {
          "output_type": "stream",
          "name": "stdout",
          "text": [
            "\n",
            "      Epoch    GPU_mem   box_loss   cls_loss   dfl_loss  Instances       Size\n"
          ]
        },
        {
          "output_type": "stream",
          "name": "stderr",
          "text": [
            "     81/150      2.14G     0.7635     0.4212     0.9047         30        640: 100%|██████████| 45/45 [00:16<00:00,  2.69it/s]\n",
            "                 Class     Images  Instances      Box(P          R      mAP50  mAP50-95): 100%|██████████| 3/3 [00:02<00:00,  1.41it/s]"
          ]
        },
        {
          "output_type": "stream",
          "name": "stdout",
          "text": [
            "                   all         90         90      0.999          1      0.995      0.789\n"
          ]
        },
        {
          "output_type": "stream",
          "name": "stderr",
          "text": [
            "\n"
          ]
        },
        {
          "output_type": "stream",
          "name": "stdout",
          "text": [
            "\n",
            "      Epoch    GPU_mem   box_loss   cls_loss   dfl_loss  Instances       Size\n"
          ]
        },
        {
          "output_type": "stream",
          "name": "stderr",
          "text": [
            "     82/150      2.13G      0.728     0.4049     0.8949         25        640: 100%|██████████| 45/45 [00:16<00:00,  2.69it/s]\n",
            "                 Class     Images  Instances      Box(P          R      mAP50  mAP50-95): 100%|██████████| 3/3 [00:02<00:00,  1.45it/s]"
          ]
        },
        {
          "output_type": "stream",
          "name": "stdout",
          "text": [
            "                   all         90         90      0.999          1      0.995      0.804\n"
          ]
        },
        {
          "output_type": "stream",
          "name": "stderr",
          "text": [
            "\n"
          ]
        },
        {
          "output_type": "stream",
          "name": "stdout",
          "text": [
            "\n",
            "      Epoch    GPU_mem   box_loss   cls_loss   dfl_loss  Instances       Size\n"
          ]
        },
        {
          "output_type": "stream",
          "name": "stderr",
          "text": [
            "     83/150      2.13G     0.7558     0.4145     0.9046         35        640: 100%|██████████| 45/45 [00:17<00:00,  2.62it/s]\n",
            "                 Class     Images  Instances      Box(P          R      mAP50  mAP50-95): 100%|██████████| 3/3 [00:01<00:00,  2.03it/s]"
          ]
        },
        {
          "output_type": "stream",
          "name": "stdout",
          "text": [
            "                   all         90         90      0.999          1      0.995      0.799\n"
          ]
        },
        {
          "output_type": "stream",
          "name": "stderr",
          "text": [
            "\n"
          ]
        },
        {
          "output_type": "stream",
          "name": "stdout",
          "text": [
            "\n",
            "      Epoch    GPU_mem   box_loss   cls_loss   dfl_loss  Instances       Size\n"
          ]
        },
        {
          "output_type": "stream",
          "name": "stderr",
          "text": [
            "     84/150      2.13G      0.744     0.4203     0.9066         29        640: 100%|██████████| 45/45 [00:17<00:00,  2.57it/s]\n",
            "                 Class     Images  Instances      Box(P          R      mAP50  mAP50-95): 100%|██████████| 3/3 [00:01<00:00,  2.40it/s]"
          ]
        },
        {
          "output_type": "stream",
          "name": "stdout",
          "text": [
            "                   all         90         90      0.999          1      0.995      0.787\n"
          ]
        },
        {
          "output_type": "stream",
          "name": "stderr",
          "text": [
            "\n"
          ]
        },
        {
          "output_type": "stream",
          "name": "stdout",
          "text": [
            "\n",
            "      Epoch    GPU_mem   box_loss   cls_loss   dfl_loss  Instances       Size\n"
          ]
        },
        {
          "output_type": "stream",
          "name": "stderr",
          "text": [
            "     85/150      2.14G     0.7384     0.4036     0.9068         35        640: 100%|██████████| 45/45 [00:17<00:00,  2.55it/s]\n",
            "                 Class     Images  Instances      Box(P          R      mAP50  mAP50-95): 100%|██████████| 3/3 [00:01<00:00,  2.77it/s]"
          ]
        },
        {
          "output_type": "stream",
          "name": "stdout",
          "text": [
            "                   all         90         90      0.998          1      0.995      0.796\n"
          ]
        },
        {
          "output_type": "stream",
          "name": "stderr",
          "text": [
            "\n"
          ]
        },
        {
          "output_type": "stream",
          "name": "stdout",
          "text": [
            "\n",
            "      Epoch    GPU_mem   box_loss   cls_loss   dfl_loss  Instances       Size\n"
          ]
        },
        {
          "output_type": "stream",
          "name": "stderr",
          "text": [
            "     86/150      2.13G     0.7508     0.4085     0.9018         38        640: 100%|██████████| 45/45 [00:17<00:00,  2.60it/s]\n",
            "                 Class     Images  Instances      Box(P          R      mAP50  mAP50-95): 100%|██████████| 3/3 [00:01<00:00,  2.54it/s]"
          ]
        },
        {
          "output_type": "stream",
          "name": "stdout",
          "text": [
            "                   all         90         90      0.998          1      0.995      0.786\n"
          ]
        },
        {
          "output_type": "stream",
          "name": "stderr",
          "text": [
            "\n"
          ]
        },
        {
          "output_type": "stream",
          "name": "stdout",
          "text": [
            "\n",
            "      Epoch    GPU_mem   box_loss   cls_loss   dfl_loss  Instances       Size\n"
          ]
        },
        {
          "output_type": "stream",
          "name": "stderr",
          "text": [
            "     87/150      2.13G     0.7527     0.4125     0.9106         38        640: 100%|██████████| 45/45 [00:17<00:00,  2.63it/s]\n",
            "                 Class     Images  Instances      Box(P          R      mAP50  mAP50-95): 100%|██████████| 3/3 [00:00<00:00,  3.07it/s]"
          ]
        },
        {
          "output_type": "stream",
          "name": "stdout",
          "text": [
            "                   all         90         90      0.998          1      0.995      0.801\n"
          ]
        },
        {
          "output_type": "stream",
          "name": "stderr",
          "text": [
            "\n"
          ]
        },
        {
          "output_type": "stream",
          "name": "stdout",
          "text": [
            "\n",
            "      Epoch    GPU_mem   box_loss   cls_loss   dfl_loss  Instances       Size\n"
          ]
        },
        {
          "output_type": "stream",
          "name": "stderr",
          "text": [
            "     88/150      2.13G      0.767     0.4201     0.9069         27        640: 100%|██████████| 45/45 [00:17<00:00,  2.52it/s]\n",
            "                 Class     Images  Instances      Box(P          R      mAP50  mAP50-95): 100%|██████████| 3/3 [00:01<00:00,  2.57it/s]"
          ]
        },
        {
          "output_type": "stream",
          "name": "stdout",
          "text": [
            "                   all         90         90      0.996          1      0.995        0.8\n"
          ]
        },
        {
          "output_type": "stream",
          "name": "stderr",
          "text": [
            "\n"
          ]
        },
        {
          "output_type": "stream",
          "name": "stdout",
          "text": [
            "\n",
            "      Epoch    GPU_mem   box_loss   cls_loss   dfl_loss  Instances       Size\n"
          ]
        },
        {
          "output_type": "stream",
          "name": "stderr",
          "text": [
            "     89/150      2.14G     0.7351     0.4067     0.8917         34        640: 100%|██████████| 45/45 [00:17<00:00,  2.61it/s]\n",
            "                 Class     Images  Instances      Box(P          R      mAP50  mAP50-95): 100%|██████████| 3/3 [00:00<00:00,  3.06it/s]"
          ]
        },
        {
          "output_type": "stream",
          "name": "stdout",
          "text": [
            "                   all         90         90      0.993          1      0.995      0.782\n"
          ]
        },
        {
          "output_type": "stream",
          "name": "stderr",
          "text": [
            "\n"
          ]
        },
        {
          "output_type": "stream",
          "name": "stdout",
          "text": [
            "\n",
            "      Epoch    GPU_mem   box_loss   cls_loss   dfl_loss  Instances       Size\n"
          ]
        },
        {
          "output_type": "stream",
          "name": "stderr",
          "text": [
            "     90/150      2.13G     0.7343      0.406     0.8881         31        640: 100%|██████████| 45/45 [00:17<00:00,  2.57it/s]\n",
            "                 Class     Images  Instances      Box(P          R      mAP50  mAP50-95): 100%|██████████| 3/3 [00:00<00:00,  3.34it/s]"
          ]
        },
        {
          "output_type": "stream",
          "name": "stdout",
          "text": [
            "                   all         90         90      0.998          1      0.995       0.81\n"
          ]
        },
        {
          "output_type": "stream",
          "name": "stderr",
          "text": [
            "\n"
          ]
        },
        {
          "output_type": "stream",
          "name": "stdout",
          "text": [
            "\n",
            "      Epoch    GPU_mem   box_loss   cls_loss   dfl_loss  Instances       Size\n"
          ]
        },
        {
          "output_type": "stream",
          "name": "stderr",
          "text": [
            "     91/150      2.13G     0.7123     0.3952     0.8923         26        640: 100%|██████████| 45/45 [00:17<00:00,  2.58it/s]\n",
            "                 Class     Images  Instances      Box(P          R      mAP50  mAP50-95): 100%|██████████| 3/3 [00:01<00:00,  2.59it/s]"
          ]
        },
        {
          "output_type": "stream",
          "name": "stdout",
          "text": [
            "                   all         90         90      0.988          1      0.995      0.802\n"
          ]
        },
        {
          "output_type": "stream",
          "name": "stderr",
          "text": [
            "\n"
          ]
        },
        {
          "output_type": "stream",
          "name": "stdout",
          "text": [
            "\n",
            "      Epoch    GPU_mem   box_loss   cls_loss   dfl_loss  Instances       Size\n"
          ]
        },
        {
          "output_type": "stream",
          "name": "stderr",
          "text": [
            "     92/150      2.13G     0.7511     0.4016     0.9077         27        640: 100%|██████████| 45/45 [00:17<00:00,  2.55it/s]\n",
            "                 Class     Images  Instances      Box(P          R      mAP50  mAP50-95): 100%|██████████| 3/3 [00:01<00:00,  2.62it/s]"
          ]
        },
        {
          "output_type": "stream",
          "name": "stdout",
          "text": [
            "                   all         90         90      0.998          1      0.995      0.768\n"
          ]
        },
        {
          "output_type": "stream",
          "name": "stderr",
          "text": [
            "\n"
          ]
        },
        {
          "output_type": "stream",
          "name": "stdout",
          "text": [
            "\n",
            "      Epoch    GPU_mem   box_loss   cls_loss   dfl_loss  Instances       Size\n"
          ]
        },
        {
          "output_type": "stream",
          "name": "stderr",
          "text": [
            "     93/150      2.14G     0.7428     0.4043     0.9019         30        640: 100%|██████████| 45/45 [00:18<00:00,  2.47it/s]\n",
            "                 Class     Images  Instances      Box(P          R      mAP50  mAP50-95): 100%|██████████| 3/3 [00:01<00:00,  2.51it/s]"
          ]
        },
        {
          "output_type": "stream",
          "name": "stdout",
          "text": [
            "                   all         90         90      0.998          1      0.995      0.809\n"
          ]
        },
        {
          "output_type": "stream",
          "name": "stderr",
          "text": [
            "\n"
          ]
        },
        {
          "output_type": "stream",
          "name": "stdout",
          "text": [
            "\n",
            "      Epoch    GPU_mem   box_loss   cls_loss   dfl_loss  Instances       Size\n"
          ]
        },
        {
          "output_type": "stream",
          "name": "stderr",
          "text": [
            "     94/150      2.13G     0.7271     0.4064     0.8917         26        640: 100%|██████████| 45/45 [00:17<00:00,  2.59it/s]\n",
            "                 Class     Images  Instances      Box(P          R      mAP50  mAP50-95): 100%|██████████| 3/3 [00:01<00:00,  2.48it/s]"
          ]
        },
        {
          "output_type": "stream",
          "name": "stdout",
          "text": [
            "                   all         90         90      0.998          1      0.995      0.786\n"
          ]
        },
        {
          "output_type": "stream",
          "name": "stderr",
          "text": [
            "\n"
          ]
        },
        {
          "output_type": "stream",
          "name": "stdout",
          "text": [
            "\n",
            "      Epoch    GPU_mem   box_loss   cls_loss   dfl_loss  Instances       Size\n"
          ]
        },
        {
          "output_type": "stream",
          "name": "stderr",
          "text": [
            "     95/150      2.13G     0.7252      0.392     0.8969         27        640: 100%|██████████| 45/45 [00:17<00:00,  2.63it/s]\n",
            "                 Class     Images  Instances      Box(P          R      mAP50  mAP50-95): 100%|██████████| 3/3 [00:01<00:00,  2.97it/s]"
          ]
        },
        {
          "output_type": "stream",
          "name": "stdout",
          "text": [
            "                   all         90         90      0.997          1      0.995      0.766\n"
          ]
        },
        {
          "output_type": "stream",
          "name": "stderr",
          "text": [
            "\n"
          ]
        },
        {
          "output_type": "stream",
          "name": "stdout",
          "text": [
            "\n",
            "      Epoch    GPU_mem   box_loss   cls_loss   dfl_loss  Instances       Size\n"
          ]
        },
        {
          "output_type": "stream",
          "name": "stderr",
          "text": [
            "     96/150      2.13G     0.7264     0.4021     0.8936         31        640: 100%|██████████| 45/45 [00:16<00:00,  2.67it/s]\n",
            "                 Class     Images  Instances      Box(P          R      mAP50  mAP50-95): 100%|██████████| 3/3 [00:01<00:00,  2.29it/s]"
          ]
        },
        {
          "output_type": "stream",
          "name": "stdout",
          "text": [
            "                   all         90         90      0.999          1      0.995      0.795\n"
          ]
        },
        {
          "output_type": "stream",
          "name": "stderr",
          "text": [
            "\n"
          ]
        },
        {
          "output_type": "stream",
          "name": "stdout",
          "text": [
            "\n",
            "      Epoch    GPU_mem   box_loss   cls_loss   dfl_loss  Instances       Size\n"
          ]
        },
        {
          "output_type": "stream",
          "name": "stderr",
          "text": [
            "     97/150      2.14G     0.7099     0.3933      0.896         27        640: 100%|██████████| 45/45 [00:16<00:00,  2.68it/s]\n",
            "                 Class     Images  Instances      Box(P          R      mAP50  mAP50-95): 100%|██████████| 3/3 [00:01<00:00,  2.42it/s]"
          ]
        },
        {
          "output_type": "stream",
          "name": "stdout",
          "text": [
            "                   all         90         90      0.989          1      0.995      0.805\n"
          ]
        },
        {
          "output_type": "stream",
          "name": "stderr",
          "text": [
            "\n"
          ]
        },
        {
          "output_type": "stream",
          "name": "stdout",
          "text": [
            "\n",
            "      Epoch    GPU_mem   box_loss   cls_loss   dfl_loss  Instances       Size\n"
          ]
        },
        {
          "output_type": "stream",
          "name": "stderr",
          "text": [
            "     98/150      2.13G     0.7213     0.3955     0.8953         26        640: 100%|██████████| 45/45 [00:16<00:00,  2.70it/s]\n",
            "                 Class     Images  Instances      Box(P          R      mAP50  mAP50-95): 100%|██████████| 3/3 [00:02<00:00,  1.49it/s]"
          ]
        },
        {
          "output_type": "stream",
          "name": "stdout",
          "text": [
            "                   all         90         90      0.995          1      0.995      0.796\n"
          ]
        },
        {
          "output_type": "stream",
          "name": "stderr",
          "text": [
            "\n"
          ]
        },
        {
          "output_type": "stream",
          "name": "stdout",
          "text": [
            "\n",
            "      Epoch    GPU_mem   box_loss   cls_loss   dfl_loss  Instances       Size\n"
          ]
        },
        {
          "output_type": "stream",
          "name": "stderr",
          "text": [
            "     99/150      2.13G     0.7246     0.4014      0.899         32        640: 100%|██████████| 45/45 [00:16<00:00,  2.68it/s]\n",
            "                 Class     Images  Instances      Box(P          R      mAP50  mAP50-95): 100%|██████████| 3/3 [00:01<00:00,  1.97it/s]"
          ]
        },
        {
          "output_type": "stream",
          "name": "stdout",
          "text": [
            "                   all         90         90      0.995          1      0.995      0.791\n"
          ]
        },
        {
          "output_type": "stream",
          "name": "stderr",
          "text": [
            "\n"
          ]
        },
        {
          "output_type": "stream",
          "name": "stdout",
          "text": [
            "\n",
            "      Epoch    GPU_mem   box_loss   cls_loss   dfl_loss  Instances       Size\n"
          ]
        },
        {
          "output_type": "stream",
          "name": "stderr",
          "text": [
            "    100/150      2.13G      0.691     0.3868     0.8832         26        640: 100%|██████████| 45/45 [00:16<00:00,  2.68it/s]\n",
            "                 Class     Images  Instances      Box(P          R      mAP50  mAP50-95): 100%|██████████| 3/3 [00:01<00:00,  1.68it/s]"
          ]
        },
        {
          "output_type": "stream",
          "name": "stdout",
          "text": [
            "                   all         90         90      0.989          1      0.995      0.808\n"
          ]
        },
        {
          "output_type": "stream",
          "name": "stderr",
          "text": [
            "\n"
          ]
        },
        {
          "output_type": "stream",
          "name": "stdout",
          "text": [
            "\n",
            "      Epoch    GPU_mem   box_loss   cls_loss   dfl_loss  Instances       Size\n"
          ]
        },
        {
          "output_type": "stream",
          "name": "stderr",
          "text": [
            "    101/150      2.14G     0.6943     0.3848      0.885         36        640: 100%|██████████| 45/45 [00:16<00:00,  2.78it/s]\n",
            "                 Class     Images  Instances      Box(P          R      mAP50  mAP50-95): 100%|██████████| 3/3 [00:02<00:00,  1.40it/s]"
          ]
        },
        {
          "output_type": "stream",
          "name": "stdout",
          "text": [
            "                   all         90         90      0.996          1      0.995      0.823\n"
          ]
        },
        {
          "output_type": "stream",
          "name": "stderr",
          "text": [
            "\n"
          ]
        },
        {
          "output_type": "stream",
          "name": "stdout",
          "text": [
            "\n",
            "      Epoch    GPU_mem   box_loss   cls_loss   dfl_loss  Instances       Size\n"
          ]
        },
        {
          "output_type": "stream",
          "name": "stderr",
          "text": [
            "    102/150      2.13G     0.6781     0.3836     0.8813         31        640: 100%|██████████| 45/45 [00:16<00:00,  2.66it/s]\n",
            "                 Class     Images  Instances      Box(P          R      mAP50  mAP50-95): 100%|██████████| 3/3 [00:01<00:00,  1.62it/s]"
          ]
        },
        {
          "output_type": "stream",
          "name": "stdout",
          "text": [
            "                   all         90         90      0.988          1      0.995      0.793\n"
          ]
        },
        {
          "output_type": "stream",
          "name": "stderr",
          "text": [
            "\n"
          ]
        },
        {
          "output_type": "stream",
          "name": "stdout",
          "text": [
            "\n",
            "      Epoch    GPU_mem   box_loss   cls_loss   dfl_loss  Instances       Size\n"
          ]
        },
        {
          "output_type": "stream",
          "name": "stderr",
          "text": [
            "    103/150      2.13G     0.6943     0.3838     0.8921         27        640: 100%|██████████| 45/45 [00:17<00:00,  2.56it/s]\n",
            "                 Class     Images  Instances      Box(P          R      mAP50  mAP50-95): 100%|██████████| 3/3 [00:01<00:00,  2.85it/s]"
          ]
        },
        {
          "output_type": "stream",
          "name": "stdout",
          "text": [
            "                   all         90         90      0.999          1      0.995      0.813\n"
          ]
        },
        {
          "output_type": "stream",
          "name": "stderr",
          "text": [
            "\n"
          ]
        },
        {
          "output_type": "stream",
          "name": "stdout",
          "text": [
            "\n",
            "      Epoch    GPU_mem   box_loss   cls_loss   dfl_loss  Instances       Size\n"
          ]
        },
        {
          "output_type": "stream",
          "name": "stderr",
          "text": [
            "    104/150      2.13G     0.6896     0.3866     0.8869         33        640: 100%|██████████| 45/45 [00:17<00:00,  2.54it/s]\n",
            "                 Class     Images  Instances      Box(P          R      mAP50  mAP50-95): 100%|██████████| 3/3 [00:00<00:00,  3.19it/s]"
          ]
        },
        {
          "output_type": "stream",
          "name": "stdout",
          "text": [
            "                   all         90         90      0.999          1      0.995      0.816\n"
          ]
        },
        {
          "output_type": "stream",
          "name": "stderr",
          "text": [
            "\n"
          ]
        },
        {
          "output_type": "stream",
          "name": "stdout",
          "text": [
            "\n",
            "      Epoch    GPU_mem   box_loss   cls_loss   dfl_loss  Instances       Size\n"
          ]
        },
        {
          "output_type": "stream",
          "name": "stderr",
          "text": [
            "    105/150      2.14G     0.6748      0.378     0.8793         38        640: 100%|██████████| 45/45 [00:17<00:00,  2.54it/s]\n",
            "                 Class     Images  Instances      Box(P          R      mAP50  mAP50-95): 100%|██████████| 3/3 [00:01<00:00,  2.76it/s]"
          ]
        },
        {
          "output_type": "stream",
          "name": "stdout",
          "text": [
            "                   all         90         90      0.999          1      0.995      0.783\n"
          ]
        },
        {
          "output_type": "stream",
          "name": "stderr",
          "text": [
            "\n"
          ]
        },
        {
          "output_type": "stream",
          "name": "stdout",
          "text": [
            "\n",
            "      Epoch    GPU_mem   box_loss   cls_loss   dfl_loss  Instances       Size\n"
          ]
        },
        {
          "output_type": "stream",
          "name": "stderr",
          "text": [
            "    106/150      2.13G     0.6896     0.3751     0.8872         31        640: 100%|██████████| 45/45 [00:18<00:00,  2.50it/s]\n",
            "                 Class     Images  Instances      Box(P          R      mAP50  mAP50-95): 100%|██████████| 3/3 [00:00<00:00,  3.20it/s]"
          ]
        },
        {
          "output_type": "stream",
          "name": "stdout",
          "text": [
            "                   all         90         90      0.998          1      0.995       0.81\n"
          ]
        },
        {
          "output_type": "stream",
          "name": "stderr",
          "text": [
            "\n"
          ]
        },
        {
          "output_type": "stream",
          "name": "stdout",
          "text": [
            "\n",
            "      Epoch    GPU_mem   box_loss   cls_loss   dfl_loss  Instances       Size\n"
          ]
        },
        {
          "output_type": "stream",
          "name": "stderr",
          "text": [
            "    107/150      2.13G     0.7085     0.3773     0.8882         26        640: 100%|██████████| 45/45 [00:17<00:00,  2.55it/s]\n",
            "                 Class     Images  Instances      Box(P          R      mAP50  mAP50-95): 100%|██████████| 3/3 [00:01<00:00,  2.90it/s]"
          ]
        },
        {
          "output_type": "stream",
          "name": "stdout",
          "text": [
            "                   all         90         90      0.999          1      0.995        0.8\n"
          ]
        },
        {
          "output_type": "stream",
          "name": "stderr",
          "text": [
            "\n"
          ]
        },
        {
          "output_type": "stream",
          "name": "stdout",
          "text": [
            "\n",
            "      Epoch    GPU_mem   box_loss   cls_loss   dfl_loss  Instances       Size\n"
          ]
        },
        {
          "output_type": "stream",
          "name": "stderr",
          "text": [
            "    108/150      2.13G     0.6817     0.3683     0.8952         27        640: 100%|██████████| 45/45 [00:17<00:00,  2.56it/s]\n",
            "                 Class     Images  Instances      Box(P          R      mAP50  mAP50-95): 100%|██████████| 3/3 [00:01<00:00,  2.23it/s]"
          ]
        },
        {
          "output_type": "stream",
          "name": "stdout",
          "text": [
            "                   all         90         90      0.999          1      0.995      0.822\n"
          ]
        },
        {
          "output_type": "stream",
          "name": "stderr",
          "text": [
            "\n"
          ]
        },
        {
          "output_type": "stream",
          "name": "stdout",
          "text": [
            "\n",
            "      Epoch    GPU_mem   box_loss   cls_loss   dfl_loss  Instances       Size\n"
          ]
        },
        {
          "output_type": "stream",
          "name": "stderr",
          "text": [
            "    109/150      2.14G      0.687      0.376     0.8906         25        640: 100%|██████████| 45/45 [00:17<00:00,  2.51it/s]\n",
            "                 Class     Images  Instances      Box(P          R      mAP50  mAP50-95): 100%|██████████| 3/3 [00:01<00:00,  2.63it/s]"
          ]
        },
        {
          "output_type": "stream",
          "name": "stdout",
          "text": [
            "                   all         90         90      0.997          1      0.995      0.802\n"
          ]
        },
        {
          "output_type": "stream",
          "name": "stderr",
          "text": [
            "\n"
          ]
        },
        {
          "output_type": "stream",
          "name": "stdout",
          "text": [
            "\n",
            "      Epoch    GPU_mem   box_loss   cls_loss   dfl_loss  Instances       Size\n"
          ]
        },
        {
          "output_type": "stream",
          "name": "stderr",
          "text": [
            "    110/150      2.13G     0.6956     0.3758     0.8911         34        640: 100%|██████████| 45/45 [00:17<00:00,  2.64it/s]\n",
            "                 Class     Images  Instances      Box(P          R      mAP50  mAP50-95): 100%|██████████| 3/3 [00:01<00:00,  2.80it/s]"
          ]
        },
        {
          "output_type": "stream",
          "name": "stdout",
          "text": [
            "                   all         90         90      0.999          1      0.995      0.801\n"
          ]
        },
        {
          "output_type": "stream",
          "name": "stderr",
          "text": [
            "\n"
          ]
        },
        {
          "output_type": "stream",
          "name": "stdout",
          "text": [
            "\n",
            "      Epoch    GPU_mem   box_loss   cls_loss   dfl_loss  Instances       Size\n"
          ]
        },
        {
          "output_type": "stream",
          "name": "stderr",
          "text": [
            "    111/150      2.13G      0.666      0.367     0.8796         32        640: 100%|██████████| 45/45 [00:17<00:00,  2.56it/s]\n",
            "                 Class     Images  Instances      Box(P          R      mAP50  mAP50-95): 100%|██████████| 3/3 [00:01<00:00,  2.76it/s]"
          ]
        },
        {
          "output_type": "stream",
          "name": "stdout",
          "text": [
            "                   all         90         90      0.999          1      0.995      0.792\n"
          ]
        },
        {
          "output_type": "stream",
          "name": "stderr",
          "text": [
            "\n"
          ]
        },
        {
          "output_type": "stream",
          "name": "stdout",
          "text": [
            "\n",
            "      Epoch    GPU_mem   box_loss   cls_loss   dfl_loss  Instances       Size\n"
          ]
        },
        {
          "output_type": "stream",
          "name": "stderr",
          "text": [
            "    112/150      2.13G     0.6715     0.3688     0.8828         32        640: 100%|██████████| 45/45 [00:18<00:00,  2.49it/s]\n",
            "                 Class     Images  Instances      Box(P          R      mAP50  mAP50-95): 100%|██████████| 3/3 [00:00<00:00,  3.60it/s]"
          ]
        },
        {
          "output_type": "stream",
          "name": "stdout",
          "text": [
            "                   all         90         90      0.996          1      0.995      0.806\n"
          ]
        },
        {
          "output_type": "stream",
          "name": "stderr",
          "text": [
            "\n"
          ]
        },
        {
          "output_type": "stream",
          "name": "stdout",
          "text": [
            "\n",
            "      Epoch    GPU_mem   box_loss   cls_loss   dfl_loss  Instances       Size\n"
          ]
        },
        {
          "output_type": "stream",
          "name": "stderr",
          "text": [
            "    113/150      2.14G      0.647     0.3622     0.8761         31        640: 100%|██████████| 45/45 [00:17<00:00,  2.62it/s]\n",
            "                 Class     Images  Instances      Box(P          R      mAP50  mAP50-95): 100%|██████████| 3/3 [00:01<00:00,  1.80it/s]"
          ]
        },
        {
          "output_type": "stream",
          "name": "stdout",
          "text": [
            "                   all         90         90      0.998          1      0.995      0.796\n"
          ]
        },
        {
          "output_type": "stream",
          "name": "stderr",
          "text": [
            "\n"
          ]
        },
        {
          "output_type": "stream",
          "name": "stdout",
          "text": [
            "\n",
            "      Epoch    GPU_mem   box_loss   cls_loss   dfl_loss  Instances       Size\n"
          ]
        },
        {
          "output_type": "stream",
          "name": "stderr",
          "text": [
            "    114/150      2.13G     0.6688     0.3741     0.8837         32        640: 100%|██████████| 45/45 [00:16<00:00,  2.67it/s]\n",
            "                 Class     Images  Instances      Box(P          R      mAP50  mAP50-95): 100%|██████████| 3/3 [00:01<00:00,  1.66it/s]"
          ]
        },
        {
          "output_type": "stream",
          "name": "stdout",
          "text": [
            "                   all         90         90      0.999          1      0.995        0.8\n"
          ]
        },
        {
          "output_type": "stream",
          "name": "stderr",
          "text": [
            "\n"
          ]
        },
        {
          "output_type": "stream",
          "name": "stdout",
          "text": [
            "\n",
            "      Epoch    GPU_mem   box_loss   cls_loss   dfl_loss  Instances       Size\n"
          ]
        },
        {
          "output_type": "stream",
          "name": "stderr",
          "text": [
            "    115/150      2.13G     0.6559     0.3644     0.8807         30        640: 100%|██████████| 45/45 [00:16<00:00,  2.70it/s]\n",
            "                 Class     Images  Instances      Box(P          R      mAP50  mAP50-95): 100%|██████████| 3/3 [00:01<00:00,  2.71it/s]"
          ]
        },
        {
          "output_type": "stream",
          "name": "stdout",
          "text": [
            "                   all         90         90      0.998          1      0.995      0.818\n"
          ]
        },
        {
          "output_type": "stream",
          "name": "stderr",
          "text": [
            "\n"
          ]
        },
        {
          "output_type": "stream",
          "name": "stdout",
          "text": [
            "\n",
            "      Epoch    GPU_mem   box_loss   cls_loss   dfl_loss  Instances       Size\n"
          ]
        },
        {
          "output_type": "stream",
          "name": "stderr",
          "text": [
            "    116/150      2.13G     0.6597     0.3611      0.879         31        640: 100%|██████████| 45/45 [00:16<00:00,  2.68it/s]\n",
            "                 Class     Images  Instances      Box(P          R      mAP50  mAP50-95): 100%|██████████| 3/3 [00:02<00:00,  1.47it/s]"
          ]
        },
        {
          "output_type": "stream",
          "name": "stdout",
          "text": [
            "                   all         90         90      0.998          1      0.995      0.797\n"
          ]
        },
        {
          "output_type": "stream",
          "name": "stderr",
          "text": [
            "\n"
          ]
        },
        {
          "output_type": "stream",
          "name": "stdout",
          "text": [
            "\n",
            "      Epoch    GPU_mem   box_loss   cls_loss   dfl_loss  Instances       Size\n"
          ]
        },
        {
          "output_type": "stream",
          "name": "stderr",
          "text": [
            "    117/150      2.14G     0.6565     0.3645     0.8821         27        640: 100%|██████████| 45/45 [00:16<00:00,  2.70it/s]\n",
            "                 Class     Images  Instances      Box(P          R      mAP50  mAP50-95): 100%|██████████| 3/3 [00:02<00:00,  1.35it/s]"
          ]
        },
        {
          "output_type": "stream",
          "name": "stdout",
          "text": [
            "                   all         90         90      0.999          1      0.995      0.806\n"
          ]
        },
        {
          "output_type": "stream",
          "name": "stderr",
          "text": [
            "\n"
          ]
        },
        {
          "output_type": "stream",
          "name": "stdout",
          "text": [
            "\n",
            "      Epoch    GPU_mem   box_loss   cls_loss   dfl_loss  Instances       Size\n"
          ]
        },
        {
          "output_type": "stream",
          "name": "stderr",
          "text": [
            "    118/150      2.13G     0.6897     0.3723     0.8804         25        640: 100%|██████████| 45/45 [00:16<00:00,  2.74it/s]\n",
            "                 Class     Images  Instances      Box(P          R      mAP50  mAP50-95): 100%|██████████| 3/3 [00:01<00:00,  1.53it/s]"
          ]
        },
        {
          "output_type": "stream",
          "name": "stdout",
          "text": [
            "                   all         90         90      0.998          1      0.995      0.798\n"
          ]
        },
        {
          "output_type": "stream",
          "name": "stderr",
          "text": [
            "\n"
          ]
        },
        {
          "output_type": "stream",
          "name": "stdout",
          "text": [
            "\n",
            "      Epoch    GPU_mem   box_loss   cls_loss   dfl_loss  Instances       Size\n"
          ]
        },
        {
          "output_type": "stream",
          "name": "stderr",
          "text": [
            "    119/150      2.13G     0.6424     0.3513     0.8706         32        640: 100%|██████████| 45/45 [00:17<00:00,  2.63it/s]\n",
            "                 Class     Images  Instances      Box(P          R      mAP50  mAP50-95): 100%|██████████| 3/3 [00:01<00:00,  1.76it/s]"
          ]
        },
        {
          "output_type": "stream",
          "name": "stdout",
          "text": [
            "                   all         90         90      0.999          1      0.995      0.797\n"
          ]
        },
        {
          "output_type": "stream",
          "name": "stderr",
          "text": [
            "\n"
          ]
        },
        {
          "output_type": "stream",
          "name": "stdout",
          "text": [
            "\n",
            "      Epoch    GPU_mem   box_loss   cls_loss   dfl_loss  Instances       Size\n"
          ]
        },
        {
          "output_type": "stream",
          "name": "stderr",
          "text": [
            "    120/150      2.13G     0.6493      0.357     0.8781         33        640: 100%|██████████| 45/45 [00:17<00:00,  2.58it/s]\n",
            "                 Class     Images  Instances      Box(P          R      mAP50  mAP50-95): 100%|██████████| 3/3 [00:01<00:00,  2.74it/s]"
          ]
        },
        {
          "output_type": "stream",
          "name": "stdout",
          "text": [
            "                   all         90         90      0.999          1      0.995      0.813\n"
          ]
        },
        {
          "output_type": "stream",
          "name": "stderr",
          "text": [
            "\n"
          ]
        },
        {
          "output_type": "stream",
          "name": "stdout",
          "text": [
            "\n",
            "      Epoch    GPU_mem   box_loss   cls_loss   dfl_loss  Instances       Size\n"
          ]
        },
        {
          "output_type": "stream",
          "name": "stderr",
          "text": [
            "    121/150      2.14G     0.6281     0.3503     0.8684         35        640: 100%|██████████| 45/45 [00:16<00:00,  2.67it/s]\n",
            "                 Class     Images  Instances      Box(P          R      mAP50  mAP50-95): 100%|██████████| 3/3 [00:01<00:00,  2.86it/s]"
          ]
        },
        {
          "output_type": "stream",
          "name": "stdout",
          "text": [
            "                   all         90         90      0.998          1      0.995      0.821\n"
          ]
        },
        {
          "output_type": "stream",
          "name": "stderr",
          "text": [
            "\n"
          ]
        },
        {
          "output_type": "stream",
          "name": "stdout",
          "text": [
            "\n",
            "      Epoch    GPU_mem   box_loss   cls_loss   dfl_loss  Instances       Size\n"
          ]
        },
        {
          "output_type": "stream",
          "name": "stderr",
          "text": [
            "    122/150      2.13G     0.6255     0.3447     0.8706         24        640: 100%|██████████| 45/45 [00:17<00:00,  2.56it/s]\n",
            "                 Class     Images  Instances      Box(P          R      mAP50  mAP50-95): 100%|██████████| 3/3 [00:01<00:00,  2.47it/s]"
          ]
        },
        {
          "output_type": "stream",
          "name": "stdout",
          "text": [
            "                   all         90         90      0.998          1      0.995      0.823\n"
          ]
        },
        {
          "output_type": "stream",
          "name": "stderr",
          "text": [
            "\n"
          ]
        },
        {
          "output_type": "stream",
          "name": "stdout",
          "text": [
            "\n",
            "      Epoch    GPU_mem   box_loss   cls_loss   dfl_loss  Instances       Size\n"
          ]
        },
        {
          "output_type": "stream",
          "name": "stderr",
          "text": [
            "    123/150      2.13G     0.6547     0.3499     0.8788         34        640: 100%|██████████| 45/45 [00:17<00:00,  2.60it/s]\n",
            "                 Class     Images  Instances      Box(P          R      mAP50  mAP50-95): 100%|██████████| 3/3 [00:01<00:00,  2.40it/s]"
          ]
        },
        {
          "output_type": "stream",
          "name": "stdout",
          "text": [
            "                   all         90         90      0.997          1      0.995      0.825\n"
          ]
        },
        {
          "output_type": "stream",
          "name": "stderr",
          "text": [
            "\n"
          ]
        },
        {
          "output_type": "stream",
          "name": "stdout",
          "text": [
            "\n",
            "      Epoch    GPU_mem   box_loss   cls_loss   dfl_loss  Instances       Size\n"
          ]
        },
        {
          "output_type": "stream",
          "name": "stderr",
          "text": [
            "    124/150      2.13G     0.6403     0.3521      0.881         36        640: 100%|██████████| 45/45 [00:17<00:00,  2.52it/s]\n",
            "                 Class     Images  Instances      Box(P          R      mAP50  mAP50-95): 100%|██████████| 3/3 [00:00<00:00,  3.04it/s]"
          ]
        },
        {
          "output_type": "stream",
          "name": "stdout",
          "text": [
            "                   all         90         90      0.996          1      0.995      0.816\n"
          ]
        },
        {
          "output_type": "stream",
          "name": "stderr",
          "text": [
            "\n"
          ]
        },
        {
          "output_type": "stream",
          "name": "stdout",
          "text": [
            "\n",
            "      Epoch    GPU_mem   box_loss   cls_loss   dfl_loss  Instances       Size\n"
          ]
        },
        {
          "output_type": "stream",
          "name": "stderr",
          "text": [
            "    125/150      2.14G     0.6346     0.3461     0.8761         30        640: 100%|██████████| 45/45 [00:17<00:00,  2.58it/s]\n",
            "                 Class     Images  Instances      Box(P          R      mAP50  mAP50-95): 100%|██████████| 3/3 [00:00<00:00,  3.73it/s]"
          ]
        },
        {
          "output_type": "stream",
          "name": "stdout",
          "text": [
            "                   all         90         90      0.996          1      0.995       0.81\n"
          ]
        },
        {
          "output_type": "stream",
          "name": "stderr",
          "text": [
            "\n"
          ]
        },
        {
          "output_type": "stream",
          "name": "stdout",
          "text": [
            "\n",
            "      Epoch    GPU_mem   box_loss   cls_loss   dfl_loss  Instances       Size\n"
          ]
        },
        {
          "output_type": "stream",
          "name": "stderr",
          "text": [
            "    126/150      2.13G     0.6141     0.3493     0.8684         27        640: 100%|██████████| 45/45 [00:17<00:00,  2.53it/s]\n",
            "                 Class     Images  Instances      Box(P          R      mAP50  mAP50-95): 100%|██████████| 3/3 [00:01<00:00,  2.51it/s]"
          ]
        },
        {
          "output_type": "stream",
          "name": "stdout",
          "text": [
            "                   all         90         90      0.997          1      0.995      0.817\n"
          ]
        },
        {
          "output_type": "stream",
          "name": "stderr",
          "text": [
            "\n"
          ]
        },
        {
          "output_type": "stream",
          "name": "stdout",
          "text": [
            "\n",
            "      Epoch    GPU_mem   box_loss   cls_loss   dfl_loss  Instances       Size\n"
          ]
        },
        {
          "output_type": "stream",
          "name": "stderr",
          "text": [
            "    127/150      2.13G     0.6248     0.3492     0.8698         30        640: 100%|██████████| 45/45 [00:17<00:00,  2.56it/s]\n",
            "                 Class     Images  Instances      Box(P          R      mAP50  mAP50-95): 100%|██████████| 3/3 [00:00<00:00,  3.37it/s]"
          ]
        },
        {
          "output_type": "stream",
          "name": "stdout",
          "text": [
            "                   all         90         90      0.998          1      0.995      0.826\n"
          ]
        },
        {
          "output_type": "stream",
          "name": "stderr",
          "text": [
            "\n"
          ]
        },
        {
          "output_type": "stream",
          "name": "stdout",
          "text": [
            "\n",
            "      Epoch    GPU_mem   box_loss   cls_loss   dfl_loss  Instances       Size\n"
          ]
        },
        {
          "output_type": "stream",
          "name": "stderr",
          "text": [
            "    128/150      2.13G     0.6068     0.3382     0.8724         29        640: 100%|██████████| 45/45 [00:17<00:00,  2.54it/s]\n",
            "                 Class     Images  Instances      Box(P          R      mAP50  mAP50-95): 100%|██████████| 3/3 [00:00<00:00,  3.53it/s]"
          ]
        },
        {
          "output_type": "stream",
          "name": "stdout",
          "text": [
            "                   all         90         90      0.999          1      0.995      0.817\n"
          ]
        },
        {
          "output_type": "stream",
          "name": "stderr",
          "text": [
            "\n"
          ]
        },
        {
          "output_type": "stream",
          "name": "stdout",
          "text": [
            "\n",
            "      Epoch    GPU_mem   box_loss   cls_loss   dfl_loss  Instances       Size\n"
          ]
        },
        {
          "output_type": "stream",
          "name": "stderr",
          "text": [
            "    129/150      2.14G      0.604     0.3387     0.8675         28        640: 100%|██████████| 45/45 [00:17<00:00,  2.62it/s]\n",
            "                 Class     Images  Instances      Box(P          R      mAP50  mAP50-95): 100%|██████████| 3/3 [00:01<00:00,  2.50it/s]"
          ]
        },
        {
          "output_type": "stream",
          "name": "stdout",
          "text": [
            "                   all         90         90      0.999          1      0.995      0.813\n"
          ]
        },
        {
          "output_type": "stream",
          "name": "stderr",
          "text": [
            "\n"
          ]
        },
        {
          "output_type": "stream",
          "name": "stdout",
          "text": [
            "\n",
            "      Epoch    GPU_mem   box_loss   cls_loss   dfl_loss  Instances       Size\n"
          ]
        },
        {
          "output_type": "stream",
          "name": "stderr",
          "text": [
            "    130/150      2.13G     0.5953     0.3364     0.8647         28        640: 100%|██████████| 45/45 [00:17<00:00,  2.56it/s]\n",
            "                 Class     Images  Instances      Box(P          R      mAP50  mAP50-95): 100%|██████████| 3/3 [00:00<00:00,  3.04it/s]"
          ]
        },
        {
          "output_type": "stream",
          "name": "stdout",
          "text": [
            "                   all         90         90      0.998          1      0.995      0.821\n"
          ]
        },
        {
          "output_type": "stream",
          "name": "stderr",
          "text": [
            "\n"
          ]
        },
        {
          "output_type": "stream",
          "name": "stdout",
          "text": [
            "\n",
            "      Epoch    GPU_mem   box_loss   cls_loss   dfl_loss  Instances       Size\n"
          ]
        },
        {
          "output_type": "stream",
          "name": "stderr",
          "text": [
            "    131/150      2.13G     0.6267     0.3454     0.8711         20        640: 100%|██████████| 45/45 [00:17<00:00,  2.55it/s]\n",
            "                 Class     Images  Instances      Box(P          R      mAP50  mAP50-95): 100%|██████████| 3/3 [00:00<00:00,  3.54it/s]"
          ]
        },
        {
          "output_type": "stream",
          "name": "stdout",
          "text": [
            "                   all         90         90      0.998          1      0.995      0.822\n"
          ]
        },
        {
          "output_type": "stream",
          "name": "stderr",
          "text": [
            "\n"
          ]
        },
        {
          "output_type": "stream",
          "name": "stdout",
          "text": [
            "\n",
            "      Epoch    GPU_mem   box_loss   cls_loss   dfl_loss  Instances       Size\n"
          ]
        },
        {
          "output_type": "stream",
          "name": "stderr",
          "text": [
            "    132/150      2.14G     0.5951     0.3351     0.8645         26        640: 100%|██████████| 45/45 [00:17<00:00,  2.63it/s]\n",
            "                 Class     Images  Instances      Box(P          R      mAP50  mAP50-95): 100%|██████████| 3/3 [00:01<00:00,  1.90it/s]"
          ]
        },
        {
          "output_type": "stream",
          "name": "stdout",
          "text": [
            "                   all         90         90      0.996          1      0.995      0.823\n"
          ]
        },
        {
          "output_type": "stream",
          "name": "stderr",
          "text": [
            "\n"
          ]
        },
        {
          "output_type": "stream",
          "name": "stdout",
          "text": [
            "\n",
            "      Epoch    GPU_mem   box_loss   cls_loss   dfl_loss  Instances       Size\n"
          ]
        },
        {
          "output_type": "stream",
          "name": "stderr",
          "text": [
            "    133/150      2.14G     0.6161     0.3395     0.8737         22        640: 100%|██████████| 45/45 [00:16<00:00,  2.66it/s]\n",
            "                 Class     Images  Instances      Box(P          R      mAP50  mAP50-95): 100%|██████████| 3/3 [00:01<00:00,  1.56it/s]"
          ]
        },
        {
          "output_type": "stream",
          "name": "stdout",
          "text": [
            "                   all         90         90      0.997          1      0.995      0.825\n"
          ]
        },
        {
          "output_type": "stream",
          "name": "stderr",
          "text": [
            "\n"
          ]
        },
        {
          "output_type": "stream",
          "name": "stdout",
          "text": [
            "\n",
            "      Epoch    GPU_mem   box_loss   cls_loss   dfl_loss  Instances       Size\n"
          ]
        },
        {
          "output_type": "stream",
          "name": "stderr",
          "text": [
            "    134/150      2.13G      0.612     0.3342     0.8705         29        640: 100%|██████████| 45/45 [00:17<00:00,  2.64it/s]\n",
            "                 Class     Images  Instances      Box(P          R      mAP50  mAP50-95): 100%|██████████| 3/3 [00:01<00:00,  1.84it/s]"
          ]
        },
        {
          "output_type": "stream",
          "name": "stdout",
          "text": [
            "                   all         90         90      0.997          1      0.995      0.826\n"
          ]
        },
        {
          "output_type": "stream",
          "name": "stderr",
          "text": [
            "\n"
          ]
        },
        {
          "output_type": "stream",
          "name": "stdout",
          "text": [
            "\n",
            "      Epoch    GPU_mem   box_loss   cls_loss   dfl_loss  Instances       Size\n"
          ]
        },
        {
          "output_type": "stream",
          "name": "stderr",
          "text": [
            "    135/150      2.13G      0.594     0.3274     0.8638         26        640: 100%|██████████| 45/45 [00:16<00:00,  2.70it/s]\n",
            "                 Class     Images  Instances      Box(P          R      mAP50  mAP50-95): 100%|██████████| 3/3 [00:01<00:00,  2.12it/s]"
          ]
        },
        {
          "output_type": "stream",
          "name": "stdout",
          "text": [
            "                   all         90         90      0.993          1      0.995      0.826\n"
          ]
        },
        {
          "output_type": "stream",
          "name": "stderr",
          "text": [
            "\n"
          ]
        },
        {
          "output_type": "stream",
          "name": "stdout",
          "text": [
            "\n",
            "      Epoch    GPU_mem   box_loss   cls_loss   dfl_loss  Instances       Size\n"
          ]
        },
        {
          "output_type": "stream",
          "name": "stderr",
          "text": [
            "    136/150      2.13G     0.5902     0.3312     0.8665         29        640: 100%|██████████| 45/45 [00:17<00:00,  2.64it/s]\n",
            "                 Class     Images  Instances      Box(P          R      mAP50  mAP50-95): 100%|██████████| 3/3 [00:01<00:00,  1.85it/s]"
          ]
        },
        {
          "output_type": "stream",
          "name": "stdout",
          "text": [
            "                   all         90         90      0.993          1      0.995      0.837\n"
          ]
        },
        {
          "output_type": "stream",
          "name": "stderr",
          "text": [
            "\n"
          ]
        },
        {
          "output_type": "stream",
          "name": "stdout",
          "text": [
            "\n",
            "      Epoch    GPU_mem   box_loss   cls_loss   dfl_loss  Instances       Size\n"
          ]
        },
        {
          "output_type": "stream",
          "name": "stderr",
          "text": [
            "    137/150      2.14G     0.5925     0.3312     0.8566         28        640: 100%|██████████| 45/45 [00:16<00:00,  2.77it/s]\n",
            "                 Class     Images  Instances      Box(P          R      mAP50  mAP50-95): 100%|██████████| 3/3 [00:01<00:00,  1.72it/s]"
          ]
        },
        {
          "output_type": "stream",
          "name": "stdout",
          "text": [
            "                   all         90         90      0.996          1      0.995      0.831\n"
          ]
        },
        {
          "output_type": "stream",
          "name": "stderr",
          "text": [
            "\n"
          ]
        },
        {
          "output_type": "stream",
          "name": "stdout",
          "text": [
            "\n",
            "      Epoch    GPU_mem   box_loss   cls_loss   dfl_loss  Instances       Size\n"
          ]
        },
        {
          "output_type": "stream",
          "name": "stderr",
          "text": [
            "    138/150      2.13G     0.5848     0.3228     0.8613         33        640: 100%|██████████| 45/45 [00:16<00:00,  2.78it/s]\n",
            "                 Class     Images  Instances      Box(P          R      mAP50  mAP50-95): 100%|██████████| 3/3 [00:02<00:00,  1.23it/s]"
          ]
        },
        {
          "output_type": "stream",
          "name": "stdout",
          "text": [
            "                   all         90         90      0.997          1      0.995      0.818\n"
          ]
        },
        {
          "output_type": "stream",
          "name": "stderr",
          "text": [
            "\n"
          ]
        },
        {
          "output_type": "stream",
          "name": "stdout",
          "text": [
            "\n",
            "      Epoch    GPU_mem   box_loss   cls_loss   dfl_loss  Instances       Size\n"
          ]
        },
        {
          "output_type": "stream",
          "name": "stderr",
          "text": [
            "    139/150      2.13G     0.5975     0.3309     0.8567         23        640: 100%|██████████| 45/45 [00:15<00:00,  2.83it/s]\n",
            "                 Class     Images  Instances      Box(P          R      mAP50  mAP50-95): 100%|██████████| 3/3 [00:02<00:00,  1.41it/s]"
          ]
        },
        {
          "output_type": "stream",
          "name": "stdout",
          "text": [
            "                   all         90         90      0.998          1      0.995      0.836\n"
          ]
        },
        {
          "output_type": "stream",
          "name": "stderr",
          "text": [
            "\n"
          ]
        },
        {
          "output_type": "stream",
          "name": "stdout",
          "text": [
            "\n",
            "      Epoch    GPU_mem   box_loss   cls_loss   dfl_loss  Instances       Size\n"
          ]
        },
        {
          "output_type": "stream",
          "name": "stderr",
          "text": [
            "    140/150      2.13G     0.5894     0.3287     0.8643         26        640: 100%|██████████| 45/45 [00:17<00:00,  2.60it/s]\n",
            "                 Class     Images  Instances      Box(P          R      mAP50  mAP50-95): 100%|██████████| 3/3 [00:01<00:00,  1.71it/s]"
          ]
        },
        {
          "output_type": "stream",
          "name": "stdout",
          "text": [
            "                   all         90         90      0.998          1      0.995      0.828\n"
          ]
        },
        {
          "output_type": "stream",
          "name": "stderr",
          "text": [
            "\n"
          ]
        },
        {
          "output_type": "stream",
          "name": "stdout",
          "text": [
            "Closing dataloader mosaic\n",
            "\u001b[34m\u001b[1malbumentations: \u001b[0mBlur(p=0.01, blur_limit=(3, 7)), MedianBlur(p=0.01, blur_limit=(3, 7)), ToGray(p=0.01, num_output_channels=3, method='weighted_average'), CLAHE(p=0.01, clip_limit=(1.0, 4.0), tile_grid_size=(8, 8))\n",
            "\n",
            "      Epoch    GPU_mem   box_loss   cls_loss   dfl_loss  Instances       Size\n"
          ]
        },
        {
          "output_type": "stream",
          "name": "stderr",
          "text": [
            "    141/150      2.14G     0.5452     0.2982     0.8435         16        640: 100%|██████████| 45/45 [00:18<00:00,  2.41it/s]\n",
            "                 Class     Images  Instances      Box(P          R      mAP50  mAP50-95): 100%|██████████| 3/3 [00:00<00:00,  3.14it/s]"
          ]
        },
        {
          "output_type": "stream",
          "name": "stdout",
          "text": [
            "                   all         90         90      0.993          1      0.995       0.81\n"
          ]
        },
        {
          "output_type": "stream",
          "name": "stderr",
          "text": [
            "\n"
          ]
        },
        {
          "output_type": "stream",
          "name": "stdout",
          "text": [
            "\n",
            "      Epoch    GPU_mem   box_loss   cls_loss   dfl_loss  Instances       Size\n"
          ]
        },
        {
          "output_type": "stream",
          "name": "stderr",
          "text": [
            "    142/150      2.13G     0.5298     0.2942     0.8365         16        640: 100%|██████████| 45/45 [00:17<00:00,  2.55it/s]\n",
            "                 Class     Images  Instances      Box(P          R      mAP50  mAP50-95): 100%|██████████| 3/3 [00:00<00:00,  3.10it/s]"
          ]
        },
        {
          "output_type": "stream",
          "name": "stdout",
          "text": [
            "                   all         90         90      0.994          1      0.995      0.817\n"
          ]
        },
        {
          "output_type": "stream",
          "name": "stderr",
          "text": [
            "\n"
          ]
        },
        {
          "output_type": "stream",
          "name": "stdout",
          "text": [
            "\n",
            "      Epoch    GPU_mem   box_loss   cls_loss   dfl_loss  Instances       Size\n"
          ]
        },
        {
          "output_type": "stream",
          "name": "stderr",
          "text": [
            "    143/150      2.13G     0.5337     0.2877     0.8454         16        640: 100%|██████████| 45/45 [00:17<00:00,  2.63it/s]\n",
            "                 Class     Images  Instances      Box(P          R      mAP50  mAP50-95): 100%|██████████| 3/3 [00:00<00:00,  3.48it/s]"
          ]
        },
        {
          "output_type": "stream",
          "name": "stdout",
          "text": [
            "                   all         90         90      0.996          1      0.995      0.823\n"
          ]
        },
        {
          "output_type": "stream",
          "name": "stderr",
          "text": [
            "\n"
          ]
        },
        {
          "output_type": "stream",
          "name": "stdout",
          "text": [
            "\n",
            "      Epoch    GPU_mem   box_loss   cls_loss   dfl_loss  Instances       Size\n"
          ]
        },
        {
          "output_type": "stream",
          "name": "stderr",
          "text": [
            "    144/150      2.13G     0.5203     0.2801     0.8352         16        640: 100%|██████████| 45/45 [00:16<00:00,  2.70it/s]\n",
            "                 Class     Images  Instances      Box(P          R      mAP50  mAP50-95): 100%|██████████| 3/3 [00:00<00:00,  3.03it/s]"
          ]
        },
        {
          "output_type": "stream",
          "name": "stdout",
          "text": [
            "                   all         90         90      0.996          1      0.995      0.821\n"
          ]
        },
        {
          "output_type": "stream",
          "name": "stderr",
          "text": [
            "\n"
          ]
        },
        {
          "output_type": "stream",
          "name": "stdout",
          "text": [
            "\n",
            "      Epoch    GPU_mem   box_loss   cls_loss   dfl_loss  Instances       Size\n"
          ]
        },
        {
          "output_type": "stream",
          "name": "stderr",
          "text": [
            "    145/150      2.14G     0.5183     0.2827     0.8427         16        640: 100%|██████████| 45/45 [00:17<00:00,  2.60it/s]\n",
            "                 Class     Images  Instances      Box(P          R      mAP50  mAP50-95): 100%|██████████| 3/3 [00:00<00:00,  3.52it/s]"
          ]
        },
        {
          "output_type": "stream",
          "name": "stdout",
          "text": [
            "                   all         90         90      0.997          1      0.995      0.828\n"
          ]
        },
        {
          "output_type": "stream",
          "name": "stderr",
          "text": [
            "\n"
          ]
        },
        {
          "output_type": "stream",
          "name": "stdout",
          "text": [
            "\n",
            "      Epoch    GPU_mem   box_loss   cls_loss   dfl_loss  Instances       Size\n"
          ]
        },
        {
          "output_type": "stream",
          "name": "stderr",
          "text": [
            "    146/150      2.13G     0.5189     0.2823     0.8394         16        640: 100%|██████████| 45/45 [00:17<00:00,  2.61it/s]\n",
            "                 Class     Images  Instances      Box(P          R      mAP50  mAP50-95): 100%|██████████| 3/3 [00:00<00:00,  3.01it/s]"
          ]
        },
        {
          "output_type": "stream",
          "name": "stdout",
          "text": [
            "                   all         90         90      0.997          1      0.995      0.828\n"
          ]
        },
        {
          "output_type": "stream",
          "name": "stderr",
          "text": [
            "\n"
          ]
        },
        {
          "output_type": "stream",
          "name": "stdout",
          "text": [
            "\n",
            "      Epoch    GPU_mem   box_loss   cls_loss   dfl_loss  Instances       Size\n"
          ]
        },
        {
          "output_type": "stream",
          "name": "stderr",
          "text": [
            "    147/150      2.13G     0.5096     0.2785      0.836         16        640: 100%|██████████| 45/45 [00:17<00:00,  2.59it/s]\n",
            "                 Class     Images  Instances      Box(P          R      mAP50  mAP50-95): 100%|██████████| 3/3 [00:01<00:00,  2.63it/s]"
          ]
        },
        {
          "output_type": "stream",
          "name": "stdout",
          "text": [
            "                   all         90         90      0.997          1      0.995      0.822\n"
          ]
        },
        {
          "output_type": "stream",
          "name": "stderr",
          "text": [
            "\n"
          ]
        },
        {
          "output_type": "stream",
          "name": "stdout",
          "text": [
            "\n",
            "      Epoch    GPU_mem   box_loss   cls_loss   dfl_loss  Instances       Size\n"
          ]
        },
        {
          "output_type": "stream",
          "name": "stderr",
          "text": [
            "    148/150      2.13G     0.5201     0.2823     0.8444         16        640: 100%|██████████| 45/45 [00:17<00:00,  2.51it/s]\n",
            "                 Class     Images  Instances      Box(P          R      mAP50  mAP50-95): 100%|██████████| 3/3 [00:01<00:00,  2.55it/s]"
          ]
        },
        {
          "output_type": "stream",
          "name": "stdout",
          "text": [
            "                   all         90         90      0.996          1      0.995      0.824\n"
          ]
        },
        {
          "output_type": "stream",
          "name": "stderr",
          "text": [
            "\n"
          ]
        },
        {
          "output_type": "stream",
          "name": "stdout",
          "text": [
            "\n",
            "      Epoch    GPU_mem   box_loss   cls_loss   dfl_loss  Instances       Size\n"
          ]
        },
        {
          "output_type": "stream",
          "name": "stderr",
          "text": [
            "    149/150      2.14G     0.4985     0.2753     0.8262         16        640: 100%|██████████| 45/45 [00:17<00:00,  2.59it/s]\n",
            "                 Class     Images  Instances      Box(P          R      mAP50  mAP50-95): 100%|██████████| 3/3 [00:01<00:00,  2.90it/s]"
          ]
        },
        {
          "output_type": "stream",
          "name": "stdout",
          "text": [
            "                   all         90         90      0.995          1      0.995      0.822\n"
          ]
        },
        {
          "output_type": "stream",
          "name": "stderr",
          "text": [
            "\n"
          ]
        },
        {
          "output_type": "stream",
          "name": "stdout",
          "text": [
            "\n",
            "      Epoch    GPU_mem   box_loss   cls_loss   dfl_loss  Instances       Size\n"
          ]
        },
        {
          "output_type": "stream",
          "name": "stderr",
          "text": [
            "    150/150      2.13G     0.5156     0.2796     0.8436         16        640: 100%|██████████| 45/45 [00:17<00:00,  2.60it/s]\n",
            "                 Class     Images  Instances      Box(P          R      mAP50  mAP50-95): 100%|██████████| 3/3 [00:01<00:00,  2.93it/s]"
          ]
        },
        {
          "output_type": "stream",
          "name": "stdout",
          "text": [
            "                   all         90         90      0.996          1      0.995      0.828\n"
          ]
        },
        {
          "output_type": "stream",
          "name": "stderr",
          "text": [
            "\n"
          ]
        },
        {
          "output_type": "stream",
          "name": "stdout",
          "text": [
            "\n",
            "150 epochs completed in 0.838 hours.\n",
            "Optimizer stripped from runs/detect/train/weights/last.pt, 6.2MB\n",
            "Optimizer stripped from runs/detect/train/weights/best.pt, 6.2MB\n",
            "\n",
            "Validating runs/detect/train/weights/best.pt...\n",
            "Ultralytics 8.3.51 🚀 Python-3.10.12 torch-2.5.1+cu121 CUDA:0 (Tesla T4, 15102MiB)\n",
            "Model summary (fused): 168 layers, 3,005,843 parameters, 0 gradients, 8.1 GFLOPs\n"
          ]
        },
        {
          "output_type": "stream",
          "name": "stderr",
          "text": [
            "                 Class     Images  Instances      Box(P          R      mAP50  mAP50-95): 100%|██████████| 3/3 [00:01<00:00,  1.98it/s]\n"
          ]
        },
        {
          "output_type": "stream",
          "name": "stdout",
          "text": [
            "                   all         90         90      0.993          1      0.995      0.837\n",
            "Speed: 0.2ms preprocess, 2.8ms inference, 0.0ms loss, 2.9ms postprocess per image\n",
            "Results saved to \u001b[1mruns/detect/train\u001b[0m\n"
          ]
        },
        {
          "output_type": "execute_result",
          "data": {
            "text/plain": [
              "ultralytics.utils.metrics.DetMetrics object with attributes:\n",
              "\n",
              "ap_class_index: array([0])\n",
              "box: ultralytics.utils.metrics.Metric object\n",
              "confusion_matrix: <ultralytics.utils.metrics.ConfusionMatrix object at 0x7c115a1abf70>\n",
              "curves: ['Precision-Recall(B)', 'F1-Confidence(B)', 'Precision-Confidence(B)', 'Recall-Confidence(B)']\n",
              "curves_results: [[array([          0,    0.001001,    0.002002,    0.003003,    0.004004,    0.005005,    0.006006,    0.007007,    0.008008,    0.009009,     0.01001,    0.011011,    0.012012,    0.013013,    0.014014,    0.015015,    0.016016,    0.017017,    0.018018,    0.019019,     0.02002,    0.021021,    0.022022,    0.023023,\n",
              "          0.024024,    0.025025,    0.026026,    0.027027,    0.028028,    0.029029,     0.03003,    0.031031,    0.032032,    0.033033,    0.034034,    0.035035,    0.036036,    0.037037,    0.038038,    0.039039,     0.04004,    0.041041,    0.042042,    0.043043,    0.044044,    0.045045,    0.046046,    0.047047,\n",
              "          0.048048,    0.049049,     0.05005,    0.051051,    0.052052,    0.053053,    0.054054,    0.055055,    0.056056,    0.057057,    0.058058,    0.059059,     0.06006,    0.061061,    0.062062,    0.063063,    0.064064,    0.065065,    0.066066,    0.067067,    0.068068,    0.069069,     0.07007,    0.071071,\n",
              "          0.072072,    0.073073,    0.074074,    0.075075,    0.076076,    0.077077,    0.078078,    0.079079,     0.08008,    0.081081,    0.082082,    0.083083,    0.084084,    0.085085,    0.086086,    0.087087,    0.088088,    0.089089,     0.09009,    0.091091,    0.092092,    0.093093,    0.094094,    0.095095,\n",
              "          0.096096,    0.097097,    0.098098,    0.099099,      0.1001,      0.1011,      0.1021,      0.1031,      0.1041,     0.10511,     0.10611,     0.10711,     0.10811,     0.10911,     0.11011,     0.11111,     0.11211,     0.11311,     0.11411,     0.11512,     0.11612,     0.11712,     0.11812,     0.11912,\n",
              "           0.12012,     0.12112,     0.12212,     0.12312,     0.12412,     0.12513,     0.12613,     0.12713,     0.12813,     0.12913,     0.13013,     0.13113,     0.13213,     0.13313,     0.13413,     0.13514,     0.13614,     0.13714,     0.13814,     0.13914,     0.14014,     0.14114,     0.14214,     0.14314,\n",
              "           0.14414,     0.14515,     0.14615,     0.14715,     0.14815,     0.14915,     0.15015,     0.15115,     0.15215,     0.15315,     0.15415,     0.15516,     0.15616,     0.15716,     0.15816,     0.15916,     0.16016,     0.16116,     0.16216,     0.16316,     0.16416,     0.16517,     0.16617,     0.16717,\n",
              "           0.16817,     0.16917,     0.17017,     0.17117,     0.17217,     0.17317,     0.17417,     0.17518,     0.17618,     0.17718,     0.17818,     0.17918,     0.18018,     0.18118,     0.18218,     0.18318,     0.18418,     0.18519,     0.18619,     0.18719,     0.18819,     0.18919,     0.19019,     0.19119,\n",
              "           0.19219,     0.19319,     0.19419,      0.1952,      0.1962,      0.1972,      0.1982,      0.1992,      0.2002,      0.2012,      0.2022,      0.2032,      0.2042,     0.20521,     0.20621,     0.20721,     0.20821,     0.20921,     0.21021,     0.21121,     0.21221,     0.21321,     0.21421,     0.21522,\n",
              "           0.21622,     0.21722,     0.21822,     0.21922,     0.22022,     0.22122,     0.22222,     0.22322,     0.22422,     0.22523,     0.22623,     0.22723,     0.22823,     0.22923,     0.23023,     0.23123,     0.23223,     0.23323,     0.23423,     0.23524,     0.23624,     0.23724,     0.23824,     0.23924,\n",
              "           0.24024,     0.24124,     0.24224,     0.24324,     0.24424,     0.24525,     0.24625,     0.24725,     0.24825,     0.24925,     0.25025,     0.25125,     0.25225,     0.25325,     0.25425,     0.25526,     0.25626,     0.25726,     0.25826,     0.25926,     0.26026,     0.26126,     0.26226,     0.26326,\n",
              "           0.26426,     0.26527,     0.26627,     0.26727,     0.26827,     0.26927,     0.27027,     0.27127,     0.27227,     0.27327,     0.27427,     0.27528,     0.27628,     0.27728,     0.27828,     0.27928,     0.28028,     0.28128,     0.28228,     0.28328,     0.28428,     0.28529,     0.28629,     0.28729,\n",
              "           0.28829,     0.28929,     0.29029,     0.29129,     0.29229,     0.29329,     0.29429,      0.2953,      0.2963,      0.2973,      0.2983,      0.2993,      0.3003,      0.3013,      0.3023,      0.3033,      0.3043,     0.30531,     0.30631,     0.30731,     0.30831,     0.30931,     0.31031,     0.31131,\n",
              "           0.31231,     0.31331,     0.31431,     0.31532,     0.31632,     0.31732,     0.31832,     0.31932,     0.32032,     0.32132,     0.32232,     0.32332,     0.32432,     0.32533,     0.32633,     0.32733,     0.32833,     0.32933,     0.33033,     0.33133,     0.33233,     0.33333,     0.33433,     0.33534,\n",
              "           0.33634,     0.33734,     0.33834,     0.33934,     0.34034,     0.34134,     0.34234,     0.34334,     0.34434,     0.34535,     0.34635,     0.34735,     0.34835,     0.34935,     0.35035,     0.35135,     0.35235,     0.35335,     0.35435,     0.35536,     0.35636,     0.35736,     0.35836,     0.35936,\n",
              "           0.36036,     0.36136,     0.36236,     0.36336,     0.36436,     0.36537,     0.36637,     0.36737,     0.36837,     0.36937,     0.37037,     0.37137,     0.37237,     0.37337,     0.37437,     0.37538,     0.37638,     0.37738,     0.37838,     0.37938,     0.38038,     0.38138,     0.38238,     0.38338,\n",
              "           0.38438,     0.38539,     0.38639,     0.38739,     0.38839,     0.38939,     0.39039,     0.39139,     0.39239,     0.39339,     0.39439,      0.3954,      0.3964,      0.3974,      0.3984,      0.3994,      0.4004,      0.4014,      0.4024,      0.4034,      0.4044,     0.40541,     0.40641,     0.40741,\n",
              "           0.40841,     0.40941,     0.41041,     0.41141,     0.41241,     0.41341,     0.41441,     0.41542,     0.41642,     0.41742,     0.41842,     0.41942,     0.42042,     0.42142,     0.42242,     0.42342,     0.42442,     0.42543,     0.42643,     0.42743,     0.42843,     0.42943,     0.43043,     0.43143,\n",
              "           0.43243,     0.43343,     0.43443,     0.43544,     0.43644,     0.43744,     0.43844,     0.43944,     0.44044,     0.44144,     0.44244,     0.44344,     0.44444,     0.44545,     0.44645,     0.44745,     0.44845,     0.44945,     0.45045,     0.45145,     0.45245,     0.45345,     0.45445,     0.45546,\n",
              "           0.45646,     0.45746,     0.45846,     0.45946,     0.46046,     0.46146,     0.46246,     0.46346,     0.46446,     0.46547,     0.46647,     0.46747,     0.46847,     0.46947,     0.47047,     0.47147,     0.47247,     0.47347,     0.47447,     0.47548,     0.47648,     0.47748,     0.47848,     0.47948,\n",
              "           0.48048,     0.48148,     0.48248,     0.48348,     0.48448,     0.48549,     0.48649,     0.48749,     0.48849,     0.48949,     0.49049,     0.49149,     0.49249,     0.49349,     0.49449,      0.4955,      0.4965,      0.4975,      0.4985,      0.4995,      0.5005,      0.5015,      0.5025,      0.5035,\n",
              "            0.5045,     0.50551,     0.50651,     0.50751,     0.50851,     0.50951,     0.51051,     0.51151,     0.51251,     0.51351,     0.51451,     0.51552,     0.51652,     0.51752,     0.51852,     0.51952,     0.52052,     0.52152,     0.52252,     0.52352,     0.52452,     0.52553,     0.52653,     0.52753,\n",
              "           0.52853,     0.52953,     0.53053,     0.53153,     0.53253,     0.53353,     0.53453,     0.53554,     0.53654,     0.53754,     0.53854,     0.53954,     0.54054,     0.54154,     0.54254,     0.54354,     0.54454,     0.54555,     0.54655,     0.54755,     0.54855,     0.54955,     0.55055,     0.55155,\n",
              "           0.55255,     0.55355,     0.55455,     0.55556,     0.55656,     0.55756,     0.55856,     0.55956,     0.56056,     0.56156,     0.56256,     0.56356,     0.56456,     0.56557,     0.56657,     0.56757,     0.56857,     0.56957,     0.57057,     0.57157,     0.57257,     0.57357,     0.57457,     0.57558,\n",
              "           0.57658,     0.57758,     0.57858,     0.57958,     0.58058,     0.58158,     0.58258,     0.58358,     0.58458,     0.58559,     0.58659,     0.58759,     0.58859,     0.58959,     0.59059,     0.59159,     0.59259,     0.59359,     0.59459,      0.5956,      0.5966,      0.5976,      0.5986,      0.5996,\n",
              "            0.6006,      0.6016,      0.6026,      0.6036,      0.6046,     0.60561,     0.60661,     0.60761,     0.60861,     0.60961,     0.61061,     0.61161,     0.61261,     0.61361,     0.61461,     0.61562,     0.61662,     0.61762,     0.61862,     0.61962,     0.62062,     0.62162,     0.62262,     0.62362,\n",
              "           0.62462,     0.62563,     0.62663,     0.62763,     0.62863,     0.62963,     0.63063,     0.63163,     0.63263,     0.63363,     0.63463,     0.63564,     0.63664,     0.63764,     0.63864,     0.63964,     0.64064,     0.64164,     0.64264,     0.64364,     0.64464,     0.64565,     0.64665,     0.64765,\n",
              "           0.64865,     0.64965,     0.65065,     0.65165,     0.65265,     0.65365,     0.65465,     0.65566,     0.65666,     0.65766,     0.65866,     0.65966,     0.66066,     0.66166,     0.66266,     0.66366,     0.66466,     0.66567,     0.66667,     0.66767,     0.66867,     0.66967,     0.67067,     0.67167,\n",
              "           0.67267,     0.67367,     0.67467,     0.67568,     0.67668,     0.67768,     0.67868,     0.67968,     0.68068,     0.68168,     0.68268,     0.68368,     0.68468,     0.68569,     0.68669,     0.68769,     0.68869,     0.68969,     0.69069,     0.69169,     0.69269,     0.69369,     0.69469,      0.6957,\n",
              "            0.6967,      0.6977,      0.6987,      0.6997,      0.7007,      0.7017,      0.7027,      0.7037,      0.7047,     0.70571,     0.70671,     0.70771,     0.70871,     0.70971,     0.71071,     0.71171,     0.71271,     0.71371,     0.71471,     0.71572,     0.71672,     0.71772,     0.71872,     0.71972,\n",
              "           0.72072,     0.72172,     0.72272,     0.72372,     0.72472,     0.72573,     0.72673,     0.72773,     0.72873,     0.72973,     0.73073,     0.73173,     0.73273,     0.73373,     0.73473,     0.73574,     0.73674,     0.73774,     0.73874,     0.73974,     0.74074,     0.74174,     0.74274,     0.74374,\n",
              "           0.74474,     0.74575,     0.74675,     0.74775,     0.74875,     0.74975,     0.75075,     0.75175,     0.75275,     0.75375,     0.75475,     0.75576,     0.75676,     0.75776,     0.75876,     0.75976,     0.76076,     0.76176,     0.76276,     0.76376,     0.76476,     0.76577,     0.76677,     0.76777,\n",
              "           0.76877,     0.76977,     0.77077,     0.77177,     0.77277,     0.77377,     0.77477,     0.77578,     0.77678,     0.77778,     0.77878,     0.77978,     0.78078,     0.78178,     0.78278,     0.78378,     0.78478,     0.78579,     0.78679,     0.78779,     0.78879,     0.78979,     0.79079,     0.79179,\n",
              "           0.79279,     0.79379,     0.79479,      0.7958,      0.7968,      0.7978,      0.7988,      0.7998,      0.8008,      0.8018,      0.8028,      0.8038,      0.8048,     0.80581,     0.80681,     0.80781,     0.80881,     0.80981,     0.81081,     0.81181,     0.81281,     0.81381,     0.81481,     0.81582,\n",
              "           0.81682,     0.81782,     0.81882,     0.81982,     0.82082,     0.82182,     0.82282,     0.82382,     0.82482,     0.82583,     0.82683,     0.82783,     0.82883,     0.82983,     0.83083,     0.83183,     0.83283,     0.83383,     0.83483,     0.83584,     0.83684,     0.83784,     0.83884,     0.83984,\n",
              "           0.84084,     0.84184,     0.84284,     0.84384,     0.84484,     0.84585,     0.84685,     0.84785,     0.84885,     0.84985,     0.85085,     0.85185,     0.85285,     0.85385,     0.85485,     0.85586,     0.85686,     0.85786,     0.85886,     0.85986,     0.86086,     0.86186,     0.86286,     0.86386,\n",
              "           0.86486,     0.86587,     0.86687,     0.86787,     0.86887,     0.86987,     0.87087,     0.87187,     0.87287,     0.87387,     0.87487,     0.87588,     0.87688,     0.87788,     0.87888,     0.87988,     0.88088,     0.88188,     0.88288,     0.88388,     0.88488,     0.88589,     0.88689,     0.88789,\n",
              "           0.88889,     0.88989,     0.89089,     0.89189,     0.89289,     0.89389,     0.89489,      0.8959,      0.8969,      0.8979,      0.8989,      0.8999,      0.9009,      0.9019,      0.9029,      0.9039,      0.9049,     0.90591,     0.90691,     0.90791,     0.90891,     0.90991,     0.91091,     0.91191,\n",
              "           0.91291,     0.91391,     0.91491,     0.91592,     0.91692,     0.91792,     0.91892,     0.91992,     0.92092,     0.92192,     0.92292,     0.92392,     0.92492,     0.92593,     0.92693,     0.92793,     0.92893,     0.92993,     0.93093,     0.93193,     0.93293,     0.93393,     0.93493,     0.93594,\n",
              "           0.93694,     0.93794,     0.93894,     0.93994,     0.94094,     0.94194,     0.94294,     0.94394,     0.94494,     0.94595,     0.94695,     0.94795,     0.94895,     0.94995,     0.95095,     0.95195,     0.95295,     0.95395,     0.95495,     0.95596,     0.95696,     0.95796,     0.95896,     0.95996,\n",
              "           0.96096,     0.96196,     0.96296,     0.96396,     0.96496,     0.96597,     0.96697,     0.96797,     0.96897,     0.96997,     0.97097,     0.97197,     0.97297,     0.97397,     0.97497,     0.97598,     0.97698,     0.97798,     0.97898,     0.97998,     0.98098,     0.98198,     0.98298,     0.98398,\n",
              "           0.98498,     0.98599,     0.98699,     0.98799,     0.98899,     0.98999,     0.99099,     0.99199,     0.99299,     0.99399,     0.99499,       0.996,       0.997,       0.998,       0.999,           1]), array([[          1,           1,           1,           1,           1,           1,           1,           1,           1,           1,           1,           1,           1,           1,           1,           1,           1,           1,           1,           1,           1,           1,           1,\n",
              "                  1,           1,           1,           1,           1,           1,           1,           1,           1,           1,           1,           1,           1,           1,           1,           1,           1,           1,           1,           1,           1,           1,           1,\n",
              "                  1,           1,           1,           1,           1,           1,           1,           1,           1,           1,           1,           1,           1,           1,           1,           1,           1,           1,           1,           1,           1,           1,           1,\n",
              "                  1,           1,           1,           1,           1,           1,           1,           1,           1,           1,           1,           1,           1,           1,           1,           1,           1,           1,           1,           1,           1,           1,           1,\n",
              "                  1,           1,           1,           1,           1,           1,           1,           1,           1,           1,           1,           1,           1,           1,           1,           1,           1,           1,           1,           1,           1,           1,           1,\n",
              "                  1,           1,           1,           1,           1,           1,           1,           1,           1,           1,           1,           1,           1,           1,           1,           1,           1,           1,           1,           1,           1,           1,           1,\n",
              "                  1,           1,           1,           1,           1,           1,           1,           1,           1,           1,           1,           1,           1,           1,           1,           1,           1,           1,           1,           1,           1,           1,           1,\n",
              "                  1,           1,           1,           1,           1,           1,           1,           1,           1,           1,           1,           1,           1,           1,           1,           1,           1,           1,           1,           1,           1,           1,           1,\n",
              "                  1,           1,           1,           1,           1,           1,           1,           1,           1,           1,           1,           1,           1,           1,           1,           1,           1,           1,           1,           1,           1,           1,           1,\n",
              "                  1,           1,           1,           1,           1,           1,           1,           1,           1,           1,           1,           1,           1,           1,           1,           1,           1,           1,           1,           1,           1,           1,           1,\n",
              "                  1,           1,           1,           1,           1,           1,           1,           1,           1,           1,           1,           1,           1,           1,           1,           1,           1,           1,           1,           1,           1,           1,           1,\n",
              "                  1,           1,           1,           1,           1,           1,           1,           1,           1,           1,           1,           1,           1,           1,           1,           1,           1,           1,           1,           1,           1,           1,           1,\n",
              "                  1,           1,           1,           1,           1,           1,           1,           1,           1,           1,           1,           1,           1,           1,           1,           1,           1,           1,           1,           1,           1,           1,           1,\n",
              "                  1,           1,           1,           1,           1,           1,           1,           1,           1,           1,           1,           1,           1,           1,           1,           1,           1,           1,           1,           1,           1,           1,           1,\n",
              "                  1,           1,           1,           1,           1,           1,           1,           1,           1,           1,           1,           1,           1,           1,           1,           1,           1,           1,           1,           1,           1,           1,           1,\n",
              "                  1,           1,           1,           1,           1,           1,           1,           1,           1,           1,           1,           1,           1,           1,           1,           1,           1,           1,           1,           1,           1,           1,           1,\n",
              "                  1,           1,           1,           1,           1,           1,           1,           1,           1,           1,           1,           1,           1,           1,           1,           1,           1,           1,           1,           1,           1,           1,           1,\n",
              "                  1,           1,           1,           1,           1,           1,           1,           1,           1,           1,           1,           1,           1,           1,           1,           1,           1,           1,           1,           1,           1,           1,           1,\n",
              "                  1,           1,           1,           1,           1,           1,           1,           1,           1,           1,           1,           1,           1,           1,           1,           1,           1,           1,           1,           1,           1,           1,           1,\n",
              "                  1,           1,           1,           1,           1,           1,           1,           1,           1,           1,           1,           1,           1,           1,           1,           1,           1,           1,           1,           1,           1,           1,           1,\n",
              "                  1,           1,           1,           1,           1,           1,           1,           1,           1,           1,           1,           1,           1,           1,           1,           1,           1,           1,           1,           1,           1,           1,           1,\n",
              "                  1,           1,           1,           1,           1,           1,           1,           1,           1,           1,           1,           1,           1,           1,           1,           1,           1,           1,           1,           1,           1,           1,           1,\n",
              "                  1,           1,           1,           1,           1,           1,           1,           1,           1,           1,           1,           1,           1,           1,           1,           1,           1,           1,           1,           1,           1,           1,           1,\n",
              "                  1,           1,           1,           1,           1,           1,           1,           1,           1,           1,           1,           1,           1,           1,           1,           1,           1,           1,           1,           1,           1,           1,           1,\n",
              "                  1,           1,           1,           1,           1,           1,           1,           1,           1,           1,           1,           1,           1,           1,           1,           1,           1,           1,           1,           1,           1,           1,           1,\n",
              "                  1,           1,           1,           1,           1,           1,           1,           1,           1,           1,           1,           1,           1,           1,           1,           1,           1,           1,           1,           1,           1,           1,           1,\n",
              "                  1,           1,           1,           1,           1,           1,           1,           1,           1,           1,           1,           1,           1,           1,           1,           1,           1,           1,           1,           1,           1,           1,           1,\n",
              "                  1,           1,           1,           1,           1,           1,           1,           1,           1,           1,           1,           1,           1,           1,           1,           1,           1,           1,           1,           1,           1,           1,           1,\n",
              "                  1,           1,           1,           1,           1,           1,           1,           1,           1,           1,           1,           1,           1,           1,           1,           1,           1,           1,           1,           1,           1,           1,           1,\n",
              "                  1,           1,           1,           1,           1,           1,           1,           1,           1,           1,           1,           1,           1,           1,           1,           1,           1,           1,           1,           1,           1,           1,           1,\n",
              "                  1,           1,           1,           1,           1,           1,           1,           1,           1,           1,           1,           1,           1,           1,           1,           1,           1,           1,           1,           1,           1,           1,           1,\n",
              "                  1,           1,           1,           1,           1,           1,           1,           1,           1,           1,           1,           1,           1,           1,           1,           1,           1,           1,           1,           1,           1,           1,           1,\n",
              "                  1,           1,           1,           1,           1,           1,           1,           1,           1,           1,           1,           1,           1,           1,           1,           1,           1,           1,           1,           1,           1,           1,           1,\n",
              "                  1,           1,           1,           1,           1,           1,           1,           1,           1,           1,           1,           1,           1,           1,           1,           1,           1,           1,           1,           1,           1,           1,           1,\n",
              "                  1,           1,           1,           1,           1,           1,           1,           1,           1,           1,           1,           1,           1,           1,           1,           1,           1,           1,           1,           1,           1,           1,           1,\n",
              "                  1,           1,           1,           1,           1,           1,           1,           1,           1,           1,           1,           1,           1,           1,           1,           1,           1,           1,           1,           1,           1,           1,           1,\n",
              "                  1,           1,           1,           1,           1,           1,           1,           1,           1,           1,           1,           1,           1,           1,           1,           1,           1,           1,           1,           1,           1,           1,           1,\n",
              "                  1,           1,           1,           1,           1,           1,           1,           1,           1,           1,           1,           1,           1,           1,           1,           1,           1,           1,           1,           1,           1,           1,           1,\n",
              "                  1,           1,           1,           1,           1,           1,           1,           1,           1,           1,           1,           1,           1,           1,           1,           1,           1,           1,           1,           1,           1,           1,           1,\n",
              "                  1,           1,           1,           1,           1,           1,           1,           1,           1,           1,           1,           1,           1,           1,           1,           1,           1,           1,           1,           1,           1,           1,           1,\n",
              "                  1,           1,           1,           1,           1,           1,           1,           1,           1,           1,           1,           1,           1,           1,           1,           1,           1,           1,           1,           1,           1,           1,           1,\n",
              "                  1,           1,           1,           1,           1,           1,           1,           1,           1,           1,           1,           1,           1,           1,           1,           1,           1,           1,           1,           1,           1,           1,           1,\n",
              "                  1,           1,           1,           1,           1,           1,           1,           1,           1,           1,           1,           1,           1,           1,           1,           1,           1,           1,           1,           1,           1,           1,           1,\n",
              "                  1,           1,           1,           1,           1,           1,           1,           1,           1,           1,           0]]), 'Recall', 'Precision'], [array([          0,    0.001001,    0.002002,    0.003003,    0.004004,    0.005005,    0.006006,    0.007007,    0.008008,    0.009009,     0.01001,    0.011011,    0.012012,    0.013013,    0.014014,    0.015015,    0.016016,    0.017017,    0.018018,    0.019019,     0.02002,    0.021021,    0.022022,    0.023023,\n",
              "          0.024024,    0.025025,    0.026026,    0.027027,    0.028028,    0.029029,     0.03003,    0.031031,    0.032032,    0.033033,    0.034034,    0.035035,    0.036036,    0.037037,    0.038038,    0.039039,     0.04004,    0.041041,    0.042042,    0.043043,    0.044044,    0.045045,    0.046046,    0.047047,\n",
              "          0.048048,    0.049049,     0.05005,    0.051051,    0.052052,    0.053053,    0.054054,    0.055055,    0.056056,    0.057057,    0.058058,    0.059059,     0.06006,    0.061061,    0.062062,    0.063063,    0.064064,    0.065065,    0.066066,    0.067067,    0.068068,    0.069069,     0.07007,    0.071071,\n",
              "          0.072072,    0.073073,    0.074074,    0.075075,    0.076076,    0.077077,    0.078078,    0.079079,     0.08008,    0.081081,    0.082082,    0.083083,    0.084084,    0.085085,    0.086086,    0.087087,    0.088088,    0.089089,     0.09009,    0.091091,    0.092092,    0.093093,    0.094094,    0.095095,\n",
              "          0.096096,    0.097097,    0.098098,    0.099099,      0.1001,      0.1011,      0.1021,      0.1031,      0.1041,     0.10511,     0.10611,     0.10711,     0.10811,     0.10911,     0.11011,     0.11111,     0.11211,     0.11311,     0.11411,     0.11512,     0.11612,     0.11712,     0.11812,     0.11912,\n",
              "           0.12012,     0.12112,     0.12212,     0.12312,     0.12412,     0.12513,     0.12613,     0.12713,     0.12813,     0.12913,     0.13013,     0.13113,     0.13213,     0.13313,     0.13413,     0.13514,     0.13614,     0.13714,     0.13814,     0.13914,     0.14014,     0.14114,     0.14214,     0.14314,\n",
              "           0.14414,     0.14515,     0.14615,     0.14715,     0.14815,     0.14915,     0.15015,     0.15115,     0.15215,     0.15315,     0.15415,     0.15516,     0.15616,     0.15716,     0.15816,     0.15916,     0.16016,     0.16116,     0.16216,     0.16316,     0.16416,     0.16517,     0.16617,     0.16717,\n",
              "           0.16817,     0.16917,     0.17017,     0.17117,     0.17217,     0.17317,     0.17417,     0.17518,     0.17618,     0.17718,     0.17818,     0.17918,     0.18018,     0.18118,     0.18218,     0.18318,     0.18418,     0.18519,     0.18619,     0.18719,     0.18819,     0.18919,     0.19019,     0.19119,\n",
              "           0.19219,     0.19319,     0.19419,      0.1952,      0.1962,      0.1972,      0.1982,      0.1992,      0.2002,      0.2012,      0.2022,      0.2032,      0.2042,     0.20521,     0.20621,     0.20721,     0.20821,     0.20921,     0.21021,     0.21121,     0.21221,     0.21321,     0.21421,     0.21522,\n",
              "           0.21622,     0.21722,     0.21822,     0.21922,     0.22022,     0.22122,     0.22222,     0.22322,     0.22422,     0.22523,     0.22623,     0.22723,     0.22823,     0.22923,     0.23023,     0.23123,     0.23223,     0.23323,     0.23423,     0.23524,     0.23624,     0.23724,     0.23824,     0.23924,\n",
              "           0.24024,     0.24124,     0.24224,     0.24324,     0.24424,     0.24525,     0.24625,     0.24725,     0.24825,     0.24925,     0.25025,     0.25125,     0.25225,     0.25325,     0.25425,     0.25526,     0.25626,     0.25726,     0.25826,     0.25926,     0.26026,     0.26126,     0.26226,     0.26326,\n",
              "           0.26426,     0.26527,     0.26627,     0.26727,     0.26827,     0.26927,     0.27027,     0.27127,     0.27227,     0.27327,     0.27427,     0.27528,     0.27628,     0.27728,     0.27828,     0.27928,     0.28028,     0.28128,     0.28228,     0.28328,     0.28428,     0.28529,     0.28629,     0.28729,\n",
              "           0.28829,     0.28929,     0.29029,     0.29129,     0.29229,     0.29329,     0.29429,      0.2953,      0.2963,      0.2973,      0.2983,      0.2993,      0.3003,      0.3013,      0.3023,      0.3033,      0.3043,     0.30531,     0.30631,     0.30731,     0.30831,     0.30931,     0.31031,     0.31131,\n",
              "           0.31231,     0.31331,     0.31431,     0.31532,     0.31632,     0.31732,     0.31832,     0.31932,     0.32032,     0.32132,     0.32232,     0.32332,     0.32432,     0.32533,     0.32633,     0.32733,     0.32833,     0.32933,     0.33033,     0.33133,     0.33233,     0.33333,     0.33433,     0.33534,\n",
              "           0.33634,     0.33734,     0.33834,     0.33934,     0.34034,     0.34134,     0.34234,     0.34334,     0.34434,     0.34535,     0.34635,     0.34735,     0.34835,     0.34935,     0.35035,     0.35135,     0.35235,     0.35335,     0.35435,     0.35536,     0.35636,     0.35736,     0.35836,     0.35936,\n",
              "           0.36036,     0.36136,     0.36236,     0.36336,     0.36436,     0.36537,     0.36637,     0.36737,     0.36837,     0.36937,     0.37037,     0.37137,     0.37237,     0.37337,     0.37437,     0.37538,     0.37638,     0.37738,     0.37838,     0.37938,     0.38038,     0.38138,     0.38238,     0.38338,\n",
              "           0.38438,     0.38539,     0.38639,     0.38739,     0.38839,     0.38939,     0.39039,     0.39139,     0.39239,     0.39339,     0.39439,      0.3954,      0.3964,      0.3974,      0.3984,      0.3994,      0.4004,      0.4014,      0.4024,      0.4034,      0.4044,     0.40541,     0.40641,     0.40741,\n",
              "           0.40841,     0.40941,     0.41041,     0.41141,     0.41241,     0.41341,     0.41441,     0.41542,     0.41642,     0.41742,     0.41842,     0.41942,     0.42042,     0.42142,     0.42242,     0.42342,     0.42442,     0.42543,     0.42643,     0.42743,     0.42843,     0.42943,     0.43043,     0.43143,\n",
              "           0.43243,     0.43343,     0.43443,     0.43544,     0.43644,     0.43744,     0.43844,     0.43944,     0.44044,     0.44144,     0.44244,     0.44344,     0.44444,     0.44545,     0.44645,     0.44745,     0.44845,     0.44945,     0.45045,     0.45145,     0.45245,     0.45345,     0.45445,     0.45546,\n",
              "           0.45646,     0.45746,     0.45846,     0.45946,     0.46046,     0.46146,     0.46246,     0.46346,     0.46446,     0.46547,     0.46647,     0.46747,     0.46847,     0.46947,     0.47047,     0.47147,     0.47247,     0.47347,     0.47447,     0.47548,     0.47648,     0.47748,     0.47848,     0.47948,\n",
              "           0.48048,     0.48148,     0.48248,     0.48348,     0.48448,     0.48549,     0.48649,     0.48749,     0.48849,     0.48949,     0.49049,     0.49149,     0.49249,     0.49349,     0.49449,      0.4955,      0.4965,      0.4975,      0.4985,      0.4995,      0.5005,      0.5015,      0.5025,      0.5035,\n",
              "            0.5045,     0.50551,     0.50651,     0.50751,     0.50851,     0.50951,     0.51051,     0.51151,     0.51251,     0.51351,     0.51451,     0.51552,     0.51652,     0.51752,     0.51852,     0.51952,     0.52052,     0.52152,     0.52252,     0.52352,     0.52452,     0.52553,     0.52653,     0.52753,\n",
              "           0.52853,     0.52953,     0.53053,     0.53153,     0.53253,     0.53353,     0.53453,     0.53554,     0.53654,     0.53754,     0.53854,     0.53954,     0.54054,     0.54154,     0.54254,     0.54354,     0.54454,     0.54555,     0.54655,     0.54755,     0.54855,     0.54955,     0.55055,     0.55155,\n",
              "           0.55255,     0.55355,     0.55455,     0.55556,     0.55656,     0.55756,     0.55856,     0.55956,     0.56056,     0.56156,     0.56256,     0.56356,     0.56456,     0.56557,     0.56657,     0.56757,     0.56857,     0.56957,     0.57057,     0.57157,     0.57257,     0.57357,     0.57457,     0.57558,\n",
              "           0.57658,     0.57758,     0.57858,     0.57958,     0.58058,     0.58158,     0.58258,     0.58358,     0.58458,     0.58559,     0.58659,     0.58759,     0.58859,     0.58959,     0.59059,     0.59159,     0.59259,     0.59359,     0.59459,      0.5956,      0.5966,      0.5976,      0.5986,      0.5996,\n",
              "            0.6006,      0.6016,      0.6026,      0.6036,      0.6046,     0.60561,     0.60661,     0.60761,     0.60861,     0.60961,     0.61061,     0.61161,     0.61261,     0.61361,     0.61461,     0.61562,     0.61662,     0.61762,     0.61862,     0.61962,     0.62062,     0.62162,     0.62262,     0.62362,\n",
              "           0.62462,     0.62563,     0.62663,     0.62763,     0.62863,     0.62963,     0.63063,     0.63163,     0.63263,     0.63363,     0.63463,     0.63564,     0.63664,     0.63764,     0.63864,     0.63964,     0.64064,     0.64164,     0.64264,     0.64364,     0.64464,     0.64565,     0.64665,     0.64765,\n",
              "           0.64865,     0.64965,     0.65065,     0.65165,     0.65265,     0.65365,     0.65465,     0.65566,     0.65666,     0.65766,     0.65866,     0.65966,     0.66066,     0.66166,     0.66266,     0.66366,     0.66466,     0.66567,     0.66667,     0.66767,     0.66867,     0.66967,     0.67067,     0.67167,\n",
              "           0.67267,     0.67367,     0.67467,     0.67568,     0.67668,     0.67768,     0.67868,     0.67968,     0.68068,     0.68168,     0.68268,     0.68368,     0.68468,     0.68569,     0.68669,     0.68769,     0.68869,     0.68969,     0.69069,     0.69169,     0.69269,     0.69369,     0.69469,      0.6957,\n",
              "            0.6967,      0.6977,      0.6987,      0.6997,      0.7007,      0.7017,      0.7027,      0.7037,      0.7047,     0.70571,     0.70671,     0.70771,     0.70871,     0.70971,     0.71071,     0.71171,     0.71271,     0.71371,     0.71471,     0.71572,     0.71672,     0.71772,     0.71872,     0.71972,\n",
              "           0.72072,     0.72172,     0.72272,     0.72372,     0.72472,     0.72573,     0.72673,     0.72773,     0.72873,     0.72973,     0.73073,     0.73173,     0.73273,     0.73373,     0.73473,     0.73574,     0.73674,     0.73774,     0.73874,     0.73974,     0.74074,     0.74174,     0.74274,     0.74374,\n",
              "           0.74474,     0.74575,     0.74675,     0.74775,     0.74875,     0.74975,     0.75075,     0.75175,     0.75275,     0.75375,     0.75475,     0.75576,     0.75676,     0.75776,     0.75876,     0.75976,     0.76076,     0.76176,     0.76276,     0.76376,     0.76476,     0.76577,     0.76677,     0.76777,\n",
              "           0.76877,     0.76977,     0.77077,     0.77177,     0.77277,     0.77377,     0.77477,     0.77578,     0.77678,     0.77778,     0.77878,     0.77978,     0.78078,     0.78178,     0.78278,     0.78378,     0.78478,     0.78579,     0.78679,     0.78779,     0.78879,     0.78979,     0.79079,     0.79179,\n",
              "           0.79279,     0.79379,     0.79479,      0.7958,      0.7968,      0.7978,      0.7988,      0.7998,      0.8008,      0.8018,      0.8028,      0.8038,      0.8048,     0.80581,     0.80681,     0.80781,     0.80881,     0.80981,     0.81081,     0.81181,     0.81281,     0.81381,     0.81481,     0.81582,\n",
              "           0.81682,     0.81782,     0.81882,     0.81982,     0.82082,     0.82182,     0.82282,     0.82382,     0.82482,     0.82583,     0.82683,     0.82783,     0.82883,     0.82983,     0.83083,     0.83183,     0.83283,     0.83383,     0.83483,     0.83584,     0.83684,     0.83784,     0.83884,     0.83984,\n",
              "           0.84084,     0.84184,     0.84284,     0.84384,     0.84484,     0.84585,     0.84685,     0.84785,     0.84885,     0.84985,     0.85085,     0.85185,     0.85285,     0.85385,     0.85485,     0.85586,     0.85686,     0.85786,     0.85886,     0.85986,     0.86086,     0.86186,     0.86286,     0.86386,\n",
              "           0.86486,     0.86587,     0.86687,     0.86787,     0.86887,     0.86987,     0.87087,     0.87187,     0.87287,     0.87387,     0.87487,     0.87588,     0.87688,     0.87788,     0.87888,     0.87988,     0.88088,     0.88188,     0.88288,     0.88388,     0.88488,     0.88589,     0.88689,     0.88789,\n",
              "           0.88889,     0.88989,     0.89089,     0.89189,     0.89289,     0.89389,     0.89489,      0.8959,      0.8969,      0.8979,      0.8989,      0.8999,      0.9009,      0.9019,      0.9029,      0.9039,      0.9049,     0.90591,     0.90691,     0.90791,     0.90891,     0.90991,     0.91091,     0.91191,\n",
              "           0.91291,     0.91391,     0.91491,     0.91592,     0.91692,     0.91792,     0.91892,     0.91992,     0.92092,     0.92192,     0.92292,     0.92392,     0.92492,     0.92593,     0.92693,     0.92793,     0.92893,     0.92993,     0.93093,     0.93193,     0.93293,     0.93393,     0.93493,     0.93594,\n",
              "           0.93694,     0.93794,     0.93894,     0.93994,     0.94094,     0.94194,     0.94294,     0.94394,     0.94494,     0.94595,     0.94695,     0.94795,     0.94895,     0.94995,     0.95095,     0.95195,     0.95295,     0.95395,     0.95495,     0.95596,     0.95696,     0.95796,     0.95896,     0.95996,\n",
              "           0.96096,     0.96196,     0.96296,     0.96396,     0.96496,     0.96597,     0.96697,     0.96797,     0.96897,     0.96997,     0.97097,     0.97197,     0.97297,     0.97397,     0.97497,     0.97598,     0.97698,     0.97798,     0.97898,     0.97998,     0.98098,     0.98198,     0.98298,     0.98398,\n",
              "           0.98498,     0.98599,     0.98699,     0.98799,     0.98899,     0.98999,     0.99099,     0.99199,     0.99299,     0.99399,     0.99499,       0.996,       0.997,       0.998,       0.999,           1]), array([[    0.90452,     0.90452,     0.92104,     0.93002,      0.9447,      0.9527,     0.95671,     0.96307,     0.96499,      0.9669,     0.96829,     0.96928,     0.97026,     0.97124,     0.97222,     0.97302,      0.9732,     0.97339,     0.97357,     0.97376,     0.97394,     0.97413,     0.97431,\n",
              "            0.97449,     0.97468,     0.97486,     0.97505,     0.97523,     0.97542,      0.9756,     0.97579,     0.97597,     0.97615,     0.97634,     0.97652,     0.97671,     0.97689,     0.97707,     0.97726,     0.97744,     0.97762,     0.97781,     0.97799,     0.97817,     0.97834,      0.9785,\n",
              "            0.97866,     0.97882,     0.97898,     0.97914,      0.9793,     0.97946,     0.97962,     0.97978,     0.97994,      0.9801,     0.98026,     0.98042,     0.98057,     0.98073,     0.98089,     0.98105,     0.98121,     0.98137,     0.98153,     0.98169,     0.98184,       0.982,     0.98216,\n",
              "            0.98232,     0.98248,     0.98264,      0.9828,     0.98295,     0.98311,     0.98327,     0.98343,     0.98359,     0.98394,     0.98431,     0.98469,     0.98507,     0.98545,     0.98583,      0.9862,     0.98658,     0.98696,     0.98733,     0.98771,     0.98809,     0.98846,     0.98884,\n",
              "            0.98902,     0.98902,     0.98903,     0.98904,     0.98905,     0.98906,     0.98907,     0.98908,     0.98908,     0.98909,      0.9891,     0.98911,     0.98912,     0.98913,     0.98914,     0.98914,     0.98915,     0.98916,     0.98917,     0.98918,     0.98919,      0.9892,      0.9892,\n",
              "            0.98921,     0.98922,     0.98923,     0.98924,     0.98925,     0.98925,     0.98926,     0.98927,     0.98928,     0.98929,      0.9893,     0.98931,     0.98931,     0.98932,     0.98933,     0.98934,     0.98935,     0.98936,     0.98937,     0.98937,     0.98938,     0.98939,      0.9894,\n",
              "            0.98941,     0.98942,     0.98943,     0.98943,     0.98944,     0.98945,     0.98946,     0.98947,     0.98948,     0.98949,     0.98949,      0.9895,     0.98951,     0.98952,     0.98953,     0.98954,     0.98955,     0.98955,     0.98956,     0.98957,     0.98958,     0.98959,      0.9896,\n",
              "            0.98961,     0.98961,     0.98962,     0.98963,     0.98964,     0.98965,     0.98966,     0.98966,     0.98967,     0.98968,     0.98969,      0.9897,     0.98971,     0.98972,     0.98972,     0.98973,     0.98974,     0.98975,     0.98976,     0.98977,     0.98978,     0.98978,     0.98979,\n",
              "             0.9898,     0.98981,     0.98982,     0.98983,     0.98984,     0.98984,     0.98985,     0.98986,     0.98987,     0.98988,     0.98989,      0.9899,      0.9899,     0.98991,     0.98992,     0.98993,     0.98994,     0.98995,     0.98996,     0.98996,     0.98997,     0.98998,     0.98999,\n",
              "               0.99,     0.99001,     0.99001,     0.99002,     0.99003,     0.99004,     0.99005,     0.99006,     0.99007,     0.99007,     0.99008,     0.99009,      0.9901,     0.99011,     0.99012,     0.99013,     0.99013,     0.99014,     0.99015,     0.99016,     0.99017,     0.99018,     0.99019,\n",
              "            0.99019,      0.9902,     0.99021,     0.99022,     0.99023,     0.99024,     0.99025,     0.99025,     0.99026,     0.99027,     0.99028,     0.99029,      0.9903,      0.9903,     0.99031,     0.99032,     0.99033,     0.99034,     0.99035,     0.99036,     0.99036,     0.99037,     0.99038,\n",
              "            0.99039,      0.9904,     0.99041,     0.99042,     0.99042,     0.99043,     0.99044,     0.99045,     0.99046,     0.99047,     0.99048,     0.99048,     0.99049,      0.9905,     0.99051,     0.99052,     0.99053,     0.99053,     0.99054,     0.99055,     0.99056,     0.99057,     0.99058,\n",
              "            0.99059,     0.99059,      0.9906,     0.99061,     0.99062,     0.99063,     0.99064,     0.99065,     0.99065,     0.99066,     0.99067,     0.99068,     0.99069,      0.9907,     0.99071,     0.99071,     0.99072,     0.99073,     0.99074,     0.99075,     0.99076,     0.99076,     0.99077,\n",
              "            0.99078,     0.99079,      0.9908,     0.99081,     0.99082,     0.99082,     0.99083,     0.99084,     0.99085,     0.99086,     0.99087,     0.99088,     0.99088,     0.99089,      0.9909,     0.99091,     0.99092,     0.99093,     0.99094,     0.99094,     0.99095,     0.99096,     0.99097,\n",
              "            0.99098,     0.99099,     0.99099,       0.991,     0.99101,     0.99102,     0.99103,     0.99104,     0.99105,     0.99105,     0.99106,     0.99107,     0.99108,     0.99109,      0.9911,     0.99111,     0.99111,     0.99112,     0.99113,     0.99114,     0.99115,     0.99116,     0.99117,\n",
              "            0.99117,     0.99118,     0.99119,      0.9912,     0.99121,     0.99122,     0.99122,     0.99123,     0.99124,     0.99125,     0.99126,     0.99127,     0.99128,     0.99128,     0.99129,      0.9913,     0.99131,     0.99132,     0.99133,     0.99134,     0.99134,     0.99135,     0.99136,\n",
              "            0.99137,     0.99138,     0.99139,     0.99139,      0.9914,     0.99141,     0.99142,     0.99143,     0.99144,     0.99145,     0.99145,     0.99146,     0.99147,     0.99148,     0.99149,      0.9915,     0.99151,     0.99151,     0.99152,     0.99153,     0.99154,     0.99155,     0.99156,\n",
              "            0.99157,     0.99157,     0.99158,     0.99159,      0.9916,     0.99161,     0.99162,     0.99162,     0.99163,     0.99164,     0.99165,     0.99166,     0.99167,     0.99168,     0.99168,     0.99169,      0.9917,     0.99171,     0.99172,     0.99173,     0.99174,     0.99174,     0.99175,\n",
              "            0.99176,     0.99177,     0.99178,     0.99179,     0.99179,      0.9918,     0.99181,     0.99182,     0.99183,     0.99184,     0.99185,     0.99185,     0.99186,     0.99187,     0.99188,     0.99189,      0.9919,     0.99191,     0.99191,     0.99192,     0.99193,     0.99194,     0.99195,\n",
              "            0.99196,     0.99196,     0.99197,     0.99198,     0.99199,       0.992,     0.99201,     0.99202,     0.99202,     0.99203,     0.99204,     0.99205,     0.99206,     0.99207,     0.99208,     0.99208,     0.99209,      0.9921,     0.99211,     0.99212,     0.99213,     0.99213,     0.99214,\n",
              "            0.99215,     0.99216,     0.99217,     0.99218,     0.99219,     0.99219,      0.9922,     0.99221,     0.99222,     0.99223,     0.99224,     0.99225,     0.99225,     0.99226,     0.99227,     0.99228,     0.99229,      0.9923,      0.9923,     0.99231,     0.99232,     0.99233,     0.99234,\n",
              "            0.99235,     0.99236,     0.99236,     0.99237,     0.99238,     0.99239,      0.9924,     0.99241,     0.99241,     0.99242,     0.99243,     0.99244,     0.99245,     0.99246,     0.99247,     0.99247,     0.99248,     0.99249,      0.9925,     0.99251,     0.99252,     0.99253,     0.99253,\n",
              "            0.99254,     0.99255,     0.99256,     0.99257,     0.99258,     0.99258,     0.99259,      0.9926,     0.99261,     0.99262,     0.99263,     0.99264,     0.99264,     0.99265,     0.99266,     0.99267,     0.99268,     0.99269,      0.9927,      0.9927,     0.99271,     0.99272,     0.99273,\n",
              "            0.99274,     0.99275,     0.99275,     0.99276,     0.99277,     0.99278,     0.99279,      0.9928,     0.99281,     0.99281,     0.99282,     0.99283,     0.99284,     0.99285,     0.99286,     0.99286,     0.99287,     0.99288,     0.99289,      0.9929,     0.99291,     0.99292,     0.99292,\n",
              "            0.99293,     0.99294,     0.99295,     0.99296,     0.99297,     0.99298,     0.99298,     0.99299,       0.993,     0.99301,     0.99302,     0.99303,     0.99303,     0.99304,     0.99305,     0.99306,     0.99307,     0.99308,     0.99309,     0.99309,      0.9931,     0.99311,     0.99312,\n",
              "            0.99313,     0.99314,     0.99314,     0.99315,     0.99316,     0.99317,     0.99318,     0.99319,      0.9932,      0.9932,     0.99321,     0.99322,     0.99323,     0.99324,     0.99325,     0.99325,     0.99326,     0.99327,     0.99328,     0.99329,      0.9933,     0.99331,     0.99331,\n",
              "            0.99332,     0.99333,     0.99334,     0.99335,     0.99336,     0.99337,     0.99337,     0.99338,     0.99339,      0.9934,     0.99341,     0.99342,     0.99342,     0.99343,     0.99344,     0.99345,     0.99346,     0.99347,     0.99348,     0.99348,     0.99349,      0.9935,     0.99351,\n",
              "            0.99352,     0.99353,     0.99353,     0.99354,     0.99355,     0.99356,     0.99357,     0.99358,     0.99359,     0.99359,      0.9936,     0.99361,     0.99362,     0.99363,     0.99364,     0.99364,     0.99365,     0.99366,     0.99367,     0.99368,     0.99369,      0.9937,      0.9937,\n",
              "            0.99371,     0.99372,     0.99373,     0.99374,     0.99375,     0.99375,     0.99376,     0.99377,     0.99378,     0.99379,      0.9938,     0.99381,     0.99381,     0.99382,     0.99383,     0.99384,     0.99385,     0.99386,     0.99386,     0.99387,     0.99388,     0.99389,      0.9939,\n",
              "            0.99391,     0.99392,     0.99392,     0.99393,     0.99394,     0.99395,     0.99396,     0.99397,     0.99397,     0.99398,     0.99399,       0.994,     0.99401,     0.99402,     0.99403,     0.99403,     0.99404,     0.99405,     0.99406,     0.99407,     0.99408,     0.99408,     0.99409,\n",
              "             0.9941,     0.99411,     0.99412,     0.99413,     0.99414,     0.99414,     0.99415,     0.99416,     0.99417,     0.99418,     0.99419,     0.99419,      0.9942,     0.99421,     0.99422,     0.99423,     0.99424,     0.99425,     0.99425,     0.99426,     0.99427,     0.99428,     0.99429,\n",
              "             0.9943,      0.9943,     0.99431,     0.99432,     0.99433,     0.99434,     0.99435,     0.99436,     0.99436,     0.99437,     0.99438,     0.99439,      0.9944,     0.99441,     0.99441,     0.99442,     0.99443,     0.99444,     0.99445,     0.99446,     0.99447,     0.99447,     0.99454,\n",
              "            0.99461,     0.99468,     0.99475,     0.99482,     0.99489,     0.99496,     0.99502,     0.99509,     0.99516,     0.99523,      0.9953,     0.99537,     0.99544,     0.99551,     0.99558,     0.99565,     0.99572,     0.99579,     0.99586,     0.99593,       0.996,     0.99607,     0.99614,\n",
              "            0.99621,     0.99628,     0.99635,     0.99642,     0.99649,     0.99656,     0.99663,      0.9967,     0.99677,     0.99684,     0.99691,     0.99698,     0.99704,     0.99711,     0.99718,     0.99725,     0.99732,     0.99739,     0.99746,     0.99753,      0.9976,     0.99767,     0.99774,\n",
              "            0.99781,     0.99788,     0.99795,     0.99802,     0.99809,     0.99816,     0.99823,     0.99829,     0.99836,     0.99843,      0.9985,     0.99857,     0.99864,     0.99871,     0.99878,     0.99885,     0.99892,     0.99899,     0.99906,     0.99913,      0.9992,     0.99926,     0.99933,\n",
              "             0.9994,     0.99947,     0.99954,     0.99961,     0.99968,     0.99975,     0.99982,     0.99989,     0.99996,     0.99794,     0.99426,     0.99386,     0.99347,     0.99307,     0.99267,     0.99227,     0.99187,     0.99147,     0.99107,     0.99067,     0.99027,     0.98987,     0.98947,\n",
              "            0.98907,     0.98821,     0.98587,     0.98352,     0.97831,     0.97678,     0.97618,     0.97559,     0.97499,     0.97439,     0.97379,     0.97319,     0.97259,     0.97199,     0.97126,     0.96885,     0.96642,     0.95759,     0.95449,     0.95255,     0.95116,     0.94976,     0.94836,\n",
              "            0.94615,     0.94192,     0.93906,     0.93649,     0.93391,     0.93132,     0.92871,     0.91257,     0.90815,     0.90621,     0.90426,     0.90148,       0.893,     0.88805,     0.88097,     0.87379,     0.86736,     0.86443,     0.86149,     0.85517,     0.83782,     0.83473,     0.83163,\n",
              "            0.82896,     0.82635,     0.82373,     0.81346,     0.80809,     0.79734,     0.79458,     0.79118,     0.77431,     0.76206,     0.73911,     0.69898,     0.67319,     0.66816,     0.64435,     0.61407,     0.60858,     0.60143,     0.58663,     0.55017,      0.5381,     0.52138,     0.51303,\n",
              "            0.47265,      0.4682,     0.46374,     0.44125,     0.42039,     0.39077,     0.37254,      0.3449,     0.26677,     0.24655,     0.20958,     0.19195,     0.17262,     0.15298,     0.11455,     0.10409,     0.10036,    0.096619,    0.092861,    0.089087,    0.085299,    0.077145,    0.068686,\n",
              "            0.05357,    0.043012,    0.042139,    0.041266,    0.040391,    0.039516,     0.03864,    0.037764,    0.036886,    0.036008,    0.035129,    0.034249,    0.033369,    0.032487,    0.031605,    0.030722,    0.029838,    0.028954,    0.028068,    0.027182,    0.026295,    0.025408,    0.024519,\n",
              "            0.02363,     0.02274,           0,           0,           0,           0,           0,           0,           0,           0,           0,           0,           0,           0,           0,           0,           0,           0,           0,           0,           0,           0,           0,\n",
              "                  0,           0,           0,           0,           0,           0,           0,           0,           0,           0,           0,           0,           0,           0,           0,           0,           0,           0,           0,           0,           0,           0,           0,\n",
              "                  0,           0,           0,           0,           0,           0,           0,           0,           0,           0,           0]]), 'Confidence', 'F1'], [array([          0,    0.001001,    0.002002,    0.003003,    0.004004,    0.005005,    0.006006,    0.007007,    0.008008,    0.009009,     0.01001,    0.011011,    0.012012,    0.013013,    0.014014,    0.015015,    0.016016,    0.017017,    0.018018,    0.019019,     0.02002,    0.021021,    0.022022,    0.023023,\n",
              "          0.024024,    0.025025,    0.026026,    0.027027,    0.028028,    0.029029,     0.03003,    0.031031,    0.032032,    0.033033,    0.034034,    0.035035,    0.036036,    0.037037,    0.038038,    0.039039,     0.04004,    0.041041,    0.042042,    0.043043,    0.044044,    0.045045,    0.046046,    0.047047,\n",
              "          0.048048,    0.049049,     0.05005,    0.051051,    0.052052,    0.053053,    0.054054,    0.055055,    0.056056,    0.057057,    0.058058,    0.059059,     0.06006,    0.061061,    0.062062,    0.063063,    0.064064,    0.065065,    0.066066,    0.067067,    0.068068,    0.069069,     0.07007,    0.071071,\n",
              "          0.072072,    0.073073,    0.074074,    0.075075,    0.076076,    0.077077,    0.078078,    0.079079,     0.08008,    0.081081,    0.082082,    0.083083,    0.084084,    0.085085,    0.086086,    0.087087,    0.088088,    0.089089,     0.09009,    0.091091,    0.092092,    0.093093,    0.094094,    0.095095,\n",
              "          0.096096,    0.097097,    0.098098,    0.099099,      0.1001,      0.1011,      0.1021,      0.1031,      0.1041,     0.10511,     0.10611,     0.10711,     0.10811,     0.10911,     0.11011,     0.11111,     0.11211,     0.11311,     0.11411,     0.11512,     0.11612,     0.11712,     0.11812,     0.11912,\n",
              "           0.12012,     0.12112,     0.12212,     0.12312,     0.12412,     0.12513,     0.12613,     0.12713,     0.12813,     0.12913,     0.13013,     0.13113,     0.13213,     0.13313,     0.13413,     0.13514,     0.13614,     0.13714,     0.13814,     0.13914,     0.14014,     0.14114,     0.14214,     0.14314,\n",
              "           0.14414,     0.14515,     0.14615,     0.14715,     0.14815,     0.14915,     0.15015,     0.15115,     0.15215,     0.15315,     0.15415,     0.15516,     0.15616,     0.15716,     0.15816,     0.15916,     0.16016,     0.16116,     0.16216,     0.16316,     0.16416,     0.16517,     0.16617,     0.16717,\n",
              "           0.16817,     0.16917,     0.17017,     0.17117,     0.17217,     0.17317,     0.17417,     0.17518,     0.17618,     0.17718,     0.17818,     0.17918,     0.18018,     0.18118,     0.18218,     0.18318,     0.18418,     0.18519,     0.18619,     0.18719,     0.18819,     0.18919,     0.19019,     0.19119,\n",
              "           0.19219,     0.19319,     0.19419,      0.1952,      0.1962,      0.1972,      0.1982,      0.1992,      0.2002,      0.2012,      0.2022,      0.2032,      0.2042,     0.20521,     0.20621,     0.20721,     0.20821,     0.20921,     0.21021,     0.21121,     0.21221,     0.21321,     0.21421,     0.21522,\n",
              "           0.21622,     0.21722,     0.21822,     0.21922,     0.22022,     0.22122,     0.22222,     0.22322,     0.22422,     0.22523,     0.22623,     0.22723,     0.22823,     0.22923,     0.23023,     0.23123,     0.23223,     0.23323,     0.23423,     0.23524,     0.23624,     0.23724,     0.23824,     0.23924,\n",
              "           0.24024,     0.24124,     0.24224,     0.24324,     0.24424,     0.24525,     0.24625,     0.24725,     0.24825,     0.24925,     0.25025,     0.25125,     0.25225,     0.25325,     0.25425,     0.25526,     0.25626,     0.25726,     0.25826,     0.25926,     0.26026,     0.26126,     0.26226,     0.26326,\n",
              "           0.26426,     0.26527,     0.26627,     0.26727,     0.26827,     0.26927,     0.27027,     0.27127,     0.27227,     0.27327,     0.27427,     0.27528,     0.27628,     0.27728,     0.27828,     0.27928,     0.28028,     0.28128,     0.28228,     0.28328,     0.28428,     0.28529,     0.28629,     0.28729,\n",
              "           0.28829,     0.28929,     0.29029,     0.29129,     0.29229,     0.29329,     0.29429,      0.2953,      0.2963,      0.2973,      0.2983,      0.2993,      0.3003,      0.3013,      0.3023,      0.3033,      0.3043,     0.30531,     0.30631,     0.30731,     0.30831,     0.30931,     0.31031,     0.31131,\n",
              "           0.31231,     0.31331,     0.31431,     0.31532,     0.31632,     0.31732,     0.31832,     0.31932,     0.32032,     0.32132,     0.32232,     0.32332,     0.32432,     0.32533,     0.32633,     0.32733,     0.32833,     0.32933,     0.33033,     0.33133,     0.33233,     0.33333,     0.33433,     0.33534,\n",
              "           0.33634,     0.33734,     0.33834,     0.33934,     0.34034,     0.34134,     0.34234,     0.34334,     0.34434,     0.34535,     0.34635,     0.34735,     0.34835,     0.34935,     0.35035,     0.35135,     0.35235,     0.35335,     0.35435,     0.35536,     0.35636,     0.35736,     0.35836,     0.35936,\n",
              "           0.36036,     0.36136,     0.36236,     0.36336,     0.36436,     0.36537,     0.36637,     0.36737,     0.36837,     0.36937,     0.37037,     0.37137,     0.37237,     0.37337,     0.37437,     0.37538,     0.37638,     0.37738,     0.37838,     0.37938,     0.38038,     0.38138,     0.38238,     0.38338,\n",
              "           0.38438,     0.38539,     0.38639,     0.38739,     0.38839,     0.38939,     0.39039,     0.39139,     0.39239,     0.39339,     0.39439,      0.3954,      0.3964,      0.3974,      0.3984,      0.3994,      0.4004,      0.4014,      0.4024,      0.4034,      0.4044,     0.40541,     0.40641,     0.40741,\n",
              "           0.40841,     0.40941,     0.41041,     0.41141,     0.41241,     0.41341,     0.41441,     0.41542,     0.41642,     0.41742,     0.41842,     0.41942,     0.42042,     0.42142,     0.42242,     0.42342,     0.42442,     0.42543,     0.42643,     0.42743,     0.42843,     0.42943,     0.43043,     0.43143,\n",
              "           0.43243,     0.43343,     0.43443,     0.43544,     0.43644,     0.43744,     0.43844,     0.43944,     0.44044,     0.44144,     0.44244,     0.44344,     0.44444,     0.44545,     0.44645,     0.44745,     0.44845,     0.44945,     0.45045,     0.45145,     0.45245,     0.45345,     0.45445,     0.45546,\n",
              "           0.45646,     0.45746,     0.45846,     0.45946,     0.46046,     0.46146,     0.46246,     0.46346,     0.46446,     0.46547,     0.46647,     0.46747,     0.46847,     0.46947,     0.47047,     0.47147,     0.47247,     0.47347,     0.47447,     0.47548,     0.47648,     0.47748,     0.47848,     0.47948,\n",
              "           0.48048,     0.48148,     0.48248,     0.48348,     0.48448,     0.48549,     0.48649,     0.48749,     0.48849,     0.48949,     0.49049,     0.49149,     0.49249,     0.49349,     0.49449,      0.4955,      0.4965,      0.4975,      0.4985,      0.4995,      0.5005,      0.5015,      0.5025,      0.5035,\n",
              "            0.5045,     0.50551,     0.50651,     0.50751,     0.50851,     0.50951,     0.51051,     0.51151,     0.51251,     0.51351,     0.51451,     0.51552,     0.51652,     0.51752,     0.51852,     0.51952,     0.52052,     0.52152,     0.52252,     0.52352,     0.52452,     0.52553,     0.52653,     0.52753,\n",
              "           0.52853,     0.52953,     0.53053,     0.53153,     0.53253,     0.53353,     0.53453,     0.53554,     0.53654,     0.53754,     0.53854,     0.53954,     0.54054,     0.54154,     0.54254,     0.54354,     0.54454,     0.54555,     0.54655,     0.54755,     0.54855,     0.54955,     0.55055,     0.55155,\n",
              "           0.55255,     0.55355,     0.55455,     0.55556,     0.55656,     0.55756,     0.55856,     0.55956,     0.56056,     0.56156,     0.56256,     0.56356,     0.56456,     0.56557,     0.56657,     0.56757,     0.56857,     0.56957,     0.57057,     0.57157,     0.57257,     0.57357,     0.57457,     0.57558,\n",
              "           0.57658,     0.57758,     0.57858,     0.57958,     0.58058,     0.58158,     0.58258,     0.58358,     0.58458,     0.58559,     0.58659,     0.58759,     0.58859,     0.58959,     0.59059,     0.59159,     0.59259,     0.59359,     0.59459,      0.5956,      0.5966,      0.5976,      0.5986,      0.5996,\n",
              "            0.6006,      0.6016,      0.6026,      0.6036,      0.6046,     0.60561,     0.60661,     0.60761,     0.60861,     0.60961,     0.61061,     0.61161,     0.61261,     0.61361,     0.61461,     0.61562,     0.61662,     0.61762,     0.61862,     0.61962,     0.62062,     0.62162,     0.62262,     0.62362,\n",
              "           0.62462,     0.62563,     0.62663,     0.62763,     0.62863,     0.62963,     0.63063,     0.63163,     0.63263,     0.63363,     0.63463,     0.63564,     0.63664,     0.63764,     0.63864,     0.63964,     0.64064,     0.64164,     0.64264,     0.64364,     0.64464,     0.64565,     0.64665,     0.64765,\n",
              "           0.64865,     0.64965,     0.65065,     0.65165,     0.65265,     0.65365,     0.65465,     0.65566,     0.65666,     0.65766,     0.65866,     0.65966,     0.66066,     0.66166,     0.66266,     0.66366,     0.66466,     0.66567,     0.66667,     0.66767,     0.66867,     0.66967,     0.67067,     0.67167,\n",
              "           0.67267,     0.67367,     0.67467,     0.67568,     0.67668,     0.67768,     0.67868,     0.67968,     0.68068,     0.68168,     0.68268,     0.68368,     0.68468,     0.68569,     0.68669,     0.68769,     0.68869,     0.68969,     0.69069,     0.69169,     0.69269,     0.69369,     0.69469,      0.6957,\n",
              "            0.6967,      0.6977,      0.6987,      0.6997,      0.7007,      0.7017,      0.7027,      0.7037,      0.7047,     0.70571,     0.70671,     0.70771,     0.70871,     0.70971,     0.71071,     0.71171,     0.71271,     0.71371,     0.71471,     0.71572,     0.71672,     0.71772,     0.71872,     0.71972,\n",
              "           0.72072,     0.72172,     0.72272,     0.72372,     0.72472,     0.72573,     0.72673,     0.72773,     0.72873,     0.72973,     0.73073,     0.73173,     0.73273,     0.73373,     0.73473,     0.73574,     0.73674,     0.73774,     0.73874,     0.73974,     0.74074,     0.74174,     0.74274,     0.74374,\n",
              "           0.74474,     0.74575,     0.74675,     0.74775,     0.74875,     0.74975,     0.75075,     0.75175,     0.75275,     0.75375,     0.75475,     0.75576,     0.75676,     0.75776,     0.75876,     0.75976,     0.76076,     0.76176,     0.76276,     0.76376,     0.76476,     0.76577,     0.76677,     0.76777,\n",
              "           0.76877,     0.76977,     0.77077,     0.77177,     0.77277,     0.77377,     0.77477,     0.77578,     0.77678,     0.77778,     0.77878,     0.77978,     0.78078,     0.78178,     0.78278,     0.78378,     0.78478,     0.78579,     0.78679,     0.78779,     0.78879,     0.78979,     0.79079,     0.79179,\n",
              "           0.79279,     0.79379,     0.79479,      0.7958,      0.7968,      0.7978,      0.7988,      0.7998,      0.8008,      0.8018,      0.8028,      0.8038,      0.8048,     0.80581,     0.80681,     0.80781,     0.80881,     0.80981,     0.81081,     0.81181,     0.81281,     0.81381,     0.81481,     0.81582,\n",
              "           0.81682,     0.81782,     0.81882,     0.81982,     0.82082,     0.82182,     0.82282,     0.82382,     0.82482,     0.82583,     0.82683,     0.82783,     0.82883,     0.82983,     0.83083,     0.83183,     0.83283,     0.83383,     0.83483,     0.83584,     0.83684,     0.83784,     0.83884,     0.83984,\n",
              "           0.84084,     0.84184,     0.84284,     0.84384,     0.84484,     0.84585,     0.84685,     0.84785,     0.84885,     0.84985,     0.85085,     0.85185,     0.85285,     0.85385,     0.85485,     0.85586,     0.85686,     0.85786,     0.85886,     0.85986,     0.86086,     0.86186,     0.86286,     0.86386,\n",
              "           0.86486,     0.86587,     0.86687,     0.86787,     0.86887,     0.86987,     0.87087,     0.87187,     0.87287,     0.87387,     0.87487,     0.87588,     0.87688,     0.87788,     0.87888,     0.87988,     0.88088,     0.88188,     0.88288,     0.88388,     0.88488,     0.88589,     0.88689,     0.88789,\n",
              "           0.88889,     0.88989,     0.89089,     0.89189,     0.89289,     0.89389,     0.89489,      0.8959,      0.8969,      0.8979,      0.8989,      0.8999,      0.9009,      0.9019,      0.9029,      0.9039,      0.9049,     0.90591,     0.90691,     0.90791,     0.90891,     0.90991,     0.91091,     0.91191,\n",
              "           0.91291,     0.91391,     0.91491,     0.91592,     0.91692,     0.91792,     0.91892,     0.91992,     0.92092,     0.92192,     0.92292,     0.92392,     0.92492,     0.92593,     0.92693,     0.92793,     0.92893,     0.92993,     0.93093,     0.93193,     0.93293,     0.93393,     0.93493,     0.93594,\n",
              "           0.93694,     0.93794,     0.93894,     0.93994,     0.94094,     0.94194,     0.94294,     0.94394,     0.94494,     0.94595,     0.94695,     0.94795,     0.94895,     0.94995,     0.95095,     0.95195,     0.95295,     0.95395,     0.95495,     0.95596,     0.95696,     0.95796,     0.95896,     0.95996,\n",
              "           0.96096,     0.96196,     0.96296,     0.96396,     0.96496,     0.96597,     0.96697,     0.96797,     0.96897,     0.96997,     0.97097,     0.97197,     0.97297,     0.97397,     0.97497,     0.97598,     0.97698,     0.97798,     0.97898,     0.97998,     0.98098,     0.98198,     0.98298,     0.98398,\n",
              "           0.98498,     0.98599,     0.98699,     0.98799,     0.98899,     0.98999,     0.99099,     0.99199,     0.99299,     0.99399,     0.99499,       0.996,       0.997,       0.998,       0.999,           1]), array([[    0.82569,     0.82569,     0.85363,     0.86919,     0.89519,     0.90968,     0.91701,     0.92877,     0.93234,     0.93592,     0.93853,     0.94038,     0.94224,     0.94409,     0.94594,     0.94745,      0.9478,     0.94815,      0.9485,     0.94885,      0.9492,     0.94956,     0.94991,\n",
              "            0.95026,     0.95061,     0.95096,     0.95131,     0.95166,     0.95201,     0.95236,     0.95272,     0.95307,     0.95342,     0.95377,     0.95412,     0.95447,     0.95482,     0.95517,     0.95552,     0.95588,     0.95623,     0.95658,     0.95693,     0.95728,     0.95761,     0.95791,\n",
              "            0.95822,     0.95853,     0.95883,     0.95914,     0.95944,     0.95975,     0.96005,     0.96036,     0.96067,     0.96097,     0.96128,     0.96158,     0.96189,      0.9622,      0.9625,     0.96281,     0.96311,     0.96342,     0.96373,     0.96403,     0.96434,     0.96464,     0.96495,\n",
              "            0.96525,     0.96556,     0.96587,     0.96617,     0.96648,     0.96678,     0.96709,      0.9674,      0.9677,     0.96838,     0.96911,     0.96985,     0.97058,     0.97132,     0.97205,     0.97278,     0.97352,     0.97425,     0.97499,     0.97572,     0.97645,     0.97719,     0.97792,\n",
              "            0.97827,     0.97829,      0.9783,     0.97832,     0.97834,     0.97835,     0.97837,     0.97839,      0.9784,     0.97842,     0.97844,     0.97845,     0.97847,     0.97849,      0.9785,     0.97852,     0.97854,     0.97855,     0.97857,     0.97859,      0.9786,     0.97862,     0.97864,\n",
              "            0.97865,     0.97867,     0.97869,      0.9787,     0.97872,     0.97874,     0.97875,     0.97877,     0.97879,     0.97881,     0.97882,     0.97884,     0.97886,     0.97887,     0.97889,     0.97891,     0.97892,     0.97894,     0.97896,     0.97897,     0.97899,     0.97901,     0.97902,\n",
              "            0.97904,     0.97906,     0.97907,     0.97909,     0.97911,     0.97912,     0.97914,     0.97916,     0.97917,     0.97919,     0.97921,     0.97922,     0.97924,     0.97926,     0.97927,     0.97929,     0.97931,     0.97932,     0.97934,     0.97936,     0.97937,     0.97939,     0.97941,\n",
              "            0.97942,     0.97944,     0.97946,     0.97947,     0.97949,     0.97951,     0.97952,     0.97954,     0.97956,     0.97957,     0.97959,     0.97961,     0.97962,     0.97964,     0.97966,     0.97967,     0.97969,     0.97971,     0.97973,     0.97974,     0.97976,     0.97978,     0.97979,\n",
              "            0.97981,     0.97983,     0.97984,     0.97986,     0.97988,     0.97989,     0.97991,     0.97993,     0.97994,     0.97996,     0.97998,     0.97999,     0.98001,     0.98003,     0.98004,     0.98006,     0.98008,     0.98009,     0.98011,     0.98013,     0.98014,     0.98016,     0.98018,\n",
              "            0.98019,     0.98021,     0.98023,     0.98024,     0.98026,     0.98028,     0.98029,     0.98031,     0.98033,     0.98034,     0.98036,     0.98038,     0.98039,     0.98041,     0.98043,     0.98044,     0.98046,     0.98048,     0.98049,     0.98051,     0.98053,     0.98054,     0.98056,\n",
              "            0.98058,     0.98059,     0.98061,     0.98063,     0.98065,     0.98066,     0.98068,      0.9807,     0.98071,     0.98073,     0.98075,     0.98076,     0.98078,      0.9808,     0.98081,     0.98083,     0.98085,     0.98086,     0.98088,      0.9809,     0.98091,     0.98093,     0.98095,\n",
              "            0.98096,     0.98098,       0.981,     0.98101,     0.98103,     0.98105,     0.98106,     0.98108,      0.9811,     0.98111,     0.98113,     0.98115,     0.98116,     0.98118,      0.9812,     0.98121,     0.98123,     0.98125,     0.98126,     0.98128,      0.9813,     0.98131,     0.98133,\n",
              "            0.98135,     0.98136,     0.98138,      0.9814,     0.98141,     0.98143,     0.98145,     0.98146,     0.98148,      0.9815,     0.98151,     0.98153,     0.98155,     0.98157,     0.98158,      0.9816,     0.98162,     0.98163,     0.98165,     0.98167,     0.98168,      0.9817,     0.98172,\n",
              "            0.98173,     0.98175,     0.98177,     0.98178,      0.9818,     0.98182,     0.98183,     0.98185,     0.98187,     0.98188,      0.9819,     0.98192,     0.98193,     0.98195,     0.98197,     0.98198,       0.982,     0.98202,     0.98203,     0.98205,     0.98207,     0.98208,      0.9821,\n",
              "            0.98212,     0.98213,     0.98215,     0.98217,     0.98218,      0.9822,     0.98222,     0.98223,     0.98225,     0.98227,     0.98228,      0.9823,     0.98232,     0.98233,     0.98235,     0.98237,     0.98238,      0.9824,     0.98242,     0.98243,     0.98245,     0.98247,     0.98249,\n",
              "             0.9825,     0.98252,     0.98254,     0.98255,     0.98257,     0.98259,      0.9826,     0.98262,     0.98264,     0.98265,     0.98267,     0.98269,      0.9827,     0.98272,     0.98274,     0.98275,     0.98277,     0.98279,      0.9828,     0.98282,     0.98284,     0.98285,     0.98287,\n",
              "            0.98289,      0.9829,     0.98292,     0.98294,     0.98295,     0.98297,     0.98299,       0.983,     0.98302,     0.98304,     0.98305,     0.98307,     0.98309,      0.9831,     0.98312,     0.98314,     0.98315,     0.98317,     0.98319,      0.9832,     0.98322,     0.98324,     0.98325,\n",
              "            0.98327,     0.98329,      0.9833,     0.98332,     0.98334,     0.98335,     0.98337,     0.98339,     0.98341,     0.98342,     0.98344,     0.98346,     0.98347,     0.98349,     0.98351,     0.98352,     0.98354,     0.98356,     0.98357,     0.98359,     0.98361,     0.98362,     0.98364,\n",
              "            0.98366,     0.98367,     0.98369,     0.98371,     0.98372,     0.98374,     0.98376,     0.98377,     0.98379,     0.98381,     0.98382,     0.98384,     0.98386,     0.98387,     0.98389,     0.98391,     0.98392,     0.98394,     0.98396,     0.98397,     0.98399,     0.98401,     0.98402,\n",
              "            0.98404,     0.98406,     0.98407,     0.98409,     0.98411,     0.98412,     0.98414,     0.98416,     0.98417,     0.98419,     0.98421,     0.98422,     0.98424,     0.98426,     0.98428,     0.98429,     0.98431,     0.98433,     0.98434,     0.98436,     0.98438,     0.98439,     0.98441,\n",
              "            0.98443,     0.98444,     0.98446,     0.98448,     0.98449,     0.98451,     0.98453,     0.98454,     0.98456,     0.98458,     0.98459,     0.98461,     0.98463,     0.98464,     0.98466,     0.98468,     0.98469,     0.98471,     0.98473,     0.98474,     0.98476,     0.98478,     0.98479,\n",
              "            0.98481,     0.98483,     0.98484,     0.98486,     0.98488,     0.98489,     0.98491,     0.98493,     0.98494,     0.98496,     0.98498,     0.98499,     0.98501,     0.98503,     0.98504,     0.98506,     0.98508,     0.98509,     0.98511,     0.98513,     0.98514,     0.98516,     0.98518,\n",
              "             0.9852,     0.98521,     0.98523,     0.98525,     0.98526,     0.98528,      0.9853,     0.98531,     0.98533,     0.98535,     0.98536,     0.98538,      0.9854,     0.98541,     0.98543,     0.98545,     0.98546,     0.98548,      0.9855,     0.98551,     0.98553,     0.98555,     0.98556,\n",
              "            0.98558,      0.9856,     0.98561,     0.98563,     0.98565,     0.98566,     0.98568,      0.9857,     0.98571,     0.98573,     0.98575,     0.98576,     0.98578,      0.9858,     0.98581,     0.98583,     0.98585,     0.98586,     0.98588,      0.9859,     0.98591,     0.98593,     0.98595,\n",
              "            0.98596,     0.98598,       0.986,     0.98601,     0.98603,     0.98605,     0.98606,     0.98608,      0.9861,     0.98612,     0.98613,     0.98615,     0.98617,     0.98618,      0.9862,     0.98622,     0.98623,     0.98625,     0.98627,     0.98628,      0.9863,     0.98632,     0.98633,\n",
              "            0.98635,     0.98637,     0.98638,      0.9864,     0.98642,     0.98643,     0.98645,     0.98647,     0.98648,      0.9865,     0.98652,     0.98653,     0.98655,     0.98657,     0.98658,      0.9866,     0.98662,     0.98663,     0.98665,     0.98667,     0.98668,      0.9867,     0.98672,\n",
              "            0.98673,     0.98675,     0.98677,     0.98678,      0.9868,     0.98682,     0.98683,     0.98685,     0.98687,     0.98688,      0.9869,     0.98692,     0.98693,     0.98695,     0.98697,     0.98698,       0.987,     0.98702,     0.98704,     0.98705,     0.98707,     0.98709,      0.9871,\n",
              "            0.98712,     0.98714,     0.98715,     0.98717,     0.98719,      0.9872,     0.98722,     0.98724,     0.98725,     0.98727,     0.98729,      0.9873,     0.98732,     0.98734,     0.98735,     0.98737,     0.98739,      0.9874,     0.98742,     0.98744,     0.98745,     0.98747,     0.98749,\n",
              "             0.9875,     0.98752,     0.98754,     0.98755,     0.98757,     0.98759,      0.9876,     0.98762,     0.98764,     0.98765,     0.98767,     0.98769,      0.9877,     0.98772,     0.98774,     0.98775,     0.98777,     0.98779,      0.9878,     0.98782,     0.98784,     0.98785,     0.98787,\n",
              "            0.98789,      0.9879,     0.98792,     0.98794,     0.98796,     0.98797,     0.98799,     0.98801,     0.98802,     0.98804,     0.98806,     0.98807,     0.98809,     0.98811,     0.98812,     0.98814,     0.98816,     0.98817,     0.98819,     0.98821,     0.98822,     0.98824,     0.98826,\n",
              "            0.98827,     0.98829,     0.98831,     0.98832,     0.98834,     0.98836,     0.98837,     0.98839,     0.98841,     0.98842,     0.98844,     0.98846,     0.98847,     0.98849,     0.98851,     0.98852,     0.98854,     0.98856,     0.98857,     0.98859,     0.98861,     0.98862,     0.98864,\n",
              "            0.98866,     0.98867,     0.98869,     0.98871,     0.98872,     0.98874,     0.98876,     0.98877,     0.98879,     0.98881,     0.98882,     0.98884,     0.98886,     0.98888,     0.98889,     0.98891,     0.98893,     0.98894,     0.98896,     0.98898,     0.98899,     0.98901,     0.98913,\n",
              "            0.98927,     0.98941,     0.98955,     0.98968,     0.98982,     0.98996,      0.9901,     0.99024,     0.99038,     0.99051,     0.99065,     0.99079,     0.99093,     0.99107,      0.9912,     0.99134,     0.99148,     0.99162,     0.99176,      0.9919,     0.99203,     0.99217,     0.99231,\n",
              "            0.99245,     0.99259,     0.99272,     0.99286,       0.993,     0.99314,     0.99328,     0.99342,     0.99355,     0.99369,     0.99383,     0.99397,     0.99411,     0.99425,     0.99438,     0.99452,     0.99466,      0.9948,     0.99494,     0.99507,     0.99521,     0.99535,     0.99549,\n",
              "            0.99563,     0.99577,      0.9959,     0.99604,     0.99618,     0.99632,     0.99646,     0.99659,     0.99673,     0.99687,     0.99701,     0.99715,     0.99729,     0.99742,     0.99756,      0.9977,     0.99784,     0.99798,     0.99812,     0.99825,     0.99839,     0.99853,     0.99867,\n",
              "            0.99881,     0.99894,     0.99908,     0.99922,     0.99936,      0.9995,     0.99964,     0.99977,     0.99991,           1,           1,           1,           1,           1,           1,           1,           1,           1,           1,           1,           1,           1,           1,\n",
              "                  1,           1,           1,           1,           1,           1,           1,           1,           1,           1,           1,           1,           1,           1,           1,           1,           1,           1,           1,           1,           1,           1,           1,\n",
              "                  1,           1,           1,           1,           1,           1,           1,           1,           1,           1,           1,           1,           1,           1,           1,           1,           1,           1,           1,           1,           1,           1,           1,\n",
              "                  1,           1,           1,           1,           1,           1,           1,           1,           1,           1,           1,           1,           1,           1,           1,           1,           1,           1,           1,           1,           1,           1,           1,\n",
              "                  1,           1,           1,           1,           1,           1,           1,           1,           1,           1,           1,           1,           1,           1,           1,           1,           1,           1,           1,           1,           1,           1,           1,\n",
              "                  1,           1,           1,           1,           1,           1,           1,           1,           1,           1,           1,           1,           1,           1,           1,           1,           1,           1,           1,           1,           1,           1,           1,\n",
              "                  1,           1,           1,           1,           1,           1,           1,           1,           1,           1,           1,           1,           1,           1,           1,           1,           1,           1,           1,           1,           1,           1,           1,\n",
              "                  1,           1,           1,           1,           1,           1,           1,           1,           1,           1,           1,           1,           1,           1,           1,           1,           1,           1,           1,           1,           1,           1,           1,\n",
              "                  1,           1,           1,           1,           1,           1,           1,           1,           1,           1,           1]]), 'Confidence', 'Precision'], [array([          0,    0.001001,    0.002002,    0.003003,    0.004004,    0.005005,    0.006006,    0.007007,    0.008008,    0.009009,     0.01001,    0.011011,    0.012012,    0.013013,    0.014014,    0.015015,    0.016016,    0.017017,    0.018018,    0.019019,     0.02002,    0.021021,    0.022022,    0.023023,\n",
              "          0.024024,    0.025025,    0.026026,    0.027027,    0.028028,    0.029029,     0.03003,    0.031031,    0.032032,    0.033033,    0.034034,    0.035035,    0.036036,    0.037037,    0.038038,    0.039039,     0.04004,    0.041041,    0.042042,    0.043043,    0.044044,    0.045045,    0.046046,    0.047047,\n",
              "          0.048048,    0.049049,     0.05005,    0.051051,    0.052052,    0.053053,    0.054054,    0.055055,    0.056056,    0.057057,    0.058058,    0.059059,     0.06006,    0.061061,    0.062062,    0.063063,    0.064064,    0.065065,    0.066066,    0.067067,    0.068068,    0.069069,     0.07007,    0.071071,\n",
              "          0.072072,    0.073073,    0.074074,    0.075075,    0.076076,    0.077077,    0.078078,    0.079079,     0.08008,    0.081081,    0.082082,    0.083083,    0.084084,    0.085085,    0.086086,    0.087087,    0.088088,    0.089089,     0.09009,    0.091091,    0.092092,    0.093093,    0.094094,    0.095095,\n",
              "          0.096096,    0.097097,    0.098098,    0.099099,      0.1001,      0.1011,      0.1021,      0.1031,      0.1041,     0.10511,     0.10611,     0.10711,     0.10811,     0.10911,     0.11011,     0.11111,     0.11211,     0.11311,     0.11411,     0.11512,     0.11612,     0.11712,     0.11812,     0.11912,\n",
              "           0.12012,     0.12112,     0.12212,     0.12312,     0.12412,     0.12513,     0.12613,     0.12713,     0.12813,     0.12913,     0.13013,     0.13113,     0.13213,     0.13313,     0.13413,     0.13514,     0.13614,     0.13714,     0.13814,     0.13914,     0.14014,     0.14114,     0.14214,     0.14314,\n",
              "           0.14414,     0.14515,     0.14615,     0.14715,     0.14815,     0.14915,     0.15015,     0.15115,     0.15215,     0.15315,     0.15415,     0.15516,     0.15616,     0.15716,     0.15816,     0.15916,     0.16016,     0.16116,     0.16216,     0.16316,     0.16416,     0.16517,     0.16617,     0.16717,\n",
              "           0.16817,     0.16917,     0.17017,     0.17117,     0.17217,     0.17317,     0.17417,     0.17518,     0.17618,     0.17718,     0.17818,     0.17918,     0.18018,     0.18118,     0.18218,     0.18318,     0.18418,     0.18519,     0.18619,     0.18719,     0.18819,     0.18919,     0.19019,     0.19119,\n",
              "           0.19219,     0.19319,     0.19419,      0.1952,      0.1962,      0.1972,      0.1982,      0.1992,      0.2002,      0.2012,      0.2022,      0.2032,      0.2042,     0.20521,     0.20621,     0.20721,     0.20821,     0.20921,     0.21021,     0.21121,     0.21221,     0.21321,     0.21421,     0.21522,\n",
              "           0.21622,     0.21722,     0.21822,     0.21922,     0.22022,     0.22122,     0.22222,     0.22322,     0.22422,     0.22523,     0.22623,     0.22723,     0.22823,     0.22923,     0.23023,     0.23123,     0.23223,     0.23323,     0.23423,     0.23524,     0.23624,     0.23724,     0.23824,     0.23924,\n",
              "           0.24024,     0.24124,     0.24224,     0.24324,     0.24424,     0.24525,     0.24625,     0.24725,     0.24825,     0.24925,     0.25025,     0.25125,     0.25225,     0.25325,     0.25425,     0.25526,     0.25626,     0.25726,     0.25826,     0.25926,     0.26026,     0.26126,     0.26226,     0.26326,\n",
              "           0.26426,     0.26527,     0.26627,     0.26727,     0.26827,     0.26927,     0.27027,     0.27127,     0.27227,     0.27327,     0.27427,     0.27528,     0.27628,     0.27728,     0.27828,     0.27928,     0.28028,     0.28128,     0.28228,     0.28328,     0.28428,     0.28529,     0.28629,     0.28729,\n",
              "           0.28829,     0.28929,     0.29029,     0.29129,     0.29229,     0.29329,     0.29429,      0.2953,      0.2963,      0.2973,      0.2983,      0.2993,      0.3003,      0.3013,      0.3023,      0.3033,      0.3043,     0.30531,     0.30631,     0.30731,     0.30831,     0.30931,     0.31031,     0.31131,\n",
              "           0.31231,     0.31331,     0.31431,     0.31532,     0.31632,     0.31732,     0.31832,     0.31932,     0.32032,     0.32132,     0.32232,     0.32332,     0.32432,     0.32533,     0.32633,     0.32733,     0.32833,     0.32933,     0.33033,     0.33133,     0.33233,     0.33333,     0.33433,     0.33534,\n",
              "           0.33634,     0.33734,     0.33834,     0.33934,     0.34034,     0.34134,     0.34234,     0.34334,     0.34434,     0.34535,     0.34635,     0.34735,     0.34835,     0.34935,     0.35035,     0.35135,     0.35235,     0.35335,     0.35435,     0.35536,     0.35636,     0.35736,     0.35836,     0.35936,\n",
              "           0.36036,     0.36136,     0.36236,     0.36336,     0.36436,     0.36537,     0.36637,     0.36737,     0.36837,     0.36937,     0.37037,     0.37137,     0.37237,     0.37337,     0.37437,     0.37538,     0.37638,     0.37738,     0.37838,     0.37938,     0.38038,     0.38138,     0.38238,     0.38338,\n",
              "           0.38438,     0.38539,     0.38639,     0.38739,     0.38839,     0.38939,     0.39039,     0.39139,     0.39239,     0.39339,     0.39439,      0.3954,      0.3964,      0.3974,      0.3984,      0.3994,      0.4004,      0.4014,      0.4024,      0.4034,      0.4044,     0.40541,     0.40641,     0.40741,\n",
              "           0.40841,     0.40941,     0.41041,     0.41141,     0.41241,     0.41341,     0.41441,     0.41542,     0.41642,     0.41742,     0.41842,     0.41942,     0.42042,     0.42142,     0.42242,     0.42342,     0.42442,     0.42543,     0.42643,     0.42743,     0.42843,     0.42943,     0.43043,     0.43143,\n",
              "           0.43243,     0.43343,     0.43443,     0.43544,     0.43644,     0.43744,     0.43844,     0.43944,     0.44044,     0.44144,     0.44244,     0.44344,     0.44444,     0.44545,     0.44645,     0.44745,     0.44845,     0.44945,     0.45045,     0.45145,     0.45245,     0.45345,     0.45445,     0.45546,\n",
              "           0.45646,     0.45746,     0.45846,     0.45946,     0.46046,     0.46146,     0.46246,     0.46346,     0.46446,     0.46547,     0.46647,     0.46747,     0.46847,     0.46947,     0.47047,     0.47147,     0.47247,     0.47347,     0.47447,     0.47548,     0.47648,     0.47748,     0.47848,     0.47948,\n",
              "           0.48048,     0.48148,     0.48248,     0.48348,     0.48448,     0.48549,     0.48649,     0.48749,     0.48849,     0.48949,     0.49049,     0.49149,     0.49249,     0.49349,     0.49449,      0.4955,      0.4965,      0.4975,      0.4985,      0.4995,      0.5005,      0.5015,      0.5025,      0.5035,\n",
              "            0.5045,     0.50551,     0.50651,     0.50751,     0.50851,     0.50951,     0.51051,     0.51151,     0.51251,     0.51351,     0.51451,     0.51552,     0.51652,     0.51752,     0.51852,     0.51952,     0.52052,     0.52152,     0.52252,     0.52352,     0.52452,     0.52553,     0.52653,     0.52753,\n",
              "           0.52853,     0.52953,     0.53053,     0.53153,     0.53253,     0.53353,     0.53453,     0.53554,     0.53654,     0.53754,     0.53854,     0.53954,     0.54054,     0.54154,     0.54254,     0.54354,     0.54454,     0.54555,     0.54655,     0.54755,     0.54855,     0.54955,     0.55055,     0.55155,\n",
              "           0.55255,     0.55355,     0.55455,     0.55556,     0.55656,     0.55756,     0.55856,     0.55956,     0.56056,     0.56156,     0.56256,     0.56356,     0.56456,     0.56557,     0.56657,     0.56757,     0.56857,     0.56957,     0.57057,     0.57157,     0.57257,     0.57357,     0.57457,     0.57558,\n",
              "           0.57658,     0.57758,     0.57858,     0.57958,     0.58058,     0.58158,     0.58258,     0.58358,     0.58458,     0.58559,     0.58659,     0.58759,     0.58859,     0.58959,     0.59059,     0.59159,     0.59259,     0.59359,     0.59459,      0.5956,      0.5966,      0.5976,      0.5986,      0.5996,\n",
              "            0.6006,      0.6016,      0.6026,      0.6036,      0.6046,     0.60561,     0.60661,     0.60761,     0.60861,     0.60961,     0.61061,     0.61161,     0.61261,     0.61361,     0.61461,     0.61562,     0.61662,     0.61762,     0.61862,     0.61962,     0.62062,     0.62162,     0.62262,     0.62362,\n",
              "           0.62462,     0.62563,     0.62663,     0.62763,     0.62863,     0.62963,     0.63063,     0.63163,     0.63263,     0.63363,     0.63463,     0.63564,     0.63664,     0.63764,     0.63864,     0.63964,     0.64064,     0.64164,     0.64264,     0.64364,     0.64464,     0.64565,     0.64665,     0.64765,\n",
              "           0.64865,     0.64965,     0.65065,     0.65165,     0.65265,     0.65365,     0.65465,     0.65566,     0.65666,     0.65766,     0.65866,     0.65966,     0.66066,     0.66166,     0.66266,     0.66366,     0.66466,     0.66567,     0.66667,     0.66767,     0.66867,     0.66967,     0.67067,     0.67167,\n",
              "           0.67267,     0.67367,     0.67467,     0.67568,     0.67668,     0.67768,     0.67868,     0.67968,     0.68068,     0.68168,     0.68268,     0.68368,     0.68468,     0.68569,     0.68669,     0.68769,     0.68869,     0.68969,     0.69069,     0.69169,     0.69269,     0.69369,     0.69469,      0.6957,\n",
              "            0.6967,      0.6977,      0.6987,      0.6997,      0.7007,      0.7017,      0.7027,      0.7037,      0.7047,     0.70571,     0.70671,     0.70771,     0.70871,     0.70971,     0.71071,     0.71171,     0.71271,     0.71371,     0.71471,     0.71572,     0.71672,     0.71772,     0.71872,     0.71972,\n",
              "           0.72072,     0.72172,     0.72272,     0.72372,     0.72472,     0.72573,     0.72673,     0.72773,     0.72873,     0.72973,     0.73073,     0.73173,     0.73273,     0.73373,     0.73473,     0.73574,     0.73674,     0.73774,     0.73874,     0.73974,     0.74074,     0.74174,     0.74274,     0.74374,\n",
              "           0.74474,     0.74575,     0.74675,     0.74775,     0.74875,     0.74975,     0.75075,     0.75175,     0.75275,     0.75375,     0.75475,     0.75576,     0.75676,     0.75776,     0.75876,     0.75976,     0.76076,     0.76176,     0.76276,     0.76376,     0.76476,     0.76577,     0.76677,     0.76777,\n",
              "           0.76877,     0.76977,     0.77077,     0.77177,     0.77277,     0.77377,     0.77477,     0.77578,     0.77678,     0.77778,     0.77878,     0.77978,     0.78078,     0.78178,     0.78278,     0.78378,     0.78478,     0.78579,     0.78679,     0.78779,     0.78879,     0.78979,     0.79079,     0.79179,\n",
              "           0.79279,     0.79379,     0.79479,      0.7958,      0.7968,      0.7978,      0.7988,      0.7998,      0.8008,      0.8018,      0.8028,      0.8038,      0.8048,     0.80581,     0.80681,     0.80781,     0.80881,     0.80981,     0.81081,     0.81181,     0.81281,     0.81381,     0.81481,     0.81582,\n",
              "           0.81682,     0.81782,     0.81882,     0.81982,     0.82082,     0.82182,     0.82282,     0.82382,     0.82482,     0.82583,     0.82683,     0.82783,     0.82883,     0.82983,     0.83083,     0.83183,     0.83283,     0.83383,     0.83483,     0.83584,     0.83684,     0.83784,     0.83884,     0.83984,\n",
              "           0.84084,     0.84184,     0.84284,     0.84384,     0.84484,     0.84585,     0.84685,     0.84785,     0.84885,     0.84985,     0.85085,     0.85185,     0.85285,     0.85385,     0.85485,     0.85586,     0.85686,     0.85786,     0.85886,     0.85986,     0.86086,     0.86186,     0.86286,     0.86386,\n",
              "           0.86486,     0.86587,     0.86687,     0.86787,     0.86887,     0.86987,     0.87087,     0.87187,     0.87287,     0.87387,     0.87487,     0.87588,     0.87688,     0.87788,     0.87888,     0.87988,     0.88088,     0.88188,     0.88288,     0.88388,     0.88488,     0.88589,     0.88689,     0.88789,\n",
              "           0.88889,     0.88989,     0.89089,     0.89189,     0.89289,     0.89389,     0.89489,      0.8959,      0.8969,      0.8979,      0.8989,      0.8999,      0.9009,      0.9019,      0.9029,      0.9039,      0.9049,     0.90591,     0.90691,     0.90791,     0.90891,     0.90991,     0.91091,     0.91191,\n",
              "           0.91291,     0.91391,     0.91491,     0.91592,     0.91692,     0.91792,     0.91892,     0.91992,     0.92092,     0.92192,     0.92292,     0.92392,     0.92492,     0.92593,     0.92693,     0.92793,     0.92893,     0.92993,     0.93093,     0.93193,     0.93293,     0.93393,     0.93493,     0.93594,\n",
              "           0.93694,     0.93794,     0.93894,     0.93994,     0.94094,     0.94194,     0.94294,     0.94394,     0.94494,     0.94595,     0.94695,     0.94795,     0.94895,     0.94995,     0.95095,     0.95195,     0.95295,     0.95395,     0.95495,     0.95596,     0.95696,     0.95796,     0.95896,     0.95996,\n",
              "           0.96096,     0.96196,     0.96296,     0.96396,     0.96496,     0.96597,     0.96697,     0.96797,     0.96897,     0.96997,     0.97097,     0.97197,     0.97297,     0.97397,     0.97497,     0.97598,     0.97698,     0.97798,     0.97898,     0.97998,     0.98098,     0.98198,     0.98298,     0.98398,\n",
              "           0.98498,     0.98599,     0.98699,     0.98799,     0.98899,     0.98999,     0.99099,     0.99199,     0.99299,     0.99399,     0.99499,       0.996,       0.997,       0.998,       0.999,           1]), array([[          1,           1,           1,           1,           1,           1,           1,           1,           1,           1,           1,           1,           1,           1,           1,           1,           1,           1,           1,           1,           1,           1,           1,\n",
              "                  1,           1,           1,           1,           1,           1,           1,           1,           1,           1,           1,           1,           1,           1,           1,           1,           1,           1,           1,           1,           1,           1,           1,\n",
              "                  1,           1,           1,           1,           1,           1,           1,           1,           1,           1,           1,           1,           1,           1,           1,           1,           1,           1,           1,           1,           1,           1,           1,\n",
              "                  1,           1,           1,           1,           1,           1,           1,           1,           1,           1,           1,           1,           1,           1,           1,           1,           1,           1,           1,           1,           1,           1,           1,\n",
              "                  1,           1,           1,           1,           1,           1,           1,           1,           1,           1,           1,           1,           1,           1,           1,           1,           1,           1,           1,           1,           1,           1,           1,\n",
              "                  1,           1,           1,           1,           1,           1,           1,           1,           1,           1,           1,           1,           1,           1,           1,           1,           1,           1,           1,           1,           1,           1,           1,\n",
              "                  1,           1,           1,           1,           1,           1,           1,           1,           1,           1,           1,           1,           1,           1,           1,           1,           1,           1,           1,           1,           1,           1,           1,\n",
              "                  1,           1,           1,           1,           1,           1,           1,           1,           1,           1,           1,           1,           1,           1,           1,           1,           1,           1,           1,           1,           1,           1,           1,\n",
              "                  1,           1,           1,           1,           1,           1,           1,           1,           1,           1,           1,           1,           1,           1,           1,           1,           1,           1,           1,           1,           1,           1,           1,\n",
              "                  1,           1,           1,           1,           1,           1,           1,           1,           1,           1,           1,           1,           1,           1,           1,           1,           1,           1,           1,           1,           1,           1,           1,\n",
              "                  1,           1,           1,           1,           1,           1,           1,           1,           1,           1,           1,           1,           1,           1,           1,           1,           1,           1,           1,           1,           1,           1,           1,\n",
              "                  1,           1,           1,           1,           1,           1,           1,           1,           1,           1,           1,           1,           1,           1,           1,           1,           1,           1,           1,           1,           1,           1,           1,\n",
              "                  1,           1,           1,           1,           1,           1,           1,           1,           1,           1,           1,           1,           1,           1,           1,           1,           1,           1,           1,           1,           1,           1,           1,\n",
              "                  1,           1,           1,           1,           1,           1,           1,           1,           1,           1,           1,           1,           1,           1,           1,           1,           1,           1,           1,           1,           1,           1,           1,\n",
              "                  1,           1,           1,           1,           1,           1,           1,           1,           1,           1,           1,           1,           1,           1,           1,           1,           1,           1,           1,           1,           1,           1,           1,\n",
              "                  1,           1,           1,           1,           1,           1,           1,           1,           1,           1,           1,           1,           1,           1,           1,           1,           1,           1,           1,           1,           1,           1,           1,\n",
              "                  1,           1,           1,           1,           1,           1,           1,           1,           1,           1,           1,           1,           1,           1,           1,           1,           1,           1,           1,           1,           1,           1,           1,\n",
              "                  1,           1,           1,           1,           1,           1,           1,           1,           1,           1,           1,           1,           1,           1,           1,           1,           1,           1,           1,           1,           1,           1,           1,\n",
              "                  1,           1,           1,           1,           1,           1,           1,           1,           1,           1,           1,           1,           1,           1,           1,           1,           1,           1,           1,           1,           1,           1,           1,\n",
              "                  1,           1,           1,           1,           1,           1,           1,           1,           1,           1,           1,           1,           1,           1,           1,           1,           1,           1,           1,           1,           1,           1,           1,\n",
              "                  1,           1,           1,           1,           1,           1,           1,           1,           1,           1,           1,           1,           1,           1,           1,           1,           1,           1,           1,           1,           1,           1,           1,\n",
              "                  1,           1,           1,           1,           1,           1,           1,           1,           1,           1,           1,           1,           1,           1,           1,           1,           1,           1,           1,           1,           1,           1,           1,\n",
              "                  1,           1,           1,           1,           1,           1,           1,           1,           1,           1,           1,           1,           1,           1,           1,           1,           1,           1,           1,           1,           1,           1,           1,\n",
              "                  1,           1,           1,           1,           1,           1,           1,           1,           1,           1,           1,           1,           1,           1,           1,           1,           1,           1,           1,           1,           1,           1,           1,\n",
              "                  1,           1,           1,           1,           1,           1,           1,           1,           1,           1,           1,           1,           1,           1,           1,           1,           1,           1,           1,           1,           1,           1,           1,\n",
              "                  1,           1,           1,           1,           1,           1,           1,           1,           1,           1,           1,           1,           1,           1,           1,           1,           1,           1,           1,           1,           1,           1,           1,\n",
              "                  1,           1,           1,           1,           1,           1,           1,           1,           1,           1,           1,           1,           1,           1,           1,           1,           1,           1,           1,           1,           1,           1,           1,\n",
              "                  1,           1,           1,           1,           1,           1,           1,           1,           1,           1,           1,           1,           1,           1,           1,           1,           1,           1,           1,           1,           1,           1,           1,\n",
              "                  1,           1,           1,           1,           1,           1,           1,           1,           1,           1,           1,           1,           1,           1,           1,           1,           1,           1,           1,           1,           1,           1,           1,\n",
              "                  1,           1,           1,           1,           1,           1,           1,           1,           1,           1,           1,           1,           1,           1,           1,           1,           1,           1,           1,           1,           1,           1,           1,\n",
              "                  1,           1,           1,           1,           1,           1,           1,           1,           1,           1,           1,           1,           1,           1,           1,           1,           1,           1,           1,           1,           1,           1,           1,\n",
              "                  1,           1,           1,           1,           1,           1,           1,           1,           1,           1,           1,           1,           1,           1,           1,           1,           1,           1,           1,           1,           1,           1,           1,\n",
              "                  1,           1,           1,           1,           1,           1,           1,           1,           1,           1,           1,           1,           1,           1,           1,           1,           1,           1,           1,           1,           1,           1,           1,\n",
              "                  1,           1,           1,           1,           1,           1,           1,           1,           1,           1,           1,           1,           1,           1,           1,           1,           1,           1,           1,           1,           1,           1,           1,\n",
              "                  1,           1,           1,           1,           1,           1,           1,           1,           1,           1,           1,           1,           1,           1,           1,           1,           1,           1,           1,           1,           1,           1,           1,\n",
              "                  1,           1,           1,           1,           1,           1,           1,           1,           1,     0.99588,     0.98859,      0.9878,     0.98701,     0.98623,     0.98544,     0.98466,     0.98387,     0.98309,      0.9823,     0.98152,     0.98073,     0.97995,     0.97916,\n",
              "            0.97837,     0.97669,     0.97213,     0.96757,     0.95755,     0.95462,     0.95348,     0.95234,      0.9512,     0.95006,     0.94892,     0.94778,     0.94664,      0.9455,     0.94413,     0.93957,     0.93502,     0.91863,     0.91294,     0.90939,     0.90686,     0.90433,      0.9018,\n",
              "            0.89781,     0.89021,     0.88513,     0.88057,     0.87602,     0.87146,      0.8669,     0.83921,     0.83176,      0.8285,     0.82525,     0.82063,     0.80669,     0.79865,     0.78726,     0.77587,     0.76579,     0.76124,     0.75668,     0.74698,      0.7209,     0.71635,     0.71179,\n",
              "            0.70788,     0.70409,     0.70029,     0.68558,     0.67799,     0.66297,     0.65918,     0.65451,     0.63173,     0.61559,     0.58618,     0.53725,     0.50738,     0.50168,     0.47531,     0.44307,     0.43738,     0.43003,     0.41506,     0.37947,     0.36808,     0.35261,     0.34502,\n",
              "            0.30945,     0.30566,     0.30186,     0.28308,     0.26614,     0.24283,     0.22891,     0.20839,     0.15392,     0.14061,     0.11705,     0.10616,    0.094461,    0.082827,    0.060757,    0.054903,    0.052833,    0.050762,    0.048691,     0.04662,     0.04455,     0.04012,    0.035564,\n",
              "           0.027522,    0.021979,    0.021523,    0.021068,    0.020612,    0.020156,    0.019701,    0.019245,     0.01879,    0.018334,    0.017879,    0.017423,    0.016967,    0.016512,    0.016056,    0.015601,    0.015145,     0.01469,    0.014234,    0.013778,    0.013323,    0.012867,    0.012412,\n",
              "           0.011956,    0.011501,           0,           0,           0,           0,           0,           0,           0,           0,           0,           0,           0,           0,           0,           0,           0,           0,           0,           0,           0,           0,           0,\n",
              "                  0,           0,           0,           0,           0,           0,           0,           0,           0,           0,           0,           0,           0,           0,           0,           0,           0,           0,           0,           0,           0,           0,           0,\n",
              "                  0,           0,           0,           0,           0,           0,           0,           0,           0,           0,           0]]), 'Confidence', 'Recall']]\n",
              "fitness: 0.8524465743832111\n",
              "keys: ['metrics/precision(B)', 'metrics/recall(B)', 'metrics/mAP50(B)', 'metrics/mAP50-95(B)']\n",
              "maps: array([    0.83661])\n",
              "names: {0: 'license_plate'}\n",
              "plot: True\n",
              "results_dict: {'metrics/precision(B)': 0.9931395023419564, 'metrics/recall(B)': 1.0, 'metrics/mAP50(B)': 0.995, 'metrics/mAP50-95(B)': 0.8366073048702345, 'fitness': 0.8524465743832111}\n",
              "save_dir: PosixPath('runs/detect/train')\n",
              "speed: {'preprocess': 0.18708970811631945, 'inference': 2.8491179148356123, 'loss': 0.0005695554945203993, 'postprocess': 2.8781864378187394}\n",
              "task: 'detect'"
            ]
          },
          "metadata": {},
          "execution_count": 4
        }
      ],
      "source": [
        "\n",
        "# code runs on collab with T4GPU\n",
        "from ultralytics import YOLO\n",
        "\n",
        "# Initialize YOLOv8 model use 'yolov8n'\n",
        "model = YOLO(\"yolov8n.pt\")\n",
        "\n",
        "# Train the model\n",
        "model.train(\n",
        "    data=r\"/content/drive/My Drive/Data/lic_detection.yaml\",  # Path to your `data.yaml`\n",
        "    epochs=150,\n",
        "    imgsz=640,\n",
        "    batch=16\n",
        ")\n"
      ]
    },
    {
      "cell_type": "code",
      "execution_count": 5,
      "id": "8esGtQe6DXGo",
      "metadata": {
        "colab": {
          "base_uri": "https://localhost:8080/"
        },
        "id": "8esGtQe6DXGo",
        "outputId": "bce2ec2c-c2b0-42cc-ea05-02223dea0c18"
      },
      "outputs": [
        {
          "output_type": "stream",
          "name": "stdout",
          "text": [
            "\n",
            "image 1/720 /content/drive/MyDrive/Data/split_dataset/train/images/1.jpg: 384x640 1 license_plate, 36.3ms\n",
            "image 2/720 /content/drive/MyDrive/Data/split_dataset/train/images/10.jpg: 480x640 1 license_plate, 35.9ms\n",
            "image 3/720 /content/drive/MyDrive/Data/split_dataset/train/images/100.jpg: 480x640 1 license_plate, 6.2ms\n",
            "image 4/720 /content/drive/MyDrive/Data/split_dataset/train/images/101.jpg: 384x640 1 license_plate, 6.9ms\n",
            "image 5/720 /content/drive/MyDrive/Data/split_dataset/train/images/102.jpg: 640x480 1 license_plate, 35.0ms\n",
            "image 6/720 /content/drive/MyDrive/Data/split_dataset/train/images/104.jpg: 480x640 1 license_plate, 7.0ms\n",
            "image 7/720 /content/drive/MyDrive/Data/split_dataset/train/images/105.jpg: 384x640 1 license_plate, 6.9ms\n",
            "image 8/720 /content/drive/MyDrive/Data/split_dataset/train/images/106.jpg: 640x480 1 license_plate, 15.0ms\n",
            "image 9/720 /content/drive/MyDrive/Data/split_dataset/train/images/107.jpg: 480x640 1 license_plate, 10.0ms\n",
            "image 10/720 /content/drive/MyDrive/Data/split_dataset/train/images/108.jpg: 480x640 1 license_plate, 8.5ms\n",
            "image 11/720 /content/drive/MyDrive/Data/split_dataset/train/images/109.jpg: 480x640 1 license_plate, 8.0ms\n",
            "image 12/720 /content/drive/MyDrive/Data/split_dataset/train/images/11.jpg: 448x640 1 license_plate, 57.6ms\n",
            "image 13/720 /content/drive/MyDrive/Data/split_dataset/train/images/110.jpg: 384x640 1 license_plate, 9.4ms\n",
            "image 14/720 /content/drive/MyDrive/Data/split_dataset/train/images/111.jpg: 384x640 1 license_plate, 8.6ms\n",
            "image 15/720 /content/drive/MyDrive/Data/split_dataset/train/images/112.jpg: 480x640 1 license_plate, 11.6ms\n",
            "image 16/720 /content/drive/MyDrive/Data/split_dataset/train/images/113.jpg: 384x640 1 license_plate, 12.8ms\n",
            "image 17/720 /content/drive/MyDrive/Data/split_dataset/train/images/114.jpg: 384x640 1 license_plate, 7.9ms\n",
            "image 18/720 /content/drive/MyDrive/Data/split_dataset/train/images/115.jpg: 640x480 1 license_plate, 8.3ms\n",
            "image 19/720 /content/drive/MyDrive/Data/split_dataset/train/images/116.jpg: 480x640 1 license_plate, 8.3ms\n",
            "image 20/720 /content/drive/MyDrive/Data/split_dataset/train/images/117.jpg: 480x640 1 license_plate, 7.8ms\n",
            "image 21/720 /content/drive/MyDrive/Data/split_dataset/train/images/118.jpg: 480x640 1 license_plate, 9.8ms\n",
            "image 22/720 /content/drive/MyDrive/Data/split_dataset/train/images/119.jpg: 480x640 1 license_plate, 7.7ms\n",
            "image 23/720 /content/drive/MyDrive/Data/split_dataset/train/images/120.jpg: 480x640 1 license_plate, 7.6ms\n",
            "image 24/720 /content/drive/MyDrive/Data/split_dataset/train/images/122.jpg: 640x480 1 license_plate, 11.4ms\n",
            "image 25/720 /content/drive/MyDrive/Data/split_dataset/train/images/123.jpg: 640x384 1 license_plate, 61.3ms\n",
            "image 26/720 /content/drive/MyDrive/Data/split_dataset/train/images/124.jpg: 480x640 2 license_plates, 12.8ms\n",
            "image 27/720 /content/drive/MyDrive/Data/split_dataset/train/images/125.jpg: 448x640 1 license_plate, 11.6ms\n",
            "image 28/720 /content/drive/MyDrive/Data/split_dataset/train/images/128.jpg: 640x480 1 license_plate, 13.1ms\n",
            "image 29/720 /content/drive/MyDrive/Data/split_dataset/train/images/13.jpg: 384x640 1 license_plate, 9.6ms\n",
            "image 30/720 /content/drive/MyDrive/Data/split_dataset/train/images/130.jpg: 480x640 1 license_plate, 12.3ms\n",
            "image 31/720 /content/drive/MyDrive/Data/split_dataset/train/images/131.jpg: 640x480 1 license_plate, 11.5ms\n",
            "image 32/720 /content/drive/MyDrive/Data/split_dataset/train/images/132.jpg: 384x640 1 license_plate, 11.6ms\n",
            "image 33/720 /content/drive/MyDrive/Data/split_dataset/train/images/133.jpg: 640x512 1 license_plate, 52.2ms\n",
            "image 34/720 /content/drive/MyDrive/Data/split_dataset/train/images/135.jpg: 640x480 1 license_plate, 11.5ms\n",
            "image 35/720 /content/drive/MyDrive/Data/split_dataset/train/images/136.jpg: 640x480 1 license_plate, 7.7ms\n",
            "image 36/720 /content/drive/MyDrive/Data/split_dataset/train/images/137.jpg: 480x640 1 license_plate, 10.5ms\n",
            "image 37/720 /content/drive/MyDrive/Data/split_dataset/train/images/138.jpg: 640x384 1 license_plate, 13.6ms\n",
            "image 38/720 /content/drive/MyDrive/Data/split_dataset/train/images/14.jpg: 384x640 1 license_plate, 18.1ms\n",
            "image 39/720 /content/drive/MyDrive/Data/split_dataset/train/images/140.jpg: 384x640 1 license_plate, 17.0ms\n",
            "image 40/720 /content/drive/MyDrive/Data/split_dataset/train/images/141.jpg: 384x640 1 license_plate, 10.7ms\n",
            "image 41/720 /content/drive/MyDrive/Data/split_dataset/train/images/142.jpg: 480x640 1 license_plate, 8.6ms\n",
            "image 42/720 /content/drive/MyDrive/Data/split_dataset/train/images/144.jpg: 640x480 1 license_plate, 9.0ms\n",
            "image 43/720 /content/drive/MyDrive/Data/split_dataset/train/images/145.jpg: 480x640 1 license_plate, 9.3ms\n",
            "image 44/720 /content/drive/MyDrive/Data/split_dataset/train/images/146.jpg: 480x640 1 license_plate, 10.6ms\n",
            "image 45/720 /content/drive/MyDrive/Data/split_dataset/train/images/147.jpg: 448x640 1 license_plate, 10.6ms\n",
            "image 46/720 /content/drive/MyDrive/Data/split_dataset/train/images/149.jpg: 640x480 1 license_plate, 11.5ms\n",
            "image 47/720 /content/drive/MyDrive/Data/split_dataset/train/images/15.jpg: 640x480 1 license_plate, 10.7ms\n",
            "image 48/720 /content/drive/MyDrive/Data/split_dataset/train/images/150.jpg: 640x480 1 license_plate, 11.2ms\n",
            "image 49/720 /content/drive/MyDrive/Data/split_dataset/train/images/151.jpg: 384x640 1 license_plate, 10.7ms\n",
            "image 50/720 /content/drive/MyDrive/Data/split_dataset/train/images/152.jpg: 480x640 1 license_plate, 10.6ms\n",
            "image 51/720 /content/drive/MyDrive/Data/split_dataset/train/images/154.jpg: 640x480 1 license_plate, 10.7ms\n",
            "image 52/720 /content/drive/MyDrive/Data/split_dataset/train/images/155.jpg: 480x640 1 license_plate, 10.5ms\n",
            "image 53/720 /content/drive/MyDrive/Data/split_dataset/train/images/157.jpg: 384x640 1 license_plate, 10.1ms\n",
            "image 54/720 /content/drive/MyDrive/Data/split_dataset/train/images/160.jpg: 384x640 1 license_plate, 9.2ms\n",
            "image 55/720 /content/drive/MyDrive/Data/split_dataset/train/images/161.jpg: 640x384 1 license_plate, 10.4ms\n",
            "image 56/720 /content/drive/MyDrive/Data/split_dataset/train/images/163.jpg: 384x640 1 license_plate, 9.9ms\n",
            "image 57/720 /content/drive/MyDrive/Data/split_dataset/train/images/165.jpg: 480x640 1 license_plate, 10.1ms\n",
            "image 58/720 /content/drive/MyDrive/Data/split_dataset/train/images/166.jpg: 640x480 1 license_plate, 10.0ms\n",
            "image 59/720 /content/drive/MyDrive/Data/split_dataset/train/images/167.jpg: 384x640 1 license_plate, 13.5ms\n",
            "image 60/720 /content/drive/MyDrive/Data/split_dataset/train/images/170.jpg: 416x640 1 license_plate, 60.1ms\n",
            "image 61/720 /content/drive/MyDrive/Data/split_dataset/train/images/171.jpg: 384x640 1 license_plate, 12.2ms\n",
            "image 62/720 /content/drive/MyDrive/Data/split_dataset/train/images/172.jpg: 384x640 1 license_plate, 9.9ms\n",
            "image 63/720 /content/drive/MyDrive/Data/split_dataset/train/images/174.jpg: 640x384 1 license_plate, 10.0ms\n",
            "image 64/720 /content/drive/MyDrive/Data/split_dataset/train/images/176.jpg: 384x640 1 license_plate, 9.9ms\n",
            "image 65/720 /content/drive/MyDrive/Data/split_dataset/train/images/178.jpg: 384x640 1 license_plate, 13.1ms\n",
            "image 66/720 /content/drive/MyDrive/Data/split_dataset/train/images/179.jpg: 640x480 1 license_plate, 14.1ms\n",
            "image 67/720 /content/drive/MyDrive/Data/split_dataset/train/images/18.jpg: 480x640 1 license_plate, 13.1ms\n",
            "image 68/720 /content/drive/MyDrive/Data/split_dataset/train/images/180.jpg: 384x640 1 license_plate, 11.3ms\n",
            "image 69/720 /content/drive/MyDrive/Data/split_dataset/train/images/181.jpg: 640x544 1 license_plate, 54.3ms\n",
            "image 70/720 /content/drive/MyDrive/Data/split_dataset/train/images/182.jpg: 640x384 1 license_plate, 13.2ms\n",
            "image 71/720 /content/drive/MyDrive/Data/split_dataset/train/images/183.jpg: 384x640 1 license_plate, 9.9ms\n",
            "image 72/720 /content/drive/MyDrive/Data/split_dataset/train/images/184.jpg: 640x384 1 license_plate, 9.9ms\n",
            "image 73/720 /content/drive/MyDrive/Data/split_dataset/train/images/185.jpg: 480x640 1 license_plate, 9.7ms\n",
            "image 74/720 /content/drive/MyDrive/Data/split_dataset/train/images/188.jpg: 544x640 1 license_plate, 61.8ms\n",
            "image 75/720 /content/drive/MyDrive/Data/split_dataset/train/images/189.jpg: 640x480 1 license_plate, 10.0ms\n",
            "image 76/720 /content/drive/MyDrive/Data/split_dataset/train/images/19.jpg: 640x384 1 license_plate, 9.7ms\n",
            "image 77/720 /content/drive/MyDrive/Data/split_dataset/train/images/190.jpg: 640x480 1 license_plate, 9.5ms\n",
            "image 78/720 /content/drive/MyDrive/Data/split_dataset/train/images/191.jpg: 384x640 1 license_plate, 10.1ms\n",
            "image 79/720 /content/drive/MyDrive/Data/split_dataset/train/images/192.jpg: 480x640 1 license_plate, 9.5ms\n",
            "image 80/720 /content/drive/MyDrive/Data/split_dataset/train/images/193.jpg: 384x640 1 license_plate, 9.8ms\n",
            "image 81/720 /content/drive/MyDrive/Data/split_dataset/train/images/194.jpg: 480x640 1 license_plate, 9.7ms\n",
            "image 82/720 /content/drive/MyDrive/Data/split_dataset/train/images/195.jpg: 512x640 1 license_plate, 56.0ms\n",
            "image 83/720 /content/drive/MyDrive/Data/split_dataset/train/images/196.jpg: 640x544 1 license_plate, 10.9ms\n",
            "image 84/720 /content/drive/MyDrive/Data/split_dataset/train/images/197.jpg: 640x384 1 license_plate, 10.3ms\n",
            "image 85/720 /content/drive/MyDrive/Data/split_dataset/train/images/2.jpg: 640x384 1 license_plate, 8.8ms\n",
            "image 86/720 /content/drive/MyDrive/Data/split_dataset/train/images/20.jpg: 384x640 1 license_plate, 11.6ms\n",
            "image 87/720 /content/drive/MyDrive/Data/split_dataset/train/images/200.jpg: 640x608 1 license_plate, 56.8ms\n",
            "image 88/720 /content/drive/MyDrive/Data/split_dataset/train/images/201.jpg: 480x640 1 license_plate, 17.5ms\n",
            "image 89/720 /content/drive/MyDrive/Data/split_dataset/train/images/202.jpg: 480x640 1 license_plate, 11.4ms\n",
            "image 90/720 /content/drive/MyDrive/Data/split_dataset/train/images/203.jpg: 384x640 1 license_plate, 11.5ms\n",
            "image 91/720 /content/drive/MyDrive/Data/split_dataset/train/images/204.jpg: 640x640 1 license_plate, 10.9ms\n",
            "image 92/720 /content/drive/MyDrive/Data/split_dataset/train/images/205.jpg: 480x640 1 license_plate, 10.8ms\n",
            "image 93/720 /content/drive/MyDrive/Data/split_dataset/train/images/206.jpg: 640x480 1 license_plate, 9.9ms\n",
            "image 94/720 /content/drive/MyDrive/Data/split_dataset/train/images/208.jpg: 480x640 1 license_plate, 14.3ms\n",
            "image 95/720 /content/drive/MyDrive/Data/split_dataset/train/images/209.jpg: 480x640 1 license_plate, 11.6ms\n",
            "image 96/720 /content/drive/MyDrive/Data/split_dataset/train/images/21.jpg: 480x640 1 license_plate, 14.6ms\n",
            "image 97/720 /content/drive/MyDrive/Data/split_dataset/train/images/210.jpg: 384x640 1 license_plate, 10.2ms\n",
            "image 98/720 /content/drive/MyDrive/Data/split_dataset/train/images/211.jpg: 640x448 1 license_plate, 55.2ms\n",
            "image 99/720 /content/drive/MyDrive/Data/split_dataset/train/images/212.jpg: 640x384 1 license_plate, 12.5ms\n",
            "image 100/720 /content/drive/MyDrive/Data/split_dataset/train/images/213.jpg: 384x640 1 license_plate, 10.4ms\n",
            "image 101/720 /content/drive/MyDrive/Data/split_dataset/train/images/214.jpg: 384x640 1 license_plate, 8.9ms\n",
            "image 102/720 /content/drive/MyDrive/Data/split_dataset/train/images/215.jpg: 640x384 1 license_plate, 9.5ms\n",
            "image 103/720 /content/drive/MyDrive/Data/split_dataset/train/images/216.jpg: 480x640 1 license_plate, 13.1ms\n",
            "image 104/720 /content/drive/MyDrive/Data/split_dataset/train/images/217.jpg: 640x480 1 license_plate, 14.1ms\n",
            "image 105/720 /content/drive/MyDrive/Data/split_dataset/train/images/218.jpg: 384x640 1 license_plate, 9.9ms\n",
            "image 106/720 /content/drive/MyDrive/Data/split_dataset/train/images/219.jpg: 384x640 1 license_plate, 11.6ms\n",
            "image 107/720 /content/drive/MyDrive/Data/split_dataset/train/images/22.jpg: 640x480 1 license_plate, 11.9ms\n",
            "image 108/720 /content/drive/MyDrive/Data/split_dataset/train/images/220.jpg: 608x640 1 license_plate, 53.0ms\n",
            "image 109/720 /content/drive/MyDrive/Data/split_dataset/train/images/223.jpg: 384x640 1 license_plate, 9.8ms\n",
            "image 110/720 /content/drive/MyDrive/Data/split_dataset/train/images/225.jpg: 640x480 1 license_plate, 9.6ms\n",
            "image 111/720 /content/drive/MyDrive/Data/split_dataset/train/images/227.jpg: 384x640 1 license_plate, 9.9ms\n",
            "image 112/720 /content/drive/MyDrive/Data/split_dataset/train/images/228.jpg: 480x640 1 license_plate, 11.1ms\n",
            "image 113/720 /content/drive/MyDrive/Data/split_dataset/train/images/229.jpg: 384x640 1 license_plate, 12.7ms\n",
            "image 114/720 /content/drive/MyDrive/Data/split_dataset/train/images/23.jpg: 640x480 1 license_plate, 13.7ms\n",
            "image 115/720 /content/drive/MyDrive/Data/split_dataset/train/images/230.jpg: 480x640 1 license_plate, 9.5ms\n",
            "image 116/720 /content/drive/MyDrive/Data/split_dataset/train/images/231.jpg: 384x640 1 license_plate, 13.0ms\n",
            "image 117/720 /content/drive/MyDrive/Data/split_dataset/train/images/232.jpg: 640x480 1 license_plate, 10.8ms\n",
            "image 118/720 /content/drive/MyDrive/Data/split_dataset/train/images/233.jpg: 384x640 1 license_plate, 9.7ms\n",
            "image 119/720 /content/drive/MyDrive/Data/split_dataset/train/images/234.jpg: 480x640 1 license_plate, 10.4ms\n",
            "image 120/720 /content/drive/MyDrive/Data/split_dataset/train/images/235.jpg: 640x480 1 license_plate, 9.9ms\n",
            "image 121/720 /content/drive/MyDrive/Data/split_dataset/train/images/236.jpg: 480x640 1 license_plate, 13.4ms\n",
            "image 122/720 /content/drive/MyDrive/Data/split_dataset/train/images/237.jpg: 640x384 1 license_plate, 15.7ms\n",
            "image 123/720 /content/drive/MyDrive/Data/split_dataset/train/images/238.jpg: 352x640 1 license_plate, 61.4ms\n",
            "image 124/720 /content/drive/MyDrive/Data/split_dataset/train/images/239.jpg: 480x640 1 license_plate, 10.1ms\n",
            "image 125/720 /content/drive/MyDrive/Data/split_dataset/train/images/24.jpg: 480x640 1 license_plate, 10.0ms\n",
            "image 126/720 /content/drive/MyDrive/Data/split_dataset/train/images/240.jpg: 384x640 1 license_plate, 10.3ms\n",
            "image 127/720 /content/drive/MyDrive/Data/split_dataset/train/images/241.jpg: 480x640 1 license_plate, 9.6ms\n",
            "image 128/720 /content/drive/MyDrive/Data/split_dataset/train/images/242.jpg: 480x640 1 license_plate, 9.1ms\n",
            "image 129/720 /content/drive/MyDrive/Data/split_dataset/train/images/243.jpg: 384x640 1 license_plate, 9.9ms\n",
            "image 130/720 /content/drive/MyDrive/Data/split_dataset/train/images/244.jpg: 384x640 1 license_plate, 8.9ms\n",
            "image 131/720 /content/drive/MyDrive/Data/split_dataset/train/images/245.jpg: 384x640 1 license_plate, 8.9ms\n",
            "image 132/720 /content/drive/MyDrive/Data/split_dataset/train/images/246.jpg: 640x480 1 license_plate, 10.0ms\n",
            "image 133/720 /content/drive/MyDrive/Data/split_dataset/train/images/247.jpg: 640x480 1 license_plate, 9.0ms\n",
            "image 134/720 /content/drive/MyDrive/Data/split_dataset/train/images/249.jpg: 640x384 1 license_plate, 10.5ms\n",
            "image 135/720 /content/drive/MyDrive/Data/split_dataset/train/images/25.jpg: 640x480 1 license_plate, 9.6ms\n",
            "image 136/720 /content/drive/MyDrive/Data/split_dataset/train/images/251.jpg: 352x640 1 license_plate, 9.8ms\n",
            "image 137/720 /content/drive/MyDrive/Data/split_dataset/train/images/252.jpg: 640x384 1 license_plate, 9.7ms\n",
            "image 138/720 /content/drive/MyDrive/Data/split_dataset/train/images/253.jpg: 384x640 1 license_plate, 10.9ms\n",
            "image 139/720 /content/drive/MyDrive/Data/split_dataset/train/images/254.jpg: 640x384 1 license_plate, 12.5ms\n",
            "image 140/720 /content/drive/MyDrive/Data/split_dataset/train/images/255.jpg: 640x384 1 license_plate, 12.3ms\n",
            "image 141/720 /content/drive/MyDrive/Data/split_dataset/train/images/257.jpg: 640x480 1 license_plate, 12.0ms\n",
            "image 142/720 /content/drive/MyDrive/Data/split_dataset/train/images/258.jpg: 640x480 1 license_plate, 8.7ms\n",
            "image 143/720 /content/drive/MyDrive/Data/split_dataset/train/images/259.jpg: 384x640 1 license_plate, 12.8ms\n",
            "image 144/720 /content/drive/MyDrive/Data/split_dataset/train/images/26.jpg: 384x640 1 license_plate, 10.4ms\n",
            "image 145/720 /content/drive/MyDrive/Data/split_dataset/train/images/260.jpg: 384x640 1 license_plate, 11.7ms\n",
            "image 146/720 /content/drive/MyDrive/Data/split_dataset/train/images/261.jpg: 384x640 1 license_plate, 11.8ms\n",
            "image 147/720 /content/drive/MyDrive/Data/split_dataset/train/images/262.jpg: 384x640 1 license_plate, 10.5ms\n",
            "image 148/720 /content/drive/MyDrive/Data/split_dataset/train/images/263.jpg: 384x640 1 license_plate, 11.1ms\n",
            "image 149/720 /content/drive/MyDrive/Data/split_dataset/train/images/264.jpg: 384x640 1 license_plate, 11.8ms\n",
            "image 150/720 /content/drive/MyDrive/Data/split_dataset/train/images/265.jpg: 640x480 1 license_plate, 11.3ms\n",
            "image 151/720 /content/drive/MyDrive/Data/split_dataset/train/images/266.jpg: 384x640 1 license_plate, 11.5ms\n",
            "image 152/720 /content/drive/MyDrive/Data/split_dataset/train/images/267.jpg: 384x640 1 license_plate, 10.3ms\n",
            "image 153/720 /content/drive/MyDrive/Data/split_dataset/train/images/268.jpg: 640x480 1 license_plate, 11.9ms\n",
            "image 154/720 /content/drive/MyDrive/Data/split_dataset/train/images/269.jpg: 640x352 1 license_plate, 52.0ms\n",
            "image 155/720 /content/drive/MyDrive/Data/split_dataset/train/images/27.jpg: 384x640 1 license_plate, 8.4ms\n",
            "image 156/720 /content/drive/MyDrive/Data/split_dataset/train/images/270.jpg: 640x384 1 license_plate, 9.3ms\n",
            "image 157/720 /content/drive/MyDrive/Data/split_dataset/train/images/271.jpg: 480x640 1 license_plate, 9.5ms\n",
            "image 158/720 /content/drive/MyDrive/Data/split_dataset/train/images/273.jpg: 640x544 1 license_plate, 9.6ms\n",
            "image 159/720 /content/drive/MyDrive/Data/split_dataset/train/images/274.jpg: 384x640 1 license_plate, 9.4ms\n",
            "image 160/720 /content/drive/MyDrive/Data/split_dataset/train/images/275.jpg: 384x640 1 license_plate, 8.5ms\n",
            "image 161/720 /content/drive/MyDrive/Data/split_dataset/train/images/277.jpg: 480x640 1 license_plate, 9.0ms\n",
            "image 162/720 /content/drive/MyDrive/Data/split_dataset/train/images/279.jpg: 480x640 1 license_plate, 9.1ms\n",
            "image 163/720 /content/drive/MyDrive/Data/split_dataset/train/images/28.jpg: 384x640 1 license_plate, 8.7ms\n",
            "image 164/720 /content/drive/MyDrive/Data/split_dataset/train/images/280.jpg: 640x384 1 license_plate, 7.0ms\n",
            "image 165/720 /content/drive/MyDrive/Data/split_dataset/train/images/281.jpg: 384x640 1 license_plate, 6.7ms\n",
            "image 166/720 /content/drive/MyDrive/Data/split_dataset/train/images/282.jpg: 480x640 1 license_plate, 6.8ms\n",
            "image 167/720 /content/drive/MyDrive/Data/split_dataset/train/images/284.jpg: 640x480 1 license_plate, 10.7ms\n",
            "image 168/720 /content/drive/MyDrive/Data/split_dataset/train/images/285.jpg: 480x640 1 license_plate, 7.0ms\n",
            "image 169/720 /content/drive/MyDrive/Data/split_dataset/train/images/286.jpg: 640x480 1 license_plate, 6.7ms\n",
            "image 170/720 /content/drive/MyDrive/Data/split_dataset/train/images/290.jpg: 480x640 1 license_plate, 6.8ms\n",
            "image 171/720 /content/drive/MyDrive/Data/split_dataset/train/images/292.jpg: 480x640 1 license_plate, 6.2ms\n",
            "image 172/720 /content/drive/MyDrive/Data/split_dataset/train/images/294.jpg: 480x640 1 license_plate, 7.8ms\n",
            "image 173/720 /content/drive/MyDrive/Data/split_dataset/train/images/295.jpg: 640x480 1 license_plate, 6.8ms\n",
            "image 174/720 /content/drive/MyDrive/Data/split_dataset/train/images/297.jpg: 480x640 1 license_plate, 6.8ms\n",
            "image 175/720 /content/drive/MyDrive/Data/split_dataset/train/images/298.jpg: 640x480 1 license_plate, 6.9ms\n",
            "image 176/720 /content/drive/MyDrive/Data/split_dataset/train/images/299.jpg: 640x480 1 license_plate, 7.0ms\n",
            "image 177/720 /content/drive/MyDrive/Data/split_dataset/train/images/3.jpg: 480x640 1 license_plate, 6.8ms\n",
            "image 178/720 /content/drive/MyDrive/Data/split_dataset/train/images/30.jpg: 480x640 1 license_plate, 6.2ms\n",
            "image 179/720 /content/drive/MyDrive/Data/split_dataset/train/images/300.jpg: 640x480 1 license_plate, 6.7ms\n",
            "image 180/720 /content/drive/MyDrive/Data/split_dataset/train/images/301.jpg: 640x480 1 license_plate, 6.3ms\n",
            "image 181/720 /content/drive/MyDrive/Data/split_dataset/train/images/302.jpg: 640x480 1 license_plate, 6.3ms\n",
            "image 182/720 /content/drive/MyDrive/Data/split_dataset/train/images/304.jpg: 640x384 1 license_plate, 7.0ms\n",
            "image 183/720 /content/drive/MyDrive/Data/split_dataset/train/images/305.jpg: 640x384 1 license_plate, 7.3ms\n",
            "image 184/720 /content/drive/MyDrive/Data/split_dataset/train/images/306.jpg: 640x512 1 license_plate, 6.9ms\n",
            "image 185/720 /content/drive/MyDrive/Data/split_dataset/train/images/308.jpg: 480x640 1 license_plate, 7.1ms\n",
            "image 186/720 /content/drive/MyDrive/Data/split_dataset/train/images/309.jpg: 448x640 1 license_plate, 7.1ms\n",
            "image 187/720 /content/drive/MyDrive/Data/split_dataset/train/images/31.jpg: 640x384 1 license_plate, 7.3ms\n",
            "image 188/720 /content/drive/MyDrive/Data/split_dataset/train/images/311.jpg: 480x640 1 license_plate, 7.1ms\n",
            "image 189/720 /content/drive/MyDrive/Data/split_dataset/train/images/312.jpg: 384x640 1 license_plate, 7.1ms\n",
            "image 190/720 /content/drive/MyDrive/Data/split_dataset/train/images/313.jpg: 480x640 1 license_plate, 6.8ms\n",
            "image 191/720 /content/drive/MyDrive/Data/split_dataset/train/images/315.jpg: 384x640 1 license_plate, 10.4ms\n",
            "image 192/720 /content/drive/MyDrive/Data/split_dataset/train/images/316.jpg: 640x480 1 license_plate, 11.9ms\n",
            "image 193/720 /content/drive/MyDrive/Data/split_dataset/train/images/317.jpg: 480x640 1 license_plate, 6.9ms\n",
            "image 194/720 /content/drive/MyDrive/Data/split_dataset/train/images/318.jpg: 384x640 1 license_plate, 6.9ms\n",
            "image 195/720 /content/drive/MyDrive/Data/split_dataset/train/images/319.jpg: 640x384 1 license_plate, 6.9ms\n",
            "image 196/720 /content/drive/MyDrive/Data/split_dataset/train/images/32.jpg: 640x480 1 license_plate, 6.7ms\n",
            "image 197/720 /content/drive/MyDrive/Data/split_dataset/train/images/320.jpg: 384x640 1 license_plate, 8.4ms\n",
            "image 198/720 /content/drive/MyDrive/Data/split_dataset/train/images/322.jpg: 480x640 1 license_plate, 7.3ms\n",
            "image 199/720 /content/drive/MyDrive/Data/split_dataset/train/images/323.jpg: 480x640 1 license_plate, 6.1ms\n",
            "image 200/720 /content/drive/MyDrive/Data/split_dataset/train/images/325.jpg: 448x640 1 license_plate, 10.6ms\n",
            "image 201/720 /content/drive/MyDrive/Data/split_dataset/train/images/326.jpg: 480x640 1 license_plate, 6.8ms\n",
            "image 202/720 /content/drive/MyDrive/Data/split_dataset/train/images/327.jpg: 384x640 1 license_plate, 8.4ms\n",
            "image 203/720 /content/drive/MyDrive/Data/split_dataset/train/images/328.jpg: 384x640 1 license_plate, 6.6ms\n",
            "image 204/720 /content/drive/MyDrive/Data/split_dataset/train/images/329.jpg: 640x384 1 license_plate, 7.3ms\n",
            "image 205/720 /content/drive/MyDrive/Data/split_dataset/train/images/33.jpg: 448x640 1 license_plate, 8.2ms\n",
            "image 206/720 /content/drive/MyDrive/Data/split_dataset/train/images/330.jpg: 384x640 1 license_plate, 6.8ms\n",
            "image 207/720 /content/drive/MyDrive/Data/split_dataset/train/images/331.jpg: 640x480 1 license_plate, 6.8ms\n",
            "image 208/720 /content/drive/MyDrive/Data/split_dataset/train/images/332.jpg: 384x640 1 license_plate, 10.0ms\n",
            "image 209/720 /content/drive/MyDrive/Data/split_dataset/train/images/334.jpg: 640x480 1 license_plate, 8.9ms\n",
            "image 210/720 /content/drive/MyDrive/Data/split_dataset/train/images/335.jpg: 576x640 1 license_plate, 42.1ms\n",
            "image 211/720 /content/drive/MyDrive/Data/split_dataset/train/images/336.jpg: 480x640 1 license_plate, 10.0ms\n",
            "image 212/720 /content/drive/MyDrive/Data/split_dataset/train/images/337.jpg: 384x640 1 license_plate, 9.5ms\n",
            "image 213/720 /content/drive/MyDrive/Data/split_dataset/train/images/339.jpg: 512x640 1 license_plate, 8.8ms\n",
            "image 214/720 /content/drive/MyDrive/Data/split_dataset/train/images/34.jpg: 640x480 1 license_plate, 10.3ms\n",
            "image 215/720 /content/drive/MyDrive/Data/split_dataset/train/images/340.jpg: 384x640 1 license_plate, 10.2ms\n",
            "image 216/720 /content/drive/MyDrive/Data/split_dataset/train/images/341.jpg: 640x480 1 license_plate, 12.1ms\n",
            "image 217/720 /content/drive/MyDrive/Data/split_dataset/train/images/342.jpg: 480x640 1 license_plate, 8.9ms\n",
            "image 218/720 /content/drive/MyDrive/Data/split_dataset/train/images/343.jpg: 640x384 1 license_plate, 9.8ms\n",
            "image 219/720 /content/drive/MyDrive/Data/split_dataset/train/images/344.jpg: 384x640 1 license_plate, 6.9ms\n",
            "image 220/720 /content/drive/MyDrive/Data/split_dataset/train/images/345.jpg: 384x640 1 license_plate, 6.2ms\n",
            "image 221/720 /content/drive/MyDrive/Data/split_dataset/train/images/346.jpg: 480x640 2 license_plates, 6.8ms\n",
            "image 222/720 /content/drive/MyDrive/Data/split_dataset/train/images/348.jpg: 640x480 1 license_plate, 7.1ms\n",
            "image 223/720 /content/drive/MyDrive/Data/split_dataset/train/images/349.jpg: 384x640 1 license_plate, 7.0ms\n",
            "image 224/720 /content/drive/MyDrive/Data/split_dataset/train/images/35.jpg: 480x640 1 license_plate, 7.0ms\n",
            "image 225/720 /content/drive/MyDrive/Data/split_dataset/train/images/350.jpg: 640x480 1 license_plate, 6.8ms\n",
            "image 226/720 /content/drive/MyDrive/Data/split_dataset/train/images/352.jpg: 512x640 1 license_plate, 7.7ms\n",
            "image 227/720 /content/drive/MyDrive/Data/split_dataset/train/images/353.jpg: 480x640 1 license_plate, 7.0ms\n",
            "image 228/720 /content/drive/MyDrive/Data/split_dataset/train/images/354.jpg: 480x640 1 license_plate, 6.4ms\n",
            "image 229/720 /content/drive/MyDrive/Data/split_dataset/train/images/355.jpg: 448x640 1 license_plate, 8.7ms\n",
            "image 230/720 /content/drive/MyDrive/Data/split_dataset/train/images/356.jpg: 448x640 1 license_plate, 6.1ms\n",
            "image 231/720 /content/drive/MyDrive/Data/split_dataset/train/images/357.jpg: 640x480 1 license_plate, 8.2ms\n",
            "image 232/720 /content/drive/MyDrive/Data/split_dataset/train/images/358.jpg: 640x384 1 license_plate, 6.9ms\n",
            "image 233/720 /content/drive/MyDrive/Data/split_dataset/train/images/359.jpg: 384x640 1 license_plate, 7.3ms\n",
            "image 234/720 /content/drive/MyDrive/Data/split_dataset/train/images/36.jpg: 384x640 1 license_plate, 6.4ms\n",
            "image 235/720 /content/drive/MyDrive/Data/split_dataset/train/images/360.jpg: 640x480 1 license_plate, 6.9ms\n",
            "image 236/720 /content/drive/MyDrive/Data/split_dataset/train/images/362.jpg: 384x640 1 license_plate, 7.1ms\n",
            "image 237/720 /content/drive/MyDrive/Data/split_dataset/train/images/363.jpg: 640x480 1 license_plate, 6.9ms\n",
            "image 238/720 /content/drive/MyDrive/Data/split_dataset/train/images/365.jpg: 384x640 1 license_plate, 7.0ms\n",
            "image 239/720 /content/drive/MyDrive/Data/split_dataset/train/images/366.jpg: 480x640 1 license_plate, 6.9ms\n",
            "image 240/720 /content/drive/MyDrive/Data/split_dataset/train/images/367.jpg: 640x480 1 license_plate, 7.1ms\n",
            "image 241/720 /content/drive/MyDrive/Data/split_dataset/train/images/37.jpg: 640x480 1 license_plate, 6.3ms\n",
            "image 242/720 /content/drive/MyDrive/Data/split_dataset/train/images/370.jpg: 640x448 1 license_plate, 11.2ms\n",
            "image 243/720 /content/drive/MyDrive/Data/split_dataset/train/images/372.jpg: 640x640 1 license_plate, 9.3ms\n",
            "image 244/720 /content/drive/MyDrive/Data/split_dataset/train/images/373.jpg: 640x416 1 license_plate, 34.0ms\n",
            "image 245/720 /content/drive/MyDrive/Data/split_dataset/train/images/374.jpg: 640x384 1 license_plate, 7.4ms\n",
            "image 246/720 /content/drive/MyDrive/Data/split_dataset/train/images/375.jpg: 480x640 1 license_plate, 8.9ms\n",
            "image 247/720 /content/drive/MyDrive/Data/split_dataset/train/images/376.jpg: 640x480 1 license_plate, 7.1ms\n",
            "image 248/720 /content/drive/MyDrive/Data/split_dataset/train/images/377.jpg: 640x576 1 license_plate, 34.5ms\n",
            "image 249/720 /content/drive/MyDrive/Data/split_dataset/train/images/379.jpg: 384x640 1 license_plate, 8.1ms\n",
            "image 250/720 /content/drive/MyDrive/Data/split_dataset/train/images/38.jpg: 384x640 1 license_plate, 6.5ms\n",
            "image 251/720 /content/drive/MyDrive/Data/split_dataset/train/images/381.jpg: 480x640 1 license_plate, 7.1ms\n",
            "image 252/720 /content/drive/MyDrive/Data/split_dataset/train/images/383.jpg: 384x640 1 license_plate, 7.0ms\n",
            "image 253/720 /content/drive/MyDrive/Data/split_dataset/train/images/384.jpg: 480x640 1 license_plate, 7.1ms\n",
            "image 254/720 /content/drive/MyDrive/Data/split_dataset/train/images/385.jpg: 416x640 1 license_plate, 9.5ms\n",
            "image 255/720 /content/drive/MyDrive/Data/split_dataset/train/images/386.jpg: 640x480 1 license_plate, 10.5ms\n",
            "image 256/720 /content/drive/MyDrive/Data/split_dataset/train/images/387.jpg: 384x640 1 license_plate, 10.0ms\n",
            "image 257/720 /content/drive/MyDrive/Data/split_dataset/train/images/388.jpg: 640x512 1 license_plate, 10.4ms\n",
            "image 258/720 /content/drive/MyDrive/Data/split_dataset/train/images/39.jpg: 640x384 1 license_plate, 10.0ms\n",
            "image 259/720 /content/drive/MyDrive/Data/split_dataset/train/images/391.jpg: 480x640 1 license_plate, 10.0ms\n",
            "image 260/720 /content/drive/MyDrive/Data/split_dataset/train/images/392.jpg: 384x640 1 license_plate, 9.2ms\n",
            "image 261/720 /content/drive/MyDrive/Data/split_dataset/train/images/394.jpg: 480x640 1 license_plate, 9.9ms\n",
            "image 262/720 /content/drive/MyDrive/Data/split_dataset/train/images/396.jpg: 480x640 1 license_plate, 9.0ms\n",
            "image 263/720 /content/drive/MyDrive/Data/split_dataset/train/images/397.jpg: 640x480 1 license_plate, 8.0ms\n",
            "image 264/720 /content/drive/MyDrive/Data/split_dataset/train/images/398.jpg: 640x480 1 license_plate, 6.1ms\n",
            "image 265/720 /content/drive/MyDrive/Data/split_dataset/train/images/399.jpg: 384x640 1 license_plate, 7.0ms\n",
            "image 266/720 /content/drive/MyDrive/Data/split_dataset/train/images/40.jpg: 640x480 1 license_plate, 7.2ms\n",
            "image 267/720 /content/drive/MyDrive/Data/split_dataset/train/images/400.jpg: 640x512 1 license_plate, 7.3ms\n",
            "image 268/720 /content/drive/MyDrive/Data/split_dataset/train/images/401.jpg: 480x640 1 license_plate, 7.0ms\n",
            "image 269/720 /content/drive/MyDrive/Data/split_dataset/train/images/402.jpg: 384x640 1 license_plate, 7.0ms\n",
            "image 270/720 /content/drive/MyDrive/Data/split_dataset/train/images/404.jpg: 640x384 1 license_plate, 7.0ms\n",
            "image 271/720 /content/drive/MyDrive/Data/split_dataset/train/images/405.jpg: 480x640 1 license_plate, 6.8ms\n",
            "image 272/720 /content/drive/MyDrive/Data/split_dataset/train/images/406.jpg: 640x480 1 license_plate, 8.7ms\n",
            "image 273/720 /content/drive/MyDrive/Data/split_dataset/train/images/407.jpg: 640x384 1 license_plate, 6.9ms\n",
            "image 274/720 /content/drive/MyDrive/Data/split_dataset/train/images/408.jpg: 384x640 1 license_plate, 6.9ms\n",
            "image 275/720 /content/drive/MyDrive/Data/split_dataset/train/images/41.jpg: 480x640 1 license_plate, 7.1ms\n",
            "image 276/720 /content/drive/MyDrive/Data/split_dataset/train/images/411.jpg: 384x640 1 license_plate, 7.1ms\n",
            "image 277/720 /content/drive/MyDrive/Data/split_dataset/train/images/412.jpg: 480x640 1 license_plate, 7.1ms\n",
            "image 278/720 /content/drive/MyDrive/Data/split_dataset/train/images/413.jpg: 384x640 1 license_plate, 6.8ms\n",
            "image 279/720 /content/drive/MyDrive/Data/split_dataset/train/images/414.jpg: 384x640 1 license_plate, 6.3ms\n",
            "image 280/720 /content/drive/MyDrive/Data/split_dataset/train/images/415.jpg: 640x480 1 license_plate, 10.6ms\n",
            "image 281/720 /content/drive/MyDrive/Data/split_dataset/train/images/417.jpg: 512x640 1 license_plate, 7.2ms\n",
            "image 282/720 /content/drive/MyDrive/Data/split_dataset/train/images/418.jpg: 640x544 1 license_plate, 7.9ms\n",
            "image 283/720 /content/drive/MyDrive/Data/split_dataset/train/images/419.jpg: 640x480 1 license_plate, 7.2ms\n",
            "image 284/720 /content/drive/MyDrive/Data/split_dataset/train/images/42.jpg: 384x640 1 license_plate, 7.0ms\n",
            "image 285/720 /content/drive/MyDrive/Data/split_dataset/train/images/420.jpg: 480x640 1 license_plate, 7.2ms\n",
            "image 286/720 /content/drive/MyDrive/Data/split_dataset/train/images/421.jpg: 480x640 1 license_plate, 6.6ms\n",
            "image 287/720 /content/drive/MyDrive/Data/split_dataset/train/images/422.jpg: 640x480 1 license_plate, 7.4ms\n",
            "image 288/720 /content/drive/MyDrive/Data/split_dataset/train/images/425.jpg: 384x640 1 license_plate, 10.3ms\n",
            "image 289/720 /content/drive/MyDrive/Data/split_dataset/train/images/427.jpg: 480x640 1 license_plate, 7.1ms\n",
            "image 290/720 /content/drive/MyDrive/Data/split_dataset/train/images/428.jpg: 480x640 1 license_plate, 6.5ms\n",
            "image 291/720 /content/drive/MyDrive/Data/split_dataset/train/images/429.jpg: 480x640 1 license_plate, 7.5ms\n",
            "image 292/720 /content/drive/MyDrive/Data/split_dataset/train/images/430.jpg: 512x640 1 license_plate, 10.6ms\n",
            "image 293/720 /content/drive/MyDrive/Data/split_dataset/train/images/431.jpg: 384x640 1 license_plate, 10.2ms\n",
            "image 294/720 /content/drive/MyDrive/Data/split_dataset/train/images/433.jpg: 480x640 1 license_plate, 6.9ms\n",
            "image 295/720 /content/drive/MyDrive/Data/split_dataset/train/images/434.jpg: 480x640 1 license_plate, 6.4ms\n",
            "image 296/720 /content/drive/MyDrive/Data/split_dataset/train/images/435.jpg: 640x384 1 license_plate, 8.7ms\n",
            "image 297/720 /content/drive/MyDrive/Data/split_dataset/train/images/436.jpg: 384x640 1 license_plate, 6.9ms\n",
            "image 298/720 /content/drive/MyDrive/Data/split_dataset/train/images/437.jpg: 640x480 1 license_plate, 7.0ms\n",
            "image 299/720 /content/drive/MyDrive/Data/split_dataset/train/images/438.jpg: 384x640 1 license_plate, 7.3ms\n",
            "image 300/720 /content/drive/MyDrive/Data/split_dataset/train/images/439.jpg: 480x640 1 license_plate, 7.0ms\n",
            "image 301/720 /content/drive/MyDrive/Data/split_dataset/train/images/44.jpg: 480x640 1 license_plate, 6.3ms\n",
            "image 302/720 /content/drive/MyDrive/Data/split_dataset/train/images/440.jpg: 480x640 1 license_plate, 7.5ms\n",
            "image 303/720 /content/drive/MyDrive/Data/split_dataset/train/images/441.jpg: 384x640 1 license_plate, 7.1ms\n",
            "image 304/720 /content/drive/MyDrive/Data/split_dataset/train/images/443.jpg: 480x640 1 license_plate, 7.0ms\n",
            "image 305/720 /content/drive/MyDrive/Data/split_dataset/train/images/444.jpg: 640x384 1 license_plate, 10.1ms\n",
            "image 306/720 /content/drive/MyDrive/Data/split_dataset/train/images/445.jpg: 640x384 1 license_plate, 9.2ms\n",
            "image 307/720 /content/drive/MyDrive/Data/split_dataset/train/images/446.jpg: 640x480 1 license_plate, 9.3ms\n",
            "image 308/720 /content/drive/MyDrive/Data/split_dataset/train/images/447.jpg: 640x480 1 license_plate, 8.9ms\n",
            "image 309/720 /content/drive/MyDrive/Data/split_dataset/train/images/448.jpg: 480x640 1 license_plate, 8.9ms\n",
            "image 310/720 /content/drive/MyDrive/Data/split_dataset/train/images/449.jpg: 480x640 1 license_plate, 8.4ms\n",
            "image 311/720 /content/drive/MyDrive/Data/split_dataset/train/images/45.jpg: 480x640 1 license_plate, 9.2ms\n",
            "image 312/720 /content/drive/MyDrive/Data/split_dataset/train/images/451.jpg: 480x640 1 license_plate, 8.1ms\n",
            "image 313/720 /content/drive/MyDrive/Data/split_dataset/train/images/452.jpg: 640x480 1 license_plate, 11.5ms\n",
            "image 314/720 /content/drive/MyDrive/Data/split_dataset/train/images/453.jpg: 640x480 1 license_plate, 8.6ms\n",
            "image 315/720 /content/drive/MyDrive/Data/split_dataset/train/images/454.jpg: 384x640 1 license_plate, 8.7ms\n",
            "image 316/720 /content/drive/MyDrive/Data/split_dataset/train/images/455.jpg: 480x640 3 license_plates, 7.3ms\n",
            "image 317/720 /content/drive/MyDrive/Data/split_dataset/train/images/457.jpg: 480x640 1 license_plate, 6.4ms\n",
            "image 318/720 /content/drive/MyDrive/Data/split_dataset/train/images/459.jpg: 480x640 1 license_plate, 6.6ms\n",
            "image 319/720 /content/drive/MyDrive/Data/split_dataset/train/images/46.jpg: 640x480 1 license_plate, 7.2ms\n",
            "image 320/720 /content/drive/MyDrive/Data/split_dataset/train/images/460.jpg: 640x544 1 license_plate, 7.9ms\n",
            "image 321/720 /content/drive/MyDrive/Data/split_dataset/train/images/461.jpg: 640x480 1 license_plate, 6.9ms\n",
            "image 322/720 /content/drive/MyDrive/Data/split_dataset/train/images/462.jpg: 480x640 1 license_plate, 6.9ms\n",
            "image 323/720 /content/drive/MyDrive/Data/split_dataset/train/images/465.jpg: 384x640 1 license_plate, 7.1ms\n",
            "image 324/720 /content/drive/MyDrive/Data/split_dataset/train/images/466.jpg: 480x640 1 license_plate, 6.9ms\n",
            "image 325/720 /content/drive/MyDrive/Data/split_dataset/train/images/467.jpg: 640x480 1 license_plate, 7.7ms\n",
            "image 326/720 /content/drive/MyDrive/Data/split_dataset/train/images/468.jpg: 640x480 1 license_plate, 6.3ms\n",
            "image 327/720 /content/drive/MyDrive/Data/split_dataset/train/images/469.jpg: 384x640 1 license_plate, 6.9ms\n",
            "image 328/720 /content/drive/MyDrive/Data/split_dataset/train/images/47.jpg: 640x384 1 license_plate, 7.1ms\n",
            "image 329/720 /content/drive/MyDrive/Data/split_dataset/train/images/471.jpg: 640x480 1 license_plate, 6.7ms\n",
            "image 330/720 /content/drive/MyDrive/Data/split_dataset/train/images/472.jpg: 480x640 1 license_plate, 6.9ms\n",
            "image 331/720 /content/drive/MyDrive/Data/split_dataset/train/images/473.jpg: 480x640 1 license_plate, 6.3ms\n",
            "image 332/720 /content/drive/MyDrive/Data/split_dataset/train/images/474.jpg: 640x384 1 license_plate, 6.9ms\n",
            "image 333/720 /content/drive/MyDrive/Data/split_dataset/train/images/475.jpg: 384x640 1 license_plate, 8.5ms\n",
            "image 334/720 /content/drive/MyDrive/Data/split_dataset/train/images/476.jpg: 640x384 1 license_plate, 10.2ms\n",
            "image 335/720 /content/drive/MyDrive/Data/split_dataset/train/images/477.jpg: 640x544 1 license_plate, 7.8ms\n",
            "image 336/720 /content/drive/MyDrive/Data/split_dataset/train/images/478.jpg: 480x640 1 license_plate, 6.8ms\n",
            "image 337/720 /content/drive/MyDrive/Data/split_dataset/train/images/479.jpg: 480x640 1 license_plate, 6.9ms\n",
            "image 338/720 /content/drive/MyDrive/Data/split_dataset/train/images/480.jpg: 640x480 1 license_plate, 6.8ms\n",
            "image 339/720 /content/drive/MyDrive/Data/split_dataset/train/images/481.jpg: 480x640 2 license_plates, 8.1ms\n",
            "image 340/720 /content/drive/MyDrive/Data/split_dataset/train/images/482.jpg: 640x480 1 license_plate, 6.9ms\n",
            "image 341/720 /content/drive/MyDrive/Data/split_dataset/train/images/483.jpg: 384x640 1 license_plate, 6.9ms\n",
            "image 342/720 /content/drive/MyDrive/Data/split_dataset/train/images/484.jpg: 480x640 1 license_plate, 6.7ms\n",
            "image 343/720 /content/drive/MyDrive/Data/split_dataset/train/images/486.jpg: 640x384 1 license_plate, 7.0ms\n",
            "image 344/720 /content/drive/MyDrive/Data/split_dataset/train/images/489.jpg: 640x480 1 license_plate, 8.2ms\n",
            "image 345/720 /content/drive/MyDrive/Data/split_dataset/train/images/49.jpg: 640x512 1 license_plate, 6.9ms\n",
            "image 346/720 /content/drive/MyDrive/Data/split_dataset/train/images/490.jpg: 640x480 1 license_plate, 11.9ms\n",
            "image 347/720 /content/drive/MyDrive/Data/split_dataset/train/images/491.jpg: 640x480 1 license_plate, 6.1ms\n",
            "image 348/720 /content/drive/MyDrive/Data/split_dataset/train/images/492.jpg: 640x480 1 license_plate, 6.3ms\n",
            "image 349/720 /content/drive/MyDrive/Data/split_dataset/train/images/493.jpg: 640x480 1 license_plate, 6.2ms\n",
            "image 350/720 /content/drive/MyDrive/Data/split_dataset/train/images/494.jpg: 384x640 1 license_plate, 6.8ms\n",
            "image 351/720 /content/drive/MyDrive/Data/split_dataset/train/images/495.jpg: 640x384 1 license_plate, 7.3ms\n",
            "image 352/720 /content/drive/MyDrive/Data/split_dataset/train/images/497.jpg: 640x544 1 license_plate, 8.8ms\n",
            "image 353/720 /content/drive/MyDrive/Data/split_dataset/train/images/498.jpg: 640x480 1 license_plate, 6.8ms\n",
            "image 354/720 /content/drive/MyDrive/Data/split_dataset/train/images/499.jpg: 640x480 1 license_plate, 6.3ms\n",
            "image 355/720 /content/drive/MyDrive/Data/split_dataset/train/images/50.jpg: 480x640 1 license_plate, 6.8ms\n",
            "image 356/720 /content/drive/MyDrive/Data/split_dataset/train/images/500.jpg: 640x480 1 license_plate, 7.0ms\n",
            "image 357/720 /content/drive/MyDrive/Data/split_dataset/train/images/504.jpg: 640x480 1 license_plate, 6.1ms\n",
            "image 358/720 /content/drive/MyDrive/Data/split_dataset/train/images/505.jpg: 576x640 1 license_plate, 10.1ms\n",
            "image 359/720 /content/drive/MyDrive/Data/split_dataset/train/images/506.jpg: 448x640 1 license_plate, 9.9ms\n",
            "image 360/720 /content/drive/MyDrive/Data/split_dataset/train/images/508.jpg: 640x480 1 license_plate, 9.5ms\n",
            "image 361/720 /content/drive/MyDrive/Data/split_dataset/train/images/509.jpg: 640x480 1 license_plate, 8.3ms\n",
            "image 362/720 /content/drive/MyDrive/Data/split_dataset/train/images/51.jpg: 384x640 1 license_plate, 9.0ms\n",
            "image 363/720 /content/drive/MyDrive/Data/split_dataset/train/images/510.jpg: 384x640 1 license_plate, 8.8ms\n",
            "image 364/720 /content/drive/MyDrive/Data/split_dataset/train/images/511.jpg: 480x640 1 license_plate, 9.0ms\n",
            "image 365/720 /content/drive/MyDrive/Data/split_dataset/train/images/512.jpg: 640x384 1 license_plate, 9.8ms\n",
            "image 366/720 /content/drive/MyDrive/Data/split_dataset/train/images/513.jpg: 640x544 1 license_plate, 9.3ms\n",
            "image 367/720 /content/drive/MyDrive/Data/split_dataset/train/images/514.jpg: 480x640 1 license_plate, 9.3ms\n",
            "image 368/720 /content/drive/MyDrive/Data/split_dataset/train/images/516.jpg: 640x480 1 license_plate, 8.5ms\n",
            "image 369/720 /content/drive/MyDrive/Data/split_dataset/train/images/519.jpg: 384x640 1 license_plate, 7.1ms\n",
            "image 370/720 /content/drive/MyDrive/Data/split_dataset/train/images/52.jpg: 640x480 1 license_plate, 6.7ms\n",
            "image 371/720 /content/drive/MyDrive/Data/split_dataset/train/images/520.jpg: 480x640 1 license_plate, 6.7ms\n",
            "image 372/720 /content/drive/MyDrive/Data/split_dataset/train/images/521.jpg: 640x480 1 license_plate, 6.9ms\n",
            "image 373/720 /content/drive/MyDrive/Data/split_dataset/train/images/522.jpg: 480x640 1 license_plate, 7.0ms\n",
            "image 374/720 /content/drive/MyDrive/Data/split_dataset/train/images/523.jpg: 384x640 1 license_plate, 7.1ms\n",
            "image 375/720 /content/drive/MyDrive/Data/split_dataset/train/images/524.jpg: 640x576 1 license_plate, 8.0ms\n",
            "image 376/720 /content/drive/MyDrive/Data/split_dataset/train/images/525.jpg: 384x640 1 license_plate, 6.8ms\n",
            "image 377/720 /content/drive/MyDrive/Data/split_dataset/train/images/526.jpg: 384x640 1 license_plate, 6.1ms\n",
            "image 378/720 /content/drive/MyDrive/Data/split_dataset/train/images/527.jpg: 640x480 1 license_plate, 7.1ms\n",
            "image 379/720 /content/drive/MyDrive/Data/split_dataset/train/images/528.jpg: 640x416 1 license_plate, 7.4ms\n",
            "image 380/720 /content/drive/MyDrive/Data/split_dataset/train/images/529.jpg: 384x640 1 license_plate, 7.0ms\n",
            "image 381/720 /content/drive/MyDrive/Data/split_dataset/train/images/53.jpg: 384x640 1 license_plate, 6.2ms\n",
            "image 382/720 /content/drive/MyDrive/Data/split_dataset/train/images/530.jpg: 384x640 1 license_plate, 6.2ms\n",
            "image 383/720 /content/drive/MyDrive/Data/split_dataset/train/images/531.jpg: 384x640 1 license_plate, 6.4ms\n",
            "image 384/720 /content/drive/MyDrive/Data/split_dataset/train/images/533.jpg: 640x480 1 license_plate, 6.9ms\n",
            "image 385/720 /content/drive/MyDrive/Data/split_dataset/train/images/534.jpg: 480x640 1 license_plate, 7.3ms\n",
            "image 386/720 /content/drive/MyDrive/Data/split_dataset/train/images/535.jpg: 640x384 1 license_plate, 7.0ms\n",
            "image 387/720 /content/drive/MyDrive/Data/split_dataset/train/images/539.jpg: 480x640 1 license_plate, 7.0ms\n",
            "image 388/720 /content/drive/MyDrive/Data/split_dataset/train/images/54.jpg: 384x640 1 license_plate, 6.9ms\n",
            "image 389/720 /content/drive/MyDrive/Data/split_dataset/train/images/540.jpg: 480x640 1 license_plate, 6.8ms\n",
            "image 390/720 /content/drive/MyDrive/Data/split_dataset/train/images/541.jpg: 480x640 1 license_plate, 8.7ms\n",
            "image 391/720 /content/drive/MyDrive/Data/split_dataset/train/images/542.jpg: 480x640 1 license_plate, 10.4ms\n",
            "image 392/720 /content/drive/MyDrive/Data/split_dataset/train/images/545.jpg: 384x640 1 license_plate, 6.8ms\n",
            "image 393/720 /content/drive/MyDrive/Data/split_dataset/train/images/546.jpg: 640x480 1 license_plate, 7.0ms\n",
            "image 394/720 /content/drive/MyDrive/Data/split_dataset/train/images/547.jpg: 640x384 1 license_plate, 7.0ms\n",
            "image 395/720 /content/drive/MyDrive/Data/split_dataset/train/images/548.jpg: 640x480 1 license_plate, 6.8ms\n",
            "image 396/720 /content/drive/MyDrive/Data/split_dataset/train/images/549.jpg: 640x480 1 license_plate, 7.7ms\n",
            "image 397/720 /content/drive/MyDrive/Data/split_dataset/train/images/55.jpg: 384x640 1 license_plate, 7.0ms\n",
            "image 398/720 /content/drive/MyDrive/Data/split_dataset/train/images/550.jpg: 640x480 1 license_plate, 6.9ms\n",
            "image 399/720 /content/drive/MyDrive/Data/split_dataset/train/images/551.jpg: 384x640 1 license_plate, 7.4ms\n",
            "image 400/720 /content/drive/MyDrive/Data/split_dataset/train/images/552.jpg: 384x640 1 license_plate, 10.6ms\n",
            "image 401/720 /content/drive/MyDrive/Data/split_dataset/train/images/553.jpg: 640x480 1 license_plate, 7.0ms\n",
            "image 402/720 /content/drive/MyDrive/Data/split_dataset/train/images/554.jpg: 384x640 1 license_plate, 7.0ms\n",
            "image 403/720 /content/drive/MyDrive/Data/split_dataset/train/images/555.jpg: 640x480 1 license_plate, 6.8ms\n",
            "image 404/720 /content/drive/MyDrive/Data/split_dataset/train/images/556.jpg: 480x640 1 license_plate, 6.9ms\n",
            "image 405/720 /content/drive/MyDrive/Data/split_dataset/train/images/557.jpg: 640x480 1 license_plate, 7.1ms\n",
            "image 406/720 /content/drive/MyDrive/Data/split_dataset/train/images/558.jpg: 640x480 1 license_plate, 6.3ms\n",
            "image 407/720 /content/drive/MyDrive/Data/split_dataset/train/images/559.jpg: 640x480 1 license_plate, 6.4ms\n",
            "image 408/720 /content/drive/MyDrive/Data/split_dataset/train/images/56.jpg: 384x640 1 license_plate, 7.0ms\n",
            "image 409/720 /content/drive/MyDrive/Data/split_dataset/train/images/562.jpg: 640x384 1 license_plate, 9.1ms\n",
            "image 410/720 /content/drive/MyDrive/Data/split_dataset/train/images/563.jpg: 640x480 1 license_plate, 9.8ms\n",
            "image 411/720 /content/drive/MyDrive/Data/split_dataset/train/images/565.jpg: 384x640 1 license_plate, 8.6ms\n",
            "image 412/720 /content/drive/MyDrive/Data/split_dataset/train/images/568.jpg: 384x640 1 license_plate, 8.6ms\n",
            "image 413/720 /content/drive/MyDrive/Data/split_dataset/train/images/569.jpg: 480x640 1 license_plate, 10.2ms\n",
            "image 414/720 /content/drive/MyDrive/Data/split_dataset/train/images/570.jpg: 640x512 1 license_plate, 9.2ms\n",
            "image 415/720 /content/drive/MyDrive/Data/split_dataset/train/images/571.jpg: 640x480 1 license_plate, 9.6ms\n",
            "image 416/720 /content/drive/MyDrive/Data/split_dataset/train/images/573.jpg: 640x544 1 license_plate, 9.2ms\n",
            "image 417/720 /content/drive/MyDrive/Data/split_dataset/train/images/574.jpg: 640x480 1 license_plate, 10.0ms\n",
            "image 418/720 /content/drive/MyDrive/Data/split_dataset/train/images/575.jpg: 480x640 1 license_plate, 10.2ms\n",
            "image 419/720 /content/drive/MyDrive/Data/split_dataset/train/images/576.jpg: 640x480 1 license_plate, 9.4ms\n",
            "image 420/720 /content/drive/MyDrive/Data/split_dataset/train/images/577.jpg: 448x640 1 license_plate, 10.8ms\n",
            "image 421/720 /content/drive/MyDrive/Data/split_dataset/train/images/579.jpg: 640x608 1 license_plate, 8.0ms\n",
            "image 422/720 /content/drive/MyDrive/Data/split_dataset/train/images/580.jpg: 640x384 1 license_plate, 8.5ms\n",
            "image 423/720 /content/drive/MyDrive/Data/split_dataset/train/images/581.jpg: 512x640 1 license_plate, 7.8ms\n",
            "image 424/720 /content/drive/MyDrive/Data/split_dataset/train/images/583.jpg: 384x640 1 license_plate, 7.4ms\n",
            "image 425/720 /content/drive/MyDrive/Data/split_dataset/train/images/584.jpg: 640x480 1 license_plate, 6.8ms\n",
            "image 426/720 /content/drive/MyDrive/Data/split_dataset/train/images/585.jpg: 384x640 1 license_plate, 6.8ms\n",
            "image 427/720 /content/drive/MyDrive/Data/split_dataset/train/images/586.jpg: 480x640 1 license_plate, 7.0ms\n",
            "image 428/720 /content/drive/MyDrive/Data/split_dataset/train/images/587.jpg: 384x640 1 license_plate, 6.8ms\n",
            "image 429/720 /content/drive/MyDrive/Data/split_dataset/train/images/59.jpg: 384x640 1 license_plate, 6.4ms\n",
            "image 430/720 /content/drive/MyDrive/Data/split_dataset/train/images/591.jpg: 640x480 1 license_plate, 9.0ms\n",
            "image 431/720 /content/drive/MyDrive/Data/split_dataset/train/images/592.jpg: 384x640 1 license_plate, 6.9ms\n",
            "image 432/720 /content/drive/MyDrive/Data/split_dataset/train/images/593.jpg: 384x640 1 license_plate, 6.1ms\n",
            "image 433/720 /content/drive/MyDrive/Data/split_dataset/train/images/595.jpg: 640x416 1 license_plate, 7.2ms\n",
            "image 434/720 /content/drive/MyDrive/Data/split_dataset/train/images/596.jpg: 640x544 1 license_plate, 8.7ms\n",
            "image 435/720 /content/drive/MyDrive/Data/split_dataset/train/images/597.jpg: 640x480 1 license_plate, 7.0ms\n",
            "image 436/720 /content/drive/MyDrive/Data/split_dataset/train/images/598.jpg: 480x640 1 license_plate, 7.1ms\n",
            "image 437/720 /content/drive/MyDrive/Data/split_dataset/train/images/599.jpg: 480x640 1 license_plate, 6.5ms\n",
            "image 438/720 /content/drive/MyDrive/Data/split_dataset/train/images/6.jpg: 480x640 1 license_plate, 6.2ms\n",
            "image 439/720 /content/drive/MyDrive/Data/split_dataset/train/images/60.jpg: 480x640 1 license_plate, 6.5ms\n",
            "image 440/720 /content/drive/MyDrive/Data/split_dataset/train/images/600.jpg: 640x480 1 license_plate, 7.1ms\n",
            "image 441/720 /content/drive/MyDrive/Data/split_dataset/train/images/601.jpg: 480x640 1 license_plate, 7.0ms\n",
            "image 442/720 /content/drive/MyDrive/Data/split_dataset/train/images/602.jpg: 384x640 1 license_plate, 7.5ms\n",
            "image 443/720 /content/drive/MyDrive/Data/split_dataset/train/images/603.jpg: 640x480 1 license_plate, 7.1ms\n",
            "image 444/720 /content/drive/MyDrive/Data/split_dataset/train/images/604.jpg: 416x640 1 license_plate, 10.1ms\n",
            "image 445/720 /content/drive/MyDrive/Data/split_dataset/train/images/605.jpg: 640x480 1 license_plate, 6.8ms\n",
            "image 446/720 /content/drive/MyDrive/Data/split_dataset/train/images/606.jpg: 480x640 1 license_plate, 7.4ms\n",
            "image 447/720 /content/drive/MyDrive/Data/split_dataset/train/images/607.jpg: 384x640 1 license_plate, 7.2ms\n",
            "image 448/720 /content/drive/MyDrive/Data/split_dataset/train/images/608.jpg: 480x640 1 license_plate, 7.1ms\n",
            "image 449/720 /content/drive/MyDrive/Data/split_dataset/train/images/609.jpg: 384x640 1 license_plate, 7.1ms\n",
            "image 450/720 /content/drive/MyDrive/Data/split_dataset/train/images/61.jpg: 480x640 1 license_plate, 7.7ms\n",
            "image 451/720 /content/drive/MyDrive/Data/split_dataset/train/images/610.jpg: 640x480 1 license_plate, 7.2ms\n",
            "image 452/720 /content/drive/MyDrive/Data/split_dataset/train/images/611.jpg: 640x576 1 license_plate, 16.2ms\n",
            "image 453/720 /content/drive/MyDrive/Data/split_dataset/train/images/613.jpg: 384x640 1 license_plate, 7.0ms\n",
            "image 454/720 /content/drive/MyDrive/Data/split_dataset/train/images/614.jpg: 640x480 1 license_plate, 6.8ms\n",
            "image 455/720 /content/drive/MyDrive/Data/split_dataset/train/images/615.jpg: 640x384 1 license_plate, 8.9ms\n",
            "image 456/720 /content/drive/MyDrive/Data/split_dataset/train/images/616.jpg: 480x640 1 license_plate, 7.3ms\n",
            "image 457/720 /content/drive/MyDrive/Data/split_dataset/train/images/619.jpg: 480x640 1 license_plate, 6.4ms\n",
            "image 458/720 /content/drive/MyDrive/Data/split_dataset/train/images/620.jpg: 416x640 1 license_plate, 7.2ms\n",
            "image 459/720 /content/drive/MyDrive/Data/split_dataset/train/images/621.jpg: 384x640 1 license_plate, 7.3ms\n",
            "image 460/720 /content/drive/MyDrive/Data/split_dataset/train/images/622.jpg: 448x640 1 license_plate, 9.2ms\n",
            "image 461/720 /content/drive/MyDrive/Data/split_dataset/train/images/625.jpg: 480x640 1 license_plate, 10.1ms\n",
            "image 462/720 /content/drive/MyDrive/Data/split_dataset/train/images/626.jpg: 640x480 1 license_plate, 9.0ms\n",
            "image 463/720 /content/drive/MyDrive/Data/split_dataset/train/images/627.jpg: 640x416 1 license_plate, 10.4ms\n",
            "image 464/720 /content/drive/MyDrive/Data/split_dataset/train/images/628.jpg: 448x640 1 license_plate, 12.5ms\n",
            "image 465/720 /content/drive/MyDrive/Data/split_dataset/train/images/631.jpg: 480x640 1 license_plate, 10.3ms\n",
            "image 466/720 /content/drive/MyDrive/Data/split_dataset/train/images/632.jpg: 640x384 1 license_plate, 9.9ms\n",
            "image 467/720 /content/drive/MyDrive/Data/split_dataset/train/images/633.jpg: 448x640 1 license_plate, 9.4ms\n",
            "image 468/720 /content/drive/MyDrive/Data/split_dataset/train/images/634.jpg: 384x640 1 license_plate, 10.5ms\n",
            "image 469/720 /content/drive/MyDrive/Data/split_dataset/train/images/635.jpg: 384x640 1 license_plate, 9.2ms\n",
            "image 470/720 /content/drive/MyDrive/Data/split_dataset/train/images/636.jpg: 448x640 1 license_plate, 9.4ms\n",
            "image 471/720 /content/drive/MyDrive/Data/split_dataset/train/images/637.jpg: 384x640 1 license_plate, 7.0ms\n",
            "image 472/720 /content/drive/MyDrive/Data/split_dataset/train/images/638.jpg: 384x640 1 license_plate, 6.1ms\n",
            "image 473/720 /content/drive/MyDrive/Data/split_dataset/train/images/639.jpg: 384x640 1 license_plate, 6.3ms\n",
            "image 474/720 /content/drive/MyDrive/Data/split_dataset/train/images/64.jpg: 480x640 1 license_plate, 7.4ms\n",
            "image 475/720 /content/drive/MyDrive/Data/split_dataset/train/images/640.jpg: 480x640 1 license_plate, 6.1ms\n",
            "image 476/720 /content/drive/MyDrive/Data/split_dataset/train/images/641.jpg: 512x640 3 license_plates, 7.1ms\n",
            "image 477/720 /content/drive/MyDrive/Data/split_dataset/train/images/643.jpg: 384x640 1 license_plate, 7.0ms\n",
            "image 478/720 /content/drive/MyDrive/Data/split_dataset/train/images/644.jpg: 640x480 1 license_plate, 6.9ms\n",
            "image 479/720 /content/drive/MyDrive/Data/split_dataset/train/images/645.jpg: 384x640 1 license_plate, 7.0ms\n",
            "image 480/720 /content/drive/MyDrive/Data/split_dataset/train/images/646.jpg: 640x512 1 license_plate, 8.0ms\n",
            "image 481/720 /content/drive/MyDrive/Data/split_dataset/train/images/647.jpg: 640x480 1 license_plate, 8.6ms\n",
            "image 482/720 /content/drive/MyDrive/Data/split_dataset/train/images/648.jpg: 480x640 1 license_plate, 7.0ms\n",
            "image 483/720 /content/drive/MyDrive/Data/split_dataset/train/images/649.jpg: 384x640 1 license_plate, 7.5ms\n",
            "image 484/720 /content/drive/MyDrive/Data/split_dataset/train/images/65.jpg: 384x640 1 license_plate, 6.3ms\n",
            "image 485/720 /content/drive/MyDrive/Data/split_dataset/train/images/650.jpg: 640x480 1 license_plate, 7.5ms\n",
            "image 486/720 /content/drive/MyDrive/Data/split_dataset/train/images/651.jpg: 384x640 1 license_plate, 7.4ms\n",
            "image 487/720 /content/drive/MyDrive/Data/split_dataset/train/images/652.jpg: 480x640 1 license_plate, 7.0ms\n",
            "image 488/720 /content/drive/MyDrive/Data/split_dataset/train/images/654.jpg: 384x640 1 license_plate, 10.2ms\n",
            "image 489/720 /content/drive/MyDrive/Data/split_dataset/train/images/655.jpg: 384x640 1 license_plate, 9.4ms\n",
            "image 490/720 /content/drive/MyDrive/Data/split_dataset/train/images/656.jpg: 384x640 1 license_plate, 9.0ms\n",
            "image 491/720 /content/drive/MyDrive/Data/split_dataset/train/images/657.jpg: 640x480 1 license_plate, 10.3ms\n",
            "image 492/720 /content/drive/MyDrive/Data/split_dataset/train/images/658.jpg: 480x640 1 license_plate, 7.3ms\n",
            "image 493/720 /content/drive/MyDrive/Data/split_dataset/train/images/659.jpg: 352x640 1 license_plate, 7.5ms\n",
            "image 494/720 /content/drive/MyDrive/Data/split_dataset/train/images/66.jpg: 384x640 1 license_plate, 7.0ms\n",
            "image 495/720 /content/drive/MyDrive/Data/split_dataset/train/images/660.jpg: 640x480 1 license_plate, 7.6ms\n",
            "image 496/720 /content/drive/MyDrive/Data/split_dataset/train/images/661.jpg: 448x640 1 license_plate, 7.1ms\n",
            "image 497/720 /content/drive/MyDrive/Data/split_dataset/train/images/664.jpg: 640x480 1 license_plate, 6.9ms\n",
            "image 498/720 /content/drive/MyDrive/Data/split_dataset/train/images/665.jpg: 480x640 1 license_plate, 6.8ms\n",
            "image 499/720 /content/drive/MyDrive/Data/split_dataset/train/images/666.jpg: 480x640 1 license_plate, 6.4ms\n",
            "image 500/720 /content/drive/MyDrive/Data/split_dataset/train/images/667.jpg: 480x640 1 license_plate, 6.3ms\n",
            "image 501/720 /content/drive/MyDrive/Data/split_dataset/train/images/669.jpg: 640x480 1 license_plate, 7.9ms\n",
            "image 502/720 /content/drive/MyDrive/Data/split_dataset/train/images/67.jpg: 512x640 1 license_plate, 11.8ms\n",
            "image 503/720 /content/drive/MyDrive/Data/split_dataset/train/images/670.jpg: 480x640 1 license_plate, 10.0ms\n",
            "image 504/720 /content/drive/MyDrive/Data/split_dataset/train/images/671.jpg: 480x640 1 license_plate, 6.7ms\n",
            "image 505/720 /content/drive/MyDrive/Data/split_dataset/train/images/672.jpg: 640x480 1 license_plate, 7.2ms\n",
            "image 506/720 /content/drive/MyDrive/Data/split_dataset/train/images/673.jpg: 384x640 1 license_plate, 7.4ms\n",
            "image 507/720 /content/drive/MyDrive/Data/split_dataset/train/images/674.jpg: 640x480 1 license_plate, 9.6ms\n",
            "image 508/720 /content/drive/MyDrive/Data/split_dataset/train/images/675.jpg: 480x640 1 license_plate, 9.6ms\n",
            "image 509/720 /content/drive/MyDrive/Data/split_dataset/train/images/676.jpg: 640x480 1 license_plate, 9.9ms\n",
            "image 510/720 /content/drive/MyDrive/Data/split_dataset/train/images/677.jpg: 640x480 1 license_plate, 10.1ms\n",
            "image 511/720 /content/drive/MyDrive/Data/split_dataset/train/images/678.jpg: 384x640 1 license_plate, 9.4ms\n",
            "image 512/720 /content/drive/MyDrive/Data/split_dataset/train/images/679.jpg: 640x480 1 license_plate, 9.9ms\n",
            "image 513/720 /content/drive/MyDrive/Data/split_dataset/train/images/68.jpg: 448x640 1 license_plate, 10.0ms\n",
            "image 514/720 /content/drive/MyDrive/Data/split_dataset/train/images/680.jpg: 480x640 1 license_plate, 10.7ms\n",
            "image 515/720 /content/drive/MyDrive/Data/split_dataset/train/images/681.jpg: 640x480 1 license_plate, 9.7ms\n",
            "image 516/720 /content/drive/MyDrive/Data/split_dataset/train/images/682.jpg: 640x384 1 license_plate, 10.0ms\n",
            "image 517/720 /content/drive/MyDrive/Data/split_dataset/train/images/683.jpg: 640x384 1 license_plate, 8.5ms\n",
            "image 518/720 /content/drive/MyDrive/Data/split_dataset/train/images/685.jpg: 480x640 1 license_plate, 7.9ms\n",
            "image 519/720 /content/drive/MyDrive/Data/split_dataset/train/images/686.jpg: 480x640 1 license_plate, 8.2ms\n",
            "image 520/720 /content/drive/MyDrive/Data/split_dataset/train/images/688.jpg: 384x640 1 license_plate, 7.1ms\n",
            "image 521/720 /content/drive/MyDrive/Data/split_dataset/train/images/689.jpg: 640x384 1 license_plate, 7.2ms\n",
            "image 522/720 /content/drive/MyDrive/Data/split_dataset/train/images/69.jpg: 448x640 1 license_plate, 10.0ms\n",
            "image 523/720 /content/drive/MyDrive/Data/split_dataset/train/images/690.jpg: 640x544 1 license_plate, 7.9ms\n",
            "image 524/720 /content/drive/MyDrive/Data/split_dataset/train/images/693.jpg: 384x640 1 license_plate, 6.9ms\n",
            "image 525/720 /content/drive/MyDrive/Data/split_dataset/train/images/694.jpg: 640x480 1 license_plate, 7.2ms\n",
            "image 526/720 /content/drive/MyDrive/Data/split_dataset/train/images/695.jpg: 640x448 1 license_plate, 8.4ms\n",
            "image 527/720 /content/drive/MyDrive/Data/split_dataset/train/images/696.jpg: 384x640 1 license_plate, 7.9ms\n",
            "image 528/720 /content/drive/MyDrive/Data/split_dataset/train/images/697.jpg: 640x384 1 license_plate, 7.2ms\n",
            "image 529/720 /content/drive/MyDrive/Data/split_dataset/train/images/699.jpg: 640x480 1 license_plate, 6.9ms\n",
            "image 530/720 /content/drive/MyDrive/Data/split_dataset/train/images/7.jpg: 640x480 1 license_plate, 7.7ms\n",
            "image 531/720 /content/drive/MyDrive/Data/split_dataset/train/images/70.jpg: 480x640 1 license_plate, 6.8ms\n",
            "image 532/720 /content/drive/MyDrive/Data/split_dataset/train/images/702.jpg: 640x384 1 license_plate, 12.6ms\n",
            "image 533/720 /content/drive/MyDrive/Data/split_dataset/train/images/703.jpg: 384x640 1 license_plate, 7.2ms\n",
            "image 534/720 /content/drive/MyDrive/Data/split_dataset/train/images/704.jpg: 384x640 1 license_plate, 6.4ms\n",
            "image 535/720 /content/drive/MyDrive/Data/split_dataset/train/images/706.jpg: 480x640 1 license_plate, 7.0ms\n",
            "image 536/720 /content/drive/MyDrive/Data/split_dataset/train/images/708.jpg: 512x640 1 license_plate, 7.0ms\n",
            "image 537/720 /content/drive/MyDrive/Data/split_dataset/train/images/709.jpg: 480x640 1 license_plate, 7.2ms\n",
            "image 538/720 /content/drive/MyDrive/Data/split_dataset/train/images/71.jpg: 480x640 1 license_plate, 6.3ms\n",
            "image 539/720 /content/drive/MyDrive/Data/split_dataset/train/images/710.jpg: 640x384 1 license_plate, 7.0ms\n",
            "image 540/720 /content/drive/MyDrive/Data/split_dataset/train/images/711.jpg: 480x640 1 license_plate, 6.9ms\n",
            "image 541/720 /content/drive/MyDrive/Data/split_dataset/train/images/712.jpg: 480x640 1 license_plate, 6.4ms\n",
            "image 542/720 /content/drive/MyDrive/Data/split_dataset/train/images/713.jpg: 640x480 1 license_plate, 6.8ms\n",
            "image 543/720 /content/drive/MyDrive/Data/split_dataset/train/images/714.jpg: 480x640 1 license_plate, 8.0ms\n",
            "image 544/720 /content/drive/MyDrive/Data/split_dataset/train/images/715.jpg: 640x384 1 license_plate, 7.0ms\n",
            "image 545/720 /content/drive/MyDrive/Data/split_dataset/train/images/716.jpg: 640x384 1 license_plate, 6.3ms\n",
            "image 546/720 /content/drive/MyDrive/Data/split_dataset/train/images/717.jpg: 544x640 1 license_plate, 7.8ms\n",
            "image 547/720 /content/drive/MyDrive/Data/split_dataset/train/images/718.jpg: 640x512 1 license_plate, 9.1ms\n",
            "image 548/720 /content/drive/MyDrive/Data/split_dataset/train/images/72.jpg: 384x640 1 license_plate, 7.4ms\n",
            "image 549/720 /content/drive/MyDrive/Data/split_dataset/train/images/720.jpg: 480x640 1 license_plate, 7.0ms\n",
            "image 550/720 /content/drive/MyDrive/Data/split_dataset/train/images/721.jpg: 640x384 1 license_plate, 7.0ms\n",
            "image 551/720 /content/drive/MyDrive/Data/split_dataset/train/images/722.jpg: 640x384 1 license_plate, 6.2ms\n",
            "image 552/720 /content/drive/MyDrive/Data/split_dataset/train/images/724.jpg: 640x384 1 license_plate, 7.6ms\n",
            "image 553/720 /content/drive/MyDrive/Data/split_dataset/train/images/725.jpg: 640x512 1 license_plate, 8.7ms\n",
            "image 554/720 /content/drive/MyDrive/Data/split_dataset/train/images/726.jpg: 480x640 1 license_plate, 11.6ms\n",
            "image 555/720 /content/drive/MyDrive/Data/split_dataset/train/images/727.jpg: 384x640 1 license_plate, 7.6ms\n",
            "image 556/720 /content/drive/MyDrive/Data/split_dataset/train/images/728.jpg: 640x480 1 license_plate, 7.0ms\n",
            "image 557/720 /content/drive/MyDrive/Data/split_dataset/train/images/729.jpg: 384x640 1 license_plate, 8.7ms\n",
            "image 558/720 /content/drive/MyDrive/Data/split_dataset/train/images/73.jpg: 480x640 1 license_plate, 7.2ms\n",
            "image 559/720 /content/drive/MyDrive/Data/split_dataset/train/images/730.jpg: 640x480 1 license_plate, 8.9ms\n",
            "image 560/720 /content/drive/MyDrive/Data/split_dataset/train/images/731.jpg: 640x480 1 license_plate, 8.4ms\n",
            "image 561/720 /content/drive/MyDrive/Data/split_dataset/train/images/732.jpg: 640x480 1 license_plate, 9.0ms\n",
            "image 562/720 /content/drive/MyDrive/Data/split_dataset/train/images/733.jpg: 640x416 1 license_plate, 9.9ms\n",
            "image 563/720 /content/drive/MyDrive/Data/split_dataset/train/images/734.jpg: 640x480 1 license_plate, 9.8ms\n",
            "image 564/720 /content/drive/MyDrive/Data/split_dataset/train/images/735.jpg: 480x640 1 license_plate, 9.6ms\n",
            "image 565/720 /content/drive/MyDrive/Data/split_dataset/train/images/736.jpg: 480x640 1 license_plate, 8.7ms\n",
            "image 566/720 /content/drive/MyDrive/Data/split_dataset/train/images/737.jpg: 640x384 1 license_plate, 9.7ms\n",
            "image 567/720 /content/drive/MyDrive/Data/split_dataset/train/images/739.jpg: 384x640 1 license_plate, 10.3ms\n",
            "image 568/720 /content/drive/MyDrive/Data/split_dataset/train/images/740.jpg: 384x640 1 license_plate, 8.8ms\n",
            "image 569/720 /content/drive/MyDrive/Data/split_dataset/train/images/741.jpg: 384x640 1 license_plate, 8.5ms\n",
            "image 570/720 /content/drive/MyDrive/Data/split_dataset/train/images/742.jpg: 640x384 1 license_plate, 9.5ms\n",
            "image 571/720 /content/drive/MyDrive/Data/split_dataset/train/images/743.jpg: 640x384 1 license_plate, 6.3ms\n",
            "image 572/720 /content/drive/MyDrive/Data/split_dataset/train/images/744.jpg: 640x480 1 license_plate, 7.1ms\n",
            "image 573/720 /content/drive/MyDrive/Data/split_dataset/train/images/745.jpg: 640x384 1 license_plate, 7.2ms\n",
            "image 574/720 /content/drive/MyDrive/Data/split_dataset/train/images/746.jpg: 640x480 1 license_plate, 7.3ms\n",
            "image 575/720 /content/drive/MyDrive/Data/split_dataset/train/images/747.jpg: 640x480 1 license_plate, 6.4ms\n",
            "image 576/720 /content/drive/MyDrive/Data/split_dataset/train/images/748.jpg: 480x640 1 license_plate, 7.4ms\n",
            "image 577/720 /content/drive/MyDrive/Data/split_dataset/train/images/749.jpg: 640x384 1 license_plate, 7.3ms\n",
            "image 578/720 /content/drive/MyDrive/Data/split_dataset/train/images/75.jpg: 640x512 1 license_plate, 7.1ms\n",
            "image 579/720 /content/drive/MyDrive/Data/split_dataset/train/images/750.jpg: 640x480 1 license_plate, 7.0ms\n",
            "image 580/720 /content/drive/MyDrive/Data/split_dataset/train/images/751.jpg: 480x640 1 license_plate, 6.9ms\n",
            "image 581/720 /content/drive/MyDrive/Data/split_dataset/train/images/752.jpg: 384x640 1 license_plate, 6.8ms\n",
            "image 582/720 /content/drive/MyDrive/Data/split_dataset/train/images/753.jpg: 480x640 1 license_plate, 6.7ms\n",
            "image 583/720 /content/drive/MyDrive/Data/split_dataset/train/images/754.jpg: 384x640 1 license_plate, 7.0ms\n",
            "image 584/720 /content/drive/MyDrive/Data/split_dataset/train/images/755.jpg: 640x480 1 license_plate, 7.6ms\n",
            "image 585/720 /content/drive/MyDrive/Data/split_dataset/train/images/756.jpg: 384x640 1 license_plate, 7.8ms\n",
            "image 586/720 /content/drive/MyDrive/Data/split_dataset/train/images/757.jpg: 640x608 1 license_plate, 8.2ms\n",
            "image 587/720 /content/drive/MyDrive/Data/split_dataset/train/images/759.jpg: 480x640 1 license_plate, 7.3ms\n",
            "image 588/720 /content/drive/MyDrive/Data/split_dataset/train/images/76.jpg: 640x480 1 license_plate, 8.4ms\n",
            "image 589/720 /content/drive/MyDrive/Data/split_dataset/train/images/761.jpg: 448x640 1 license_plate, 7.9ms\n",
            "image 590/720 /content/drive/MyDrive/Data/split_dataset/train/images/762.jpg: 384x640 1 license_plate, 7.7ms\n",
            "image 591/720 /content/drive/MyDrive/Data/split_dataset/train/images/763.jpg: 640x480 1 license_plate, 7.1ms\n",
            "image 592/720 /content/drive/MyDrive/Data/split_dataset/train/images/764.jpg: 384x640 1 license_plate, 7.5ms\n",
            "image 593/720 /content/drive/MyDrive/Data/split_dataset/train/images/766.jpg: 384x640 1 license_plate, 7.5ms\n",
            "image 594/720 /content/drive/MyDrive/Data/split_dataset/train/images/768.jpg: 640x576 1 license_plate, 10.1ms\n",
            "image 595/720 /content/drive/MyDrive/Data/split_dataset/train/images/771.jpg: 640x544 1 license_plate, 7.8ms\n",
            "image 596/720 /content/drive/MyDrive/Data/split_dataset/train/images/772.jpg: 480x640 1 license_plate, 6.9ms\n",
            "image 597/720 /content/drive/MyDrive/Data/split_dataset/train/images/773.jpg: 640x480 1 license_plate, 7.0ms\n",
            "image 598/720 /content/drive/MyDrive/Data/split_dataset/train/images/774.jpg: 640x384 1 license_plate, 6.8ms\n",
            "image 599/720 /content/drive/MyDrive/Data/split_dataset/train/images/775.jpg: 384x640 1 license_plate, 10.6ms\n",
            "image 600/720 /content/drive/MyDrive/Data/split_dataset/train/images/777.jpg: 640x480 1 license_plate, 6.9ms\n",
            "image 601/720 /content/drive/MyDrive/Data/split_dataset/train/images/778.jpg: 640x384 1 license_plate, 6.9ms\n",
            "image 602/720 /content/drive/MyDrive/Data/split_dataset/train/images/779.jpg: 480x640 1 license_plate, 6.8ms\n",
            "image 603/720 /content/drive/MyDrive/Data/split_dataset/train/images/78.jpg: 384x640 1 license_plate, 7.3ms\n",
            "image 604/720 /content/drive/MyDrive/Data/split_dataset/train/images/781.jpg: 480x640 1 license_plate, 7.0ms\n",
            "image 605/720 /content/drive/MyDrive/Data/split_dataset/train/images/782.jpg: 480x640 1 license_plate, 6.6ms\n",
            "image 606/720 /content/drive/MyDrive/Data/split_dataset/train/images/783.jpg: 640x480 1 license_plate, 11.2ms\n",
            "image 607/720 /content/drive/MyDrive/Data/split_dataset/train/images/784.jpg: 640x576 1 license_plate, 8.6ms\n",
            "image 608/720 /content/drive/MyDrive/Data/split_dataset/train/images/785.jpg: 384x640 1 license_plate, 7.4ms\n",
            "image 609/720 /content/drive/MyDrive/Data/split_dataset/train/images/786.jpg: 480x640 1 license_plate, 6.7ms\n",
            "image 610/720 /content/drive/MyDrive/Data/split_dataset/train/images/787.jpg: 480x640 1 license_plate, 9.1ms\n",
            "image 611/720 /content/drive/MyDrive/Data/split_dataset/train/images/788.jpg: 480x640 1 license_plate, 8.6ms\n",
            "image 612/720 /content/drive/MyDrive/Data/split_dataset/train/images/789.jpg: 384x640 1 license_plate, 11.8ms\n",
            "image 613/720 /content/drive/MyDrive/Data/split_dataset/train/images/79.jpg: 480x640 1 license_plate, 9.3ms\n",
            "image 614/720 /content/drive/MyDrive/Data/split_dataset/train/images/790.jpg: 640x448 1 license_plate, 9.4ms\n",
            "image 615/720 /content/drive/MyDrive/Data/split_dataset/train/images/791.jpg: 640x480 1 license_plate, 9.7ms\n",
            "image 616/720 /content/drive/MyDrive/Data/split_dataset/train/images/792.jpg: 640x480 1 license_plate, 9.4ms\n",
            "image 617/720 /content/drive/MyDrive/Data/split_dataset/train/images/793.jpg: 512x640 1 license_plate, 9.7ms\n",
            "image 618/720 /content/drive/MyDrive/Data/split_dataset/train/images/794.jpg: 640x480 1 license_plate, 9.8ms\n",
            "image 619/720 /content/drive/MyDrive/Data/split_dataset/train/images/795.jpg: 384x640 1 license_plate, 9.3ms\n",
            "image 620/720 /content/drive/MyDrive/Data/split_dataset/train/images/796.jpg: 640x480 1 license_plate, 8.9ms\n",
            "image 621/720 /content/drive/MyDrive/Data/split_dataset/train/images/798.jpg: 640x544 1 license_plate, 7.9ms\n",
            "image 622/720 /content/drive/MyDrive/Data/split_dataset/train/images/799.jpg: 416x640 1 license_plate, 7.2ms\n",
            "image 623/720 /content/drive/MyDrive/Data/split_dataset/train/images/801.jpg: 384x640 1 license_plate, 6.9ms\n",
            "image 624/720 /content/drive/MyDrive/Data/split_dataset/train/images/802.jpg: 640x480 1 license_plate, 7.4ms\n",
            "image 625/720 /content/drive/MyDrive/Data/split_dataset/train/images/803.jpg: 480x640 1 license_plate, 6.9ms\n",
            "image 626/720 /content/drive/MyDrive/Data/split_dataset/train/images/805.jpg: 480x640 1 license_plate, 6.1ms\n",
            "image 627/720 /content/drive/MyDrive/Data/split_dataset/train/images/806.jpg: 640x384 1 license_plate, 7.1ms\n",
            "image 628/720 /content/drive/MyDrive/Data/split_dataset/train/images/807.jpg: 640x480 1 license_plate, 6.9ms\n",
            "image 629/720 /content/drive/MyDrive/Data/split_dataset/train/images/808.jpg: 384x640 1 license_plate, 7.0ms\n",
            "image 630/720 /content/drive/MyDrive/Data/split_dataset/train/images/809.jpg: 640x416 1 license_plate, 7.5ms\n",
            "image 631/720 /content/drive/MyDrive/Data/split_dataset/train/images/810.jpg: 480x640 1 license_plate, 6.9ms\n",
            "image 632/720 /content/drive/MyDrive/Data/split_dataset/train/images/811.jpg: 640x384 1 license_plate, 7.1ms\n",
            "image 633/720 /content/drive/MyDrive/Data/split_dataset/train/images/812.jpg: 384x640 1 license_plate, 7.2ms\n",
            "image 634/720 /content/drive/MyDrive/Data/split_dataset/train/images/813.jpg: 384x640 1 license_plate, 6.2ms\n",
            "image 635/720 /content/drive/MyDrive/Data/split_dataset/train/images/815.jpg: 448x640 1 license_plate, 7.1ms\n",
            "image 636/720 /content/drive/MyDrive/Data/split_dataset/train/images/816.jpg: 480x640 1 license_plate, 7.3ms\n",
            "image 637/720 /content/drive/MyDrive/Data/split_dataset/train/images/817.jpg: 640x480 1 license_plate, 6.8ms\n",
            "image 638/720 /content/drive/MyDrive/Data/split_dataset/train/images/818.jpg: 384x640 1 license_plate, 6.8ms\n",
            "image 639/720 /content/drive/MyDrive/Data/split_dataset/train/images/819.jpg: 384x640 1 license_plate, 6.2ms\n",
            "image 640/720 /content/drive/MyDrive/Data/split_dataset/train/images/821.jpg: 480x640 1 license_plate, 6.8ms\n",
            "image 641/720 /content/drive/MyDrive/Data/split_dataset/train/images/822.jpg: 640x544 1 license_plate, 7.9ms\n",
            "image 642/720 /content/drive/MyDrive/Data/split_dataset/train/images/823.jpg: 640x384 1 license_plate, 7.2ms\n",
            "image 643/720 /content/drive/MyDrive/Data/split_dataset/train/images/824.jpg: 480x640 1 license_plate, 8.2ms\n",
            "image 644/720 /content/drive/MyDrive/Data/split_dataset/train/images/825.jpg: 640x480 1 license_plate, 6.9ms\n",
            "image 645/720 /content/drive/MyDrive/Data/split_dataset/train/images/827.jpg: 480x640 1 license_plate, 8.6ms\n",
            "image 646/720 /content/drive/MyDrive/Data/split_dataset/train/images/829.jpg: 384x640 1 license_plate, 7.1ms\n",
            "image 647/720 /content/drive/MyDrive/Data/split_dataset/train/images/83.jpg: 480x640 1 license_plate, 6.9ms\n",
            "image 648/720 /content/drive/MyDrive/Data/split_dataset/train/images/830.jpg: 384x640 1 license_plate, 6.9ms\n",
            "image 649/720 /content/drive/MyDrive/Data/split_dataset/train/images/831.jpg: 480x640 1 license_plate, 7.1ms\n",
            "image 650/720 /content/drive/MyDrive/Data/split_dataset/train/images/832.jpg: 480x640 1 license_plate, 6.2ms\n",
            "image 651/720 /content/drive/MyDrive/Data/split_dataset/train/images/833.jpg: 384x640 1 license_plate, 6.9ms\n",
            "image 652/720 /content/drive/MyDrive/Data/split_dataset/train/images/834.jpg: 480x640 1 license_plate, 7.2ms\n",
            "image 653/720 /content/drive/MyDrive/Data/split_dataset/train/images/835.jpg: 640x384 1 license_plate, 7.0ms\n",
            "image 654/720 /content/drive/MyDrive/Data/split_dataset/train/images/836.jpg: 480x640 1 license_plate, 8.9ms\n",
            "image 655/720 /content/drive/MyDrive/Data/split_dataset/train/images/837.jpg: 640x480 1 license_plate, 7.4ms\n",
            "image 656/720 /content/drive/MyDrive/Data/split_dataset/train/images/839.jpg: 384x640 1 license_plate, 8.5ms\n",
            "image 657/720 /content/drive/MyDrive/Data/split_dataset/train/images/84.jpg: 384x640 1 license_plate, 6.8ms\n",
            "image 658/720 /content/drive/MyDrive/Data/split_dataset/train/images/840.jpg: 384x640 1 license_plate, 6.1ms\n",
            "image 659/720 /content/drive/MyDrive/Data/split_dataset/train/images/841.jpg: 480x640 1 license_plate, 12.1ms\n",
            "image 660/720 /content/drive/MyDrive/Data/split_dataset/train/images/842.jpg: 480x640 1 license_plate, 10.0ms\n",
            "image 661/720 /content/drive/MyDrive/Data/split_dataset/train/images/845.jpg: 640x480 1 license_plate, 12.2ms\n",
            "image 662/720 /content/drive/MyDrive/Data/split_dataset/train/images/847.jpg: 448x640 1 license_plate, 13.7ms\n",
            "image 663/720 /content/drive/MyDrive/Data/split_dataset/train/images/848.jpg: 384x640 1 license_plate, 14.1ms\n",
            "image 664/720 /content/drive/MyDrive/Data/split_dataset/train/images/85.jpg: 480x640 1 license_plate, 13.6ms\n",
            "image 665/720 /content/drive/MyDrive/Data/split_dataset/train/images/851.jpg: 480x640 1 license_plate, 14.3ms\n",
            "image 666/720 /content/drive/MyDrive/Data/split_dataset/train/images/852.jpg: 640x416 1 license_plate, 14.5ms\n",
            "image 667/720 /content/drive/MyDrive/Data/split_dataset/train/images/854.jpg: 640x480 1 license_plate, 12.6ms\n",
            "image 668/720 /content/drive/MyDrive/Data/split_dataset/train/images/855.jpg: 640x480 1 license_plate, 12.2ms\n",
            "image 669/720 /content/drive/MyDrive/Data/split_dataset/train/images/856.jpg: 480x640 1 license_plate, 10.0ms\n",
            "image 670/720 /content/drive/MyDrive/Data/split_dataset/train/images/857.jpg: 352x640 1 license_plate, 11.5ms\n",
            "image 671/720 /content/drive/MyDrive/Data/split_dataset/train/images/858.jpg: 640x384 1 license_plate, 19.8ms\n",
            "image 672/720 /content/drive/MyDrive/Data/split_dataset/train/images/86.jpg: 480x640 1 license_plate, 14.7ms\n",
            "image 673/720 /content/drive/MyDrive/Data/split_dataset/train/images/860.jpg: 480x640 1 license_plate, 9.1ms\n",
            "image 674/720 /content/drive/MyDrive/Data/split_dataset/train/images/861.jpg: 640x384 1 license_plate, 11.1ms\n",
            "image 675/720 /content/drive/MyDrive/Data/split_dataset/train/images/862.jpg: 480x640 1 license_plate, 10.0ms\n",
            "image 676/720 /content/drive/MyDrive/Data/split_dataset/train/images/863.jpg: 448x640 1 license_plate, 8.9ms\n",
            "image 677/720 /content/drive/MyDrive/Data/split_dataset/train/images/864.jpg: 384x640 1 license_plate, 8.9ms\n",
            "image 678/720 /content/drive/MyDrive/Data/split_dataset/train/images/865.jpg: 480x640 1 license_plate, 8.9ms\n",
            "image 679/720 /content/drive/MyDrive/Data/split_dataset/train/images/866.jpg: 480x640 1 license_plate, 10.2ms\n",
            "image 680/720 /content/drive/MyDrive/Data/split_dataset/train/images/867.jpg: 640x384 1 license_plate, 8.7ms\n",
            "image 681/720 /content/drive/MyDrive/Data/split_dataset/train/images/868.jpg: 480x640 1 license_plate, 10.9ms\n",
            "image 682/720 /content/drive/MyDrive/Data/split_dataset/train/images/869.jpg: 480x640 1 license_plate, 7.8ms\n",
            "image 683/720 /content/drive/MyDrive/Data/split_dataset/train/images/87.jpg: 480x640 1 license_plate, 7.8ms\n",
            "image 684/720 /content/drive/MyDrive/Data/split_dataset/train/images/870.jpg: 640x384 1 license_plate, 9.4ms\n",
            "image 685/720 /content/drive/MyDrive/Data/split_dataset/train/images/872.jpg: 640x384 1 license_plate, 8.0ms\n",
            "image 686/720 /content/drive/MyDrive/Data/split_dataset/train/images/873.jpg: 640x480 1 license_plate, 10.1ms\n",
            "image 687/720 /content/drive/MyDrive/Data/split_dataset/train/images/874.jpg: 384x640 1 license_plate, 9.1ms\n",
            "image 688/720 /content/drive/MyDrive/Data/split_dataset/train/images/875.jpg: 480x640 1 license_plate, 8.8ms\n",
            "image 689/720 /content/drive/MyDrive/Data/split_dataset/train/images/876.jpg: 384x640 1 license_plate, 10.1ms\n",
            "image 690/720 /content/drive/MyDrive/Data/split_dataset/train/images/877.jpg: 384x640 1 license_plate, 9.1ms\n",
            "image 691/720 /content/drive/MyDrive/Data/split_dataset/train/images/878.jpg: 384x640 1 license_plate, 7.5ms\n",
            "image 692/720 /content/drive/MyDrive/Data/split_dataset/train/images/879.jpg: 640x416 1 license_plate, 8.5ms\n",
            "image 693/720 /content/drive/MyDrive/Data/split_dataset/train/images/88.jpg: 384x640 1 license_plate, 8.2ms\n",
            "image 694/720 /content/drive/MyDrive/Data/split_dataset/train/images/880.jpg: 384x640 1 license_plate, 8.4ms\n",
            "image 695/720 /content/drive/MyDrive/Data/split_dataset/train/images/881.jpg: 640x448 1 license_plate, 8.3ms\n",
            "image 696/720 /content/drive/MyDrive/Data/split_dataset/train/images/882.jpg: 480x640 1 license_plate, 10.6ms\n",
            "image 697/720 /content/drive/MyDrive/Data/split_dataset/train/images/883.jpg: 640x480 1 license_plate, 8.2ms\n",
            "image 698/720 /content/drive/MyDrive/Data/split_dataset/train/images/884.jpg: 384x640 1 license_plate, 8.4ms\n",
            "image 699/720 /content/drive/MyDrive/Data/split_dataset/train/images/885.jpg: 384x640 1 license_plate, 8.1ms\n",
            "image 700/720 /content/drive/MyDrive/Data/split_dataset/train/images/886.jpg: 640x480 1 license_plate, 16.7ms\n",
            "image 701/720 /content/drive/MyDrive/Data/split_dataset/train/images/888.jpg: 480x640 1 license_plate, 11.9ms\n",
            "image 702/720 /content/drive/MyDrive/Data/split_dataset/train/images/889.jpg: 480x640 1 license_plate, 12.2ms\n",
            "image 703/720 /content/drive/MyDrive/Data/split_dataset/train/images/89.jpg: 480x640 1 license_plate, 7.9ms\n",
            "image 704/720 /content/drive/MyDrive/Data/split_dataset/train/images/890.jpg: 384x640 1 license_plate, 9.1ms\n",
            "image 705/720 /content/drive/MyDrive/Data/split_dataset/train/images/891.jpg: 480x640 1 license_plate, 10.2ms\n",
            "image 706/720 /content/drive/MyDrive/Data/split_dataset/train/images/892.jpg: 640x480 1 license_plate, 10.3ms\n",
            "image 707/720 /content/drive/MyDrive/Data/split_dataset/train/images/893.jpg: 480x640 1 license_plate, 11.6ms\n",
            "image 708/720 /content/drive/MyDrive/Data/split_dataset/train/images/894.jpg: 448x640 1 license_plate, 18.0ms\n",
            "image 709/720 /content/drive/MyDrive/Data/split_dataset/train/images/895.jpg: 640x384 1 license_plate, 12.7ms\n",
            "image 710/720 /content/drive/MyDrive/Data/split_dataset/train/images/896.jpg: 384x640 1 license_plate, 13.6ms\n",
            "image 711/720 /content/drive/MyDrive/Data/split_dataset/train/images/898.jpg: 480x640 1 license_plate, 14.8ms\n",
            "image 712/720 /content/drive/MyDrive/Data/split_dataset/train/images/899.jpg: 640x480 1 license_plate, 8.8ms\n",
            "image 713/720 /content/drive/MyDrive/Data/split_dataset/train/images/9.jpg: 384x640 1 license_plate, 9.4ms\n",
            "image 714/720 /content/drive/MyDrive/Data/split_dataset/train/images/90.jpg: 640x384 1 license_plate, 10.3ms\n",
            "image 715/720 /content/drive/MyDrive/Data/split_dataset/train/images/900.jpg: 480x640 1 license_plate, 14.9ms\n",
            "image 716/720 /content/drive/MyDrive/Data/split_dataset/train/images/92.jpg: 480x640 1 license_plate, 9.7ms\n",
            "image 717/720 /content/drive/MyDrive/Data/split_dataset/train/images/93.jpg: 480x640 1 license_plate, 10.4ms\n",
            "image 718/720 /content/drive/MyDrive/Data/split_dataset/train/images/96.jpg: 480x640 1 license_plate, 7.8ms\n",
            "image 719/720 /content/drive/MyDrive/Data/split_dataset/train/images/98.jpg: 544x640 1 license_plate, 8.9ms\n",
            "image 720/720 /content/drive/MyDrive/Data/split_dataset/train/images/99.jpg: 480x640 1 license_plate, 11.2ms\n",
            "Speed: 2.6ms preprocess, 9.7ms inference, 1.4ms postprocess per image at shape (1, 3, 480, 640)\n"
          ]
        }
      ],
      "source": [
        "model=YOLO('/content/runs/detect/train/weights/best.pt')\n",
        "results=model('/content/drive/MyDrive/Data/split_dataset/train/images')\n",
        "boxes = results[0].boxes.xyxy"
      ]
    },
    {
      "cell_type": "code",
      "execution_count": 4,
      "id": "y7xEwT-rHG-2",
      "metadata": {
        "colab": {
          "base_uri": "https://localhost:8080/"
        },
        "id": "y7xEwT-rHG-2",
        "outputId": "ebc5bef1-9e73-4d96-b986-5f912332557a"
      },
      "outputs": [
        {
          "output_type": "stream",
          "name": "stdout",
          "text": [
            "Collecting easyocr\n",
            "  Downloading easyocr-1.7.2-py3-none-any.whl.metadata (10 kB)\n",
            "Requirement already satisfied: torch in /usr/local/lib/python3.10/dist-packages (from easyocr) (2.5.1+cu121)\n",
            "Requirement already satisfied: torchvision>=0.5 in /usr/local/lib/python3.10/dist-packages (from easyocr) (0.20.1+cu121)\n",
            "Requirement already satisfied: opencv-python-headless in /usr/local/lib/python3.10/dist-packages (from easyocr) (4.10.0.84)\n",
            "Requirement already satisfied: scipy in /usr/local/lib/python3.10/dist-packages (from easyocr) (1.13.1)\n",
            "Requirement already satisfied: numpy in /usr/local/lib/python3.10/dist-packages (from easyocr) (1.26.4)\n",
            "Requirement already satisfied: Pillow in /usr/local/lib/python3.10/dist-packages (from easyocr) (11.0.0)\n",
            "Requirement already satisfied: scikit-image in /usr/local/lib/python3.10/dist-packages (from easyocr) (0.24.0)\n",
            "Collecting python-bidi (from easyocr)\n",
            "  Downloading python_bidi-0.6.3-cp310-cp310-manylinux_2_17_x86_64.manylinux2014_x86_64.whl.metadata (4.9 kB)\n",
            "Requirement already satisfied: PyYAML in /usr/local/lib/python3.10/dist-packages (from easyocr) (6.0.2)\n",
            "Requirement already satisfied: Shapely in /usr/local/lib/python3.10/dist-packages (from easyocr) (2.0.6)\n",
            "Collecting pyclipper (from easyocr)\n",
            "  Downloading pyclipper-1.3.0.post6-cp310-cp310-manylinux_2_12_x86_64.manylinux2010_x86_64.whl.metadata (9.0 kB)\n",
            "Collecting ninja (from easyocr)\n",
            "  Downloading ninja-1.11.1.3-py3-none-manylinux_2_12_x86_64.manylinux2010_x86_64.whl.metadata (5.3 kB)\n",
            "Requirement already satisfied: filelock in /usr/local/lib/python3.10/dist-packages (from torch->easyocr) (3.16.1)\n",
            "Requirement already satisfied: typing-extensions>=4.8.0 in /usr/local/lib/python3.10/dist-packages (from torch->easyocr) (4.12.2)\n",
            "Requirement already satisfied: networkx in /usr/local/lib/python3.10/dist-packages (from torch->easyocr) (3.4.2)\n",
            "Requirement already satisfied: jinja2 in /usr/local/lib/python3.10/dist-packages (from torch->easyocr) (3.1.4)\n",
            "Requirement already satisfied: fsspec in /usr/local/lib/python3.10/dist-packages (from torch->easyocr) (2024.10.0)\n",
            "Requirement already satisfied: sympy==1.13.1 in /usr/local/lib/python3.10/dist-packages (from torch->easyocr) (1.13.1)\n",
            "Requirement already satisfied: mpmath<1.4,>=1.1.0 in /usr/local/lib/python3.10/dist-packages (from sympy==1.13.1->torch->easyocr) (1.3.0)\n",
            "Requirement already satisfied: imageio>=2.33 in /usr/local/lib/python3.10/dist-packages (from scikit-image->easyocr) (2.36.1)\n",
            "Requirement already satisfied: tifffile>=2022.8.12 in /usr/local/lib/python3.10/dist-packages (from scikit-image->easyocr) (2024.12.12)\n",
            "Requirement already satisfied: packaging>=21 in /usr/local/lib/python3.10/dist-packages (from scikit-image->easyocr) (24.2)\n",
            "Requirement already satisfied: lazy-loader>=0.4 in /usr/local/lib/python3.10/dist-packages (from scikit-image->easyocr) (0.4)\n",
            "Requirement already satisfied: MarkupSafe>=2.0 in /usr/local/lib/python3.10/dist-packages (from jinja2->torch->easyocr) (3.0.2)\n",
            "Downloading easyocr-1.7.2-py3-none-any.whl (2.9 MB)\n",
            "\u001b[2K   \u001b[90m━━━━━━━━━━━━━━━━━━━━━━━━━━━━━━━━━━━━━━━━\u001b[0m \u001b[32m2.9/2.9 MB\u001b[0m \u001b[31m57.1 MB/s\u001b[0m eta \u001b[36m0:00:00\u001b[0m\n",
            "\u001b[?25hDownloading ninja-1.11.1.3-py3-none-manylinux_2_12_x86_64.manylinux2010_x86_64.whl (422 kB)\n",
            "Downloading pyclipper-1.3.0.post6-cp310-cp310-manylinux_2_12_x86_64.manylinux2010_x86_64.whl (912 kB)\n",
            "\u001b[2K   \u001b[90m━━━━━━━━━━━━━━━━━━━━━━━━━━━━━━━━━━━━━━━━\u001b[0m \u001b[32m912.2/912.2 kB\u001b[0m \u001b[31m50.0 MB/s\u001b[0m eta \u001b[36m0:00:00\u001b[0m\n",
            "\u001b[?25hDownloading python_bidi-0.6.3-cp310-cp310-manylinux_2_17_x86_64.manylinux2014_x86_64.whl (286 kB)\n",
            "Installing collected packages: python-bidi, pyclipper, ninja, easyocr\n",
            "Successfully installed easyocr-1.7.2 ninja-1.11.1.3 pyclipper-1.3.0.post6 python-bidi-0.6.3\n"
          ]
        }
      ],
      "source": [
        "!pip install easyocr"
      ]
    },
    {
      "cell_type": "code",
      "execution_count": 7,
      "id": "XJWRqgr6Gtwy",
      "metadata": {
        "id": "XJWRqgr6Gtwy",
        "colab": {
          "base_uri": "https://localhost:8080/",
          "height": 211
        },
        "collapsed": true,
        "outputId": "24d7232c-b4e6-43f2-e617-b123fd099d35"
      },
      "outputs": [
        {
          "output_type": "error",
          "ename": "TypeError",
          "evalue": "'NoneType' object is not subscriptable",
          "traceback": [
            "\u001b[0;31m---------------------------------------------------------------------------\u001b[0m",
            "\u001b[0;31mTypeError\u001b[0m                                 Traceback (most recent call last)",
            "\u001b[0;32m<ipython-input-7-ed914a3b8b8f>\u001b[0m in \u001b[0;36m<cell line: 7>\u001b[0;34m()\u001b[0m\n\u001b[1;32m      7\u001b[0m \u001b[0;32mfor\u001b[0m \u001b[0mbox\u001b[0m \u001b[0;32min\u001b[0m \u001b[0mboxes\u001b[0m\u001b[0;34m:\u001b[0m\u001b[0;34m\u001b[0m\u001b[0;34m\u001b[0m\u001b[0m\n\u001b[1;32m      8\u001b[0m     \u001b[0mx1\u001b[0m\u001b[0;34m,\u001b[0m \u001b[0my1\u001b[0m\u001b[0;34m,\u001b[0m \u001b[0mx2\u001b[0m\u001b[0;34m,\u001b[0m \u001b[0my2\u001b[0m \u001b[0;34m=\u001b[0m \u001b[0mmap\u001b[0m\u001b[0;34m(\u001b[0m\u001b[0mint\u001b[0m\u001b[0;34m,\u001b[0m \u001b[0mbox\u001b[0m\u001b[0;34m)\u001b[0m  \u001b[0;31m# Convert to integers\u001b[0m\u001b[0;34m\u001b[0m\u001b[0;34m\u001b[0m\u001b[0m\n\u001b[0;32m----> 9\u001b[0;31m     \u001b[0mroi\u001b[0m \u001b[0;34m=\u001b[0m \u001b[0mimage\u001b[0m\u001b[0;34m[\u001b[0m\u001b[0my1\u001b[0m\u001b[0;34m:\u001b[0m\u001b[0my2\u001b[0m\u001b[0;34m,\u001b[0m \u001b[0mx1\u001b[0m\u001b[0;34m:\u001b[0m\u001b[0mx2\u001b[0m\u001b[0;34m]\u001b[0m  \u001b[0;31m# Crop the region of interest (ROI)\u001b[0m\u001b[0;34m\u001b[0m\u001b[0;34m\u001b[0m\u001b[0m\n\u001b[0m\u001b[1;32m     10\u001b[0m \u001b[0;34m\u001b[0m\u001b[0m\n\u001b[1;32m     11\u001b[0m     \u001b[0;31m# Save or process the cropped ROI\u001b[0m\u001b[0;34m\u001b[0m\u001b[0;34m\u001b[0m\u001b[0m\n",
            "\u001b[0;31mTypeError\u001b[0m: 'NoneType' object is not subscriptable"
          ]
        }
      ],
      "source": [
        "import cv2\n",
        "\n",
        "# Load the input image\n",
        "image = cv2.imread(\"/content/sample_data/expe.jpg\")\n",
        "\n",
        "# Iterate over detected bounding boxes\n",
        "for box in boxes:\n",
        "    x1, y1, x2, y2 = map(int, box)  # Convert to integers\n",
        "    roi = image[y1:y2, x1:x2]  # Crop the region of interest (ROI)\n",
        "\n",
        "    # Save or process the cropped ROI\n",
        "    cv2.imwrite(f\"roi_{x1}_{y1}.jpg\", roi)\n"
      ]
    },
    {
      "cell_type": "code",
      "execution_count": 8,
      "id": "75RFjbVcHATJ",
      "metadata": {
        "colab": {
          "base_uri": "https://localhost:8080/",
          "height": 401
        },
        "id": "75RFjbVcHATJ",
        "outputId": "9a581cbb-257f-410f-bb92-d05d17e4de33",
        "collapsed": true
      },
      "outputs": [
        {
          "output_type": "error",
          "ename": "ModuleNotFoundError",
          "evalue": "No module named 'easyocr'",
          "traceback": [
            "\u001b[0;31m---------------------------------------------------------------------------\u001b[0m",
            "\u001b[0;31mModuleNotFoundError\u001b[0m                       Traceback (most recent call last)",
            "\u001b[0;32m<ipython-input-8-cb978cd8f5a5>\u001b[0m in \u001b[0;36m<cell line: 8>\u001b[0;34m()\u001b[0m\n\u001b[1;32m      6\u001b[0m \u001b[0mimage_files\u001b[0m \u001b[0;34m=\u001b[0m \u001b[0;34m[\u001b[0m\u001b[0mf\u001b[0m \u001b[0;32mfor\u001b[0m \u001b[0mf\u001b[0m \u001b[0;32min\u001b[0m \u001b[0mos\u001b[0m\u001b[0;34m.\u001b[0m\u001b[0mlistdir\u001b[0m\u001b[0;34m(\u001b[0m\u001b[0mimages_folder\u001b[0m\u001b[0;34m)\u001b[0m \u001b[0;32mif\u001b[0m \u001b[0mf\u001b[0m\u001b[0;34m.\u001b[0m\u001b[0mendswith\u001b[0m\u001b[0;34m(\u001b[0m\u001b[0;34m(\u001b[0m\u001b[0;34m'.jpg'\u001b[0m\u001b[0;34m,\u001b[0m \u001b[0;34m'.png'\u001b[0m\u001b[0;34m)\u001b[0m\u001b[0;34m)\u001b[0m\u001b[0;34m]\u001b[0m \u001b[0;31m# Get list of image files\u001b[0m\u001b[0;34m\u001b[0m\u001b[0;34m\u001b[0m\u001b[0m\n\u001b[1;32m      7\u001b[0m \u001b[0;34m\u001b[0m\u001b[0m\n\u001b[0;32m----> 8\u001b[0;31m \u001b[0;32mimport\u001b[0m \u001b[0measyocr\u001b[0m\u001b[0;34m\u001b[0m\u001b[0;34m\u001b[0m\u001b[0m\n\u001b[0m\u001b[1;32m      9\u001b[0m \u001b[0mreader\u001b[0m \u001b[0;34m=\u001b[0m \u001b[0measyocr\u001b[0m\u001b[0;34m.\u001b[0m\u001b[0mReader\u001b[0m\u001b[0;34m(\u001b[0m\u001b[0;34m[\u001b[0m\u001b[0;34m'ar'\u001b[0m\u001b[0;34m,\u001b[0m\u001b[0;34m'en'\u001b[0m\u001b[0;34m]\u001b[0m\u001b[0;34m)\u001b[0m \u001b[0;31m# Initialize reader outside the loop\u001b[0m\u001b[0;34m\u001b[0m\u001b[0;34m\u001b[0m\u001b[0m\n\u001b[1;32m     10\u001b[0m \u001b[0;34m\u001b[0m\u001b[0m\n",
            "\u001b[0;31mModuleNotFoundError\u001b[0m: No module named 'easyocr'",
            "",
            "\u001b[0;31m---------------------------------------------------------------------------\u001b[0;32m\nNOTE: If your import is failing due to a missing package, you can\nmanually install dependencies using either !pip or !apt.\n\nTo view examples of installing some common dependencies, click the\n\"Open Examples\" button below.\n\u001b[0;31m---------------------------------------------------------------------------\u001b[0m\n"
          ],
          "errorDetails": {
            "actions": [
              {
                "action": "open_url",
                "actionText": "Open Examples",
                "url": "/notebooks/snippets/importing_libraries.ipynb"
              }
            ]
          }
        }
      ],
      "source": [
        "#import pytesseract\n",
        "#text=[] # No need to initialize here\n",
        "# OCR on the cropped region\n",
        "#text = pytesseract.image_to_string(roi)\n",
        "images_folder = '/content/drive/MyDrive/Data/test'\n",
        "image_files = [f for f in os.listdir(images_folder) if f.endswith(('.jpg', '.png'))] # Get list of image files\n",
        "\n",
        "import easyocr\n",
        "reader = easyocr.Reader(['ar','en']) # Initialize reader outside the loop\n",
        "\n",
        "import cv2\n",
        "from ultralytics import YOLO\n",
        "import easyocr\n",
        "\n",
        "# Load YOLO model\n",
        "model = YOLO('/content/runs/detect/train2/weights/best.pt')  # Your trained YOLO model\n",
        "\n",
        "# Initialize EasyOCR Reader\n",
        "reader = easyocr.Reader(['en'])  # Add other languages if required\n",
        "\n",
        "# Function to perform YOLO + EasyOCR\n",
        "def process_with_yolo_easyocr():\n",
        "  for img in image_files:\n",
        "      # Load image\n",
        "      image = cv2.imread(img)\n",
        "\n",
        "      # YOLO detection\n",
        "      results = model(image)\n",
        "      boxes = results[0].boxes.xyxy  # Extract bounding boxes\n",
        "\n",
        "      # List to store OCR results\n",
        "      ocr_results = []\n",
        "\n",
        "      for box in boxes:\n",
        "          x1, y1, x2, y2 = map(int, box)  # Get bounding box coordinates\n",
        "          roi = image[y1:y2, x1:x2]  # Crop region of interest (ROI)\n",
        "\n",
        "          # Perform OCR on the cropped region\n",
        "          text = reader.readtext(roi, detail=0)  # Extract text\n",
        "          ocr_results.append({\"box\": (x1, y1, x2, y2), \"text\": text})\n",
        "\n",
        "          # Draw bounding box and text on image\n",
        "          cv2.rectangle(image, (x1, y1), (x2, y2), (0, 255, 0), 2)  # Green box\n",
        "          cv2.putText(image, \" \".join(text), (x1, y1 - 10), cv2.FONT_HERSHEY_SIMPLEX, 0.5, (255, 0, 0), 2)\n",
        "\n",
        "      # Save or display the image\n",
        "      cv2.imwrite(\"output.jpg\", image)\n",
        "      return ocr_results\n",
        "\n",
        "# Test on a sample image\n",
        "results = process_with_yolo_easyocr()\n",
        "print(results)\n"
      ]
    },
    {
      "cell_type": "code",
      "execution_count": 6,
      "id": "dHOQIitnTrz1",
      "metadata": {
        "colab": {
          "base_uri": "https://localhost:8080/"
        },
        "id": "dHOQIitnTrz1",
        "outputId": "38199e8d-9040-463b-dcb2-3489f77b6fb8",
        "collapsed": true
      },
      "outputs": [
        {
          "output_type": "stream",
          "name": "stderr",
          "text": [
            "WARNING:easyocr.easyocr:Downloading detection model, please wait. This may take several minutes depending upon your network connection.\n"
          ]
        },
        {
          "output_type": "stream",
          "name": "stdout",
          "text": [
            "Progress: |██████████████████████████████████████████████████| 100.0% Complete"
          ]
        },
        {
          "output_type": "stream",
          "name": "stderr",
          "text": [
            "WARNING:easyocr.easyocr:Downloading recognition model, please wait. This may take several minutes depending upon your network connection.\n"
          ]
        },
        {
          "output_type": "stream",
          "name": "stdout",
          "text": [
            "Progress: |██████████████████████████████████████████████████| 100.0% Complete"
          ]
        }
      ],
      "source": [
        "import os\n",
        "import cv2\n",
        "import easyocr\n",
        "from ultralytics import YOLO\n",
        "\n",
        "images_folder = '/content/drive/MyDrive/Data/test'\n",
        "image_files = [f for f in os.listdir(images_folder) if f.endswith(('.jpg', '.png'))]\n",
        "\n",
        "model = YOLO('/content/runs/detect/train/weights/best.pt')\n",
        "reader = easyocr.Reader(['ar','en'])\n",
        "\n",
        "output_folder = '/content/drive/MyDrive/Data/output_result'\n",
        "os.makedirs(output_folder, exist_ok=True)\n",
        "\n"
      ]
    },
    {
      "cell_type": "code",
      "source": [
        "def process_with_yolo_easyocr():\n",
        "    all_results = []\n",
        "    for img in image_files:\n",
        "        image_path = os.path.join(images_folder, img)\n",
        "        image = cv2.imread(image_path)\n",
        "        if image is None:\n",
        "            continue\n",
        "\n",
        "        results = model(image)\n",
        "        boxes = results[0].boxes.xyxy\n",
        "        ocr_results = []\n",
        "\n",
        "        for box in boxes:\n",
        "            x1, y1, x2, y2 = map(int, box)\n",
        "            roi = image[y1:y2, x1:x2]\n",
        "            text = reader.readtext(roi, detail=0)\n",
        "            ocr_results.append({\"box\": (x1, y1, x2, y2), \"text\": text})\n",
        "\n",
        "            cv2.rectangle(image, (x1, y1), (x2, y2), (0, 255, 0), 2)\n",
        "            cv2.putText(image, \" \".join(text), (x1, y1 - 10), cv2.FONT_HERSHEY_SIMPLEX, 0.5, (255, 0, 0), 2)\n",
        "\n",
        "        output_image_path = os.path.join(output_folder, f\"annotated_{img}\")\n",
        "        cv2.imwrite(output_image_path, image)\n",
        "        all_results.append({\"image\": img, \"ocr_results\": ocr_results})\n",
        "\n",
        "    return all_results\n",
        "\n",
        "results = process_with_yolo_easyocr()\n",
        "print(results)\n"
      ],
      "metadata": {
        "colab": {
          "base_uri": "https://localhost:8080/"
        },
        "id": "hqdjjo1B3aJ1",
        "outputId": "f96d7b23-e48e-4d6e-d189-f659344ebb07"
      },
      "id": "hqdjjo1B3aJ1",
      "execution_count": 7,
      "outputs": [
        {
          "output_type": "stream",
          "name": "stdout",
          "text": [
            "\n",
            "0: 640x384 1 license_plate, 46.1ms\n",
            "Speed: 3.1ms preprocess, 46.1ms inference, 553.4ms postprocess per image at shape (1, 3, 640, 384)\n",
            "\n",
            "0: 640x480 1 license_plate, 34.3ms\n",
            "Speed: 3.3ms preprocess, 34.3ms inference, 1.3ms postprocess per image at shape (1, 3, 640, 480)\n",
            "\n",
            "0: 640x480 1 license_plate, 18.8ms\n",
            "Speed: 3.9ms preprocess, 18.8ms inference, 2.6ms postprocess per image at shape (1, 3, 640, 480)\n",
            "\n",
            "0: 640x384 1 license_plate, 18.7ms\n",
            "Speed: 8.1ms preprocess, 18.7ms inference, 1.5ms postprocess per image at shape (1, 3, 640, 384)\n",
            "\n",
            "0: 640x384 1 license_plate, 17.8ms\n",
            "Speed: 2.9ms preprocess, 17.8ms inference, 1.5ms postprocess per image at shape (1, 3, 640, 384)\n",
            "\n",
            "0: 480x640 1 license_plate, 70.0ms\n",
            "Speed: 4.4ms preprocess, 70.0ms inference, 3.0ms postprocess per image at shape (1, 3, 480, 640)\n",
            "\n",
            "0: 480x640 1 license_plate, 9.7ms\n",
            "Speed: 3.9ms preprocess, 9.7ms inference, 1.5ms postprocess per image at shape (1, 3, 480, 640)\n",
            "\n",
            "0: 640x480 1 license_plate, 10.9ms\n",
            "Speed: 4.9ms preprocess, 10.9ms inference, 1.4ms postprocess per image at shape (1, 3, 640, 480)\n",
            "\n",
            "0: 480x640 1 license_plate, 8.4ms\n",
            "Speed: 3.4ms preprocess, 8.4ms inference, 1.4ms postprocess per image at shape (1, 3, 480, 640)\n",
            "\n",
            "0: 384x640 1 license_plate, 54.8ms\n",
            "Speed: 3.1ms preprocess, 54.8ms inference, 1.4ms postprocess per image at shape (1, 3, 384, 640)\n",
            "\n",
            "0: 384x640 1 license_plate, 7.9ms\n",
            "Speed: 2.4ms preprocess, 7.9ms inference, 1.4ms postprocess per image at shape (1, 3, 384, 640)\n",
            "\n",
            "0: 384x640 1 license_plate, 18.2ms\n",
            "Speed: 4.4ms preprocess, 18.2ms inference, 1.7ms postprocess per image at shape (1, 3, 384, 640)\n",
            "\n",
            "0: 384x640 1 license_plate, 8.5ms\n",
            "Speed: 2.2ms preprocess, 8.5ms inference, 1.5ms postprocess per image at shape (1, 3, 384, 640)\n",
            "\n",
            "0: 640x384 1 license_plate, 13.8ms\n",
            "Speed: 2.2ms preprocess, 13.8ms inference, 1.7ms postprocess per image at shape (1, 3, 640, 384)\n",
            "\n",
            "0: 384x640 1 license_plate, 11.7ms\n",
            "Speed: 2.5ms preprocess, 11.7ms inference, 1.5ms postprocess per image at shape (1, 3, 384, 640)\n",
            "\n",
            "0: 384x640 1 license_plate, 12.1ms\n",
            "Speed: 3.2ms preprocess, 12.1ms inference, 1.7ms postprocess per image at shape (1, 3, 384, 640)\n",
            "\n",
            "0: 448x640 1 license_plate, 60.9ms\n",
            "Speed: 2.9ms preprocess, 60.9ms inference, 1.8ms postprocess per image at shape (1, 3, 448, 640)\n",
            "\n",
            "0: 640x384 1 license_plate, 11.3ms\n",
            "Speed: 3.0ms preprocess, 11.3ms inference, 1.6ms postprocess per image at shape (1, 3, 640, 384)\n",
            "\n",
            "0: 384x640 1 license_plate, 12.3ms\n",
            "Speed: 3.5ms preprocess, 12.3ms inference, 1.6ms postprocess per image at shape (1, 3, 384, 640)\n",
            "\n",
            "0: 640x480 1 license_plate, 12.3ms\n",
            "Speed: 3.4ms preprocess, 12.3ms inference, 1.7ms postprocess per image at shape (1, 3, 640, 480)\n",
            "\n",
            "0: 384x640 1 license_plate, 10.1ms\n",
            "Speed: 3.0ms preprocess, 10.1ms inference, 1.6ms postprocess per image at shape (1, 3, 384, 640)\n",
            "\n",
            "0: 640x480 1 license_plate, 12.6ms\n",
            "Speed: 3.1ms preprocess, 12.6ms inference, 1.7ms postprocess per image at shape (1, 3, 640, 480)\n",
            "\n",
            "0: 640x384 1 license_plate, 17.4ms\n",
            "Speed: 2.3ms preprocess, 17.4ms inference, 1.7ms postprocess per image at shape (1, 3, 640, 384)\n",
            "\n",
            "0: 480x640 1 license_plate, 15.8ms\n",
            "Speed: 6.1ms preprocess, 15.8ms inference, 1.8ms postprocess per image at shape (1, 3, 480, 640)\n",
            "\n",
            "0: 640x384 1 license_plate, 14.2ms\n",
            "Speed: 3.5ms preprocess, 14.2ms inference, 2.2ms postprocess per image at shape (1, 3, 640, 384)\n",
            "\n",
            "0: 480x640 1 license_plate, 12.3ms\n",
            "Speed: 3.2ms preprocess, 12.3ms inference, 1.6ms postprocess per image at shape (1, 3, 480, 640)\n",
            "\n",
            "0: 640x480 1 license_plate, 16.2ms\n",
            "Speed: 2.7ms preprocess, 16.2ms inference, 1.8ms postprocess per image at shape (1, 3, 640, 480)\n",
            "\n",
            "0: 512x640 1 license_plate, 73.1ms\n",
            "Speed: 3.6ms preprocess, 73.1ms inference, 2.1ms postprocess per image at shape (1, 3, 512, 640)\n",
            "\n",
            "0: 640x480 1 license_plate, 10.8ms\n",
            "Speed: 3.0ms preprocess, 10.8ms inference, 1.2ms postprocess per image at shape (1, 3, 640, 480)\n",
            "\n",
            "0: 416x640 1 license_plate, 34.8ms\n",
            "Speed: 2.9ms preprocess, 34.8ms inference, 1.1ms postprocess per image at shape (1, 3, 416, 640)\n",
            "\n",
            "0: 640x384 1 license_plate, 7.2ms\n",
            "Speed: 2.7ms preprocess, 7.2ms inference, 1.1ms postprocess per image at shape (1, 3, 640, 384)\n",
            "\n",
            "0: 384x640 1 license_plate, 8.1ms\n",
            "Speed: 2.4ms preprocess, 8.1ms inference, 1.2ms postprocess per image at shape (1, 3, 384, 640)\n",
            "\n",
            "0: 640x480 1 license_plate, 7.4ms\n",
            "Speed: 2.5ms preprocess, 7.4ms inference, 1.2ms postprocess per image at shape (1, 3, 640, 480)\n",
            "\n",
            "0: 384x640 1 license_plate, 7.5ms\n",
            "Speed: 2.9ms preprocess, 7.5ms inference, 1.1ms postprocess per image at shape (1, 3, 384, 640)\n",
            "\n",
            "0: 640x480 1 license_plate, 7.3ms\n",
            "Speed: 2.5ms preprocess, 7.3ms inference, 1.1ms postprocess per image at shape (1, 3, 640, 480)\n",
            "\n",
            "0: 384x640 1 license_plate, 7.5ms\n",
            "Speed: 3.2ms preprocess, 7.5ms inference, 1.1ms postprocess per image at shape (1, 3, 384, 640)\n",
            "\n",
            "0: 640x480 1 license_plate, 7.0ms\n",
            "Speed: 2.8ms preprocess, 7.0ms inference, 1.1ms postprocess per image at shape (1, 3, 640, 480)\n",
            "\n",
            "0: 640x480 1 license_plate, 6.7ms\n",
            "Speed: 2.2ms preprocess, 6.7ms inference, 1.1ms postprocess per image at shape (1, 3, 640, 480)\n",
            "\n",
            "0: 640x480 1 license_plate, 9.8ms\n",
            "Speed: 2.6ms preprocess, 9.8ms inference, 1.4ms postprocess per image at shape (1, 3, 640, 480)\n",
            "\n",
            "0: 480x640 1 license_plate, 9.1ms\n",
            "Speed: 2.6ms preprocess, 9.1ms inference, 1.1ms postprocess per image at shape (1, 3, 480, 640)\n",
            "\n",
            "0: 384x640 1 license_plate, 7.4ms\n",
            "Speed: 2.9ms preprocess, 7.4ms inference, 1.1ms postprocess per image at shape (1, 3, 384, 640)\n",
            "\n",
            "0: 640x480 1 license_plate, 7.0ms\n",
            "Speed: 2.5ms preprocess, 7.0ms inference, 1.1ms postprocess per image at shape (1, 3, 640, 480)\n",
            "\n",
            "0: 480x640 1 license_plate, 7.4ms\n",
            "Speed: 3.1ms preprocess, 7.4ms inference, 1.1ms postprocess per image at shape (1, 3, 480, 640)\n",
            "\n",
            "0: 480x640 2 license_plates, 7.0ms\n",
            "Speed: 3.7ms preprocess, 7.0ms inference, 1.4ms postprocess per image at shape (1, 3, 480, 640)\n",
            "\n",
            "0: 640x544 1 license_plate, 35.1ms\n",
            "Speed: 4.0ms preprocess, 35.1ms inference, 1.2ms postprocess per image at shape (1, 3, 640, 544)\n",
            "\n",
            "0: 384x640 1 license_plate, 7.4ms\n",
            "Speed: 2.5ms preprocess, 7.4ms inference, 1.2ms postprocess per image at shape (1, 3, 384, 640)\n",
            "\n",
            "0: 640x480 1 license_plate, 7.4ms\n",
            "Speed: 2.8ms preprocess, 7.4ms inference, 1.2ms postprocess per image at shape (1, 3, 640, 480)\n",
            "\n",
            "0: 640x480 1 license_plate, 6.8ms\n",
            "Speed: 2.3ms preprocess, 6.8ms inference, 1.2ms postprocess per image at shape (1, 3, 640, 480)\n",
            "\n",
            "0: 480x640 1 license_plate, 7.1ms\n",
            "Speed: 3.6ms preprocess, 7.1ms inference, 1.1ms postprocess per image at shape (1, 3, 480, 640)\n",
            "\n",
            "0: 384x640 2 license_plates, 9.3ms\n",
            "Speed: 3.0ms preprocess, 9.3ms inference, 1.7ms postprocess per image at shape (1, 3, 384, 640)\n",
            "\n",
            "0: 640x480 1 license_plate, 10.4ms\n",
            "Speed: 3.0ms preprocess, 10.4ms inference, 1.5ms postprocess per image at shape (1, 3, 640, 480)\n",
            "\n",
            "0: 640x384 1 license_plate, 10.1ms\n",
            "Speed: 2.4ms preprocess, 10.1ms inference, 1.3ms postprocess per image at shape (1, 3, 640, 384)\n",
            "\n",
            "0: 384x640 1 license_plate, 9.5ms\n",
            "Speed: 2.7ms preprocess, 9.5ms inference, 1.5ms postprocess per image at shape (1, 3, 384, 640)\n",
            "\n",
            "0: 480x640 1 license_plate, 7.4ms\n",
            "Speed: 3.4ms preprocess, 7.4ms inference, 1.1ms postprocess per image at shape (1, 3, 480, 640)\n",
            "\n",
            "0: 384x640 1 license_plate, 7.6ms\n",
            "Speed: 2.9ms preprocess, 7.6ms inference, 1.2ms postprocess per image at shape (1, 3, 384, 640)\n",
            "\n",
            "0: 384x640 1 license_plate, 6.4ms\n",
            "Speed: 3.3ms preprocess, 6.4ms inference, 1.1ms postprocess per image at shape (1, 3, 384, 640)\n",
            "\n",
            "0: 480x640 1 license_plate, 8.0ms\n",
            "Speed: 3.4ms preprocess, 8.0ms inference, 1.2ms postprocess per image at shape (1, 3, 480, 640)\n",
            "\n",
            "0: 640x480 1 license_plate, 7.5ms\n",
            "Speed: 1.8ms preprocess, 7.5ms inference, 1.2ms postprocess per image at shape (1, 3, 640, 480)\n",
            "\n",
            "0: 384x640 1 license_plate, 7.1ms\n",
            "Speed: 2.9ms preprocess, 7.1ms inference, 1.1ms postprocess per image at shape (1, 3, 384, 640)\n",
            "\n",
            "0: 384x640 1 license_plate, 9.0ms\n",
            "Speed: 2.1ms preprocess, 9.0ms inference, 1.4ms postprocess per image at shape (1, 3, 384, 640)\n",
            "\n",
            "0: 640x384 1 license_plate, 7.2ms\n",
            "Speed: 2.8ms preprocess, 7.2ms inference, 1.1ms postprocess per image at shape (1, 3, 640, 384)\n",
            "\n",
            "0: 480x640 1 license_plate, 7.4ms\n",
            "Speed: 3.6ms preprocess, 7.4ms inference, 1.2ms postprocess per image at shape (1, 3, 480, 640)\n",
            "\n",
            "0: 384x640 1 license_plate, 7.5ms\n",
            "Speed: 3.3ms preprocess, 7.5ms inference, 1.1ms postprocess per image at shape (1, 3, 384, 640)\n",
            "\n",
            "0: 640x480 1 license_plate, 11.2ms\n",
            "Speed: 2.7ms preprocess, 11.2ms inference, 1.6ms postprocess per image at shape (1, 3, 640, 480)\n",
            "\n",
            "0: 640x480 1 license_plate, 6.7ms\n",
            "Speed: 3.2ms preprocess, 6.7ms inference, 1.2ms postprocess per image at shape (1, 3, 640, 480)\n",
            "\n",
            "0: 640x544 1 license_plate, 10.7ms\n",
            "Speed: 3.8ms preprocess, 10.7ms inference, 1.6ms postprocess per image at shape (1, 3, 640, 544)\n",
            "\n",
            "0: 640x480 1 license_plate, 10.7ms\n",
            "Speed: 3.1ms preprocess, 10.7ms inference, 1.5ms postprocess per image at shape (1, 3, 640, 480)\n",
            "\n",
            "0: 640x480 1 license_plate, 7.8ms\n",
            "Speed: 3.9ms preprocess, 7.8ms inference, 1.6ms postprocess per image at shape (1, 3, 640, 480)\n",
            "\n",
            "0: 480x640 1 license_plate, 7.2ms\n",
            "Speed: 3.0ms preprocess, 7.2ms inference, 1.1ms postprocess per image at shape (1, 3, 480, 640)\n",
            "\n",
            "0: 480x640 1 license_plate, 6.5ms\n",
            "Speed: 3.4ms preprocess, 6.5ms inference, 1.1ms postprocess per image at shape (1, 3, 480, 640)\n",
            "\n",
            "0: 640x480 1 license_plate, 7.0ms\n",
            "Speed: 2.9ms preprocess, 7.0ms inference, 1.1ms postprocess per image at shape (1, 3, 640, 480)\n",
            "\n",
            "0: 640x480 1 license_plate, 6.7ms\n",
            "Speed: 3.1ms preprocess, 6.7ms inference, 1.1ms postprocess per image at shape (1, 3, 640, 480)\n",
            "\n",
            "0: 640x480 1 license_plate, 6.4ms\n",
            "Speed: 3.2ms preprocess, 6.4ms inference, 1.3ms postprocess per image at shape (1, 3, 640, 480)\n",
            "\n",
            "0: 640x384 1 license_plate, 7.0ms\n",
            "Speed: 3.0ms preprocess, 7.0ms inference, 1.1ms postprocess per image at shape (1, 3, 640, 384)\n",
            "\n",
            "0: 640x384 1 license_plate, 6.8ms\n",
            "Speed: 3.1ms preprocess, 6.8ms inference, 1.3ms postprocess per image at shape (1, 3, 640, 384)\n",
            "\n",
            "0: 640x384 1 license_plate, 6.5ms\n",
            "Speed: 2.0ms preprocess, 6.5ms inference, 1.7ms postprocess per image at shape (1, 3, 640, 384)\n",
            "\n",
            "0: 640x544 1 license_plate, 7.2ms\n",
            "Speed: 3.4ms preprocess, 7.2ms inference, 1.0ms postprocess per image at shape (1, 3, 640, 544)\n",
            "\n",
            "0: 448x640 1 license_plate, 7.2ms\n",
            "Speed: 3.4ms preprocess, 7.2ms inference, 1.1ms postprocess per image at shape (1, 3, 448, 640)\n",
            "\n",
            "0: 640x480 1 license_plate, 7.7ms\n",
            "Speed: 3.2ms preprocess, 7.7ms inference, 1.2ms postprocess per image at shape (1, 3, 640, 480)\n",
            "\n",
            "0: 480x640 1 license_plate, 10.5ms\n",
            "Speed: 3.1ms preprocess, 10.5ms inference, 1.2ms postprocess per image at shape (1, 3, 480, 640)\n",
            "\n",
            "0: 640x416 1 license_plate, 40.2ms\n",
            "Speed: 2.4ms preprocess, 40.2ms inference, 1.1ms postprocess per image at shape (1, 3, 640, 416)\n",
            "\n",
            "0: 640x480 1 license_plate, 7.4ms\n",
            "Speed: 1.9ms preprocess, 7.4ms inference, 1.2ms postprocess per image at shape (1, 3, 640, 480)\n",
            "\n",
            "0: 640x544 1 license_plate, 7.0ms\n",
            "Speed: 3.7ms preprocess, 7.0ms inference, 1.1ms postprocess per image at shape (1, 3, 640, 544)\n",
            "\n",
            "0: 640x480 1 license_plate, 7.1ms\n",
            "Speed: 2.1ms preprocess, 7.1ms inference, 1.2ms postprocess per image at shape (1, 3, 640, 480)\n",
            "\n",
            "0: 384x640 1 license_plate, 8.0ms\n",
            "Speed: 3.1ms preprocess, 8.0ms inference, 1.1ms postprocess per image at shape (1, 3, 384, 640)\n",
            "\n",
            "0: 384x640 1 license_plate, 7.0ms\n",
            "Speed: 2.4ms preprocess, 7.0ms inference, 1.1ms postprocess per image at shape (1, 3, 384, 640)\n",
            "\n",
            "0: 640x480 1 license_plate, 6.9ms\n",
            "Speed: 2.5ms preprocess, 6.9ms inference, 1.1ms postprocess per image at shape (1, 3, 640, 480)\n",
            "\n",
            "0: 384x640 1 license_plate, 10.5ms\n",
            "Speed: 2.8ms preprocess, 10.5ms inference, 1.1ms postprocess per image at shape (1, 3, 384, 640)\n",
            "\n",
            "0: 480x640 1 license_plate, 7.0ms\n",
            "Speed: 2.6ms preprocess, 7.0ms inference, 1.1ms postprocess per image at shape (1, 3, 480, 640)\n",
            "\n",
            "0: 640x384 1 license_plate, 7.6ms\n",
            "Speed: 3.0ms preprocess, 7.6ms inference, 1.1ms postprocess per image at shape (1, 3, 640, 384)\n",
            "\n",
            "0: 640x480 1 license_plate, 7.0ms\n",
            "Speed: 2.2ms preprocess, 7.0ms inference, 1.1ms postprocess per image at shape (1, 3, 640, 480)\n",
            "\n",
            "0: 640x384 1 license_plate, 11.1ms\n",
            "Speed: 3.6ms preprocess, 11.1ms inference, 1.8ms postprocess per image at shape (1, 3, 640, 384)\n",
            "\n",
            "0: 640x480 1 license_plate, 9.7ms\n",
            "Speed: 2.9ms preprocess, 9.7ms inference, 1.4ms postprocess per image at shape (1, 3, 640, 480)\n",
            "\n",
            "0: 640x384 1 license_plate, 9.5ms\n",
            "Speed: 3.8ms preprocess, 9.5ms inference, 1.3ms postprocess per image at shape (1, 3, 640, 384)\n",
            "\n",
            "0: 384x640 1 license_plate, 10.3ms\n",
            "Speed: 3.6ms preprocess, 10.3ms inference, 1.4ms postprocess per image at shape (1, 3, 384, 640)\n",
            "\n",
            "0: 480x640 1 license_plate, 7.2ms\n",
            "Speed: 2.3ms preprocess, 7.2ms inference, 1.1ms postprocess per image at shape (1, 3, 480, 640)\n",
            "\n",
            "0: 384x640 1 license_plate, 7.3ms\n",
            "Speed: 2.4ms preprocess, 7.3ms inference, 1.1ms postprocess per image at shape (1, 3, 384, 640)\n",
            "\n",
            "0: 384x640 1 license_plate, 6.8ms\n",
            "Speed: 2.2ms preprocess, 6.8ms inference, 1.2ms postprocess per image at shape (1, 3, 384, 640)\n",
            "\n",
            "0: 640x480 1 license_plate, 7.3ms\n",
            "Speed: 2.8ms preprocess, 7.3ms inference, 1.1ms postprocess per image at shape (1, 3, 640, 480)\n",
            "\n",
            "0: 640x480 1 license_plate, 6.6ms\n",
            "Speed: 2.4ms preprocess, 6.6ms inference, 1.1ms postprocess per image at shape (1, 3, 640, 480)\n",
            "\n",
            "0: 512x640 1 license_plate, 8.0ms\n",
            "Speed: 2.5ms preprocess, 8.0ms inference, 1.7ms postprocess per image at shape (1, 3, 512, 640)\n",
            "\n",
            "0: 480x640 1 license_plate, 7.1ms\n",
            "Speed: 3.4ms preprocess, 7.1ms inference, 1.1ms postprocess per image at shape (1, 3, 480, 640)\n",
            "\n",
            "0: 480x640 1 license_plate, 7.5ms\n",
            "Speed: 3.4ms preprocess, 7.5ms inference, 1.2ms postprocess per image at shape (1, 3, 480, 640)\n",
            "\n",
            "0: 384x640 1 license_plate, 7.2ms\n",
            "Speed: 3.4ms preprocess, 7.2ms inference, 1.1ms postprocess per image at shape (1, 3, 384, 640)\n",
            "\n",
            "0: 480x640 1 license_plate, 7.1ms\n",
            "Speed: 3.6ms preprocess, 7.1ms inference, 1.1ms postprocess per image at shape (1, 3, 480, 640)\n",
            "\n",
            "0: 640x480 1 license_plate, 6.8ms\n",
            "Speed: 2.4ms preprocess, 6.8ms inference, 1.4ms postprocess per image at shape (1, 3, 640, 480)\n",
            "\n",
            "0: 640x480 1 license_plate, 18.3ms\n",
            "Speed: 4.4ms preprocess, 18.3ms inference, 1.6ms postprocess per image at shape (1, 3, 640, 480)\n",
            "\n",
            "0: 640x480 1 license_plate, 9.2ms\n",
            "Speed: 3.1ms preprocess, 9.2ms inference, 1.6ms postprocess per image at shape (1, 3, 640, 480)\n",
            "\n",
            "0: 640x480 1 license_plate, 6.6ms\n",
            "Speed: 3.2ms preprocess, 6.6ms inference, 1.1ms postprocess per image at shape (1, 3, 640, 480)\n",
            "\n",
            "0: 384x640 1 license_plate, 7.5ms\n",
            "Speed: 3.0ms preprocess, 7.5ms inference, 1.5ms postprocess per image at shape (1, 3, 384, 640)\n",
            "\n",
            "0: 480x640 1 license_plate, 29.8ms\n",
            "Speed: 11.3ms preprocess, 29.8ms inference, 1.5ms postprocess per image at shape (1, 3, 480, 640)\n",
            "\n",
            "0: 640x512 1 license_plate, 79.1ms\n",
            "Speed: 2.9ms preprocess, 79.1ms inference, 1.7ms postprocess per image at shape (1, 3, 640, 512)\n",
            "\n",
            "0: 384x640 1 license_plate, 15.8ms\n",
            "Speed: 2.5ms preprocess, 15.8ms inference, 1.1ms postprocess per image at shape (1, 3, 384, 640)\n",
            "\n",
            "0: 640x384 1 license_plate, 7.8ms\n",
            "Speed: 2.1ms preprocess, 7.8ms inference, 1.2ms postprocess per image at shape (1, 3, 640, 384)\n",
            "\n",
            "0: 640x480 1 license_plate, 15.7ms\n",
            "Speed: 2.8ms preprocess, 15.7ms inference, 2.0ms postprocess per image at shape (1, 3, 640, 480)\n",
            "\n",
            "0: 384x640 1 license_plate, 7.5ms\n",
            "Speed: 2.4ms preprocess, 7.5ms inference, 1.3ms postprocess per image at shape (1, 3, 384, 640)\n",
            "\n",
            "0: 384x640 1 license_plate, 7.3ms\n",
            "Speed: 2.6ms preprocess, 7.3ms inference, 1.1ms postprocess per image at shape (1, 3, 384, 640)\n",
            "\n",
            "0: 480x640 1 license_plate, 7.3ms\n",
            "Speed: 3.6ms preprocess, 7.3ms inference, 1.2ms postprocess per image at shape (1, 3, 480, 640)\n",
            "\n",
            "0: 480x640 2 license_plates, 6.7ms\n",
            "Speed: 3.6ms preprocess, 6.7ms inference, 1.1ms postprocess per image at shape (1, 3, 480, 640)\n",
            "\n",
            "0: 640x480 1 license_plate, 7.3ms\n",
            "Speed: 2.3ms preprocess, 7.3ms inference, 1.1ms postprocess per image at shape (1, 3, 640, 480)\n",
            "\n",
            "0: 640x576 1 license_plate, 33.9ms\n",
            "Speed: 3.5ms preprocess, 33.9ms inference, 1.1ms postprocess per image at shape (1, 3, 640, 576)\n",
            "\n",
            "0: 640x480 1 license_plate, 7.3ms\n",
            "Speed: 3.0ms preprocess, 7.3ms inference, 1.2ms postprocess per image at shape (1, 3, 640, 480)\n",
            "\n",
            "0: 640x480 1 license_plate, 6.7ms\n",
            "Speed: 3.2ms preprocess, 6.7ms inference, 1.2ms postprocess per image at shape (1, 3, 640, 480)\n",
            "\n",
            "0: 384x640 1 license_plate, 9.9ms\n",
            "Speed: 3.3ms preprocess, 9.9ms inference, 1.2ms postprocess per image at shape (1, 3, 384, 640)\n",
            "\n",
            "0: 480x640 1 license_plate, 7.1ms\n",
            "Speed: 2.6ms preprocess, 7.1ms inference, 1.3ms postprocess per image at shape (1, 3, 480, 640)\n",
            "\n",
            "0: 384x640 1 license_plate, 7.5ms\n",
            "Speed: 3.2ms preprocess, 7.5ms inference, 1.2ms postprocess per image at shape (1, 3, 384, 640)\n",
            "\n",
            "0: 640x480 1 license_plate, 10.1ms\n",
            "Speed: 3.5ms preprocess, 10.1ms inference, 1.5ms postprocess per image at shape (1, 3, 640, 480)\n",
            "\n",
            "0: 640x480 1 license_plate, 12.1ms\n",
            "Speed: 2.8ms preprocess, 12.1ms inference, 1.7ms postprocess per image at shape (1, 3, 640, 480)\n",
            "\n",
            "0: 640x640 1 license_plate, 10.4ms\n",
            "Speed: 3.3ms preprocess, 10.4ms inference, 1.5ms postprocess per image at shape (1, 3, 640, 640)\n",
            "\n",
            "0: 480x640 1 license_plate, 7.0ms\n",
            "Speed: 3.5ms preprocess, 7.0ms inference, 1.2ms postprocess per image at shape (1, 3, 480, 640)\n",
            "\n",
            "0: 480x640 1 license_plate, 6.8ms\n",
            "Speed: 2.8ms preprocess, 6.8ms inference, 1.2ms postprocess per image at shape (1, 3, 480, 640)\n",
            "\n",
            "0: 640x480 1 license_plate, 7.2ms\n",
            "Speed: 3.4ms preprocess, 7.2ms inference, 1.4ms postprocess per image at shape (1, 3, 640, 480)\n",
            "\n",
            "0: 480x640 1 license_plate, 8.7ms\n",
            "Speed: 2.7ms preprocess, 8.7ms inference, 1.1ms postprocess per image at shape (1, 3, 480, 640)\n",
            "\n",
            "0: 640x512 1 license_plate, 7.0ms\n",
            "Speed: 2.5ms preprocess, 7.0ms inference, 1.1ms postprocess per image at shape (1, 3, 640, 512)\n",
            "\n",
            "0: 384x640 1 license_plate, 8.2ms\n",
            "Speed: 2.5ms preprocess, 8.2ms inference, 1.1ms postprocess per image at shape (1, 3, 384, 640)\n",
            "\n",
            "0: 384x640 1 license_plate, 6.5ms\n",
            "Speed: 2.2ms preprocess, 6.5ms inference, 1.1ms postprocess per image at shape (1, 3, 384, 640)\n",
            "\n",
            "0: 640x480 1 license_plate, 6.9ms\n",
            "Speed: 3.4ms preprocess, 6.9ms inference, 1.2ms postprocess per image at shape (1, 3, 640, 480)\n",
            "\n",
            "0: 480x640 1 license_plate, 7.7ms\n",
            "Speed: 2.8ms preprocess, 7.7ms inference, 1.1ms postprocess per image at shape (1, 3, 480, 640)\n",
            "\n",
            "0: 480x640 1 license_plate, 11.3ms\n",
            "Speed: 2.9ms preprocess, 11.3ms inference, 1.2ms postprocess per image at shape (1, 3, 480, 640)\n",
            "\n",
            "0: 480x640 1 license_plate, 9.5ms\n",
            "Speed: 2.5ms preprocess, 9.5ms inference, 1.3ms postprocess per image at shape (1, 3, 480, 640)\n",
            "\n",
            "0: 480x640 1 license_plate, 9.5ms\n",
            "Speed: 4.2ms preprocess, 9.5ms inference, 1.4ms postprocess per image at shape (1, 3, 480, 640)\n",
            "\n",
            "0: 448x640 1 license_plate, 9.6ms\n",
            "Speed: 4.3ms preprocess, 9.6ms inference, 1.5ms postprocess per image at shape (1, 3, 448, 640)\n",
            "\n",
            "0: 384x640 1 license_plate, 7.0ms\n",
            "Speed: 3.2ms preprocess, 7.0ms inference, 1.1ms postprocess per image at shape (1, 3, 384, 640)\n",
            "\n",
            "0: 384x640 1 license_plate, 6.6ms\n",
            "Speed: 3.5ms preprocess, 6.6ms inference, 1.1ms postprocess per image at shape (1, 3, 384, 640)\n",
            "\n",
            "0: 384x640 1 license_plate, 6.6ms\n",
            "Speed: 3.2ms preprocess, 6.6ms inference, 1.1ms postprocess per image at shape (1, 3, 384, 640)\n",
            "\n",
            "0: 384x640 1 license_plate, 8.1ms\n",
            "Speed: 2.6ms preprocess, 8.1ms inference, 1.3ms postprocess per image at shape (1, 3, 384, 640)\n",
            "\n",
            "0: 384x640 1 license_plate, 9.6ms\n",
            "Speed: 2.4ms preprocess, 9.6ms inference, 1.3ms postprocess per image at shape (1, 3, 384, 640)\n",
            "\n",
            "0: 384x640 1 license_plate, 6.5ms\n",
            "Speed: 2.2ms preprocess, 6.5ms inference, 1.1ms postprocess per image at shape (1, 3, 384, 640)\n",
            "\n",
            "0: 640x480 1 license_plate, 7.1ms\n",
            "Speed: 2.4ms preprocess, 7.1ms inference, 1.1ms postprocess per image at shape (1, 3, 640, 480)\n",
            "\n",
            "0: 640x384 1 license_plate, 8.2ms\n",
            "Speed: 2.2ms preprocess, 8.2ms inference, 1.1ms postprocess per image at shape (1, 3, 640, 384)\n",
            "\n",
            "0: 480x640 1 license_plate, 8.9ms\n",
            "Speed: 2.8ms preprocess, 8.9ms inference, 1.1ms postprocess per image at shape (1, 3, 480, 640)\n",
            "\n",
            "0: 384x640 2 license_plates, 6.9ms\n",
            "Speed: 2.0ms preprocess, 6.9ms inference, 1.0ms postprocess per image at shape (1, 3, 384, 640)\n",
            "\n",
            "0: 640x384 1 license_plate, 10.5ms\n",
            "Speed: 2.9ms preprocess, 10.5ms inference, 1.5ms postprocess per image at shape (1, 3, 640, 384)\n",
            "\n",
            "0: 384x640 1 license_plate, 9.2ms\n",
            "Speed: 2.8ms preprocess, 9.2ms inference, 1.4ms postprocess per image at shape (1, 3, 384, 640)\n",
            "\n",
            "0: 384x640 1 license_plate, 14.1ms\n",
            "Speed: 2.5ms preprocess, 14.1ms inference, 1.9ms postprocess per image at shape (1, 3, 384, 640)\n",
            "\n",
            "0: 480x640 1 license_plate, 7.3ms\n",
            "Speed: 3.8ms preprocess, 7.3ms inference, 1.1ms postprocess per image at shape (1, 3, 480, 640)\n",
            "\n",
            "0: 480x640 1 license_plate, 10.7ms\n",
            "Speed: 2.9ms preprocess, 10.7ms inference, 1.7ms postprocess per image at shape (1, 3, 480, 640)\n",
            "\n",
            "0: 384x640 1 license_plate, 11.7ms\n",
            "Speed: 2.6ms preprocess, 11.7ms inference, 2.0ms postprocess per image at shape (1, 3, 384, 640)\n",
            "\n",
            "0: 480x640 1 license_plate, 10.3ms\n",
            "Speed: 3.2ms preprocess, 10.3ms inference, 2.5ms postprocess per image at shape (1, 3, 480, 640)\n",
            "\n",
            "0: 640x480 1 license_plate, 9.2ms\n",
            "Speed: 2.8ms preprocess, 9.2ms inference, 1.4ms postprocess per image at shape (1, 3, 640, 480)\n",
            "\n",
            "0: 384x640 1 license_plate, 10.9ms\n",
            "Speed: 2.4ms preprocess, 10.9ms inference, 2.1ms postprocess per image at shape (1, 3, 384, 640)\n",
            "\n",
            "0: 640x576 1 license_plate, 13.0ms\n",
            "Speed: 3.8ms preprocess, 13.0ms inference, 1.5ms postprocess per image at shape (1, 3, 640, 576)\n",
            "\n",
            "0: 640x480 1 license_plate, 10.1ms\n",
            "Speed: 5.4ms preprocess, 10.1ms inference, 1.7ms postprocess per image at shape (1, 3, 640, 480)\n",
            "\n",
            "0: 480x640 1 license_plate, 12.4ms\n",
            "Speed: 3.1ms preprocess, 12.4ms inference, 1.6ms postprocess per image at shape (1, 3, 480, 640)\n",
            "\n",
            "0: 640x384 1 license_plate, 14.1ms\n",
            "Speed: 2.3ms preprocess, 14.1ms inference, 1.7ms postprocess per image at shape (1, 3, 640, 384)\n",
            "\n",
            "0: 640x480 1 license_plate, 9.4ms\n",
            "Speed: 2.8ms preprocess, 9.4ms inference, 1.7ms postprocess per image at shape (1, 3, 640, 480)\n",
            "\n",
            "0: 640x480 1 license_plate, 9.1ms\n",
            "Speed: 2.6ms preprocess, 9.1ms inference, 1.4ms postprocess per image at shape (1, 3, 640, 480)\n",
            "\n",
            "0: 480x640 1 license_plate, 13.1ms\n",
            "Speed: 2.9ms preprocess, 13.1ms inference, 2.0ms postprocess per image at shape (1, 3, 480, 640)\n",
            "\n",
            "0: 448x640 1 license_plate, 32.1ms\n",
            "Speed: 2.8ms preprocess, 32.1ms inference, 1.8ms postprocess per image at shape (1, 3, 448, 640)\n",
            "\n",
            "0: 640x480 1 license_plate, 12.2ms\n",
            "Speed: 3.6ms preprocess, 12.2ms inference, 1.4ms postprocess per image at shape (1, 3, 640, 480)\n",
            "\n",
            "0: 384x640 1 license_plate, 9.7ms\n",
            "Speed: 2.6ms preprocess, 9.7ms inference, 1.4ms postprocess per image at shape (1, 3, 384, 640)\n",
            "\n",
            "0: 384x640 1 license_plate, 11.8ms\n",
            "Speed: 3.0ms preprocess, 11.8ms inference, 3.0ms postprocess per image at shape (1, 3, 384, 640)\n",
            "\n",
            "0: 640x384 1 license_plate, 14.0ms\n",
            "Speed: 2.4ms preprocess, 14.0ms inference, 1.7ms postprocess per image at shape (1, 3, 640, 384)\n",
            "\n",
            "0: 640x384 1 license_plate, 9.9ms\n",
            "Speed: 2.5ms preprocess, 9.9ms inference, 1.6ms postprocess per image at shape (1, 3, 640, 384)\n",
            "\n",
            "0: 384x640 1 license_plate, 13.9ms\n",
            "Speed: 2.6ms preprocess, 13.9ms inference, 1.5ms postprocess per image at shape (1, 3, 384, 640)\n",
            "\n",
            "0: 384x640 1 license_plate, 9.7ms\n",
            "Speed: 4.8ms preprocess, 9.7ms inference, 4.4ms postprocess per image at shape (1, 3, 384, 640)\n",
            "\n",
            "0: 480x640 1 license_plate, 9.4ms\n",
            "Speed: 4.1ms preprocess, 9.4ms inference, 1.4ms postprocess per image at shape (1, 3, 480, 640)\n",
            "\n",
            "0: 416x640 1 license_plate, 8.4ms\n",
            "Speed: 2.4ms preprocess, 8.4ms inference, 1.4ms postprocess per image at shape (1, 3, 416, 640)\n",
            "\n",
            "0: 640x480 1 license_plate, 8.5ms\n",
            "Speed: 2.8ms preprocess, 8.5ms inference, 1.4ms postprocess per image at shape (1, 3, 640, 480)\n",
            "\n",
            "0: 384x640 1 license_plate, 8.5ms\n",
            "Speed: 2.5ms preprocess, 8.5ms inference, 1.4ms postprocess per image at shape (1, 3, 384, 640)\n",
            "\n",
            "0: 384x640 1 license_plate, 9.1ms\n",
            "Speed: 2.7ms preprocess, 9.1ms inference, 1.8ms postprocess per image at shape (1, 3, 384, 640)\n",
            "\n",
            "0: 640x480 1 license_plate, 14.4ms\n",
            "Speed: 2.8ms preprocess, 14.4ms inference, 1.7ms postprocess per image at shape (1, 3, 640, 480)\n",
            "\n",
            "0: 640x480 1 license_plate, 9.6ms\n",
            "Speed: 3.0ms preprocess, 9.6ms inference, 1.5ms postprocess per image at shape (1, 3, 640, 480)\n",
            "\n",
            "0: 640x384 1 license_plate, 14.3ms\n",
            "Speed: 2.4ms preprocess, 14.3ms inference, 1.5ms postprocess per image at shape (1, 3, 640, 384)\n",
            "\n",
            "0: 480x640 1 license_plate, 17.8ms\n",
            "Speed: 3.6ms preprocess, 17.8ms inference, 1.9ms postprocess per image at shape (1, 3, 480, 640)\n",
            "\n",
            "0: 640x480 1 license_plate, 9.6ms\n",
            "Speed: 2.6ms preprocess, 9.6ms inference, 1.7ms postprocess per image at shape (1, 3, 640, 480)\n",
            "\n",
            "0: 640x480 1 license_plate, 15.2ms\n",
            "Speed: 2.8ms preprocess, 15.2ms inference, 2.1ms postprocess per image at shape (1, 3, 640, 480)\n",
            "\n",
            "0: 384x640 1 license_plate, 15.0ms\n",
            "Speed: 2.5ms preprocess, 15.0ms inference, 1.7ms postprocess per image at shape (1, 3, 384, 640)\n",
            "\n",
            "0: 448x640 1 license_plate, 12.0ms\n",
            "Speed: 2.8ms preprocess, 12.0ms inference, 1.7ms postprocess per image at shape (1, 3, 448, 640)\n",
            "\n",
            "0: 480x640 1 license_plate, 10.0ms\n",
            "Speed: 3.1ms preprocess, 10.0ms inference, 1.5ms postprocess per image at shape (1, 3, 480, 640)\n",
            "\n",
            "0: 640x480 1 license_plate, 12.0ms\n",
            "Speed: 2.7ms preprocess, 12.0ms inference, 2.8ms postprocess per image at shape (1, 3, 640, 480)\n",
            "\n",
            "0: 640x480 1 license_plate, 9.7ms\n",
            "Speed: 2.6ms preprocess, 9.7ms inference, 1.6ms postprocess per image at shape (1, 3, 640, 480)\n",
            "\n",
            "0: 448x640 1 license_plate, 11.8ms\n",
            "Speed: 2.7ms preprocess, 11.8ms inference, 1.6ms postprocess per image at shape (1, 3, 448, 640)\n",
            "\n",
            "0: 480x640 1 license_plate, 15.9ms\n",
            "Speed: 2.8ms preprocess, 15.9ms inference, 1.7ms postprocess per image at shape (1, 3, 480, 640)\n",
            "\n",
            "0: 640x384 1 license_plate, 15.8ms\n",
            "Speed: 2.8ms preprocess, 15.8ms inference, 1.8ms postprocess per image at shape (1, 3, 640, 384)\n",
            "\n",
            "0: 480x640 1 license_plate, 19.0ms\n",
            "Speed: 2.8ms preprocess, 19.0ms inference, 3.6ms postprocess per image at shape (1, 3, 480, 640)\n",
            "\n",
            "0: 640x480 1 license_plate, 12.6ms\n",
            "Speed: 3.2ms preprocess, 12.6ms inference, 1.9ms postprocess per image at shape (1, 3, 640, 480)\n",
            "\n",
            "0: 384x640 1 license_plate, 17.7ms\n",
            "Speed: 2.5ms preprocess, 17.7ms inference, 2.4ms postprocess per image at shape (1, 3, 384, 640)\n",
            "\n",
            "0: 384x640 1 license_plate, 46.8ms\n",
            "Speed: 4.2ms preprocess, 46.8ms inference, 2.4ms postprocess per image at shape (1, 3, 384, 640)\n",
            "\n",
            "0: 480x640 1 license_plate, 15.2ms\n",
            "Speed: 2.9ms preprocess, 15.2ms inference, 1.6ms postprocess per image at shape (1, 3, 480, 640)\n",
            "\n",
            "0: 480x640 1 license_plate, 11.9ms\n",
            "Speed: 3.0ms preprocess, 11.9ms inference, 1.8ms postprocess per image at shape (1, 3, 480, 640)\n",
            "\n",
            "0: 480x640 1 license_plate, 12.7ms\n",
            "Speed: 2.6ms preprocess, 12.7ms inference, 1.6ms postprocess per image at shape (1, 3, 480, 640)\n",
            "\n",
            "0: 480x640 1 license_plate, 11.0ms\n",
            "Speed: 2.9ms preprocess, 11.0ms inference, 1.6ms postprocess per image at shape (1, 3, 480, 640)\n",
            "\n",
            "0: 480x640 1 license_plate, 7.0ms\n",
            "Speed: 3.4ms preprocess, 7.0ms inference, 1.5ms postprocess per image at shape (1, 3, 480, 640)\n",
            "\n",
            "0: 640x480 1 license_plate, 7.3ms\n",
            "Speed: 2.6ms preprocess, 7.3ms inference, 1.1ms postprocess per image at shape (1, 3, 640, 480)\n",
            "\n",
            "0: 480x640 1 license_plate, 10.0ms\n",
            "Speed: 3.3ms preprocess, 10.0ms inference, 1.3ms postprocess per image at shape (1, 3, 480, 640)\n",
            "\n",
            "0: 640x384 1 license_plate, 9.5ms\n",
            "Speed: 2.4ms preprocess, 9.5ms inference, 1.2ms postprocess per image at shape (1, 3, 640, 384)\n",
            "\n",
            "0: 384x640 1 license_plate, 7.1ms\n",
            "Speed: 2.2ms preprocess, 7.1ms inference, 1.1ms postprocess per image at shape (1, 3, 384, 640)\n",
            "\n",
            "0: 480x640 1 license_plate, 7.0ms\n",
            "Speed: 3.2ms preprocess, 7.0ms inference, 1.1ms postprocess per image at shape (1, 3, 480, 640)\n",
            "\n",
            "0: 480x640 1 license_plate, 6.8ms\n",
            "Speed: 2.6ms preprocess, 6.8ms inference, 1.1ms postprocess per image at shape (1, 3, 480, 640)\n",
            "[{'image': '1021.jpg', 'ocr_results': [{'box': (97, 319, 202, 343), 'text': [\"'105\", '9699']}]}, {'image': '1006.jpg', 'ocr_results': [{'box': (151, 357, 272, 388), 'text': ['228 تونر 180']}]}, {'image': '1002.jpg', 'ocr_results': [{'box': (168, 318, 312, 362), 'text': ['152']}]}, {'image': '1004.jpg', 'ocr_results': [{'box': (86, 290, 227, 319), 'text': ['76', '2714 _ تونىن']}]}, {'image': '1001.jpg', 'ocr_results': [{'box': (84, 303, 216, 337), 'text': ['9116 تونضن 173']}]}, {'image': '1012.jpg', 'ocr_results': [{'box': (207, 441, 461, 498), 'text': ['79']}]}, {'image': '1015.jpg', 'ocr_results': [{'box': (348, 364, 481, 398), 'text': ['95', '110.']}]}, {'image': '1020.jpg', 'ocr_results': [{'box': (147, 280, 285, 318), 'text': ['[93', '1578']}]}, {'image': '1018.jpg', 'ocr_results': [{'box': (32, 259, 145, 334), 'text': ['توس 88', '6386 ']}]}, {'image': '1022.jpg', 'ocr_results': [{'box': (301, 334, 489, 379), 'text': ['151', '0095/']}]}, {'image': '1019.jpg', 'ocr_results': [{'box': (172, 315, 284, 379), 'text': ['158', '820ا ونن ,']}]}, {'image': '1009.jpg', 'ocr_results': [{'box': (308, 318, 549, 368), 'text': ['390 1 تون ا2']}]}, {'image': '1003.jpg', 'ocr_results': [{'box': (253, 178, 333, 199), 'text': ['3039 /ئن 92']}]}, {'image': '1010.jpg', 'ocr_results': [{'box': (63, 343, 181, 386), 'text': ['34029نن127:']}]}, {'image': '1023.jpg', 'ocr_results': [{'box': (241, 192, 319, 224), 'text': ['109_658']}]}, {'image': '1024.jpg', 'ocr_results': [{'box': (574, 258, 661, 320), 'text': ['5593', '٥']}]}, {'image': '1000.jpg', 'ocr_results': [{'box': (252, 222, 488, 273), 'text': ['[94', 'تونس', '573']}]}, {'image': '1005.jpg', 'ocr_results': [{'box': (80, 369, 178, 393), 'text': ['558 2س٥9']}]}, {'image': '1017.jpg', 'ocr_results': [{'box': (175, 270, 490, 345), 'text': ['|6149 تونن 182[']}]}, {'image': '1025.jpg', 'ocr_results': [{'box': (136, 383, 297, 421), 'text': ['152', 'وس', '9!3B']}]}, {'image': '1008.jpg', 'ocr_results': [{'box': (311, 430, 511, 460), 'text': ['1٥4', 'وسر', '9416']}]}, {'image': '1013.jpg', 'ocr_results': [{'box': (145, 327, 243, 349), 'text': ['IU6قشBD']}]}, {'image': '1011.jpg', 'ocr_results': [{'box': (165, 235, 214, 255), 'text': []}]}, {'image': '1016.jpg', 'ocr_results': [{'box': (226, 402, 430, 447), 'text': ['143', '4790 تونن']}]}, {'image': '1007.jpg', 'ocr_results': [{'box': (104, 319, 191, 346), 'text': ['[٥٥٥', '٥٥٦٥']}]}, {'image': '1014.jpg', 'ocr_results': [{'box': (295, 386, 437, 420), 'text': ['1332 تونن49[']}]}, {'image': '1053.jpg', 'ocr_results': [{'box': (36, 403, 172, 456), 'text': [\"9848 توس 90'\"]}]}, {'image': '1050.jpg', 'ocr_results': [{'box': (229, 491, 502, 531), 'text': ['138', '176?']}]}, {'image': '1040.jpg', 'ocr_results': [{'box': (123, 335, 258, 359), 'text': ['3734  تونىن 96']}]}, {'image': '1051.jpg', 'ocr_results': [{'box': (304, 141, 411, 165), 'text': ['4293   وئن 91']}]}, {'image': '1055.jpg', 'ocr_results': [{'box': (101, 349, 225, 377), 'text': ['76', '_2714   قوئىن']}]}, {'image': '1029.jpg', 'ocr_results': [{'box': (165, 370, 321, 409), 'text': ['1093 تونس 145']}]}, {'image': '1035.jpg', 'ocr_results': [{'box': (103, 358, 202, 385), 'text': ['116`;3668']}]}, {'image': '1041.jpg', 'ocr_results': [{'box': (305, 290, 439, 322), 'text': [']6569 توس 2&']}]}, {'image': '1026.jpg', 'ocr_results': [{'box': (140, 392, 253, 420), 'text': ['6٥[3 تىن 15']}]}, {'image': '1054.jpg', 'ocr_results': [{'box': (347, 330, 505, 360), 'text': ['2171 تونىن 122']}]}, {'image': '1044.jpg', 'ocr_results': [{'box': (136, 350, 267, 384), 'text': ['F٥', '?02']}]}, {'image': '1032.jpg', 'ocr_results': [{'box': (123, 322, 191, 371), 'text': ['3593', 'تونىن٥8']}]}, {'image': '1034.jpg', 'ocr_results': [{'box': (146, 391, 258, 413), 'text': ['2123 ;ئ1199']}]}, {'image': '1045.jpg', 'ocr_results': [{'box': (207, 201, 332, 235), 'text': ['9734 تونى 62']}]}, {'image': '1039.jpg', 'ocr_results': [{'box': (118, 290, 325, 331), 'text': ['ن[14', '659']}]}, {'image': '1049.jpg', 'ocr_results': [{'box': (119, 367, 285, 405), 'text': ['|5333 توس 108|']}]}, {'image': '1048.jpg', 'ocr_results': [{'box': (275, 344, 428, 379), 'text': ['194', 'لولىر', '735']}]}, {'image': '1033.jpg', 'ocr_results': [{'box': (343, 258, 508, 295), 'text': ['5590تونن 167[']}, {'box': (0, 128, 19, 147), 'text': []}]}, {'image': '1043.jpg', 'ocr_results': [{'box': (202, 445, 376, 485), 'text': ['&590 تونن135']}]}, {'image': '1030.jpg', 'ocr_results': [{'box': (304, 420, 493, 463), 'text': ['156', 'ونىر', '864']}]}, {'image': '1036.jpg', 'ocr_results': [{'box': (158, 219, 260, 241), 'text': ['ونن 87', '7369']}]}, {'image': '1046.jpg', 'ocr_results': [{'box': (132, 416, 292, 449), 'text': ['1٥1', '3690']}]}, {'image': '1047.jpg', 'ocr_results': [{'box': (364, 368, 483, 394), 'text': ['06777 تونن100|']}]}, {'image': '1052.jpg', 'ocr_results': [{'box': (369, 399, 550, 438), 'text': ['8894 تونىن 159.|']}, {'box': (704, 108, 780, 126), 'text': ['[5371']}]}, {'image': '1028.jpg', 'ocr_results': [{'box': (130, 372, 275, 414), 'text': ['5390']}]}, {'image': '1038.jpg', 'ocr_results': [{'box': (98, 292, 201, 318), 'text': ['4041 تونز 160']}]}, {'image': '1042.jpg', 'ocr_results': [{'box': (298, 373, 467, 421), 'text': ['13 4 م4 قونن 134']}]}, {'image': '1031.jpg', 'ocr_results': [{'box': (215, 353, 384, 391), 'text': ['965 تونن 1ق[']}]}, {'image': '1027.jpg', 'ocr_results': [{'box': (266, 315, 398, 347), 'text': ['8959 توسن 153']}]}, {'image': '1037.jpg', 'ocr_results': [{'box': (133, 321, 286, 367), 'text': ['9640 قونن 62']}]}, {'image': '1074.jpg', 'ocr_results': [{'box': (99, 222, 207, 288), 'text': ['٤ ترنس 61', '2580']}]}, {'image': '1071.jpg', 'ocr_results': [{'box': (140, 247, 264, 276), 'text': ['79', 'تونن', '9770']}]}, {'image': '1069.jpg', 'ocr_results': [{'box': (387, 303, 535, 351), 'text': ['126', 'اا61 تونز']}]}, {'image': '1059.jpg', 'ocr_results': [{'box': (219, 227, 325, 250), 'text': ['2142 5ىن 167']}]}, {'image': '1064.jpg', 'ocr_results': [{'box': (87, 399, 205, 426), 'text': ['9295تنن27[']}]}, {'image': '1072.jpg', 'ocr_results': [{'box': (258, 452, 432, 487), 'text': ['6088 تونس 125']}]}, {'image': '1058.jpg', 'ocr_results': [{'box': (512, 229, 590, 264), 'text': ['/9240', 'تبن140']}]}, {'image': '1085.jpg', 'ocr_results': [{'box': (121, 305, 238, 335), 'text': ['6302 تقوئن 172']}]}, {'image': '1067.jpg', 'ocr_results': [{'box': (125, 247, 249, 279), 'text': ['8953 تون177']}]}, {'image': '1057.jpg', 'ocr_results': [{'box': (202, 445, 376, 485), 'text': ['&590 تونن135']}]}, {'image': '1056.jpg', 'ocr_results': [{'box': (163, 365, 277, 391), 'text': ['5257تونن 167|']}]}, {'image': '1063.jpg', 'ocr_results': [{'box': (180, 275, 295, 304), 'text': ['٥٥٥:;095٥']}]}, {'image': '1077.jpg', 'ocr_results': [{'box': (138, 214, 283, 246), 'text': ['100', 'ئلىن', '5/3']}]}, {'image': '1068.jpg', 'ocr_results': [{'box': (153, 407, 309, 445), 'text': ['9065 تون با 14']}]}, {'image': '1078.jpg', 'ocr_results': [{'box': (144, 382, 276, 409), 'text': ['[121', '6559', 'تونن']}]}, {'image': '1080.jpg', 'ocr_results': [{'box': (156, 381, 293, 414), 'text': ['3567-ون ?15:']}]}, {'image': '1081.jpg', 'ocr_results': [{'box': (145, 357, 259, 382), 'text': ['6491ونن7[']}]}, {'image': '1070.jpg', 'ocr_results': [{'box': (178, 220, 274, 264), 'text': ['177', '2854 ونن 1']}]}, {'image': '1079.jpg', 'ocr_results': [{'box': (120, 298, 270, 336), 'text': ['5370 تونن 96']}]}, {'image': '1061.jpg', 'ocr_results': [{'box': (119, 378, 206, 399), 'text': ['للثة']}]}, {'image': '1065.jpg', 'ocr_results': [{'box': (124, 299, 267, 331), 'text': ['|65', '6646']}]}, {'image': '1073.jpg', 'ocr_results': [{'box': (247, 361, 467, 410), 'text': ['ا9', '573']}]}, {'image': '1083.jpg', 'ocr_results': [{'box': (98, 322, 216, 352), 'text': ['903 2 تونن 148']}]}, {'image': '1084.jpg', 'ocr_results': [{'box': (318, 264, 441, 303), 'text': ['7٥٥']}]}, {'image': '1060.jpg', 'ocr_results': [{'box': (123, 330, 265, 363), 'text': ['0', '097( تونن']}]}, {'image': '1075.jpg', 'ocr_results': [{'box': (124, 381, 274, 414), 'text': ['195', '1823   ونن']}]}, {'image': '1066.jpg', 'ocr_results': [{'box': (221, 426, 326, 473), 'text': [':171215[']}]}, {'image': '1076.jpg', 'ocr_results': [{'box': (163, 344, 280, 374), 'text': ['[151:-;1866']}]}, {'image': '1086.jpg', 'ocr_results': [{'box': (328, 346, 497, 384), 'text': ['72', '5043']}]}, {'image': '1062.jpg', 'ocr_results': [{'box': (315, 360, 495, 402), 'text': ['119', '6926']}]}, {'image': '1082.jpg', 'ocr_results': [{'box': (147, 305, 250, 332), 'text': ['2786 تونن 13[']}]}, {'image': '1089.jpg', 'ocr_results': [{'box': (198, 109, 283, 132), 'text': ['7842;:ن70']}]}, {'image': '1099.jpg', 'ocr_results': [{'box': (203, 398, 357, 434), 'text': ['1714 تدنس ٥ 14']}]}, {'image': '1093.jpg', 'ocr_results': [{'box': (115, 323, 226, 350), 'text': ['/8600 ذنس 65[']}]}, {'image': '1110.jpg', 'ocr_results': [{'box': (125, 247, 298, 275), 'text': ['٢', '؟٢آ']}]}, {'image': '1104.jpg', 'ocr_results': [{'box': (58, 269, 155, 291), 'text': ['8512 توس 79']}]}, {'image': '901.jpg', 'ocr_results': [{'box': (119, 320, 201, 342), 'text': ['9685 3ن 169']}]}, {'image': '1109.jpg', 'ocr_results': [{'box': (92, 372, 207, 399), 'text': ['/1365 تونن 94|']}]}, {'image': '904.jpg', 'ocr_results': [{'box': (328, 305, 572, 355), 'text': ['123', 'نا632']}]}, {'image': '1107.jpg', 'ocr_results': [{'box': (257, 404, 455, 451), 'text': ['6829 تونن 110.']}]}, {'image': '1091.jpg', 'ocr_results': [{'box': (512, 229, 590, 264), 'text': ['/9240', 'تبن140']}]}, {'image': '1092.jpg', 'ocr_results': [{'box': (208, 273, 327, 322), 'text': ['129', '3973']}]}, {'image': '1102.jpg', 'ocr_results': [{'box': (154, 380, 302, 414), 'text': ['تونىن 164', '5864']}]}, {'image': '1105.jpg', 'ocr_results': [{'box': (226, 227, 299, 250), 'text': ['٥!66 تنن 65[']}]}, {'image': '1095.jpg', 'ocr_results': [{'box': (171, 245, 357, 286), 'text': ['0٥', '4055']}]}, {'image': '1094.jpg', 'ocr_results': [{'box': (351, 465, 489, 498), 'text': ['8208 تونىن 126[']}]}, {'image': '1108.jpg', 'ocr_results': [{'box': (159, 245, 249, 268), 'text': ['[E7 5٥ زئنL']}]}, {'image': '1113.jpg', 'ocr_results': [{'box': (318, 267, 487, 310), 'text': ['5333 تون 100']}]}, {'image': '1101.jpg', 'ocr_results': [{'box': (402, 149, 527, 185), 'text': [':/304 تونىن 60|']}]}, {'image': '1112.jpg', 'ocr_results': [{'box': (147, 406, 296, 439), 'text': ['0159 توسن 137']}]}, {'image': '905.jpg', 'ocr_results': [{'box': (150, 223, 229, 242), 'text': ['11204;;8917']}]}, {'image': '1106.jpg', 'ocr_results': [{'box': (107, 338, 231, 365), 'text': ['105', 'تولر']}]}, {'image': '903.jpg', 'ocr_results': [{'box': (146, 353, 223, 373), 'text': ['[13-299']}]}, {'image': '902.jpg', 'ocr_results': [{'box': (110, 281, 171, 338), 'text': ['اغا']}]}, {'image': '1096.jpg', 'ocr_results': [{'box': (275, 400, 423, 435), 'text': ['1077 تونىن 170']}]}, {'image': '1087.jpg', 'ocr_results': [{'box': (96, 263, 185, 283), 'text': ['خآ51 ٢ز1٥5']}]}, {'image': '1100.jpg', 'ocr_results': [{'box': (375, 385, 511, 418), 'text': ['3222تن153[']}]}, {'image': '1111.jpg', 'ocr_results': [{'box': (94, 299, 197, 325), 'text': ['6501 وض   5']}]}, {'image': '1090.jpg', 'ocr_results': [{'box': (152, 369, 247, 397), 'text': ['`870 تنن 1131']}]}, {'image': '1098.jpg', 'ocr_results': [{'box': (115, 286, 190, 380), 'text': ['0107', 'تش 19']}]}, {'image': '1088.jpg', 'ocr_results': [{'box': (173, 213, 270, 237), 'text': ['[9285']}]}, {'image': '1103.jpg', 'ocr_results': [{'box': (170, 248, 311, 279), 'text': ['7083 ونن 188']}]}, {'image': '921.jpg', 'ocr_results': [{'box': (273, 420, 436, 460), 'text': ['[59', '5567']}, {'box': (0, 241, 26, 264), 'text': ['13!']}]}, {'image': '935.jpg', 'ocr_results': [{'box': (164, 270, 287, 303), 'text': ['تون 180', '228']}]}, {'image': '938.jpg', 'ocr_results': [{'box': (148, 310, 338, 355), 'text': ['135', '5906']}]}, {'image': '907.jpg', 'ocr_results': [{'box': (198, 258, 300, 280), 'text': ['F75 656٥  توئن']}]}, {'image': '932.jpg', 'ocr_results': [{'box': (149, 242, 246, 266), 'text': ['2774 ذنن 191']}]}, {'image': '915.jpg', 'ocr_results': [{'box': (168, 340, 360, 385), 'text': ['404 تونن131']}]}, {'image': '929.jpg', 'ocr_results': [{'box': (122, 352, 324, 432), 'text': ['تونن 87', ',8179']}]}, {'image': '919.jpg', 'ocr_results': [{'box': (330, 254, 442, 286), 'text': ['6756 توسن 192']}]}, {'image': '923.jpg', 'ocr_results': [{'box': (127, 349, 274, 370), 'text': ['1. 75', '1612/']}]}, {'image': '927.jpg', 'ocr_results': [{'box': (162, 345, 251, 366), 'text': ['9044 رنن 169 |']}]}, {'image': '922.jpg', 'ocr_results': [{'box': (43, 402, 179, 440), 'text': ['ن3230 تونن 161']}]}, {'image': '917.jpg', 'ocr_results': [{'box': (217, 267, 464, 365), 'text': ['90', 'تونىن', '7708']}]}, {'image': '918.jpg', 'ocr_results': [{'box': (286, 457, 482, 496), 'text': ['[7', '1107']}]}, {'image': '933.jpg', 'ocr_results': [{'box': (36, 403, 172, 456), 'text': [\"9848 توس 90'\"]}]}, {'image': '931.jpg', 'ocr_results': [{'box': (268, 352, 454, 392), 'text': []}]}, {'image': '926.jpg', 'ocr_results': [{'box': (151, 305, 239, 330), 'text': ['1397 انفن0 9']}]}, {'image': '934.jpg', 'ocr_results': [{'box': (540, 278, 643, 343), 'text': ['ا03/', 'ترتن 142.']}]}, {'image': '908.jpg', 'ocr_results': [{'box': (297, 386, 498, 430), 'text': ['4712 تونىت 177']}]}, {'image': '909.jpg', 'ocr_results': [{'box': (144, 252, 232, 270), 'text': ['I5ن ٥٥']}]}, {'image': '924.jpg', 'ocr_results': [{'box': (317, 428, 578, 481), 'text': ['79', '9778']}]}, {'image': '913.jpg', 'ocr_results': [{'box': (243, 331, 434, 383), 'text': ['00', '7530', ' ونىن']}]}, {'image': '928.jpg', 'ocr_results': [{'box': (553, 373, 665, 446), 'text': ['تنس 146', '/5543ت']}]}, {'image': '937.jpg', 'ocr_results': [{'box': (335, 414, 591, 470), 'text': ['391[ تون 11']}]}, {'image': '930.jpg', 'ocr_results': [{'box': (273, 380, 468, 429), 'text': ['.37', 'تون', '.3019.']}]}, {'image': '910.jpg', 'ocr_results': [{'box': (232, 221, 361, 279), 'text': ['4187 قونىن 09']}]}, {'image': '914.jpg', 'ocr_results': [{'box': (339, 271, 482, 308), 'text': ['،٥ ١', '6950']}]}, {'image': '906.jpg', 'ocr_results': [{'box': (492, 306, 595, 351), 'text': ['[75;2720']}]}, {'image': '920.jpg', 'ocr_results': [{'box': (371, 299, 530, 340), 'text': ['6603 تونش41آ']}]}, {'image': '936.jpg', 'ocr_results': [{'box': (311, 248, 495, 301), 'text': ['4636 تونىن 90']}]}, {'image': '912.jpg', 'ocr_results': [{'box': (286, 355, 423, 392), 'text': ['8806 تونس 160']}]}, {'image': '911.jpg', 'ocr_results': [{'box': (58, 311, 192, 339), 'text': ['9630   توىن 110']}]}, {'image': '925.jpg', 'ocr_results': [{'box': (69, 231, 174, 259), 'text': ['7703 زئن 88']}]}, {'image': '941.jpg', 'ocr_results': [{'box': (195, 441, 398, 478), 'text': ['2486 تونىن 84[']}]}, {'image': '962.jpg', 'ocr_results': [{'box': (148, 134, 318, 169), 'text': ['/9933 تونت 133|']}, {'box': (80, 174, 114, 189), 'text': ['a٠٥دا']}]}, {'image': '959.jpg', 'ocr_results': [{'box': (62, 103, 159, 127), 'text': ['4041 تون160']}]}, {'image': '952.jpg', 'ocr_results': [{'box': (111, 272, 198, 304), 'text': ['3973 توس 29|']}]}, {'image': '951.jpg', 'ocr_results': [{'box': (311, 342, 524, 388), 'text': ['140', '9240']}]}, {'image': '953.jpg', 'ocr_results': [{'box': (281, 295, 414, 325), 'text': ['|8٥', '716', 'تونن']}]}, {'image': '946.jpg', 'ocr_results': [{'box': (375, 450, 526, 494), 'text': ['1701|', 'تونىن116']}]}, {'image': '957.jpg', 'ocr_results': [{'box': (312, 438, 481, 480), 'text': ['2&', '6٥']}]}, {'image': '950.jpg', 'ocr_results': [{'box': (417, 323, 537, 374), 'text': ['1714', ' ترنس', '140']}]}, {'image': '967.jpg', 'ocr_results': [{'box': (137, 369, 302, 405), 'text': ['تونىن 160', '5065.']}]}, {'image': '954.jpg', 'ocr_results': [{'box': (113, 183, 243, 270), 'text': ['تونس', '[102', '94[7;']}]}, {'image': '943.jpg', 'ocr_results': [{'box': (106, 277, 187, 307), 'text': ['[7IL5215']}]}, {'image': '968.jpg', 'ocr_results': [{'box': (144, 246, 273, 273), 'text': ['7L', 'وس', '1653']}]}, {'image': '939.jpg', 'ocr_results': [{'box': (260, 360, 374, 393), 'text': ['تونىن 87', '8179']}]}, {'image': '955.jpg', 'ocr_results': [{'box': (100, 321, 205, 347), 'text': ['5633 وئن 112']}]}, {'image': '944.jpg', 'ocr_results': [{'box': (133, 172, 265, 206), 'text': ['7645 تونىن 170']}]}, {'image': '961.jpg', 'ocr_results': [{'box': (137, 256, 260, 287), 'text': ['1222  تونىن 188']}]}, {'image': '966.jpg', 'ocr_results': [{'box': (398, 379, 532, 427), 'text': ['8032تونن36[']}]}, {'image': '940.jpg', 'ocr_results': [{'box': (242, 278, 384, 312), 'text': ['4293   تونىن 91']}]}, {'image': '965.jpg', 'ocr_results': [{'box': (106, 285, 197, 307), 'text': ['3909 6ض 117']}]}, {'image': '958.jpg', 'ocr_results': [{'box': (224, 355, 348, 415), 'text': ['96', 'توس', '5370']}]}, {'image': '948.jpg', 'ocr_results': [{'box': (89, 240, 213, 313), 'text': ['4999تن777']}]}, {'image': '947.jpg', 'ocr_results': [{'box': (105, 307, 207, 331), 'text': ['1771   وئن 123[']}]}, {'image': '949.jpg', 'ocr_results': [{'box': (62, 333, 166, 365), 'text': ['735']}]}, {'image': '963.jpg', 'ocr_results': [{'box': (115, 286, 190, 380), 'text': ['0107', 'تش 19']}]}, {'image': '956.jpg', 'ocr_results': [{'box': (259, 215, 334, 238), 'text': ['H٥7338٧59']}]}, {'image': '964.jpg', 'ocr_results': [{'box': (405, 385, 553, 447), 'text': ['164', '9053]']}]}, {'image': '960.jpg', 'ocr_results': [{'box': (153, 206, 229, 236), 'text': ['تزنن 155[', '1$079/']}]}, {'image': '969.jpg', 'ocr_results': [{'box': (33, 370, 202, 447), 'text': ['توئى', '[65', '7119']}]}, {'image': '945.jpg', 'ocr_results': [{'box': (354, 371, 533, 408), 'text': ['5043توس72']}]}, {'image': '942.jpg', 'ocr_results': [{'box': (336, 328, 470, 373), 'text': ['3747 تونن 161|']}]}, {'image': '997.jpg', 'ocr_results': [{'box': (95, 271, 195, 302), 'text': ['7878 تونس 165[']}]}, {'image': '992.jpg', 'ocr_results': [{'box': (220, 392, 314, 416), 'text': ['5973 توئىن 1٥9[']}]}, {'image': '975.jpg', 'ocr_results': [{'box': (69, 231, 174, 259), 'text': ['7703 زئن 88']}]}, {'image': '983.jpg', 'ocr_results': [{'box': (155, 274, 287, 306), 'text': ['7083 تونن188']}]}, {'image': '990.jpg', 'ocr_results': [{'box': (152, 342, 237, 370), 'text': [']5332 ,-ن35[']}]}, {'image': '973.jpg', 'ocr_results': [{'box': (126, 343, 267, 377), 'text': ['112', '6988']}]}, {'image': '978.jpg', 'ocr_results': [{'box': (179, 169, 303, 197), 'text': ['|[03', 'ولسن', '112']}]}, {'image': '974.jpg', 'ocr_results': [{'box': (273, 380, 468, 429), 'text': ['.37', 'تون', '.3019.']}]}, {'image': '971.jpg', 'ocr_results': [{'box': (296, 460, 474, 498), 'text': ['121', '237 تونىز']}]}, {'image': '985.jpg', 'ocr_results': [{'box': (158, 278, 238, 300), 'text': ['382 تئن 87[']}]}, {'image': '998.jpg', 'ocr_results': [{'box': (142, 328, 242, 357), 'text': ['تونس 81', '9062|']}]}, {'image': '981.jpg', 'ocr_results': [{'box': (359, 354, 470, 381), 'text': ['8723 تونن153']}]}, {'image': '995.jpg', 'ocr_results': [{'box': (39, 179, 125, 252), 'text': ['،ملا']}]}, {'image': '993.jpg', 'ocr_results': [{'box': (207, 472, 335, 504), 'text': ['4225  تونن 109']}]}, {'image': '979.jpg', 'ocr_results': [{'box': (290, 346, 519, 404), 'text': ['9128 تونى 145.']}]}, {'image': '994.jpg', 'ocr_results': [{'box': (110, 277, 186, 297), 'text': ['[5T']}]}, {'image': '989.jpg', 'ocr_results': [{'box': (254, 430, 516, 476), 'text': ['239  تونىت 114']}]}, {'image': '970.jpg', 'ocr_results': [{'box': (322, 224, 520, 271), 'text': ['0095 تونن 151']}]}, {'image': '986.jpg', 'ocr_results': [{'box': (182, 237, 368, 285), 'text': ['8179 ر تونىن 87']}]}, {'image': '984.jpg', 'ocr_results': [{'box': (537, 303, 628, 362), 'text': ['[42']}]}, {'image': '996.jpg', 'ocr_results': [{'box': (201, 279, 328, 306), 'text': ['8409 توبس 138']}]}, {'image': '977.jpg', 'ocr_results': [{'box': (316, 343, 439, 379), 'text': ['7229 تونىن 179']}]}, {'image': '987.jpg', 'ocr_results': [{'box': (282, 388, 428, 425), 'text': ['[135', '4716  تونىن']}]}, {'image': '988.jpg', 'ocr_results': [{'box': (193, 348, 333, 384), 'text': ['&999 تونن 130']}]}, {'image': '972.jpg', 'ocr_results': [{'box': (62, 314, 175, 372), 'text': ['ااصا در']}]}, {'image': '982.jpg', 'ocr_results': [{'box': (14, 339, 108, 366), 'text': ['820 زس 132']}]}, {'image': '999.jpg', 'ocr_results': [{'box': (212, 357, 422, 431), 'text': ['تونىن 131', '1396']}]}, {'image': '991.jpg', 'ocr_results': [{'box': (152, 231, 281, 263), 'text': ['| 1٥٥', '543']}]}, {'image': '976.jpg', 'ocr_results': [{'box': (291, 330, 411, 363), 'text': ['3517 تونى 110']}]}]\n"
          ]
        }
      ]
    }
  ],
  "metadata": {
    "accelerator": "GPU",
    "colab": {
      "gpuType": "T4",
      "provenance": []
    },
    "kernelspec": {
      "display_name": "Python 3",
      "name": "python3"
    },
    "language_info": {
      "codemirror_mode": {
        "name": "ipython",
        "version": 3
      },
      "file_extension": ".py",
      "mimetype": "text/x-python",
      "name": "python",
      "nbconvert_exporter": "python",
      "pygments_lexer": "ipython3",
      "version": "3.11.7"
    }
  },
  "nbformat": 4,
  "nbformat_minor": 5
}